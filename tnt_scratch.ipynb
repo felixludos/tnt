{
 "cells": [
  {
   "cell_type": "code",
   "execution_count": 29,
   "metadata": {
    "collapsed": true
   },
   "outputs": [],
   "source": [
    "import sys, os, time\n",
    "import numpy as np\n",
    "%matplotlib inline\n",
    "#%matplotlib tk\n",
    "import matplotlib.pyplot as plt\n",
    "from nb_backend import *\n",
    "import inspect\n",
    "from yaml import load, dump"
   ]
  },
  {
   "cell_type": "code",
   "execution_count": 24,
   "metadata": {
    "collapsed": true
   },
   "outputs": [],
   "source": [
    "def test(a,b,*,c,d=10):\n",
    "    print(a,b,c,d)"
   ]
  },
  {
   "cell_type": "code",
   "execution_count": 27,
   "metadata": {},
   "outputs": [
    {
     "name": "stdout",
     "output_type": "stream",
     "text": [
      "10 11 10 10\n"
     ]
    }
   ],
   "source": [
    "test(10,11,c=10)"
   ]
  },
  {
   "cell_type": "code",
   "execution_count": 30,
   "metadata": {},
   "outputs": [
    {
     "data": {
      "text/plain": [
       "nb_backend.Test"
      ]
     },
     "execution_count": 30,
     "metadata": {},
     "output_type": "execute_result"
    }
   ],
   "source": [
    "Test"
   ]
  },
  {
   "cell_type": "code",
   "execution_count": 10,
   "metadata": {},
   "outputs": [],
   "source": [
    "a = Test()"
   ]
  },
  {
   "cell_type": "code",
   "execution_count": 32,
   "metadata": {},
   "outputs": [],
   "source": [
    "x = inspect.getsource(Test)"
   ]
  },
  {
   "cell_type": "code",
   "execution_count": 34,
   "metadata": {},
   "outputs": [],
   "source": [
    "exec(x)"
   ]
  },
  {
   "cell_type": "code",
   "execution_count": 35,
   "metadata": {},
   "outputs": [
    {
     "data": {
      "text/plain": [
       "__main__.Test"
      ]
     },
     "execution_count": 35,
     "metadata": {},
     "output_type": "execute_result"
    }
   ],
   "source": [
    "Test"
   ]
  },
  {
   "cell_type": "code",
   "execution_count": 40,
   "metadata": {},
   "outputs": [
    {
     "data": {
      "text/plain": [
       "349"
      ]
     },
     "execution_count": 40,
     "metadata": {},
     "output_type": "execute_result"
    }
   ],
   "source": [
    "borders = load(open('config/borders.yml', 'r'))\n",
    "len(borders)"
   ]
  },
  {
   "cell_type": "code",
   "execution_count": 41,
   "metadata": {},
   "outputs": [
    {
     "data": {
      "text/plain": [
       "136"
      ]
     },
     "execution_count": 41,
     "metadata": {},
     "output_type": "execute_result"
    }
   ],
   "source": [
    "tiles = load(open('config/tiles.yml', 'r'))\n",
    "len(tiles)"
   ]
  },
  {
   "cell_type": "code",
   "execution_count": null,
   "metadata": {
    "collapsed": true
   },
   "outputs": [],
   "source": [
    "a = xdict()\n",
    "a['test'] = 'asdf'\n",
    "a['b'] = 10\n",
    "a['x'] = [3,3]\n",
    "a#.full_items()"
   ]
  },
  {
   "cell_type": "code",
   "execution_count": null,
   "metadata": {
    "collapsed": true
   },
   "outputs": [],
   "source": [
    "a = xdict()\n",
    "for x in range(10):\n",
    "    a['l{}'.format(x)] = xdict([('p',x)])\n",
    "a"
   ]
  },
  {
   "cell_type": "code",
   "execution_count": null,
   "metadata": {
    "collapsed": true
   },
   "outputs": [],
   "source": [
    "m = [n for n, _ in sorted(a.items(), key=lambda x: x[1].p)]\n",
    "#G.units.priorities = [name for name, info in G.units.priorities]\n",
    "m"
   ]
  },
  {
   "cell_type": "code",
   "execution_count": null,
   "metadata": {
    "collapsed": true
   },
   "outputs": [],
   "source": []
  },
  {
   "cell_type": "code",
   "execution_count": 42,
   "metadata": {
    "collapsed": true
   },
   "outputs": [],
   "source": [
    "for b in borders:\n",
    "    if b['tile1'] not in tiles or b['tile2'] not in tiles:\n",
    "        print(b)"
   ]
  },
  {
   "cell_type": "code",
   "execution_count": 44,
   "metadata": {
    "collapsed": true
   },
   "outputs": [],
   "source": [
    "neighbors = {}\n",
    "for t in tiles:\n",
    "    cnt = 0\n",
    "    for b in borders:\n",
    "        if b['tile1'] == t or b['tile2'] == t:\n",
    "            cnt += 1\n",
    "    if cnt == 0:\n",
    "        print(t)\n",
    "        break\n",
    "    neighbors[t] = cnt"
   ]
  },
  {
   "cell_type": "code",
   "execution_count": 45,
   "metadata": {},
   "outputs": [
    {
     "data": {
      "text/plain": [
       "{'Abadan': 5,\n",
       " 'Adana': 6,\n",
       " 'Adriatic Sea': 5,\n",
       " 'Aegean Sea': 6,\n",
       " 'Albania': 5,\n",
       " 'Algiers': 4,\n",
       " 'Amsterdam': 5,\n",
       " 'Ankara': 5,\n",
       " 'Arabian Sea': 7,\n",
       " 'Archangel': 4,\n",
       " 'Athens': 6,\n",
       " 'Azores': 4,\n",
       " 'Baku': 5,\n",
       " 'Baltic Sea': 8,\n",
       " 'Barcelona': 6,\n",
       " 'Barents Sea': 4,\n",
       " 'Bay of Biscay': 8,\n",
       " 'Belgrade': 6,\n",
       " 'Belorussia': 4,\n",
       " 'Berlin': 5,\n",
       " 'Bombay': 4,\n",
       " 'Bryansk': 7,\n",
       " 'Bucharest': 6,\n",
       " 'Budapest': 6,\n",
       " 'Central Mediterranean': 11,\n",
       " 'Copenhagen': 5,\n",
       " 'Crete': 3,\n",
       " 'Croatia': 6,\n",
       " 'Cyrenaica': 4,\n",
       " 'Dakar': 3,\n",
       " 'Damascus': 4,\n",
       " 'Delhi': 3,\n",
       " 'Dublin': 1,\n",
       " 'East Indian Ocean': 4,\n",
       " 'Eastern Black Sea': 6,\n",
       " 'Eastern Mediterranean': 10,\n",
       " 'Egypt': 3,\n",
       " 'English Channel': 5,\n",
       " 'Gallivare': 6,\n",
       " 'Gascony': 6,\n",
       " 'Georgia': 6,\n",
       " 'Gibraltar': 6,\n",
       " 'Glasgow': 4,\n",
       " 'Gorky': 4,\n",
       " 'Greenland Sea': 4,\n",
       " 'Grozny': 6,\n",
       " 'Gulf of Aden': 3,\n",
       " 'Gulf of Bothnia': 6,\n",
       " 'Helsinki': 5,\n",
       " 'Iceland': 4,\n",
       " 'Iraq': 4,\n",
       " 'Irish Sea': 9,\n",
       " 'Irminger Sea': 4,\n",
       " 'Istanbul': 6,\n",
       " 'Izmir': 5,\n",
       " 'Jordan': 4,\n",
       " 'Kabul': 4,\n",
       " 'Karachi': 5,\n",
       " 'Kars': 5,\n",
       " 'Kazakhstan': 5,\n",
       " 'Kharkov': 8,\n",
       " 'Kiev': 4,\n",
       " 'Konigsberg': 4,\n",
       " 'Kuban': 7,\n",
       " 'Leningrad': 9,\n",
       " 'Leon': 6,\n",
       " 'Lisbon': 3,\n",
       " 'London': 4,\n",
       " 'Lorraine': 5,\n",
       " 'Lvov': 7,\n",
       " 'Madeira Sea': 7,\n",
       " 'Madrid': 4,\n",
       " 'Malta': 5,\n",
       " 'Marseille': 5,\n",
       " 'Mid Atlantic Ocean': 7,\n",
       " 'Milan': 6,\n",
       " 'Morocco': 5,\n",
       " 'Moscow': 6,\n",
       " 'Munich': 6,\n",
       " 'Murmansk': 6,\n",
       " 'Narvik': 5,\n",
       " 'New York': 3,\n",
       " 'Nordkapp Sea': 5,\n",
       " 'North Atlantic Ocean': 8,\n",
       " 'North Sea': 9,\n",
       " 'Northern Caspian Sea': 6,\n",
       " 'Norwegian Sea': 7,\n",
       " 'Odessa': 6,\n",
       " 'Oslo': 7,\n",
       " 'Ottawa': 2,\n",
       " 'Paris': 6,\n",
       " 'Penza': 5,\n",
       " 'Perm': 4,\n",
       " 'Persian Gulf': 4,\n",
       " 'Petsamo': 4,\n",
       " 'Prague': 6,\n",
       " 'Red Sea': 3,\n",
       " 'Riga': 6,\n",
       " 'Rio de Janeiro': 2,\n",
       " 'Rome': 5,\n",
       " 'Ruhr': 6,\n",
       " 'Sardinia': 2,\n",
       " 'Sea of Azov': 3,\n",
       " 'Sevastopol': 6,\n",
       " 'Sfax': 3,\n",
       " 'Shiraz': 6,\n",
       " 'Sicily': 5,\n",
       " 'Sinope': 4,\n",
       " 'Sofia': 5,\n",
       " 'South Atlantic Ocean': 3,\n",
       " 'Southern Caspian Sea': 5,\n",
       " 'Stalingrad': 5,\n",
       " 'Stockholm': 5,\n",
       " 'Sudan': 2,\n",
       " 'Suez': 5,\n",
       " 'Tabriz': 6,\n",
       " 'Taranto': 5,\n",
       " 'Tehran': 6,\n",
       " 'Tripoli': 3,\n",
       " 'Tunisia': 4,\n",
       " 'Turkmenistan': 5,\n",
       " 'Tyrrhenian Sea': 7,\n",
       " 'Ufa': 8,\n",
       " 'Urals': 4,\n",
       " 'Venice': 6,\n",
       " 'Vienna': 5,\n",
       " 'Vilna': 5,\n",
       " 'Vologda': 4,\n",
       " 'Voronezh': 7,\n",
       " 'Warsaw': 6,\n",
       " 'Washington': 2,\n",
       " 'West Indian Ocean': 3,\n",
       " 'Western Black Sea': 7,\n",
       " 'Western Mediterranean': 8,\n",
       " 'Western Siberia': 2,\n",
       " 'White Sea': 3}"
      ]
     },
     "execution_count": 45,
     "metadata": {},
     "output_type": "execute_result"
    }
   ],
   "source": [
    "neighbors"
   ]
  },
  {
   "cell_type": "code",
   "execution_count": null,
   "metadata": {
    "collapsed": true
   },
   "outputs": [],
   "source": []
  }
 ],
 "metadata": {
  "kernelspec": {
   "display_name": "Python 3",
   "language": "python",
   "name": "python3"
  },
  "language_info": {
   "codemirror_mode": {
    "name": "ipython",
    "version": 3
   },
   "file_extension": ".py",
   "mimetype": "text/x-python",
   "name": "python",
   "nbconvert_exporter": "python",
   "pygments_lexer": "ipython3",
   "version": "3.6.4"
  }
 },
 "nbformat": 4,
 "nbformat_minor": 2
}
