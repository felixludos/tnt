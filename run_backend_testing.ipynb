{
 "cells": [
  {
   "cell_type": "code",
   "execution_count": 1,
   "metadata": {},
   "outputs": [],
   "source": [
    "import sys, os, time\n",
    "%load_ext autoreload\n",
    "%autoreload 2\n",
    "%matplotlib inline\n",
    "#%matplotlib tk\n",
    "import matplotlib.pyplot as plt\n",
    "from tnt_util import *\n",
    "from util import adict, idict, xset, collate, load, render_dict, save, Logger, seq_iterate, PhaseInterrupt\n",
    "from tnt_setup import init_gamestate, setup_phase\n",
    "from tnt_cards import load_card_decks, draw_cards\n",
    "from collections import namedtuple\n",
    "import random\n",
    "from itertools import chain, product\n",
    "from tnt_units import load_unit_rules\n",
    "import tnt_setup as setup\n",
    "\n",
    "from flask_app import *"
   ]
  },
  {
   "cell_type": "code",
   "execution_count": null,
   "metadata": {},
   "outputs": [],
   "source": []
  },
  {
   "cell_type": "code",
   "execution_count": 2,
   "metadata": {},
   "outputs": [
    {
     "data": {
      "text/plain": [
       "'Backend active: use \"init\" to init game'"
      ]
     },
     "execution_count": 2,
     "metadata": {},
     "output_type": "execute_result"
    }
   ],
   "source": [
    "ping()"
   ]
  },
  {
   "cell_type": "code",
   "execution_count": 3,
   "metadata": {},
   "outputs": [
    {
     "name": "stdout",
     "output_type": "stream",
     "text": [
      "Set seed 10\n"
     ]
    }
   ],
   "source": [
    "out = format_msg_to_python(init_game(debug=False, player='Axis', seed=10))"
   ]
  },
  {
   "cell_type": "code",
   "execution_count": 4,
   "metadata": {
    "scrolled": true
   },
   "outputs": [
    {
     "name": "stdout",
     "output_type": "stream",
     "text": [
      "Game loaded\n"
     ]
    }
   ],
   "source": [
    "path = 'saves/gov_complete.json'\n",
    "load(path)"
   ]
  },
  {
   "cell_type": "code",
   "execution_count": 5,
   "metadata": {
    "scrolled": true
   },
   "outputs": [
    {
     "data": {
      "text/html": [
       "<div id=\"4647bb41-e72e-4edb-8214-a46524490f26\" style=\"height: 600px; width:100%;\"></div>"
      ]
     },
     "metadata": {},
     "output_type": "display_data"
    },
    {
     "data": {
      "application/javascript": [
       "\n",
       "\t\trequire([\"https://rawgit.com/caldwell/renderjson/master/renderjson.js\"], function() {\n",
       "\t\t  renderjson.set_show_to_level(1)\n",
       "\t\t  document.getElementById('4647bb41-e72e-4edb-8214-a46524490f26').appendChild(renderjson({'game': {'seed': '10', 'year': '1936', 'last_year': '1945', 'turn_order_options': {'1': ['Axis', 'USSR', 'West'], '2': ['Axis', 'West', 'USSR'], '3': ['West', 'Axis', 'USSR'], '4': ['West', 'USSR', 'Axis'], '5': ['USSR', 'West', 'Axis'], '6': ['USSR', 'Axis', 'West']}, 'sequence': ['Setup', 'New_Year', 'Production', 'Government', 'Spring', 'Summer', 'Blockade', 'Fall', 'Winter', 'New_Year', 'Production', 'Government', 'Spring', 'Summer', 'Blockade', 'Fall', 'Winter', 'New_Year', 'Production', 'Government', 'Spring', 'Summer', 'Blockade', 'Fall', 'Winter', 'New_Year', 'Production', 'Government', 'Spring', 'Summer', 'Blockade', 'Fall', 'Winter', 'New_Year', 'Production', 'Government', 'Spring', 'Summer', 'Blockade', 'Fall', 'Winter', 'New_Year', 'Production', 'Government', 'Spring', 'Summer', 'Blockade', 'Fall', 'Winter', 'New_Year', 'Production', 'Government', 'Spring', 'Summer', 'Blockade', 'Fall', 'Winter', 'New_Year', 'Production', 'Government', 'Spring', 'Summer', 'Blockade', 'Fall', 'Winter', 'New_Year', 'Production', 'Government', 'Spring', 'Summer', 'Blockade', 'Fall', 'Winter', 'New_Year', 'Production', 'Government', 'Spring', 'Summer', 'Blockade', 'Fall', 'Winter', 'Scoring'], 'index': '3', 'peace_dividends': ['0', '1', '0', '2', '1', '1', '0', '1', '2', '0', '1', '1', '1', '1', '0', '0', '2', '0', '1', '1', '0', '0', '1', '0', '2', '0', '0', '0', '1'], 'victory': {'economic': '25'}, 'turn_order': ['Axis', 'West', 'USSR']}, 'objects': {'table': {'Ottawa': {'type': 'Coast', 'alligence': 'Canada', 'res': '1', 'pop': '0', 'muster': '1', 'borders': {'North_Atlantic_Ocean': 'Coast', 'New_York': 'Forest'}, 'units': ['29673'], 'obj_type': 'tile', 'visible': ['Axis', 'West', 'USSR'], 'owner': 'West'}, 'New_York': {'type': 'Coast', 'alligence': 'USA', 'res': '2', 'pop': '1', 'muster': '2', 'borders': {'Ottawa': 'Forest', 'North_Atlantic_Ocean': 'Coast', 'Washington': 'Plains'}, 'units': [], 'obj_type': 'tile', 'visible': ['Axis', 'West', 'USSR']}, 'Washington': {'type': 'Coast', 'alligence': 'USA', 'res': '2', 'pop': '2', 'muster': '3', 'borders': {'New_York': 'Plains', 'North_Atlantic_Ocean': 'Coast'}, 'units': [], 'obj_type': 'tile', 'visible': ['Axis', 'West', 'USSR']}, 'Irish_Sea': {'type': 'Sea', 'borders': {'Irminger_Sea': 'Sea', 'North_Atlantic_Ocean': 'Ocean', 'Bay_of_Biscay': 'Sea', 'Norwegian_Sea': 'Sea', 'English_Channel': 'Sea', 'London': 'Coast', 'Glasgow': 'Coast', 'Dublin': 'Coast', 'Iceland': 'Coast'}, 'units': [], 'obj_type': 'tile', 'visible': ['Axis', 'West', 'USSR']}, 'North_Atlantic_Ocean': {'type': 'Ocean', 'borders': {'Ottawa': 'Coast', 'New_York': 'Coast', 'Washington': 'Coast', 'Irminger_Sea': 'Ocean', 'Irish_Sea': 'Ocean', 'Bay_of_Biscay': 'Ocean', 'Azores': 'Strait', 'Mid_Atlantic_Ocean': 'Ocean'}, 'units': [], 'obj_type': 'tile', 'visible': ['Axis', 'West', 'USSR']}, 'Mid_Atlantic_Ocean': {'type': 'Ocean', 'borders': {'North_Atlantic_Ocean': 'Ocean', 'Azores': 'Strait', 'South_Atlantic_Ocean': 'Ocean', 'Rio_de_Janeiro': 'Coast', 'Madeira_Sea': 'Ocean', 'Dakar': 'Coast', 'Morocco': 'Coast'}, 'units': [], 'obj_type': 'tile', 'visible': ['Axis', 'West', 'USSR']}, 'South_Atlantic_Ocean': {'type': 'Ocean', 'borders': {'Mid_Atlantic_Ocean': 'Ocean', 'Rio_de_Janeiro': 'Coast', 'Dakar': 'Coast', 'West_Indian_Ocean': 'Ocean-Africa'}, 'units': [], 'obj_type': 'tile', 'visible': ['Axis', 'West', 'USSR']}, 'Rio_de_Janeiro': {'type': 'Coast', 'alligence': 'Latin_America', 'res': '2', 'pop': '0', 'muster': '1', 'borders': {'South_Atlantic_Ocean': 'Coast', 'Mid_Atlantic_Ocean': 'Coast'}, 'units': [], 'obj_type': 'tile', 'visible': ['Axis', 'West', 'USSR']}, 'Dakar': {'type': 'Coast', 'alligence': 'French_North_Africa', 'res': '0', 'pop': '0', 'muster': '0', 'borders': {'South_Atlantic_Ocean': 'Coast', 'Mid_Atlantic_Ocean': 'Coast', 'Morocco': 'Plains'}, 'units': [], 'obj_type': 'tile', 'visible': ['Axis', 'West', 'USSR'], 'owner': 'West'}, 'Morocco': {'type': 'Coast', 'alligence': 'French_North_Africa', 'res': '0', 'pop': '0', 'muster': '0', 'borders': {'Mid_Atlantic_Ocean': 'Coast', 'Dakar': 'Plains', 'Madeira_Sea': 'Coast', 'Gibraltar': 'Strait', 'Algiers': 'Mountains'}, 'units': [], 'obj_type': 'tile', 'visible': ['Axis', 'West', 'USSR'], 'owner': 'West'}, 'Algiers': {'type': 'Coast', 'alligence': 'French_North_Africa', 'res': '0', 'pop': '1', 'muster': '2', 'borders': {'Gibraltar': 'Strait', 'Morocco': 'Mountains', 'Tunisia': 'Mountains', 'Western_Mediterranean': 'Coast'}, 'units': ['17449'], 'obj_type': 'tile', 'visible': ['Axis', 'West', 'USSR'], 'owner': 'West'}, 'Tunisia': {'type': 'Coast', 'alligence': 'French_North_Africa', 'res': '0', 'pop': '0', 'muster': '0', 'borders': {'Algiers': 'Mountains', 'Western_Mediterranean': 'Coast', 'Sfax': 'Mountains', 'Malta': 'Strait'}, 'units': [], 'obj_type': 'tile', 'visible': ['Axis', 'West', 'USSR'], 'owner': 'West'}, 'Sfax': {'type': 'Land', 'alligence': 'French_North_Africa', 'res': '0', 'pop': '0', 'muster': '0', 'borders': {'Tunisia': 'Mountains', 'Tripoli': 'Mountains', 'Malta': 'Strait'}, 'units': [], 'obj_type': 'tile', 'visible': ['Axis', 'West', 'USSR'], 'owner': 'West'}, 'Gibraltar': {'type': 'Coast', 'alligence': 'Gibraltar', 'res': '0', 'pop': '0', 'muster': '1', 'borders': {'Madeira_Sea': 'Strait', 'Morocco': 'Strait', 'Algiers': 'Strait', 'Madrid': 'Strait', 'Western_Mediterranean': 'Strait', 'Barcelona': 'Strait'}, 'units': ['247'], 'obj_type': 'tile', 'visible': ['Axis', 'West', 'USSR'], 'owner': 'West'}, 'Madeira_Sea': {'type': 'Sea', 'borders': {'Mid_Atlantic_Ocean': 'Ocean', 'Bay_of_Biscay': 'Sea', 'Azores': 'Strait', 'Morocco': 'Coast', 'Gibraltar': 'Strait', 'Lisbon': 'Coast', 'Leon': 'Coast'}, 'units': [], 'obj_type': 'tile', 'visible': ['Axis', 'West', 'USSR']}, 'Lisbon': {'type': 'Coast', 'alligence': 'Portugal', 'res': '1', 'pop': '0', 'muster': '1', 'borders': {'Madrid': 'Plains', 'Madeira_Sea': 'Coast', 'Leon': 'Plains'}, 'units': [], 'obj_type': 'tile', 'visible': ['Axis', 'West', 'USSR']}, 'Madrid': {'type': 'Land', 'alligence': 'Spain', 'res': '0', 'pop': '1', 'muster': '3', 'borders': {'Gibraltar': 'Strait', 'Lisbon': 'Plains', 'Leon': 'Coast', 'Barcelona': 'Plains'}, 'units': [], 'obj_type': 'tile', 'visible': ['Axis', 'West', 'USSR']}, 'Leon': {'type': 'Coast', 'alligence': 'Spain', 'res': '0', 'pop': '0', 'muster': '0', 'borders': {'Lisbon': 'Plains', 'Madeira_Sea': 'Coast', 'Bay_of_Biscay': 'Coast', 'Madrid': 'Coast', 'Barcelona': 'Plains', 'Gascony': 'Mountains'}, 'units': [], 'obj_type': 'tile', 'visible': ['Axis', 'West', 'USSR']}, 'Barcelona': {'type': 'Coast', 'alligence': 'Spain', 'res': '0', 'pop': '1', 'muster': '0', 'borders': {'Gibraltar': 'Strait', 'Madrid': 'Plains', 'Leon': 'Plains', 'Western_Mediterranean': 'Coast', 'Gascony': 'Mountains', 'Marseille': 'Mountains'}, 'units': [], 'obj_type': 'tile', 'visible': ['Axis', 'West', 'USSR']}, 'Azores': {'type': 'Coast', 'alligence': 'Portugal', 'res': '0', 'pop': '0', 'muster': '0', 'borders': {'North_Atlantic_Ocean': 'Strait', 'Mid_Atlantic_Ocean': 'Strait', 'Madeira_Sea': 'Strait', 'Bay_of_Biscay': 'Strait'}, 'units': [], 'obj_type': 'tile', 'visible': ['Axis', 'West', 'USSR']}, 'Bay_of_Biscay': {'type': 'Sea', 'borders': {'North_Atlantic_Ocean': 'Ocean', 'Madeira_Sea': 'Sea', 'Azores': 'Strait', 'Irish_Sea': 'Sea', 'English_Channel': 'Sea', 'Leon': 'Coast', 'Paris': 'Coast', 'Gascony': 'Coast'}, 'units': [], 'obj_type': 'tile', 'visible': ['Axis', 'West', 'USSR']}, 'Dublin': {'type': 'Coast', 'alligence': 'Ireland', 'res': '0', 'pop': '0', 'muster': '1', 'borders': {'Irish_Sea': 'Coast'}, 'units': [], 'obj_type': 'tile', 'visible': ['Axis', 'West', 'USSR']}, 'Irminger_Sea': {'type': 'Sea', 'borders': {'North_Atlantic_Ocean': 'Ocean', 'Irish_Sea': 'Sea', 'Iceland': 'Coast', 'Greenland_Sea': 'Sea'}, 'units': [], 'obj_type': 'tile', 'visible': ['Axis', 'West', 'USSR']}, 'Iceland': {'type': 'Coast', 'alligence': 'Denmark', 'res': '0', 'pop': '0', 'muster': '0', 'borders': {'Irminger_Sea': 'Coast', 'Greenland_Sea': 'Coast', 'Norwegian_Sea': 'Coast', 'Irish_Sea': 'Coast'}, 'units': [], 'obj_type': 'tile', 'visible': ['Axis', 'West', 'USSR']}, 'Greenland_Sea': {'type': 'Sea', 'borders': {'Irminger_Sea': 'Sea', 'Norwegian_Sea': 'Sea', 'Nordkapp_Sea': 'Sea', 'Iceland': 'Coast'}, 'units': [], 'obj_type': 'tile', 'visible': ['Axis', 'West', 'USSR']}, 'Norwegian_Sea': {'type': 'Sea', 'borders': {'Greenland_Sea': 'Sea', 'Irish_Sea': 'Sea', 'Nordkapp_Sea': 'Sea', 'Oslo': 'Coast', 'North_Sea': 'Sea', 'Glasgow': 'Coast', 'Iceland': 'Coast'}, 'units': [], 'obj_type': 'tile', 'visible': ['Axis', 'West', 'USSR']}, 'Nordkapp_Sea': {'type': 'Sea', 'borders': {'Barents_Sea': 'Sea', 'Narvik': 'Coast', 'Oslo': 'Coast', 'Norwegian_Sea': 'Sea', 'Greenland_Sea': 'Sea'}, 'units': [], 'obj_type': 'tile', 'visible': ['Axis', 'West', 'USSR']}, 'North_Sea': {'type': 'Sea', 'borders': {'Copenhagen': 'Strait', 'Oslo': 'Coast', 'Ruhr': 'Coast', 'Norwegian_Sea': 'Sea', 'Amsterdam': 'Sea', 'Glasgow': 'Coast', 'London': 'Coast', 'English_Channel': 'Sea', 'Paris': 'Coast'}, 'units': [], 'obj_type': 'tile', 'visible': ['Axis', 'West', 'USSR']}, 'English_Channel': {'type': 'Sea', 'borders': {'Irish_Sea': 'Sea', 'Bay_of_Biscay': 'Sea', 'North_Sea': 'Sea', 'London': 'Coast', 'Paris': 'Coast'}, 'units': [], 'obj_type': 'tile', 'visible': ['Axis', 'West', 'USSR']}, 'Glasgow': {'type': 'Coast', 'alligence': 'Britain', 'res': '1', 'pop': '1', 'muster': '2', 'borders': {'Norwegian_Sea': 'Coast', 'North_Sea': 'Coast', 'London': 'Mountains', 'Irish_Sea': 'Coast'}, 'units': ['19345', '29164'], 'obj_type': 'tile', 'visible': ['Axis', 'West', 'USSR'], 'owner': 'West'}, 'London': {'type': 'Coast', 'alligence': 'Britain', 'res': '1', 'pop': '3', 'muster': '3', 'borders': {'North_Sea': 'Coast', 'English_Channel': 'Coast', 'Irish_Sea': 'Coast', 'Glasgow': 'Mountains'}, 'units': ['246', '15585', '18393', '18868'], 'obj_type': 'tile', 'visible': ['Axis', 'West', 'USSR'], 'owner': 'West'}, 'Paris': {'type': 'Coast', 'alligence': 'France', 'res': '0', 'pop': '2', 'muster': '3', 'borders': {'English_Channel': 'Coast', 'Bay_of_Biscay': 'Coast', 'Gascony': 'Plains', 'Lorraine': 'Plains', 'Amsterdam': 'Plains', 'North_Sea': 'Coast'}, 'units': ['15124', '16980'], 'obj_type': 'tile', 'visible': ['Axis', 'West', 'USSR'], 'owner': 'West'}, 'Lorraine': {'type': 'Land', 'alligence': 'France', 'res': '2', 'pop': '0', 'muster': '0', 'borders': {'Munich': 'River', 'Paris': 'Plains', 'Amsterdam': 'Forest', 'Gascony': 'Plains', 'Marseille': 'Plains'}, 'units': ['249'], 'obj_type': 'tile', 'visible': ['Axis', 'West', 'USSR'], 'owner': 'West'}, 'Gascony': {'type': 'Coast', 'alligence': 'France', 'res': '0', 'pop': '0', 'muster': '0', 'borders': {'Leon': 'Mountains', 'Barcelona': 'Mountains', 'Bay_of_Biscay': 'Coast', 'Paris': 'Plains', 'Lorraine': 'Plains', 'Marseille': 'Plains'}, 'units': ['27148', '28152'], 'obj_type': 'tile', 'visible': ['Axis', 'West', 'USSR'], 'owner': 'West'}, 'Marseille': {'type': 'Coast', 'alligence': 'France', 'res': '0', 'pop': '1', 'muster': '2', 'borders': {'Barcelona': 'Mountains', 'Western_Mediterranean': 'Coast', 'Gascony': 'Plains', 'Lorraine': 'Plains', 'Milan': 'Mountains'}, 'units': ['16048', '27649'], 'obj_type': 'tile', 'visible': ['Axis', 'West', 'USSR'], 'owner': 'West'}, 'Western_Mediterranean': {'type': 'Sea', 'borders': {'Gibraltar': 'Strait', 'Algiers': 'Coast', 'Barcelona': 'Coast', 'Tunisia': 'Coast', 'Sardinia': 'Coast', 'Tyrrhenian_Sea': 'Sea', 'Milan': 'Coast', 'Marseille': 'Coast'}, 'units': [], 'obj_type': 'tile', 'visible': ['Axis', 'West', 'USSR']}, 'Sardinia': {'type': 'Coast', 'alligence': 'Italy', 'res': '0', 'pop': '0', 'muster': '0', 'borders': {'Western_Mediterranean': 'Coast', 'Tyrrhenian_Sea': 'Coast'}, 'units': [], 'obj_type': 'tile', 'visible': ['Axis', 'West', 'USSR'], 'owner': 'Axis'}, 'Tyrrhenian_Sea': {'type': 'Sea', 'borders': {'Western_Mediterranean': 'Sea', 'Sardinia': 'Coast', 'Malta': 'Strait', 'Sicily': 'Strait', 'Rome': 'Coast', 'Milan': 'Coast'}, 'units': [], 'obj_type': 'tile', 'visible': ['Axis', 'West', 'USSR']}, 'Malta': {'type': 'Coast', 'alligence': 'Malta', 'res': '0', 'pop': '0', 'muster': '1', 'borders': {'Tunisia': 'Strait', 'Sfax': 'Strait', 'Tyrrhenian_Sea': 'Strait', 'Central_Mediterranean': 'Strait', 'Sicily': 'Strait'}, 'units': [], 'obj_type': 'tile', 'visible': ['Axis', 'West', 'USSR'], 'owner': 'West'}, 'Sicily': {'type': 'Coast', 'alligence': 'Italy', 'res': '0', 'pop': '0', 'muster': '0', 'borders': {'Malta': 'Strait', 'Tyrrhenian_Sea': 'Strait', 'Central_Mediterranean': 'Strait', 'Rome': 'Strait', 'Taranto': 'Strait'}, 'units': [], 'obj_type': 'tile', 'visible': ['Axis', 'West', 'USSR'], 'owner': 'Axis'}, 'Central_Mediterranean': {'type': 'Sea', 'borders': {'Malta': 'Strait', 'Sicily': 'Strait', 'Taranto': 'Coast', 'Adriatic_Sea': 'Sea', 'Tripoli': 'Coast', 'Cyrenaica': 'Coast', 'Albania': 'Coast', 'Eastern_Mediterranean': 'Sea', 'Aegean_Sea': 'Sea', 'Athens': 'Coast', 'Crete': 'Coast'}, 'units': [], 'obj_type': 'tile', 'visible': ['Axis', 'West', 'USSR']}, 'Adriatic_Sea': {'type': 'Sea', 'borders': {'Central_Mediterranean': 'Sea', 'Venice': 'Sea', 'Taranto': 'Sea', 'Croatia': 'Coast', 'Albania': 'Coast'}, 'units': [], 'obj_type': 'tile', 'visible': ['Axis', 'West', 'USSR']}, 'Milan': {'type': 'Coast', 'alligence': 'Italy', 'res': '1', 'pop': '1', 'muster': '2', 'borders': {'Tyrrhenian_Sea': 'Coast', 'Rome': 'Mountains', 'Western_Mediterranean': 'Coast', 'Venice': 'Plains', 'Marseille': 'Mountains'}, 'units': ['1825', '7168'], 'obj_type': 'tile', 'visible': ['Axis', 'West', 'USSR'], 'owner': 'Axis'}, 'Rome': {'type': 'Coast', 'alligence': 'Italy', 'res': '0', 'pop': '2', 'muster': '3', 'borders': {'Sicily': 'Strait', 'Tyrrhenian_Sea': 'Coast', 'Milan': 'Mountains', 'Venice': 'Mountains', 'Taranto': 'Mountains'}, 'units': ['640', '2224', '3028', '4249'], 'obj_type': 'tile', 'visible': ['Axis', 'West', 'USSR'], 'owner': 'Axis'}, 'Venice': {'type': 'Coast', 'alligence': 'Italy', 'res': '1', 'pop': '0', 'muster': '0', 'borders': {'Milan': 'Plains', 'Rome': 'Mountains', 'Taranto': 'Mountains', 'Adriatic_Sea': 'Sea', 'Vienna': 'Mountains', 'Croatia': 'Mountains'}, 'units': ['22719', '26649'], 'obj_type': 'tile', 'visible': ['Axis', 'West', 'USSR'], 'owner': 'Axis'}, 'Taranto': {'type': 'Coast', 'alligence': 'Italy', 'res': '0', 'pop': '0', 'muster': '0', 'borders': {'Sicily': 'Strait', 'Rome': 'Mountains', 'Venice': 'Mountains', 'Central_Mediterranean': 'Coast', 'Adriatic_Sea': 'Sea'}, 'units': ['23692', '24181'], 'obj_type': 'tile', 'visible': ['Axis', 'West', 'USSR'], 'owner': 'Axis'}, 'Tripoli': {'type': 'Coast', 'alligence': 'Libya', 'res': '0', 'pop': '1', 'muster': '2', 'borders': {'Sfax': 'Mountains', 'Central_Mediterranean': 'Coast', 'Cyrenaica': 'Plains'}, 'units': ['1033', '8020'], 'obj_type': 'tile', 'visible': ['Axis', 'West', 'USSR'], 'owner': 'Axis'}, 'Cyrenaica': {'type': 'Coast', 'alligence': 'Libya', 'res': '0', 'pop': '0', 'muster': '0', 'borders': {'Central_Mediterranean': 'Coast', 'Tripoli': 'Plains', 'Eastern_Mediterranean': 'Coast', 'Egypt': 'Plains'}, 'units': ['25657'], 'obj_type': 'tile', 'visible': ['Axis', 'West', 'USSR'], 'owner': 'Axis'}, 'Amsterdam': {'type': 'Coast', 'alligence': 'Low_Countries', 'res': '0', 'pop': '1', 'muster': '2', 'borders': {'Ruhr': 'River', 'Munich': 'River', 'North_Sea': 'Sea', 'Paris': 'Plains', 'Lorraine': 'Forest'}, 'units': [], 'obj_type': 'tile', 'visible': ['Axis', 'West', 'USSR']}, 'Vienna': {'type': 'Land', 'alligence': 'Austria', 'res': '0', 'pop': '1', 'muster': '2', 'borders': {'Prague': 'Plains', 'Munich': 'Plains', 'Venice': 'Mountains', 'Croatia': 'Mountains', 'Budapest': 'Plains'}, 'units': [], 'obj_type': 'tile', 'visible': ['Axis', 'West', 'USSR']}, 'Munich': {'type': 'Land', 'alligence': 'Germany', 'res': '0', 'pop': '1', 'muster': '2', 'borders': {'Berlin': 'Plains', 'Ruhr': 'Plains', 'Prague': 'Forest', 'Vienna': 'Plains', 'Amsterdam': 'River', 'Lorraine': 'River'}, 'units': ['5488', '7593'], 'obj_type': 'tile', 'visible': ['Axis', 'West', 'USSR'], 'owner': 'Axis'}, 'Ruhr': {'type': 'Coast', 'alligence': 'Germany', 'res': '3', 'pop': '2', 'muster': '3', 'borders': {'Copenhagen': 'Strait', 'Baltic_Sea': 'Coast', 'North_Sea': 'Coast', 'Berlin': 'Plains', 'Munich': 'Plains', 'Amsterdam': 'River'}, 'units': ['1428', '6324', '6745', '8449', '22234', '24672'], 'obj_type': 'tile', 'visible': ['Axis', 'West', 'USSR'], 'owner': 'Axis'}, 'Berlin': {'type': 'Coast', 'alligence': 'Germany', 'res': '1', 'pop': '3', 'muster': '3', 'borders': {'Baltic_Sea': 'Coast', 'Warsaw': 'River', 'Ruhr': 'Plains', 'Prague': 'Forest', 'Munich': 'Plains'}, 'units': ['2625', '3433', '3840', '4660', '5073', '5905', '26152'], 'obj_type': 'tile', 'visible': ['Axis', 'West', 'USSR'], 'owner': 'Axis'}, 'Copenhagen': {'type': 'Coast', 'alligence': 'Denmark', 'res': '1', 'pop': '0', 'muster': '1', 'borders': {'Stockholm': 'Strait', 'Baltic_Sea': 'Strait', 'Oslo': 'Strait', 'North_Sea': 'Strait', 'Ruhr': 'Strait'}, 'units': [], 'obj_type': 'tile', 'visible': ['Axis', 'West', 'USSR']}, 'Oslo': {'type': 'Coast', 'alligence': 'Norway', 'res': '1', 'pop': '0', 'muster': '1', 'borders': {'Gallivare': 'Mountains', 'Stockholm': 'Forest', 'Narvik': 'Mountains', 'Nordkapp_Sea': 'Coast', 'Norwegian_Sea': 'Coast', 'Copenhagen': 'Strait', 'North_Sea': 'Coast'}, 'units': [], 'obj_type': 'tile', 'visible': ['Axis', 'West', 'USSR']}, 'Narvik': {'type': 'Coast', 'alligence': 'Norway', 'res': '0', 'pop': '0', 'muster': '0', 'borders': {'Petsamo': 'Mountains', 'Barents_Sea': 'Coast', 'Gallivare': 'Mountains', 'Oslo': 'Mountains', 'Nordkapp_Sea': 'Coast'}, 'units': [], 'obj_type': 'tile', 'visible': ['Axis', 'West', 'USSR']}, 'Gallivare': {'type': 'Coast', 'alligence': 'Sweden', 'res': '1', 'pop': '0', 'muster': '0', 'borders': {'Helsinki': 'Forest', 'Petsamo': 'Forest', 'Narvik': 'Mountains', 'Oslo': 'Mountains', 'Stockholm': 'Forest', 'Gulf_of_Bothnia': 'Coast'}, 'units': [], 'obj_type': 'tile', 'visible': ['Axis', 'West', 'USSR']}, 'Stockholm': {'type': 'Coast', 'alligence': 'Sweden', 'res': '1', 'pop': '1', 'muster': '2', 'borders': {'Gallivare': 'Forest', 'Gulf_of_Bothnia': 'Coast', 'Baltic_Sea': 'Coast', 'Oslo': 'Forest', 'Copenhagen': 'Strait'}, 'units': [], 'obj_type': 'tile', 'visible': ['Axis', 'West', 'USSR']}, 'Petsamo': {'type': 'Land', 'alligence': 'Finland', 'res': '1', 'pop': '0', 'muster': '0', 'borders': {'Murmansk': 'Forest', 'Helsinki': 'Forest', 'Narvik': 'Mountains', 'Gallivare': 'Forest'}, 'units': [], 'obj_type': 'tile', 'visible': ['Axis', 'West', 'USSR']}, 'Helsinki': {'type': 'Coast', 'alligence': 'Finland', 'res': '0', 'pop': '0', 'muster': '1', 'borders': {'Leningrad': 'Forest', 'Murmansk': 'Forest', 'Petsamo': 'Forest', 'Gulf_of_Bothnia': 'Coast', 'Gallivare': 'Forest'}, 'units': [], 'obj_type': 'tile', 'visible': ['Axis', 'West', 'USSR']}, 'Barents_Sea': {'type': 'Sea', 'borders': {'Murmansk': 'Coast', 'White_Sea': 'Sea', 'Narvik': 'Coast', 'Nordkapp_Sea': 'Sea'}, 'units': [], 'obj_type': 'tile', 'visible': ['Axis', 'West', 'USSR']}, 'White_Sea': {'type': 'Sea', 'borders': {'Archangel': 'Coast', 'Murmansk': 'Coast', 'Barents_Sea': 'Sea'}, 'units': [], 'obj_type': 'tile', 'visible': ['Axis', 'West', 'USSR']}, 'Gulf_of_Bothnia': {'type': 'Sea', 'borders': {'Helsinki': 'Coast', 'Leningrad': 'Coast', 'Gallivare': 'Coast', 'Stockholm': 'Coast', 'Riga': 'Coast', 'Baltic_Sea': 'Sea'}, 'units': [], 'obj_type': 'tile', 'visible': ['Axis', 'West', 'USSR']}, 'Baltic_Sea': {'type': 'Sea', 'borders': {'Gulf_of_Bothnia': 'Sea', 'Riga': 'Coast', 'Stockholm': 'Coast', 'Konigsberg': 'Coast', 'Warsaw': 'Coast', 'Copenhagen': 'Strait', 'Berlin': 'Coast', 'Ruhr': 'Coast'}, 'units': [], 'obj_type': 'tile', 'visible': ['Axis', 'West', 'USSR']}, 'Riga': {'type': 'Coast', 'alligence': 'Baltic_States', 'res': '0', 'pop': '0', 'muster': '1', 'borders': {'Leningrad': 'Forest', 'Gulf_of_Bothnia': 'Coast', 'Baltic_Sea': 'Coast', 'Belorussia': 'Plains', 'Vilna': 'Plains', 'Konigsberg': 'Plains'}, 'units': [], 'obj_type': 'tile', 'visible': ['Axis', 'West', 'USSR']}, 'Konigsberg': {'type': 'Coast', 'alligence': 'Germany', 'res': '0', 'pop': '1', 'muster': '2', 'borders': {'Riga': 'Plains', 'Vilna': 'Forest', 'Baltic_Sea': 'Coast', 'Warsaw': 'River'}, 'units': ['8880', '9313'], 'obj_type': 'tile', 'visible': ['Axis', 'West', 'USSR'], 'owner': 'Axis'}, 'Warsaw': {'type': 'Coast', 'alligence': 'Poland', 'res': '1', 'pop': '1', 'muster': '3', 'borders': {'Baltic_Sea': 'Coast', 'Konigsberg': 'River', 'Vilna': 'River', 'Lvov': 'River', 'Berlin': 'River', 'Prague': 'Forest'}, 'units': [], 'obj_type': 'tile', 'visible': ['Axis', 'West', 'USSR']}, 'Vilna': {'type': 'Land', 'alligence': 'Poland', 'res': '0', 'pop': '0', 'muster': '1', 'borders': {'Belorussia': 'Plains', 'Riga': 'Plains', 'Konigsberg': 'Forest', 'Lvov': 'Plains', 'Warsaw': 'River'}, 'units': [], 'obj_type': 'tile', 'visible': ['Axis', 'West', 'USSR']}, 'Lvov': {'type': 'Land', 'alligence': 'Poland', 'res': '0', 'pop': '1', 'muster': '2', 'borders': {'Vilna': 'Plains', 'Kiev': 'Plains', 'Odessa': 'Plains', 'Warsaw': 'River', 'Prague': 'Mountains', 'Budapest': 'Mountains', 'Bucharest': 'River'}, 'units': [], 'obj_type': 'tile', 'visible': ['Axis', 'West', 'USSR']}, 'Prague': {'type': 'Land', 'alligence': 'Czechoslovakia', 'res': '0', 'pop': '1', 'muster': '2', 'borders': {'Lvov': 'Mountains', 'Warsaw': 'Forest', 'Berlin': 'Forest', 'Munich': 'Forest', 'Budapest': 'Mountains', 'Vienna': 'Plains'}, 'units': [], 'obj_type': 'tile', 'visible': ['Axis', 'West', 'USSR']}, 'Budapest': {'type': 'Land', 'alligence': 'Hungary', 'res': '1', 'pop': '1', 'muster': '2', 'borders': {'Lvov': 'Mountains', 'Prague': 'Mountains', 'Croatia': 'Plains', 'Belgrade': 'Plains', 'Vienna': 'Plains', 'Bucharest': 'Mountains'}, 'units': [], 'obj_type': 'tile', 'visible': ['Axis', 'West', 'USSR']}, 'Croatia': {'type': 'Coast', 'alligence': 'Yugoslavia', 'res': '1', 'pop': '0', 'muster': '0', 'borders': {'Adriatic_Sea': 'Coast', 'Vienna': 'Mountains', 'Venice': 'Mountains', 'Budapest': 'Plains', 'Belgrade': 'Forest', 'Albania': 'Mountains'}, 'units': [], 'obj_type': 'tile', 'visible': ['Axis', 'West', 'USSR']}, 'Belgrade': {'type': 'Land', 'alligence': 'Yugoslavia', 'res': '0', 'pop': '0', 'muster': '1', 'borders': {'Croatia': 'Forest', 'Budapest': 'Plains', 'Albania': 'Mountains', 'Bucharest': 'River', 'Sofia': 'Mountains', 'Athens': 'Mountains'}, 'units': [], 'obj_type': 'tile', 'visible': ['Axis', 'West', 'USSR']}, 'Albania': {'type': 'Coast', 'alligence': 'Albania', 'res': '0', 'pop': '0', 'muster': '0', 'borders': {'Adriatic_Sea': 'Coast', 'Central_Mediterranean': 'Coast', 'Croatia': 'Mountains', 'Belgrade': 'Mountains', 'Athens': 'Mountains'}, 'units': [], 'obj_type': 'tile', 'visible': ['Axis', 'West', 'USSR']}, 'Athens': {'type': 'Coast', 'alligence': 'Greece', 'res': '1', 'pop': '0', 'muster': '1', 'borders': {'Central_Mediterranean': 'Coast', 'Istanbul': 'Strait', 'Sofia': 'Mountains', 'Belgrade': 'Mountains', 'Albania': 'Mountains', 'Aegean_Sea': 'Coast'}, 'units': [], 'obj_type': 'tile', 'visible': ['Axis', 'West', 'USSR']}, 'Bucharest': {'type': 'Coast', 'alligence': 'Rumania', 'res': '2', 'pop': '1', 'muster': '2', 'borders': {'Lvov': 'River', 'Odessa': 'River', 'Budapest': 'Mountains', 'Belgrade': 'River', 'Sofia': 'River', 'Western_Black_Sea': 'Coast'}, 'units': [], 'obj_type': 'tile', 'visible': ['Axis', 'West', 'USSR']}, 'Sofia': {'type': 'Coast', 'alligence': 'Bulgaria', 'res': '1', 'pop': '0', 'muster': '1', 'borders': {'Belgrade': 'Mountains', 'Bucharest': 'River', 'Western_Black_Sea': 'Coast', 'Istanbul': 'Strait', 'Athens': 'Mountains'}, 'units': [], 'obj_type': 'tile', 'visible': ['Axis', 'West', 'USSR']}, 'Aegean_Sea': {'type': 'Sea', 'borders': {'Central_Mediterranean': 'Sea', 'Crete': 'Coast', 'Eastern_Mediterranean': 'Sea', 'Izmir': 'Coast', 'Istanbul': 'Strait', 'Athens': 'Coast'}, 'units': [], 'obj_type': 'tile', 'visible': ['Axis', 'West', 'USSR']}, 'Crete': {'type': 'Sea', 'borders': {'Central_Mediterranean': 'Coast', 'Aegean_Sea': 'Coast', 'Eastern_Mediterranean': 'Coast'}, 'units': [], 'obj_type': 'tile', 'visible': ['Axis', 'West', 'USSR']}, 'Eastern_Mediterranean': {'type': 'Sea', 'borders': {'Central_Mediterranean': 'Sea', 'Cyrenaica': 'Coast', 'Aegean_Sea': 'Sea', 'Crete': 'Coast', 'Suez': 'Strait', 'Jordan': 'Coast', 'Damascus': 'Coast', 'Egypt': 'Coast', 'Adana': 'Coast', 'Izmir': 'Coast'}, 'units': [], 'obj_type': 'tile', 'visible': ['Axis', 'West', 'USSR']}, 'Egypt': {'type': 'Coast', 'alligence': 'Middle_East', 'res': '0', 'pop': '0', 'muster': '0', 'borders': {'Cyrenaica': 'Plains', 'Suez': 'Strait', 'Eastern_Mediterranean': 'Coast'}, 'units': [], 'obj_type': 'tile', 'visible': ['Axis', 'West', 'USSR'], 'owner': 'West'}, 'Suez': {'type': 'Coast', 'alligence': 'Middle_East', 'res': '0', 'pop': '1', 'muster': '2', 'borders': {'Egypt': 'Strait', 'Eastern_Mediterranean': 'Strait', 'Sudan': 'Strait', 'Jordan': 'Strait', 'Red_Sea': 'Strait'}, 'units': ['17920'], 'obj_type': 'tile', 'visible': ['Axis', 'West', 'USSR'], 'owner': 'West'}, 'Sudan': {'type': 'Coast', 'alligence': 'Middle_East', 'res': '0', 'pop': '0', 'muster': '0', 'borders': {'Suez': 'Strait', 'Red_Sea': 'Coast'}, 'units': ['28657'], 'obj_type': 'tile', 'visible': ['Axis', 'West', 'USSR'], 'owner': 'West'}, 'Jordan': {'type': 'Coast', 'alligence': 'Middle_East', 'res': '0', 'pop': '0', 'muster': '0', 'borders': {'Suez': 'Strait', 'Eastern_Mediterranean': 'Coast', 'Damascus': 'Plains', 'Iraq': 'Plains'}, 'units': [], 'obj_type': 'tile', 'visible': ['Axis', 'West', 'USSR'], 'owner': 'West'}, 'Iraq': {'type': 'Coast', 'alligence': 'Middle_East', 'res': '1', 'res_afr': '1', 'pop': '0', 'muster': '0', 'borders': {'Persian_Gulf': 'Coast', 'Damascus': 'Plains', 'Jordan': 'Plains', 'Abadan': 'Plains'}, 'units': [], 'obj_type': 'tile', 'visible': ['Axis', 'West', 'USSR'], 'owner': 'West'}, 'Damascus': {'type': 'Coast', 'alligence': 'Syria', 'res': '0', 'pop': '0', 'muster': '1', 'borders': {'Eastern_Mediterranean': 'Coast', 'Jordan': 'Plains', 'Iraq': 'Plains', 'Adana': 'Plains'}, 'units': [], 'obj_type': 'tile', 'visible': ['Axis', 'West', 'USSR'], 'owner': 'West'}, 'Red_Sea': {'type': 'Sea', 'borders': {'Suez': 'Strait', 'Sudan': 'Coast', 'Gulf_of_Aden': 'Sea'}, 'units': [], 'obj_type': 'tile', 'visible': ['Axis', 'West', 'USSR']}, 'Gulf_of_Aden': {'type': 'Sea', 'borders': {'Red_Sea': 'Sea', 'Arabian_Sea': 'Sea', 'West_Indian_Ocean': 'Ocean'}, 'units': [], 'obj_type': 'tile', 'visible': ['Axis', 'West', 'USSR']}, 'West_Indian_Ocean': {'type': 'Sea', 'borders': {'Gulf_of_Aden': 'Ocean', 'Arabian_Sea': 'Ocean', 'East_Indian_Ocean': 'Ocean', 'South_Atlantic_Ocean': 'Ocean-Africa'}, 'units': [], 'obj_type': 'tile', 'visible': ['Axis', 'West', 'USSR']}, 'East_Indian_Ocean': {'type': 'Sea', 'borders': {'Arabian_Sea': 'Ocean', 'West_Indian_Ocean': 'Ocean', 'Bombay': 'Coast', 'Delhi': 'Coast'}, 'units': [], 'obj_type': 'tile', 'visible': ['Axis', 'West', 'USSR']}, 'Arabian_Sea': {'type': 'Sea', 'borders': {'Gulf_of_Aden': 'Sea', 'West_Indian_Ocean': 'Ocean', 'Persian_Gulf': 'Sea', 'East_Indian_Ocean': 'Ocean', 'Bombay': 'Coast', 'Karachi': 'Coast', 'Shiraz': 'Coast'}, 'units': [], 'obj_type': 'tile', 'visible': ['Axis', 'West', 'USSR']}, 'Persian_Gulf': {'type': 'Sea', 'borders': {'Arabian_Sea': 'Sea', 'Shiraz': 'Coast', 'Abadan': 'Coast', 'Iraq': 'Coast'}, 'units': [], 'obj_type': 'tile', 'visible': ['Axis', 'West', 'USSR']}, 'Bombay': {'type': 'Coast', 'alligence': 'India', 'res': '1', 'res_afr': '1', 'pop': '1', 'muster': '2', 'borders': {'Arabian_Sea': 'Coast', 'East_Indian_Ocean': 'Coast', 'Karachi': 'Plains', 'Delhi': 'Plains'}, 'units': ['19824'], 'obj_type': 'tile', 'visible': ['Axis', 'West', 'USSR'], 'owner': 'West'}, 'Karachi': {'type': 'Coast', 'alligence': 'India', 'res': '0', 'res_afr': '0', 'pop': '0', 'muster': '0', 'borders': {'Arabian_Sea': 'Coast', 'Bombay': 'Plains', 'Delhi': 'Plains', 'Kabul': 'Mountains', 'Shiraz': 'Mountains'}, 'units': ['248'], 'obj_type': 'tile', 'visible': ['Axis', 'West', 'USSR'], 'owner': 'West'}, 'Delhi': {'type': 'Coast', 'alligence': 'India', 'res': '1', 'res_afr': '1', 'pop': '2', 'muster': '3', 'borders': {'East_Indian_Ocean': 'Coast', 'Bombay': 'Plains', 'Karachi': 'Plains'}, 'units': ['16513', '20305'], 'obj_type': 'tile', 'visible': ['Axis', 'West', 'USSR'], 'owner': 'West'}, 'Kabul': {'type': 'Land', 'alligence': 'Afghanistan', 'res': '0', 'pop': '0', 'muster': '1', 'borders': {'Karachi': 'Mountains', 'Shiraz': 'Mountains', 'Tehran': 'Mountains', 'Turkmenistan': 'Mountains'}, 'units': [], 'obj_type': 'tile', 'visible': ['Axis', 'West', 'USSR']}, 'Shiraz': {'type': 'Coast', 'alligence': 'Persia', 'res': '0', 'pop': '0', 'muster': '0', 'borders': {'Persian_Gulf': 'Coast', 'Arabian_Sea': 'Coast', 'Karachi': 'Mountains', 'Kabul': 'Mountains', 'Abadan': 'Mountains', 'Tehran': 'Mountains'}, 'units': [], 'obj_type': 'tile', 'visible': ['Axis', 'West', 'USSR']}, 'Tehran': {'type': 'Coast', 'alligence': 'Persia', 'res': '0', 'pop': '1', 'muster': '2', 'borders': {'Shiraz': 'Mountains', 'Abadan': 'Mountains', 'Kabul': 'Mountains', 'Tabriz': 'Mountains', 'Turkmenistan': 'Mountains', 'Southern_Caspian_Sea': 'Coast'}, 'units': [], 'obj_type': 'tile', 'visible': ['Axis', 'West', 'USSR']}, 'Abadan': {'type': 'Coast', 'alligence': 'Persia', 'res': '2', 'res_afr': '2', 'pop': '0', 'muster': '0', 'borders': {'Persian_Gulf': 'Coast', 'Shiraz': 'Mountains', 'Iraq': 'Plains', 'Tehran': 'Mountains', 'Tabriz': 'Mountains'}, 'units': [], 'obj_type': 'tile', 'visible': ['Axis', 'West', 'USSR']}, 'Tabriz': {'type': 'Coast', 'alligence': 'Persia', 'res': '0', 'pop': '0', 'muster': '0', 'borders': {'Abadan': 'Mountains', 'Tehran': 'Mountains', 'Southern_Caspian_Sea': 'Coast', 'Baku': 'Mountains', 'Kars': 'Mountains', 'Georgia': 'Mountains'}, 'units': [], 'obj_type': 'tile', 'visible': ['Axis', 'West', 'USSR']}, 'Kars': {'type': 'Coast', 'alligence': 'Turkey', 'res': '0', 'pop': '0', 'muster': '0', 'borders': {'Tabriz': 'Mountains', 'Georgia': 'Mountains', 'Eastern_Black_Sea': 'Coast', 'Sinope': 'Mountains', 'Adana': 'Mountains'}, 'units': [], 'obj_type': 'tile', 'visible': ['Axis', 'West', 'USSR']}, 'Sinope': {'type': 'Coast', 'alligence': 'Turkey', 'res': '0', 'pop': '0', 'muster': '0', 'borders': {'Kars': 'Mountains', 'Adana': 'Mountains', 'Ankara': 'Mountains', 'Eastern_Black_Sea': 'Coast'}, 'units': [], 'obj_type': 'tile', 'visible': ['Axis', 'West', 'USSR']}, 'Adana': {'type': 'Coast', 'alligence': 'Turkey', 'res': '0', 'pop': '0', 'muster': '0', 'borders': {'Kars': 'Mountains', 'Sinope': 'Mountains', 'Damascus': 'Plains', 'Eastern_Mediterranean': 'Coast', 'Ankara': 'Mountains', 'Izmir': 'Mountains'}, 'units': [], 'obj_type': 'tile', 'visible': ['Axis', 'West', 'USSR']}, 'Ankara': {'type': 'Coast', 'alligence': 'Turkey', 'res': '0', 'pop': '1', 'muster': '3', 'borders': {'Sinope': 'Mountains', 'Adana': 'Mountains', 'Izmir': 'Mountains', 'Istanbul': 'Strait', 'Western_Black_Sea': 'Coast'}, 'units': [], 'obj_type': 'tile', 'visible': ['Axis', 'West', 'USSR']}, 'Izmir': {'type': 'Coast', 'alligence': 'Turkey', 'res': '1', 'pop': '0', 'muster': '1', 'borders': {'Adana': 'Mountains', 'Ankara': 'Mountains', 'Eastern_Mediterranean': 'Coast', 'Aegean_Sea': 'Coast', 'Istanbul': 'Strait'}, 'units': [], 'obj_type': 'tile', 'visible': ['Axis', 'West', 'USSR']}, 'Istanbul': {'type': 'Coast', 'alligence': 'Turkey', 'res': '0', 'pop': '1', 'muster': '2', 'borders': {'Izmir': 'Strait', 'Ankara': 'Strait', 'Aegean_Sea': 'Strait', 'Western_Black_Sea': 'Strait', 'Sofia': 'Strait', 'Athens': 'Strait'}, 'units': [], 'obj_type': 'tile', 'visible': ['Axis', 'West', 'USSR']}, 'Southern_Caspian_Sea': {'type': 'Sea', 'borders': {'Tehran': 'Coast', 'Tabriz': 'Coast', 'Turkmenistan': 'Coast', 'Baku': 'Coast', 'Northern_Caspian_Sea': 'Sea'}, 'units': [], 'obj_type': 'tile', 'visible': ['Axis', 'West', 'USSR']}, 'Northern_Caspian_Sea': {'type': 'Sea', 'borders': {'Southern_Caspian_Sea': 'Sea', 'Turkmenistan': 'Coast', 'Baku': 'Coast', 'Kazakhstan': 'Coast', 'Grozny': 'Coast', 'Ufa': 'Coast'}, 'units': [], 'obj_type': 'tile', 'visible': ['Axis', 'West', 'USSR']}, 'Eastern_Black_Sea': {'type': 'Sea', 'borders': {'Kars': 'Coast', 'Georgia': 'Coast', 'Sinope': 'Coast', 'Western_Black_Sea': 'Sea', 'Sevastopol': 'Strait', 'Kuban': 'Coast'}, 'units': [], 'obj_type': 'tile', 'visible': ['Axis', 'West', 'USSR']}, 'Western_Black_Sea': {'type': 'Sea', 'borders': {'Istanbul': 'Strait', 'Eastern_Black_Sea': 'Sea', 'Ankara': 'Coast', 'Sevastopol': 'Strait', 'Odessa': 'Coast', 'Bucharest': 'Coast', 'Sofia': 'Coast'}, 'units': [], 'obj_type': 'tile', 'visible': ['Axis', 'West', 'USSR']}, 'Sea_of_Azov': {'type': 'Sea', 'borders': {'Sevastopol': 'Strait', 'Kuban': 'Coast', 'Kharkov': 'Coast'}, 'units': [], 'obj_type': 'tile', 'visible': ['Axis', 'West', 'USSR']}, 'Archangel': {'type': 'Coast', 'alligence': 'USSR', 'res': '0', 'pop': '0', 'muster': '0', 'borders': {'Vologda': 'Forest', 'Leningrad': 'Forest', 'Murmansk': 'Forest', 'White_Sea': 'Coast'}, 'units': [], 'obj_type': 'tile', 'visible': ['Axis', 'West', 'USSR'], 'owner': 'USSR'}, 'Vologda': {'type': 'Land', 'alligence': 'USSR', 'res': '0', 'pop': '0', 'muster': '0', 'borders': {'Moscow': 'Forest', 'Gorky': 'Forest', 'Leningrad': 'Forest', 'Archangel': 'Forest'}, 'units': [], 'obj_type': 'tile', 'visible': ['Axis', 'West', 'USSR'], 'owner': 'USSR'}, 'Gorky': {'type': 'Land', 'alligence': 'USSR', 'res': '0', 'pop': '0', 'muster': '0', 'borders': {'Moscow': 'River', 'Penza': 'River', 'Perm': 'Forest', 'Vologda': 'Forest'}, 'units': [], 'obj_type': 'tile', 'visible': ['Axis', 'West', 'USSR'], 'owner': 'USSR'}, 'Perm': {'type': 'Land', 'alligence': 'USSR', 'res': '0', 'pop': '0', 'muster': '0', 'borders': {'Penza': 'River', 'Ufa': 'Plains', 'Urals': 'Mountains', 'Gorky': 'Forest'}, 'units': [], 'obj_type': 'tile', 'visible': ['Axis', 'West', 'USSR'], 'owner': 'USSR'}, 'Urals': {'type': 'Land', 'alligence': 'USSR', 'res': '1', 'pop': '1', 'muster': '2', 'borders': {'Kazakhstan': 'Mountains', 'Western_Siberia': 'Plains', 'Ufa': 'Mountains', 'Perm': 'Mountains'}, 'units': ['12400'], 'obj_type': 'tile', 'visible': ['Axis', 'West', 'USSR'], 'owner': 'USSR'}, 'Western_Siberia': {'type': 'Land', 'alligence': 'USSR', 'res': '1', 'pop': '0', 'muster': '0', 'borders': {'Kazakhstan': 'Plains', 'Urals': 'Plains'}, 'units': [], 'obj_type': 'tile', 'visible': ['Axis', 'West', 'USSR'], 'owner': 'USSR'}, 'Leningrad': {'type': 'Coast', 'alligence': 'USSR', 'res': '0', 'pop': '2', 'muster': '3', 'borders': {'Bryansk': 'Forest', 'Belorussia': 'Forest', 'Moscow': 'Forest', 'Vologda': 'Forest', 'Archangel': 'Forest', 'Murmansk': 'Forest', 'Helsinki': 'Forest', 'Gulf_of_Bothnia': 'Coast', 'Riga': 'Forest'}, 'units': ['10624', '11065'], 'obj_type': 'tile', 'visible': ['Axis', 'West', 'USSR'], 'owner': 'USSR'}, 'Moscow': {'type': 'Land', 'alligence': 'USSR', 'res': '0', 'pop': '3', 'muster': '3', 'borders': {'Voronezh': 'Plains', 'Penza': 'Plains', 'Bryansk': 'Forest', 'Leningrad': 'Forest', 'Gorky': 'River', 'Vologda': 'Forest'}, 'units': ['13753', '14208', '14665', '32753'], 'obj_type': 'tile', 'visible': ['Axis', 'West', 'USSR'], 'owner': 'USSR'}, 'Murmansk': {'type': 'Coast', 'alligence': 'USSR', 'res': '0', 'pop': '0', 'muster': '0', 'borders': {'Archangel': 'Forest', 'Leningrad': 'Forest', 'White_Sea': 'Coast', 'Barents_Sea': 'Coast', 'Helsinki': 'Forest', 'Petsamo': 'Forest'}, 'units': ['30694'], 'obj_type': 'tile', 'visible': ['Axis', 'West', 'USSR'], 'owner': 'USSR'}, 'Penza': {'type': 'Land', 'alligence': 'USSR', 'res': '0', 'pop': '0', 'muster': '0', 'borders': {'Voronezh': 'Forest', 'Ufa': 'River', 'Moscow': 'Plains', 'Gorky': 'River', 'Perm': 'River'}, 'units': [], 'obj_type': 'tile', 'visible': ['Axis', 'West', 'USSR'], 'owner': 'USSR'}, 'Ufa': {'type': 'Coast', 'alligence': 'USSR', 'res': '1', 'pop': '0', 'muster': '0', 'borders': {'Grozny': 'River', 'Stalingrad': 'River', 'Northern_Caspian_Sea': 'Coast', 'Kazakhstan': 'Plains', 'Voronezh': 'River', 'Penza': 'River', 'Perm': 'Plains', 'Urals': 'Mountains'}, 'units': ['32236'], 'obj_type': 'tile', 'visible': ['Axis', 'West', 'USSR'], 'owner': 'USSR'}, 'Kazakhstan': {'type': 'Coast', 'alligence': 'USSR', 'res': '0', 'pop': '0', 'muster': '0', 'borders': {'Turkmenistan': 'Plains', 'Northern_Caspian_Sea': 'Coast', 'Ufa': 'Plains', 'Western_Siberia': 'Plains', 'Urals': 'Mountains'}, 'units': [], 'obj_type': 'tile', 'visible': ['Axis', 'West', 'USSR'], 'owner': 'USSR'}, 'Belorussia': {'type': 'Land', 'alligence': 'USSR', 'res': '0', 'pop': '0', 'muster': '0', 'borders': {'Bryansk': 'Plains', 'Leningrad': 'Forest', 'Riga': 'Plains', 'Vilna': 'Plains'}, 'units': ['34833'], 'obj_type': 'tile', 'visible': ['Axis', 'West', 'USSR'], 'owner': 'USSR'}, 'Bryansk': {'type': 'Land', 'alligence': 'USSR', 'res': '0', 'pop': '0', 'muster': '0', 'borders': {'Kharkov': 'Plains', 'Voronezh': 'Plains', 'Belorussia': 'Plains', 'Moscow': 'Forest', 'Kiev': 'River', 'Leningrad': 'Forest'}, 'units': [], 'obj_type': 'tile', 'visible': ['Axis', 'West', 'USSR'], 'owner': 'USSR'}, 'Voronezh': {'type': 'Land', 'alligence': 'USSR', 'res': '0', 'pop': '0', 'muster': '0', 'borders': {'Stalingrad': 'Plains', 'Kharkov': 'River', 'Bryansk': 'Plains', 'Ufa': 'River', 'Moscow': 'Plains', 'Penza': 'Forest'}, 'units': [], 'obj_type': 'tile', 'visible': ['Axis', 'West', 'USSR'], 'owner': 'USSR'}, 'Stalingrad': {'type': 'Land', 'alligence': 'USSR', 'res': '0', 'pop': '1', 'muster': '2', 'borders': {'Kuban': 'Plains', 'Grozny': 'Plains', 'Ufa': 'River', 'Voronezh': 'Plains', 'Kharkov': 'River'}, 'units': ['13300'], 'obj_type': 'tile', 'visible': ['Axis', 'West', 'USSR'], 'owner': 'USSR'}, 'Grozny': {'type': 'Coast', 'alligence': 'USSR', 'res': '0', 'pop': '0', 'muster': '0', 'borders': {'Baku': 'Mountains', 'Northern_Caspian_Sea': 'Coast', 'Georgia': 'Mountains', 'Kuban': 'Plains', 'Stalingrad': 'Plains', 'Ufa': 'River'}, 'units': [], 'obj_type': 'tile', 'visible': ['Axis', 'West', 'USSR'], 'owner': 'USSR'}, 'Turkmenistan': {'type': 'Coast', 'alligence': 'USSR', 'res': '0', 'pop': '0', 'muster': '0', 'borders': {'Kabul': 'Mountains', 'Tehran': 'Mountains', 'Southern_Caspian_Sea': 'Coast', 'Northern_Caspian_Sea': 'Coast', 'Kazakhstan': 'Plains'}, 'units': [], 'obj_type': 'tile', 'visible': ['Axis', 'West', 'USSR'], 'owner': 'USSR'}, 'Kuban': {'type': 'Coast', 'alligence': 'USSR', 'res': '0', 'pop': '0', 'muster': '0', 'borders': {'Georgia': 'Mountains', 'Grozny': 'Plains', 'Eastern_Black_Sea': 'Coast', 'Sea_of_Azov': 'Coast', 'Sevastopol': 'Strait', 'Kharkov': 'River', 'Stalingrad': 'Plains'}, 'units': ['33272'], 'obj_type': 'tile', 'visible': ['Axis', 'West', 'USSR'], 'owner': 'USSR'}, 'Georgia': {'type': 'Coast', 'alligence': 'USSR', 'res': '0', 'pop': '0', 'muster': '0', 'borders': {'Baku': 'Plains', 'Tabriz': 'Mountains', 'Grozny': 'Mountains', 'Kuban': 'Mountains', 'Kars': 'Mountains', 'Eastern_Black_Sea': 'Coast'}, 'units': ['31207'], 'obj_type': 'tile', 'visible': ['Axis', 'West', 'USSR'], 'owner': 'USSR'}, 'Baku': {'type': 'Coast', 'alligence': 'USSR', 'res': '3', 'res_afr': '1', 'pop': '2', 'muster': '3', 'borders': {'Tabriz': 'Mountains', 'Southern_Caspian_Sea': 'Coast', 'Georgia': 'Plains', 'Northern_Caspian_Sea': 'Coast', 'Grozny': 'Mountains'}, 'units': ['10185', '11953'], 'obj_type': 'tile', 'visible': ['Axis', 'West', 'USSR'], 'owner': 'USSR'}, 'Kiev': {'type': 'Land', 'alligence': 'USSR', 'res': '1', 'pop': '1', 'muster': '2', 'borders': {'Odessa': 'Plains', 'Kharkov': 'River', 'Bryansk': 'River', 'Lvov': 'Plains'}, 'units': ['12849'], 'obj_type': 'tile', 'visible': ['Axis', 'West', 'USSR'], 'owner': 'USSR'}, 'Kharkov': {'type': 'Coast', 'alligence': 'USSR', 'res': '1', 'pop': '1', 'muster': '2', 'borders': {'Sea_of_Azov': 'Coast', 'Sevastopol': 'Strait', 'Odessa': 'River', 'Kiev': 'River', 'Kuban': 'River', 'Stalingrad': 'River', 'Voronezh': 'River', 'Bryansk': 'Plains'}, 'units': ['9748'], 'obj_type': 'tile', 'visible': ['Axis', 'West', 'USSR'], 'owner': 'USSR'}, 'Odessa': {'type': 'Coast', 'alligence': 'USSR', 'res': '2', 'pop': '1', 'muster': '2', 'borders': {'Kharkov': 'River', 'Western_Black_Sea': 'Coast', 'Sevastopol': 'Strait', 'Kiev': 'Plains', 'Lvov': 'Plains', 'Bucharest': 'River'}, 'units': ['11508'], 'obj_type': 'tile', 'visible': ['Axis', 'West', 'USSR'], 'owner': 'USSR'}, 'Sevastopol': {'type': 'Coast', 'alligence': 'USSR', 'res': '0', 'pop': '0', 'muster': '0', 'borders': {'Western_Black_Sea': 'Strait', 'Eastern_Black_Sea': 'Strait', 'Sea_of_Azov': 'Strait', 'Kuban': 'Strait', 'Kharkov': 'Strait', 'Odessa': 'Strait'}, 'units': [], 'obj_type': 'tile', 'visible': ['Axis', 'West', 'USSR'], 'owner': 'USSR'}, 'action_22': {'top': 'Low_Countries', 'bottom': 'Denmark', 'season': 'Summer', 'priority': 'G', 'value': '8', 'obj_type': 'action_card', 'visible': ['West'], 'owner': 'West'}, 'action_23': {'top': 'Denmark', 'bottom': 'Turkey', 'season': 'Summer', 'priority': 'H', 'value': '8', 'obj_type': 'action_card', 'visible': []}, 'action_19': {'top': 'Latin_America', 'bottom': 'USA', 'season': 'Summer', 'priority': 'D', 'value': '7', 'obj_type': 'action_card', 'visible': ['West'], 'owner': 'West'}, 'action_13': {'top': 'Romania', 'bottom': 'USA', 'season': 'Spring', 'priority': 'M', 'value': '4', 'obj_type': 'action_card', 'visible': []}, 'action_47': {'top': 'Finland', 'bottom': 'Norway', 'season': 'Fall', 'priority': 'G', 'value': '8', 'obj_type': 'action_card', 'visible': []}, 'action_1': {'top': 'Yugoslavia', 'bottom': 'Spain', 'season': 'Spring', 'priority': 'A', 'value': '4', 'obj_type': 'action_card', 'visible': []}, 'action_8': {'top': 'Austria', 'bottom': 'Poland', 'season': 'Spring', 'priority': 'H', 'value': '6', 'obj_type': 'action_card', 'visible': []}, 'action_7': {'top': 'Hungary', 'bottom': 'Yugoslavia', 'season': 'Spring', 'priority': 'G', 'value': '6', 'obj_type': 'action_card', 'visible': ['Axis'], 'owner': 'Axis'}, 'action_46': {'top': 'Greece', 'bottom': 'Latin_America', 'season': 'Fall', 'priority': 'F', 'value': '7', 'obj_type': 'action_card', 'visible': []}, 'action_26': {'top': 'Latin_America', 'bottom': 'Greece', 'season': 'Summer', 'priority': 'K', 'value': '9', 'obj_type': 'action_card', 'visible': ['Axis'], 'owner': 'Axis'}, 'action_33': {'top': 'Baltic_States', 'bottom': 'Finland', 'season': 'Summer', 'priority': 'S', 'value': '9', 'obj_type': 'action_card', 'visible': ['Axis'], 'owner': 'Axis'}, 'action_6': {'top': 'Rumania', 'bottom': 'Spain', 'season': 'Spring', 'priority': 'F', 'value': '5', 'obj_type': 'action_card', 'visible': ['Axis'], 'owner': 'Axis'}, 'action_28': {'top': 'Yugoslavia', 'bottom': 'Norway', 'season': 'Summer', 'priority': 'M', 'value': '10', 'obj_type': 'action_card', 'visible': []}, 'action_31': {'top': 'Austria', 'bottom': 'USA', 'season': 'Summer', 'priority': 'Q', 'value': '9', 'obj_type': 'action_card', 'visible': []}, 'action_21': {'top': 'Rumania', 'bottom': 'Yugoslavia', 'season': 'Summer', 'priority': 'F', 'value': '7', 'obj_type': 'action_card', 'visible': ['West'], 'owner': 'West'}, 'action_18': {'top': 'Hungary', 'bottom': 'Poland', 'season': 'Summer', 'priority': 'C', 'value': '6', 'obj_type': 'action_card', 'visible': ['Axis'], 'owner': 'Axis'}, 'action_34': {'top': 'Hungary', 'bottom': 'Yugoslavia', 'season': 'Summer', 'priority': 'T', 'value': '8', 'obj_type': 'action_card', 'visible': []}, 'action_3': {'top': 'USA', 'bottom': 'Latin_America', 'season': 'Spring', 'priority': 'C', 'value': '4', 'obj_type': 'action_card', 'visible': ['Axis'], 'owner': 'Axis'}, 'action_5': {'top': 'Czechoslovakia', 'bottom': 'Austria', 'season': 'Spring', 'priority': 'E', 'value': '5', 'obj_type': 'action_card', 'visible': []}, 'action_4': {'top': 'Portugal', 'bottom': 'Greece', 'season': 'Spring', 'priority': 'D', 'value': '5', 'obj_type': 'action_card', 'visible': ['Axis'], 'owner': 'Axis'}, 'action_43': {'top': 'Low_Countries', 'bottom': 'Afghanistan', 'season': 'Fall', 'priority': 'C', 'value': '6', 'obj_type': 'action_card', 'visible': ['USSR'], 'owner': 'USSR'}, 'action_30': {'top': 'Hungary', 'bottom': 'Greece', 'season': 'Summer', 'priority': 'P', 'value': '10', 'obj_type': 'action_card', 'visible': ['West'], 'owner': 'West'}, 'action_10': {'top': 'Bulgaria', 'bottom': 'Rumania', 'season': 'Spring', 'priority': 'J', 'value': '5', 'obj_type': 'action_card', 'visible': ['USSR'], 'owner': 'USSR'}, 'action_50': {'top': 'Greece', 'bottom': 'Turkey', 'season': 'Fall', 'priority': 'J', 'value': '7', 'obj_type': 'action_card', 'visible': []}, 'action_55': {'top': 'Persia', 'bottom': 'Turkey', 'season': 'Fall', 'priority': 'P', 'value': '6', 'obj_type': 'action_card', 'visible': []}, 'action_49': {'top': 'Low_Countries', 'bottom': 'Denmark', 'season': 'Fall', 'priority': 'I', 'value': '8', 'obj_type': 'action_card', 'visible': []}, 'action_51': {'top': 'Baltic_States', 'bottom': 'Sweden', 'season': 'Fall', 'priority': 'K', 'value': '7', 'obj_type': 'action_card', 'visible': []}, 'action_53': {'top': 'Bulgaria', 'bottom': 'Greece', 'season': 'Fall', 'priority': 'M', 'value': '6', 'obj_type': 'action_card', 'visible': ['USSR'], 'owner': 'USSR'}, 'action_29': {'top': 'Czechoslovakia', 'bottom': 'Yugoslavia', 'season': 'Summer', 'priority': 'N', 'value': '10', 'obj_type': 'action_card', 'visible': ['West'], 'owner': 'West'}, 'action_37': {'top': 'Bulgaria', 'bottom': 'Austria', 'season': 'Summer', 'priority': 'W', 'value': '7', 'obj_type': 'action_card', 'visible': ['Axis'], 'owner': 'Axis'}, 'action_14': {'top': 'Portugal', 'bottom': 'Hungary', 'season': 'Spring', 'priority': 'N', 'value': '4', 'obj_type': 'action_card', 'visible': ['USSR'], 'owner': 'USSR'}, 'action_32': {'top': 'Czechoslovakia', 'bottom': 'Bulgaria', 'season': 'Summer', 'priority': 'R', 'value': '9', 'obj_type': 'action_card', 'visible': []}, 'action_27': {'top': 'Finland', 'bottom': 'Low_Countries', 'season': 'Summer', 'priority': 'L', 'value': '9', 'obj_type': 'action_card', 'visible': ['West'], 'owner': 'West'}, 'action_25': {'top': 'USA', 'bottom': 'Sweden', 'season': 'Summer', 'priority': 'J', 'value': '9', 'obj_type': 'action_card', 'visible': ['Axis'], 'owner': 'Axis'}, 'action_41': {'top': 'Afghanistan', 'bottom': 'Hungary', 'season': 'Fall', 'priority': 'A', 'value': '6', 'obj_type': 'action_card', 'visible': []}, 'action_11': {'top': 'Austria', 'bottom': 'Afghanistan', 'season': 'Spring', 'priority': 'K', 'value': '5', 'obj_type': 'action_card', 'visible': []}, 'action_54': {'top': 'Finland', 'bottom': 'Czechoslovakia', 'season': 'Fall', 'priority': 'N', 'value': '6', 'obj_type': 'action_card', 'visible': []}, 'action_16': {'top': 'Czechoslovakia', 'bottom': 'Spain', 'season': 'Summer', 'priority': 'A', 'value': '6', 'obj_type': 'action_card', 'visible': []}, 'action_39': {'top': 'Rumania', 'bottom': 'Persia', 'season': 'Summer', 'priority': 'Y', 'value': '6', 'obj_type': 'action_card', 'visible': []}, 'action_40': {'top': 'Spain', 'bottom': 'Poland', 'season': 'Summer', 'priority': 'Z', 'value': '6', 'obj_type': 'action_card', 'visible': ['Axis'], 'owner': 'Axis'}, 'action_52': {'top': 'Norway', 'bottom': 'Sweden', 'season': 'Fall', 'priority': 'L', 'value': '7', 'obj_type': 'action_card', 'visible': ['USSR'], 'owner': 'USSR'}, 'action_38': {'top': 'Austria', 'bottom': 'Latin_America', 'season': 'Summer', 'priority': 'X', 'value': '7', 'obj_type': 'action_card', 'visible': ['Axis'], 'owner': 'Axis'}, 'action_36': {'top': 'Czechoslovakia', 'bottom': 'Portugal', 'season': 'Summer', 'priority': 'V', 'value': '8', 'obj_type': 'action_card', 'visible': ['Axis'], 'owner': 'Axis'}, 'action_20': {'wildcard': 'Ties_that_Bind', 'season': 'Summer', 'priority': 'E', 'value': '7', 'obj_type': 'action_card', 'visible': ['Axis'], 'owner': 'Axis'}, 'action_9': {'wildcard': 'Ethnic_Ties', 'season': 'Spring', 'priority': 'I', 'value': '6', 'obj_type': 'action_card', 'visible': []}, 'action_12': {'wildcard': 'Birds_of_a_Feather_1', 'season': 'Spring', 'priority': 'L', 'value': '5', 'obj_type': 'action_card', 'visible': []}, 'action_17': {'wildcard': 'Foreign_Aid', 'season': 'Summer', 'priority': 'B', 'value': '6', 'obj_type': 'action_card', 'visible': []}, 'action_44': {'wildcard': 'Brothers_in_Arms', 'season': 'Fall', 'priority': 'D', 'value': '7', 'obj_type': 'action_card', 'visible': ['West'], 'owner': 'West'}, 'action_45': {'wildcard': 'Birds_of_a_Feather_2', 'season': 'Fall', 'priority': 'E', 'value': '7', 'obj_type': 'action_card', 'visible': ['USSR'], 'owner': 'USSR'}, 'action_35': {'wildcard': 'Isolationism', 'season': 'Summer', 'priority': 'U', 'value': '8', 'obj_type': 'action_card', 'visible': []}, 'action_2': {'wildcard': 'Fear_&_Loathing', 'season': 'Spring', 'priority': 'B', 'value': '4', 'obj_type': 'action_card', 'visible': []}, 'action_42': {'wildcard': 'Guarantee', 'season': 'Fall', 'priority': 'B', 'value': '6', 'obj_type': 'action_card', 'visible': []}, 'action_48': {'wildcard': 'Isolationism', 'season': 'Fall', 'priority': 'H', 'value': '8', 'obj_type': 'action_card', 'visible': ['Axis'], 'owner': 'Axis'}, 'action_24': {'wildcard': 'Versailles', 'season': 'Summer', 'priority': 'I', 'value': '8', 'obj_type': 'action_card', 'visible': ['West'], 'owner': 'West'}, 'action_15': {'wildcard': 'Intimidation', 'season': 'Spring', 'priority': 'P', 'value': '4', 'obj_type': 'action_card', 'visible': []}, 'invest_47': {'top': 'Naval_Radar', 'bottom': 'Sonar', 'value': '1', 'obj_type': 'investment_card', 'visible': []}, 'invest_44': {'top': 'Industrial_Espionage', 'bottom': 'Precision_Bombsight', 'value': '3', 'obj_type': 'investment_card', 'visible': []}, 'invest_21': {'top': 'AirDefense_Radar', 'bottom': 'Industrial_Espionage', 'value': '2', 'obj_type': 'investment_card', 'visible': []}, 'invest_22': {'top': 'Atomic_Research_2', 'bottom': 'Industrial_Espionage', 'value': '3', 'obj_type': 'investment_card', 'visible': []}, 'invest_49': {'top': 'AirDefense_Radar', 'bottom': 'Heavy_Tanks', 'value': '2', 'obj_type': 'investment_card', 'visible': []}, 'invest_55': {'top': 'Atomic_Research_4', 'bottom': 'Jets', 'value': '4', 'obj_type': 'investment_card', 'visible': []}, 'invest_26': {'top': 'Precision_Bombsights', 'bottom': 'Industrial_Espionage', 'value': '3', 'obj_type': 'investment_card', 'visible': []}, 'invest_51': {'top': 'Motorized_Infantry', 'bottom': 'LSTs', 'value': '3', 'obj_type': 'investment_card', 'visible': []}, 'invest_13': {'top': 'Jets', 'bottom': 'Heavy_Bombers', 'value': '4', 'obj_type': 'investment_card', 'visible': []}, 'invest_7': {'top': 'AirDefense_Radar', 'bottom': 'Sonar', 'value': '1', 'obj_type': 'investment_card', 'visible': []}, 'invest_25': {'top': 'Precision_Bombsights', 'bottom': 'Rocket_Artillery', 'value': '3', 'obj_type': 'investment_card', 'visible': ['Axis'], 'owner': 'Axis'}, 'invest_29': {'top': 'Precision_Bombsights', 'bottom': 'Heavy_Bombers', 'value': '3', 'obj_type': 'investment_card', 'visible': []}, 'invest_9': {'top': 'Sonar', 'bottom': 'Rocket_Arillery', 'value': '2', 'obj_type': 'investment_card', 'visible': []}, 'invest_30': {'top': 'Motorized_Infantry', 'bottom': 'LSTs', 'value': '3', 'obj_type': 'investment_card', 'visible': []}, 'invest_52': {'top': 'Industrial_Espionage', 'bottom': 'Heavy_Bombers', 'value': '2', 'obj_type': 'investment_card', 'visible': []}, 'invest_43': {'top': 'Jets', 'bottom': 'Heavy_Tanks', 'value': '3', 'obj_type': 'investment_card', 'visible': []}, 'invest_18': {'top': 'Atomic_Research_1', 'bottom': 'Precision_Bombsights', 'value': '3', 'obj_type': 'investment_card', 'visible': []}, 'invest_53': {'top': 'Atomic_Research_3', 'bottom': 'Motorized_Infantry', 'value': '3', 'obj_type': 'investment_card', 'visible': []}, 'invest_50': {'top': 'Sonar', 'bottom': 'Naval_Radar', 'value': '2', 'obj_type': 'investment_card', 'visible': []}, 'invest_16': {'top': 'Atomic_Research_3', 'bottom': 'LSTs', 'value': '4', 'obj_type': 'investment_card', 'visible': []}, 'invest_46': {'top': 'Atomic_Research_2', 'bottom': 'AirDefense_Radar', 'value': '2', 'obj_type': 'investment_card', 'visible': []}, 'invest_10': {'top': 'Heavy_Tanks', 'bottom': 'Naval_Radar', 'value': '2', 'obj_type': 'investment_card', 'visible': []}, 'invest_28': {'top': 'Precision_Bombsights', 'bottom': 'Atomic_Research_1', 'value': '2', 'obj_type': 'investment_card', 'visible': []}, 'invest_48': {'top': 'Rocket_Artillery', 'bottom': 'Heavy_Tanks', 'value': '3', 'obj_type': 'investment_card', 'visible': []}, 'invest_45': {'top': 'Sonar', 'bottom': 'Naval_Radar', 'value': '1', 'obj_type': 'investment_card', 'visible': []}, 'invest_1': {'top': 'Heavy_Tanks', 'bottom': 'AirDefense_Radar', 'value': '2', 'obj_type': 'investment_card', 'visible': []}, 'invest_8': {'top': 'Naval_Radar', 'bottom': 'Sonar', 'value': '2', 'obj_type': 'investment_card', 'visible': []}, 'invest_4': {'top': 'AirDefense_Radar', 'bottom': 'Sonar', 'value': '1', 'obj_type': 'investment_card', 'visible': []}, 'invest_6': {'top': 'Rocket_Artillery', 'bottom': 'AirDefense_Radar', 'value': '3', 'obj_type': 'investment_card', 'visible': []}, 'invest_54': {'top': 'Heavy_Bombers', 'bottom': 'LSTs', 'value': '3', 'obj_type': 'investment_card', 'visible': []}, 'invest_5': {'top': 'Sonar', 'bottom': 'Naval_Radar', 'value': '1', 'obj_type': 'investment_card', 'visible': []}, 'invest_11': {'top': 'Motorized_Infantry', 'bottom': 'LSTs', 'value': '3', 'obj_type': 'investment_card', 'visible': []}, 'invest_23': {'top': 'Atomic_Research_1', 'bottom': 'Precision_Bombsights', 'value': '2', 'obj_type': 'investment_card', 'visible': []}, 'invest_2': {'top': 'Rocket_Artillery', 'bottom': 'Heavy_Tanks', 'value': '3', 'obj_type': 'investment_card', 'visible': []}, 'invest_42': {'top': 'Atomic_Research_1', 'bottom': 'Sonar', 'value': '2', 'obj_type': 'investment_card', 'visible': []}, 'invest_41': {'top': 'Naval_Radar', 'bottom': 'AirDefense_Radar', 'value': '1', 'obj_type': 'investment_card', 'visible': []}, 'invest_12': {'top': 'LSTs', 'bottom': 'Heavy_Bombers', 'value': '3', 'obj_type': 'investment_card', 'visible': []}, 'invest_17': {'top': 'Atomic_Research_4', 'bottom': 'Heavy_Bombers', 'value': '4', 'obj_type': 'investment_card', 'visible': []}, 'invest_27': {'top': 'Atomic_Research_2', 'bottom': 'Motorized_Infantry', 'value': '3', 'obj_type': 'investment_card', 'visible': []}, 'invest_15': {'top': 'Motorized_Infantry', 'bottom': 'Jets', 'value': '3', 'obj_type': 'investment_card', 'visible': []}, 'invest_38': {'intelligence': 'Coup', 'value': '4', 'obj_type': 'investment_card', 'visible': []}, 'invest_39': {'intelligence': 'Spy_Ring', 'value': '2', 'obj_type': 'investment_card', 'visible': []}, 'invest_34': {'intelligence': 'Spy_Ring', 'value': '3', 'obj_type': 'investment_card', 'visible': []}, 'invest_33': {'intelligence': 'Sabotage', 'value': '3', 'obj_type': 'investment_card', 'visible': []}, 'invest_32': {'intelligence': 'Agent', 'value': '2', 'obj_type': 'investment_card', 'visible': []}, 'invest_40': {'intelligence': 'Code_Break', 'value': '2', 'obj_type': 'investment_card', 'visible': []}, 'invest_37': {'intelligence': 'Agent', 'value': '1', 'obj_type': 'investment_card', 'visible': []}, 'invest_36': {'intelligence': 'Double_Agent', 'value': '4', 'obj_type': 'investment_card', 'visible': []}, 'invest_31': {'intelligence': 'Mole', 'value': '3', 'obj_type': 'investment_card', 'visible': []}, 'invest_35': {'intelligence': 'Code_Break', 'value': '1', 'obj_type': 'investment_card', 'visible': []}, 'invest_14': {'value': '1', 'science': ['Sonar', 'Naval_Radar', 'Heavy_Tanks', 'AirDefense_Radar', 'Motorized_Infantry', 'Atomic_Research_1'], 'year': '1938', 'obj_type': 'investment_card', 'visible': []}, 'invest_24': {'value': '3', 'science': ['LSTs', 'Heavy_Tanks', 'AirDefense_Radar', 'Rocket_Artillery', 'Precision_Bombsights', 'Atomic_Research_3'], 'year': '1942', 'obj_type': 'investment_card', 'visible': []}, 'invest_19': {'value': '2', 'science': ['Sonar', 'Naval_Radar', 'Heavy_Bombers', 'Rocket_Artillery', 'Precision_Bombsights', 'Atomic_Research_2'], 'year': '1940', 'obj_type': 'investment_card', 'visible': []}, 'invest_3': {'value': '1', 'science': ['Sonar', 'Naval_Radar', 'Heavy_Tanks', 'AirDefense_Radar', 'Motorized_Infantry', 'Atomic_Research_1'], 'year': '1938', 'obj_type': 'investment_card', 'visible': []}, 'invest_20': {'value': '4', 'science': ['LSTs', 'Jets', 'Heavy_Bombers', 'Precision_Bombsights', 'Atomic_Research_3', 'Atomic_Research_4'], 'year': '1944', 'obj_type': 'investment_card', 'visible': []}, '246': {'nationality': 'Britain', 'tile': 'London', 'type': 'Fleet', 'cv': '4', 'obj_type': 'unit', 'visible': ['West']}, '247': {'nationality': 'Britain', 'tile': 'Gibraltar', 'type': 'Fortress', 'cv': '1', 'obj_type': 'unit', 'visible': ['West']}, '248': {'nationality': 'Britain', 'tile': 'Karachi', 'type': 'Fortress', 'cv': '1', 'obj_type': 'unit', 'visible': ['West']}, '249': {'nationality': 'France', 'tile': 'Lorraine', 'type': 'Fortress', 'cv': '3', 'obj_type': 'unit', 'visible': ['West']}, '640': {'nationality': 'Italy', 'tile': 'Rome', 'type': 'Infantry', 'obj_type': 'unit', 'cv': '1', 'visible': ['Axis']}, '1033': {'nationality': 'Italy', 'tile': 'Tripoli', 'type': 'Tank', 'obj_type': 'unit', 'cv': '1', 'visible': ['Axis']}, '1428': {'nationality': 'Germany', 'tile': 'Ruhr', 'type': 'Submarine', 'obj_type': 'unit', 'cv': '2', 'visible': ['Axis']}, '1825': {'nationality': 'Italy', 'tile': 'Milan', 'type': 'Submarine', 'obj_type': 'unit', 'cv': '1', 'visible': ['Axis']}, '2224': {'nationality': 'Italy', 'tile': 'Rome', 'type': 'Submarine', 'obj_type': 'unit', 'cv': '2', 'visible': ['Axis']}, '2625': {'nationality': 'Germany', 'tile': 'Berlin', 'type': 'Infantry', 'obj_type': 'unit', 'cv': '1', 'visible': ['Axis']}, '3028': {'nationality': 'Italy', 'tile': 'Rome', 'type': 'AirForce', 'obj_type': 'unit', 'cv': '1', 'visible': ['Axis']}, '3433': {'nationality': 'Germany', 'tile': 'Berlin', 'type': 'Carrier', 'obj_type': 'unit', 'cv': '1', 'visible': ['Axis']}, '3840': {'nationality': 'Germany', 'tile': 'Berlin', 'type': 'Fortress', 'obj_type': 'unit', 'cv': '1', 'visible': ['Axis']}, '4249': {'nationality': 'Italy', 'tile': 'Rome', 'type': 'Tank', 'obj_type': 'unit', 'cv': '1', 'visible': ['Axis']}, '4660': {'nationality': 'Germany', 'tile': 'Berlin', 'type': 'Tank', 'obj_type': 'unit', 'cv': '1', 'visible': ['Axis']}, '5073': {'nationality': 'Germany', 'tile': 'Berlin', 'type': 'Fleet', 'obj_type': 'unit', 'cv': '1', 'visible': ['Axis']}, '5488': {'nationality': 'Germany', 'tile': 'Munich', 'type': 'Tank', 'obj_type': 'unit', 'cv': '1', 'visible': ['Axis']}, '5905': {'nationality': 'Germany', 'tile': 'Berlin', 'type': 'Infantry', 'obj_type': 'unit', 'cv': '1', 'visible': ['Axis']}, '6324': {'nationality': 'Germany', 'tile': 'Ruhr', 'type': 'Fleet', 'obj_type': 'unit', 'cv': '1', 'visible': ['Axis']}, '6745': {'nationality': 'Germany', 'tile': 'Ruhr', 'type': 'Submarine', 'obj_type': 'unit', 'cv': '1', 'visible': ['Axis']}, '7168': {'nationality': 'Italy', 'tile': 'Milan', 'type': 'AirForce', 'obj_type': 'unit', 'cv': '1', 'visible': ['Axis']}, '7593': {'nationality': 'Germany', 'tile': 'Munich', 'type': 'Fortress', 'obj_type': 'unit', 'cv': '1', 'visible': ['Axis']}, '8020': {'nationality': 'Italy', 'tile': 'Tripoli', 'type': 'AirForce', 'obj_type': 'unit', 'cv': '1', 'visible': ['Axis']}, '8449': {'nationality': 'Germany', 'tile': 'Ruhr', 'type': 'Carrier', 'obj_type': 'unit', 'cv': '1', 'visible': ['Axis']}, '8880': {'nationality': 'Germany', 'tile': 'Konigsberg', 'type': 'Fleet', 'obj_type': 'unit', 'cv': '1', 'visible': ['Axis']}, '9313': {'nationality': 'Germany', 'tile': 'Konigsberg', 'type': 'Fleet', 'obj_type': 'unit', 'cv': '1', 'visible': ['Axis']}, '9748': {'nationality': 'USSR', 'tile': 'Kharkov', 'type': 'Carrier', 'obj_type': 'unit', 'cv': '1', 'visible': ['USSR']}, '10185': {'nationality': 'USSR', 'tile': 'Baku', 'type': 'Tank', 'obj_type': 'unit', 'cv': '1', 'visible': ['USSR']}, '10624': {'nationality': 'USSR', 'tile': 'Leningrad', 'type': 'Tank', 'obj_type': 'unit', 'cv': '1', 'visible': ['USSR']}, '11065': {'nationality': 'USSR', 'tile': 'Leningrad', 'type': 'Fortress', 'obj_type': 'unit', 'cv': '1', 'visible': ['USSR']}, '11508': {'nationality': 'USSR', 'tile': 'Odessa', 'type': 'Tank', 'obj_type': 'unit', 'cv': '2', 'visible': ['USSR']}, '11953': {'nationality': 'USSR', 'tile': 'Baku', 'type': 'Infantry', 'obj_type': 'unit', 'cv': '1', 'visible': ['USSR']}, '12400': {'nationality': 'USSR', 'tile': 'Urals', 'type': 'Tank', 'obj_type': 'unit', 'cv': '2', 'visible': ['USSR']}, '12849': {'nationality': 'USSR', 'tile': 'Kiev', 'type': 'Tank', 'obj_type': 'unit', 'cv': '1', 'visible': ['USSR']}, '13300': {'nationality': 'USSR', 'tile': 'Stalingrad', 'type': 'AirForce', 'obj_type': 'unit', 'cv': '2', 'visible': ['USSR']}, '13753': {'nationality': 'USSR', 'tile': 'Moscow', 'type': 'AirForce', 'obj_type': 'unit', 'cv': '1', 'visible': ['USSR']}, '14208': {'nationality': 'USSR', 'tile': 'Moscow', 'type': 'AirForce', 'obj_type': 'unit', 'cv': '1', 'visible': ['USSR']}, '14665': {'nationality': 'USSR', 'tile': 'Moscow', 'type': 'Tank', 'obj_type': 'unit', 'cv': '1', 'visible': ['USSR']}, '15124': {'nationality': 'France', 'tile': 'Paris', 'type': 'Fleet', 'obj_type': 'unit', 'cv': '1', 'visible': ['West']}, '15585': {'nationality': 'Britain', 'tile': 'London', 'type': 'Carrier', 'obj_type': 'unit', 'cv': '1', 'visible': ['West']}, '16048': {'nationality': 'France', 'tile': 'Marseille', 'type': 'AirForce', 'obj_type': 'unit', 'cv': '1', 'visible': ['West']}, '16513': {'nationality': 'Britain', 'tile': 'Delhi', 'type': 'Tank', 'obj_type': 'unit', 'cv': '1', 'visible': ['West']}, '16980': {'nationality': 'France', 'tile': 'Paris', 'type': 'Infantry', 'obj_type': 'unit', 'cv': '1', 'visible': ['West']}, '17449': {'nationality': 'France', 'tile': 'Algiers', 'type': 'Carrier', 'obj_type': 'unit', 'cv': '1', 'visible': ['West']}, '17920': {'nationality': 'Britain', 'tile': 'Suez', 'type': 'Carrier', 'obj_type': 'unit', 'cv': '1', 'visible': ['West']}, '18393': {'nationality': 'Britain', 'tile': 'London', 'type': 'Fortress', 'obj_type': 'unit', 'cv': '2', 'visible': ['West']}, '18868': {'nationality': 'Britain', 'tile': 'London', 'type': 'Tank', 'obj_type': 'unit', 'cv': '1', 'visible': ['West']}, '19345': {'nationality': 'Britain', 'tile': 'Glasgow', 'type': 'Fleet', 'obj_type': 'unit', 'cv': '1', 'visible': ['West']}, '19824': {'nationality': 'Britain', 'tile': 'Bombay', 'type': 'Fortress', 'obj_type': 'unit', 'cv': '1', 'visible': ['West']}, '20305': {'nationality': 'Britain', 'tile': 'Delhi', 'type': 'AirForce', 'obj_type': 'unit', 'cv': '1', 'visible': ['West']}, '22234': {'nationality': 'Germany', 'tile': 'Ruhr', 'type': 'Submarine', 'obj_type': 'unit', 'cv': '1', 'visible': ['Axis']}, '22719': {'nationality': 'Italy', 'tile': 'Venice', 'type': 'Fortress', 'obj_type': 'unit', 'cv': '1', 'visible': ['Axis']}, '23692': {'nationality': 'Italy', 'tile': 'Taranto', 'type': 'Fleet', 'obj_type': 'unit', 'cv': '1', 'visible': ['Axis']}, '24181': {'nationality': 'Italy', 'tile': 'Taranto', 'type': 'Fleet', 'obj_type': 'unit', 'cv': '1', 'visible': ['Axis']}, '24672': {'nationality': 'Germany', 'tile': 'Ruhr', 'type': 'Fleet', 'obj_type': 'unit', 'cv': '1', 'visible': ['Axis']}, '25657': {'nationality': 'Italy', 'tile': 'Cyrenaica', 'type': 'Fortress', 'obj_type': 'unit', 'cv': '1', 'visible': ['Axis']}, '26152': {'nationality': 'Germany', 'tile': 'Berlin', 'type': 'AirForce', 'obj_type': 'unit', 'cv': '1', 'visible': ['Axis']}, '26649': {'nationality': 'Italy', 'tile': 'Venice', 'type': 'Carrier', 'obj_type': 'unit', 'cv': '1', 'visible': ['Axis']}, '27148': {'nationality': 'France', 'tile': 'Gascony', 'type': 'Fleet', 'obj_type': 'unit', 'cv': '1', 'visible': ['West']}, '27649': {'nationality': 'France', 'tile': 'Marseille', 'type': 'Tank', 'obj_type': 'unit', 'cv': '1', 'visible': ['West']}, '28152': {'nationality': 'France', 'tile': 'Gascony', 'type': 'AirForce', 'obj_type': 'unit', 'cv': '1', 'visible': ['West']}, '28657': {'nationality': 'Britain', 'tile': 'Sudan', 'type': 'Fortress', 'obj_type': 'unit', 'cv': '1', 'visible': ['West']}, '29164': {'nationality': 'Britain', 'tile': 'Glasgow', 'type': 'Fleet', 'obj_type': 'unit', 'cv': '1', 'visible': ['West']}, '29673': {'nationality': 'Britain', 'tile': 'Ottawa', 'type': 'Fortress', 'obj_type': 'unit', 'cv': '1', 'visible': ['West']}, '30694': {'nationality': 'USSR', 'tile': 'Murmansk', 'type': 'Submarine', 'obj_type': 'unit', 'cv': '1', 'visible': ['USSR']}, '31207': {'nationality': 'USSR', 'tile': 'Georgia', 'type': 'Fleet', 'obj_type': 'unit', 'cv': '1', 'visible': ['USSR']}, '32236': {'nationality': 'USSR', 'tile': 'Ufa', 'type': 'AirForce', 'obj_type': 'unit', 'cv': '1', 'visible': ['USSR']}, '32753': {'nationality': 'USSR', 'tile': 'Moscow', 'type': 'Fortress', 'obj_type': 'unit', 'cv': '1', 'visible': ['USSR']}, '33272': {'nationality': 'USSR', 'tile': 'Kuban', 'type': 'Fleet', 'obj_type': 'unit', 'cv': '1', 'visible': ['USSR']}, '34833': {'nationality': 'USSR', 'tile': 'Belorussia', 'type': 'AirForce', 'obj_type': 'unit', 'cv': '1', 'visible': ['USSR']}}, 'created': {'34833': {'nationality': 'USSR', 'tile': 'Belorussia', 'type': 'AirForce', 'obj_type': 'unit', 'cv': '1', 'visible': ['USSR']}}, 'updated': {'Belorussia': {'type': 'Land', 'alligence': 'USSR', 'res': '0', 'pop': '0', 'muster': '0', 'borders': {'Bryansk': 'Plains', 'Leningrad': 'Forest', 'Riga': 'Plains', 'Vilna': 'Plains'}, 'units': ['34833'], 'obj_type': 'tile', 'visible': ['Axis', 'West', 'USSR'], 'owner': 'USSR'}}, 'removed': {}}, 'tiles': {'Ottawa': {'type': 'Coast', 'alligence': 'Canada', 'res': '1', 'pop': '0', 'muster': '1', 'borders': {'North_Atlantic_Ocean': 'Coast', 'New_York': 'Forest'}, 'units': ['29673'], 'obj_type': 'tile', 'visible': ['Axis', 'West', 'USSR'], 'owner': 'West'}, 'New_York': {'type': 'Coast', 'alligence': 'USA', 'res': '2', 'pop': '1', 'muster': '2', 'borders': {'Ottawa': 'Forest', 'North_Atlantic_Ocean': 'Coast', 'Washington': 'Plains'}, 'units': [], 'obj_type': 'tile', 'visible': ['Axis', 'West', 'USSR']}, 'Washington': {'type': 'Coast', 'alligence': 'USA', 'res': '2', 'pop': '2', 'muster': '3', 'borders': {'New_York': 'Plains', 'North_Atlantic_Ocean': 'Coast'}, 'units': [], 'obj_type': 'tile', 'visible': ['Axis', 'West', 'USSR']}, 'Irish_Sea': {'type': 'Sea', 'borders': {'Irminger_Sea': 'Sea', 'North_Atlantic_Ocean': 'Ocean', 'Bay_of_Biscay': 'Sea', 'Norwegian_Sea': 'Sea', 'English_Channel': 'Sea', 'London': 'Coast', 'Glasgow': 'Coast', 'Dublin': 'Coast', 'Iceland': 'Coast'}, 'units': [], 'obj_type': 'tile', 'visible': ['Axis', 'West', 'USSR']}, 'North_Atlantic_Ocean': {'type': 'Ocean', 'borders': {'Ottawa': 'Coast', 'New_York': 'Coast', 'Washington': 'Coast', 'Irminger_Sea': 'Ocean', 'Irish_Sea': 'Ocean', 'Bay_of_Biscay': 'Ocean', 'Azores': 'Strait', 'Mid_Atlantic_Ocean': 'Ocean'}, 'units': [], 'obj_type': 'tile', 'visible': ['Axis', 'West', 'USSR']}, 'Mid_Atlantic_Ocean': {'type': 'Ocean', 'borders': {'North_Atlantic_Ocean': 'Ocean', 'Azores': 'Strait', 'South_Atlantic_Ocean': 'Ocean', 'Rio_de_Janeiro': 'Coast', 'Madeira_Sea': 'Ocean', 'Dakar': 'Coast', 'Morocco': 'Coast'}, 'units': [], 'obj_type': 'tile', 'visible': ['Axis', 'West', 'USSR']}, 'South_Atlantic_Ocean': {'type': 'Ocean', 'borders': {'Mid_Atlantic_Ocean': 'Ocean', 'Rio_de_Janeiro': 'Coast', 'Dakar': 'Coast', 'West_Indian_Ocean': 'Ocean-Africa'}, 'units': [], 'obj_type': 'tile', 'visible': ['Axis', 'West', 'USSR']}, 'Rio_de_Janeiro': {'type': 'Coast', 'alligence': 'Latin_America', 'res': '2', 'pop': '0', 'muster': '1', 'borders': {'South_Atlantic_Ocean': 'Coast', 'Mid_Atlantic_Ocean': 'Coast'}, 'units': [], 'obj_type': 'tile', 'visible': ['Axis', 'West', 'USSR']}, 'Dakar': {'type': 'Coast', 'alligence': 'French_North_Africa', 'res': '0', 'pop': '0', 'muster': '0', 'borders': {'South_Atlantic_Ocean': 'Coast', 'Mid_Atlantic_Ocean': 'Coast', 'Morocco': 'Plains'}, 'units': [], 'obj_type': 'tile', 'visible': ['Axis', 'West', 'USSR'], 'owner': 'West'}, 'Morocco': {'type': 'Coast', 'alligence': 'French_North_Africa', 'res': '0', 'pop': '0', 'muster': '0', 'borders': {'Mid_Atlantic_Ocean': 'Coast', 'Dakar': 'Plains', 'Madeira_Sea': 'Coast', 'Gibraltar': 'Strait', 'Algiers': 'Mountains'}, 'units': [], 'obj_type': 'tile', 'visible': ['Axis', 'West', 'USSR'], 'owner': 'West'}, 'Algiers': {'type': 'Coast', 'alligence': 'French_North_Africa', 'res': '0', 'pop': '1', 'muster': '2', 'borders': {'Gibraltar': 'Strait', 'Morocco': 'Mountains', 'Tunisia': 'Mountains', 'Western_Mediterranean': 'Coast'}, 'units': ['17449'], 'obj_type': 'tile', 'visible': ['Axis', 'West', 'USSR'], 'owner': 'West'}, 'Tunisia': {'type': 'Coast', 'alligence': 'French_North_Africa', 'res': '0', 'pop': '0', 'muster': '0', 'borders': {'Algiers': 'Mountains', 'Western_Mediterranean': 'Coast', 'Sfax': 'Mountains', 'Malta': 'Strait'}, 'units': [], 'obj_type': 'tile', 'visible': ['Axis', 'West', 'USSR'], 'owner': 'West'}, 'Sfax': {'type': 'Land', 'alligence': 'French_North_Africa', 'res': '0', 'pop': '0', 'muster': '0', 'borders': {'Tunisia': 'Mountains', 'Tripoli': 'Mountains', 'Malta': 'Strait'}, 'units': [], 'obj_type': 'tile', 'visible': ['Axis', 'West', 'USSR'], 'owner': 'West'}, 'Gibraltar': {'type': 'Coast', 'alligence': 'Gibraltar', 'res': '0', 'pop': '0', 'muster': '1', 'borders': {'Madeira_Sea': 'Strait', 'Morocco': 'Strait', 'Algiers': 'Strait', 'Madrid': 'Strait', 'Western_Mediterranean': 'Strait', 'Barcelona': 'Strait'}, 'units': ['247'], 'obj_type': 'tile', 'visible': ['Axis', 'West', 'USSR'], 'owner': 'West'}, 'Madeira_Sea': {'type': 'Sea', 'borders': {'Mid_Atlantic_Ocean': 'Ocean', 'Bay_of_Biscay': 'Sea', 'Azores': 'Strait', 'Morocco': 'Coast', 'Gibraltar': 'Strait', 'Lisbon': 'Coast', 'Leon': 'Coast'}, 'units': [], 'obj_type': 'tile', 'visible': ['Axis', 'West', 'USSR']}, 'Lisbon': {'type': 'Coast', 'alligence': 'Portugal', 'res': '1', 'pop': '0', 'muster': '1', 'borders': {'Madrid': 'Plains', 'Madeira_Sea': 'Coast', 'Leon': 'Plains'}, 'units': [], 'obj_type': 'tile', 'visible': ['Axis', 'West', 'USSR']}, 'Madrid': {'type': 'Land', 'alligence': 'Spain', 'res': '0', 'pop': '1', 'muster': '3', 'borders': {'Gibraltar': 'Strait', 'Lisbon': 'Plains', 'Leon': 'Coast', 'Barcelona': 'Plains'}, 'units': [], 'obj_type': 'tile', 'visible': ['Axis', 'West', 'USSR']}, 'Leon': {'type': 'Coast', 'alligence': 'Spain', 'res': '0', 'pop': '0', 'muster': '0', 'borders': {'Lisbon': 'Plains', 'Madeira_Sea': 'Coast', 'Bay_of_Biscay': 'Coast', 'Madrid': 'Coast', 'Barcelona': 'Plains', 'Gascony': 'Mountains'}, 'units': [], 'obj_type': 'tile', 'visible': ['Axis', 'West', 'USSR']}, 'Barcelona': {'type': 'Coast', 'alligence': 'Spain', 'res': '0', 'pop': '1', 'muster': '0', 'borders': {'Gibraltar': 'Strait', 'Madrid': 'Plains', 'Leon': 'Plains', 'Western_Mediterranean': 'Coast', 'Gascony': 'Mountains', 'Marseille': 'Mountains'}, 'units': [], 'obj_type': 'tile', 'visible': ['Axis', 'West', 'USSR']}, 'Azores': {'type': 'Coast', 'alligence': 'Portugal', 'res': '0', 'pop': '0', 'muster': '0', 'borders': {'North_Atlantic_Ocean': 'Strait', 'Mid_Atlantic_Ocean': 'Strait', 'Madeira_Sea': 'Strait', 'Bay_of_Biscay': 'Strait'}, 'units': [], 'obj_type': 'tile', 'visible': ['Axis', 'West', 'USSR']}, 'Bay_of_Biscay': {'type': 'Sea', 'borders': {'North_Atlantic_Ocean': 'Ocean', 'Madeira_Sea': 'Sea', 'Azores': 'Strait', 'Irish_Sea': 'Sea', 'English_Channel': 'Sea', 'Leon': 'Coast', 'Paris': 'Coast', 'Gascony': 'Coast'}, 'units': [], 'obj_type': 'tile', 'visible': ['Axis', 'West', 'USSR']}, 'Dublin': {'type': 'Coast', 'alligence': 'Ireland', 'res': '0', 'pop': '0', 'muster': '1', 'borders': {'Irish_Sea': 'Coast'}, 'units': [], 'obj_type': 'tile', 'visible': ['Axis', 'West', 'USSR']}, 'Irminger_Sea': {'type': 'Sea', 'borders': {'North_Atlantic_Ocean': 'Ocean', 'Irish_Sea': 'Sea', 'Iceland': 'Coast', 'Greenland_Sea': 'Sea'}, 'units': [], 'obj_type': 'tile', 'visible': ['Axis', 'West', 'USSR']}, 'Iceland': {'type': 'Coast', 'alligence': 'Denmark', 'res': '0', 'pop': '0', 'muster': '0', 'borders': {'Irminger_Sea': 'Coast', 'Greenland_Sea': 'Coast', 'Norwegian_Sea': 'Coast', 'Irish_Sea': 'Coast'}, 'units': [], 'obj_type': 'tile', 'visible': ['Axis', 'West', 'USSR']}, 'Greenland_Sea': {'type': 'Sea', 'borders': {'Irminger_Sea': 'Sea', 'Norwegian_Sea': 'Sea', 'Nordkapp_Sea': 'Sea', 'Iceland': 'Coast'}, 'units': [], 'obj_type': 'tile', 'visible': ['Axis', 'West', 'USSR']}, 'Norwegian_Sea': {'type': 'Sea', 'borders': {'Greenland_Sea': 'Sea', 'Irish_Sea': 'Sea', 'Nordkapp_Sea': 'Sea', 'Oslo': 'Coast', 'North_Sea': 'Sea', 'Glasgow': 'Coast', 'Iceland': 'Coast'}, 'units': [], 'obj_type': 'tile', 'visible': ['Axis', 'West', 'USSR']}, 'Nordkapp_Sea': {'type': 'Sea', 'borders': {'Barents_Sea': 'Sea', 'Narvik': 'Coast', 'Oslo': 'Coast', 'Norwegian_Sea': 'Sea', 'Greenland_Sea': 'Sea'}, 'units': [], 'obj_type': 'tile', 'visible': ['Axis', 'West', 'USSR']}, 'North_Sea': {'type': 'Sea', 'borders': {'Copenhagen': 'Strait', 'Oslo': 'Coast', 'Ruhr': 'Coast', 'Norwegian_Sea': 'Sea', 'Amsterdam': 'Sea', 'Glasgow': 'Coast', 'London': 'Coast', 'English_Channel': 'Sea', 'Paris': 'Coast'}, 'units': [], 'obj_type': 'tile', 'visible': ['Axis', 'West', 'USSR']}, 'English_Channel': {'type': 'Sea', 'borders': {'Irish_Sea': 'Sea', 'Bay_of_Biscay': 'Sea', 'North_Sea': 'Sea', 'London': 'Coast', 'Paris': 'Coast'}, 'units': [], 'obj_type': 'tile', 'visible': ['Axis', 'West', 'USSR']}, 'Glasgow': {'type': 'Coast', 'alligence': 'Britain', 'res': '1', 'pop': '1', 'muster': '2', 'borders': {'Norwegian_Sea': 'Coast', 'North_Sea': 'Coast', 'London': 'Mountains', 'Irish_Sea': 'Coast'}, 'units': ['19345', '29164'], 'obj_type': 'tile', 'visible': ['Axis', 'West', 'USSR'], 'owner': 'West'}, 'London': {'type': 'Coast', 'alligence': 'Britain', 'res': '1', 'pop': '3', 'muster': '3', 'borders': {'North_Sea': 'Coast', 'English_Channel': 'Coast', 'Irish_Sea': 'Coast', 'Glasgow': 'Mountains'}, 'units': ['246', '15585', '18393', '18868'], 'obj_type': 'tile', 'visible': ['Axis', 'West', 'USSR'], 'owner': 'West'}, 'Paris': {'type': 'Coast', 'alligence': 'France', 'res': '0', 'pop': '2', 'muster': '3', 'borders': {'English_Channel': 'Coast', 'Bay_of_Biscay': 'Coast', 'Gascony': 'Plains', 'Lorraine': 'Plains', 'Amsterdam': 'Plains', 'North_Sea': 'Coast'}, 'units': ['15124', '16980'], 'obj_type': 'tile', 'visible': ['Axis', 'West', 'USSR'], 'owner': 'West'}, 'Lorraine': {'type': 'Land', 'alligence': 'France', 'res': '2', 'pop': '0', 'muster': '0', 'borders': {'Munich': 'River', 'Paris': 'Plains', 'Amsterdam': 'Forest', 'Gascony': 'Plains', 'Marseille': 'Plains'}, 'units': ['249'], 'obj_type': 'tile', 'visible': ['Axis', 'West', 'USSR'], 'owner': 'West'}, 'Gascony': {'type': 'Coast', 'alligence': 'France', 'res': '0', 'pop': '0', 'muster': '0', 'borders': {'Leon': 'Mountains', 'Barcelona': 'Mountains', 'Bay_of_Biscay': 'Coast', 'Paris': 'Plains', 'Lorraine': 'Plains', 'Marseille': 'Plains'}, 'units': ['27148', '28152'], 'obj_type': 'tile', 'visible': ['Axis', 'West', 'USSR'], 'owner': 'West'}, 'Marseille': {'type': 'Coast', 'alligence': 'France', 'res': '0', 'pop': '1', 'muster': '2', 'borders': {'Barcelona': 'Mountains', 'Western_Mediterranean': 'Coast', 'Gascony': 'Plains', 'Lorraine': 'Plains', 'Milan': 'Mountains'}, 'units': ['16048', '27649'], 'obj_type': 'tile', 'visible': ['Axis', 'West', 'USSR'], 'owner': 'West'}, 'Western_Mediterranean': {'type': 'Sea', 'borders': {'Gibraltar': 'Strait', 'Algiers': 'Coast', 'Barcelona': 'Coast', 'Tunisia': 'Coast', 'Sardinia': 'Coast', 'Tyrrhenian_Sea': 'Sea', 'Milan': 'Coast', 'Marseille': 'Coast'}, 'units': [], 'obj_type': 'tile', 'visible': ['Axis', 'West', 'USSR']}, 'Sardinia': {'type': 'Coast', 'alligence': 'Italy', 'res': '0', 'pop': '0', 'muster': '0', 'borders': {'Western_Mediterranean': 'Coast', 'Tyrrhenian_Sea': 'Coast'}, 'units': [], 'obj_type': 'tile', 'visible': ['Axis', 'West', 'USSR'], 'owner': 'Axis'}, 'Tyrrhenian_Sea': {'type': 'Sea', 'borders': {'Western_Mediterranean': 'Sea', 'Sardinia': 'Coast', 'Malta': 'Strait', 'Sicily': 'Strait', 'Rome': 'Coast', 'Milan': 'Coast'}, 'units': [], 'obj_type': 'tile', 'visible': ['Axis', 'West', 'USSR']}, 'Malta': {'type': 'Coast', 'alligence': 'Malta', 'res': '0', 'pop': '0', 'muster': '1', 'borders': {'Tunisia': 'Strait', 'Sfax': 'Strait', 'Tyrrhenian_Sea': 'Strait', 'Central_Mediterranean': 'Strait', 'Sicily': 'Strait'}, 'units': [], 'obj_type': 'tile', 'visible': ['Axis', 'West', 'USSR'], 'owner': 'West'}, 'Sicily': {'type': 'Coast', 'alligence': 'Italy', 'res': '0', 'pop': '0', 'muster': '0', 'borders': {'Malta': 'Strait', 'Tyrrhenian_Sea': 'Strait', 'Central_Mediterranean': 'Strait', 'Rome': 'Strait', 'Taranto': 'Strait'}, 'units': [], 'obj_type': 'tile', 'visible': ['Axis', 'West', 'USSR'], 'owner': 'Axis'}, 'Central_Mediterranean': {'type': 'Sea', 'borders': {'Malta': 'Strait', 'Sicily': 'Strait', 'Taranto': 'Coast', 'Adriatic_Sea': 'Sea', 'Tripoli': 'Coast', 'Cyrenaica': 'Coast', 'Albania': 'Coast', 'Eastern_Mediterranean': 'Sea', 'Aegean_Sea': 'Sea', 'Athens': 'Coast', 'Crete': 'Coast'}, 'units': [], 'obj_type': 'tile', 'visible': ['Axis', 'West', 'USSR']}, 'Adriatic_Sea': {'type': 'Sea', 'borders': {'Central_Mediterranean': 'Sea', 'Venice': 'Sea', 'Taranto': 'Sea', 'Croatia': 'Coast', 'Albania': 'Coast'}, 'units': [], 'obj_type': 'tile', 'visible': ['Axis', 'West', 'USSR']}, 'Milan': {'type': 'Coast', 'alligence': 'Italy', 'res': '1', 'pop': '1', 'muster': '2', 'borders': {'Tyrrhenian_Sea': 'Coast', 'Rome': 'Mountains', 'Western_Mediterranean': 'Coast', 'Venice': 'Plains', 'Marseille': 'Mountains'}, 'units': ['1825', '7168'], 'obj_type': 'tile', 'visible': ['Axis', 'West', 'USSR'], 'owner': 'Axis'}, 'Rome': {'type': 'Coast', 'alligence': 'Italy', 'res': '0', 'pop': '2', 'muster': '3', 'borders': {'Sicily': 'Strait', 'Tyrrhenian_Sea': 'Coast', 'Milan': 'Mountains', 'Venice': 'Mountains', 'Taranto': 'Mountains'}, 'units': ['640', '2224', '3028', '4249'], 'obj_type': 'tile', 'visible': ['Axis', 'West', 'USSR'], 'owner': 'Axis'}, 'Venice': {'type': 'Coast', 'alligence': 'Italy', 'res': '1', 'pop': '0', 'muster': '0', 'borders': {'Milan': 'Plains', 'Rome': 'Mountains', 'Taranto': 'Mountains', 'Adriatic_Sea': 'Sea', 'Vienna': 'Mountains', 'Croatia': 'Mountains'}, 'units': ['22719', '26649'], 'obj_type': 'tile', 'visible': ['Axis', 'West', 'USSR'], 'owner': 'Axis'}, 'Taranto': {'type': 'Coast', 'alligence': 'Italy', 'res': '0', 'pop': '0', 'muster': '0', 'borders': {'Sicily': 'Strait', 'Rome': 'Mountains', 'Venice': 'Mountains', 'Central_Mediterranean': 'Coast', 'Adriatic_Sea': 'Sea'}, 'units': ['23692', '24181'], 'obj_type': 'tile', 'visible': ['Axis', 'West', 'USSR'], 'owner': 'Axis'}, 'Tripoli': {'type': 'Coast', 'alligence': 'Libya', 'res': '0', 'pop': '1', 'muster': '2', 'borders': {'Sfax': 'Mountains', 'Central_Mediterranean': 'Coast', 'Cyrenaica': 'Plains'}, 'units': ['1033', '8020'], 'obj_type': 'tile', 'visible': ['Axis', 'West', 'USSR'], 'owner': 'Axis'}, 'Cyrenaica': {'type': 'Coast', 'alligence': 'Libya', 'res': '0', 'pop': '0', 'muster': '0', 'borders': {'Central_Mediterranean': 'Coast', 'Tripoli': 'Plains', 'Eastern_Mediterranean': 'Coast', 'Egypt': 'Plains'}, 'units': ['25657'], 'obj_type': 'tile', 'visible': ['Axis', 'West', 'USSR'], 'owner': 'Axis'}, 'Amsterdam': {'type': 'Coast', 'alligence': 'Low_Countries', 'res': '0', 'pop': '1', 'muster': '2', 'borders': {'Ruhr': 'River', 'Munich': 'River', 'North_Sea': 'Sea', 'Paris': 'Plains', 'Lorraine': 'Forest'}, 'units': [], 'obj_type': 'tile', 'visible': ['Axis', 'West', 'USSR']}, 'Vienna': {'type': 'Land', 'alligence': 'Austria', 'res': '0', 'pop': '1', 'muster': '2', 'borders': {'Prague': 'Plains', 'Munich': 'Plains', 'Venice': 'Mountains', 'Croatia': 'Mountains', 'Budapest': 'Plains'}, 'units': [], 'obj_type': 'tile', 'visible': ['Axis', 'West', 'USSR']}, 'Munich': {'type': 'Land', 'alligence': 'Germany', 'res': '0', 'pop': '1', 'muster': '2', 'borders': {'Berlin': 'Plains', 'Ruhr': 'Plains', 'Prague': 'Forest', 'Vienna': 'Plains', 'Amsterdam': 'River', 'Lorraine': 'River'}, 'units': ['5488', '7593'], 'obj_type': 'tile', 'visible': ['Axis', 'West', 'USSR'], 'owner': 'Axis'}, 'Ruhr': {'type': 'Coast', 'alligence': 'Germany', 'res': '3', 'pop': '2', 'muster': '3', 'borders': {'Copenhagen': 'Strait', 'Baltic_Sea': 'Coast', 'North_Sea': 'Coast', 'Berlin': 'Plains', 'Munich': 'Plains', 'Amsterdam': 'River'}, 'units': ['1428', '6324', '6745', '8449', '22234', '24672'], 'obj_type': 'tile', 'visible': ['Axis', 'West', 'USSR'], 'owner': 'Axis'}, 'Berlin': {'type': 'Coast', 'alligence': 'Germany', 'res': '1', 'pop': '3', 'muster': '3', 'borders': {'Baltic_Sea': 'Coast', 'Warsaw': 'River', 'Ruhr': 'Plains', 'Prague': 'Forest', 'Munich': 'Plains'}, 'units': ['2625', '3433', '3840', '4660', '5073', '5905', '26152'], 'obj_type': 'tile', 'visible': ['Axis', 'West', 'USSR'], 'owner': 'Axis'}, 'Copenhagen': {'type': 'Coast', 'alligence': 'Denmark', 'res': '1', 'pop': '0', 'muster': '1', 'borders': {'Stockholm': 'Strait', 'Baltic_Sea': 'Strait', 'Oslo': 'Strait', 'North_Sea': 'Strait', 'Ruhr': 'Strait'}, 'units': [], 'obj_type': 'tile', 'visible': ['Axis', 'West', 'USSR']}, 'Oslo': {'type': 'Coast', 'alligence': 'Norway', 'res': '1', 'pop': '0', 'muster': '1', 'borders': {'Gallivare': 'Mountains', 'Stockholm': 'Forest', 'Narvik': 'Mountains', 'Nordkapp_Sea': 'Coast', 'Norwegian_Sea': 'Coast', 'Copenhagen': 'Strait', 'North_Sea': 'Coast'}, 'units': [], 'obj_type': 'tile', 'visible': ['Axis', 'West', 'USSR']}, 'Narvik': {'type': 'Coast', 'alligence': 'Norway', 'res': '0', 'pop': '0', 'muster': '0', 'borders': {'Petsamo': 'Mountains', 'Barents_Sea': 'Coast', 'Gallivare': 'Mountains', 'Oslo': 'Mountains', 'Nordkapp_Sea': 'Coast'}, 'units': [], 'obj_type': 'tile', 'visible': ['Axis', 'West', 'USSR']}, 'Gallivare': {'type': 'Coast', 'alligence': 'Sweden', 'res': '1', 'pop': '0', 'muster': '0', 'borders': {'Helsinki': 'Forest', 'Petsamo': 'Forest', 'Narvik': 'Mountains', 'Oslo': 'Mountains', 'Stockholm': 'Forest', 'Gulf_of_Bothnia': 'Coast'}, 'units': [], 'obj_type': 'tile', 'visible': ['Axis', 'West', 'USSR']}, 'Stockholm': {'type': 'Coast', 'alligence': 'Sweden', 'res': '1', 'pop': '1', 'muster': '2', 'borders': {'Gallivare': 'Forest', 'Gulf_of_Bothnia': 'Coast', 'Baltic_Sea': 'Coast', 'Oslo': 'Forest', 'Copenhagen': 'Strait'}, 'units': [], 'obj_type': 'tile', 'visible': ['Axis', 'West', 'USSR']}, 'Petsamo': {'type': 'Land', 'alligence': 'Finland', 'res': '1', 'pop': '0', 'muster': '0', 'borders': {'Murmansk': 'Forest', 'Helsinki': 'Forest', 'Narvik': 'Mountains', 'Gallivare': 'Forest'}, 'units': [], 'obj_type': 'tile', 'visible': ['Axis', 'West', 'USSR']}, 'Helsinki': {'type': 'Coast', 'alligence': 'Finland', 'res': '0', 'pop': '0', 'muster': '1', 'borders': {'Leningrad': 'Forest', 'Murmansk': 'Forest', 'Petsamo': 'Forest', 'Gulf_of_Bothnia': 'Coast', 'Gallivare': 'Forest'}, 'units': [], 'obj_type': 'tile', 'visible': ['Axis', 'West', 'USSR']}, 'Barents_Sea': {'type': 'Sea', 'borders': {'Murmansk': 'Coast', 'White_Sea': 'Sea', 'Narvik': 'Coast', 'Nordkapp_Sea': 'Sea'}, 'units': [], 'obj_type': 'tile', 'visible': ['Axis', 'West', 'USSR']}, 'White_Sea': {'type': 'Sea', 'borders': {'Archangel': 'Coast', 'Murmansk': 'Coast', 'Barents_Sea': 'Sea'}, 'units': [], 'obj_type': 'tile', 'visible': ['Axis', 'West', 'USSR']}, 'Gulf_of_Bothnia': {'type': 'Sea', 'borders': {'Helsinki': 'Coast', 'Leningrad': 'Coast', 'Gallivare': 'Coast', 'Stockholm': 'Coast', 'Riga': 'Coast', 'Baltic_Sea': 'Sea'}, 'units': [], 'obj_type': 'tile', 'visible': ['Axis', 'West', 'USSR']}, 'Baltic_Sea': {'type': 'Sea', 'borders': {'Gulf_of_Bothnia': 'Sea', 'Riga': 'Coast', 'Stockholm': 'Coast', 'Konigsberg': 'Coast', 'Warsaw': 'Coast', 'Copenhagen': 'Strait', 'Berlin': 'Coast', 'Ruhr': 'Coast'}, 'units': [], 'obj_type': 'tile', 'visible': ['Axis', 'West', 'USSR']}, 'Riga': {'type': 'Coast', 'alligence': 'Baltic_States', 'res': '0', 'pop': '0', 'muster': '1', 'borders': {'Leningrad': 'Forest', 'Gulf_of_Bothnia': 'Coast', 'Baltic_Sea': 'Coast', 'Belorussia': 'Plains', 'Vilna': 'Plains', 'Konigsberg': 'Plains'}, 'units': [], 'obj_type': 'tile', 'visible': ['Axis', 'West', 'USSR']}, 'Konigsberg': {'type': 'Coast', 'alligence': 'Germany', 'res': '0', 'pop': '1', 'muster': '2', 'borders': {'Riga': 'Plains', 'Vilna': 'Forest', 'Baltic_Sea': 'Coast', 'Warsaw': 'River'}, 'units': ['8880', '9313'], 'obj_type': 'tile', 'visible': ['Axis', 'West', 'USSR'], 'owner': 'Axis'}, 'Warsaw': {'type': 'Coast', 'alligence': 'Poland', 'res': '1', 'pop': '1', 'muster': '3', 'borders': {'Baltic_Sea': 'Coast', 'Konigsberg': 'River', 'Vilna': 'River', 'Lvov': 'River', 'Berlin': 'River', 'Prague': 'Forest'}, 'units': [], 'obj_type': 'tile', 'visible': ['Axis', 'West', 'USSR']}, 'Vilna': {'type': 'Land', 'alligence': 'Poland', 'res': '0', 'pop': '0', 'muster': '1', 'borders': {'Belorussia': 'Plains', 'Riga': 'Plains', 'Konigsberg': 'Forest', 'Lvov': 'Plains', 'Warsaw': 'River'}, 'units': [], 'obj_type': 'tile', 'visible': ['Axis', 'West', 'USSR']}, 'Lvov': {'type': 'Land', 'alligence': 'Poland', 'res': '0', 'pop': '1', 'muster': '2', 'borders': {'Vilna': 'Plains', 'Kiev': 'Plains', 'Odessa': 'Plains', 'Warsaw': 'River', 'Prague': 'Mountains', 'Budapest': 'Mountains', 'Bucharest': 'River'}, 'units': [], 'obj_type': 'tile', 'visible': ['Axis', 'West', 'USSR']}, 'Prague': {'type': 'Land', 'alligence': 'Czechoslovakia', 'res': '0', 'pop': '1', 'muster': '2', 'borders': {'Lvov': 'Mountains', 'Warsaw': 'Forest', 'Berlin': 'Forest', 'Munich': 'Forest', 'Budapest': 'Mountains', 'Vienna': 'Plains'}, 'units': [], 'obj_type': 'tile', 'visible': ['Axis', 'West', 'USSR']}, 'Budapest': {'type': 'Land', 'alligence': 'Hungary', 'res': '1', 'pop': '1', 'muster': '2', 'borders': {'Lvov': 'Mountains', 'Prague': 'Mountains', 'Croatia': 'Plains', 'Belgrade': 'Plains', 'Vienna': 'Plains', 'Bucharest': 'Mountains'}, 'units': [], 'obj_type': 'tile', 'visible': ['Axis', 'West', 'USSR']}, 'Croatia': {'type': 'Coast', 'alligence': 'Yugoslavia', 'res': '1', 'pop': '0', 'muster': '0', 'borders': {'Adriatic_Sea': 'Coast', 'Vienna': 'Mountains', 'Venice': 'Mountains', 'Budapest': 'Plains', 'Belgrade': 'Forest', 'Albania': 'Mountains'}, 'units': [], 'obj_type': 'tile', 'visible': ['Axis', 'West', 'USSR']}, 'Belgrade': {'type': 'Land', 'alligence': 'Yugoslavia', 'res': '0', 'pop': '0', 'muster': '1', 'borders': {'Croatia': 'Forest', 'Budapest': 'Plains', 'Albania': 'Mountains', 'Bucharest': 'River', 'Sofia': 'Mountains', 'Athens': 'Mountains'}, 'units': [], 'obj_type': 'tile', 'visible': ['Axis', 'West', 'USSR']}, 'Albania': {'type': 'Coast', 'alligence': 'Albania', 'res': '0', 'pop': '0', 'muster': '0', 'borders': {'Adriatic_Sea': 'Coast', 'Central_Mediterranean': 'Coast', 'Croatia': 'Mountains', 'Belgrade': 'Mountains', 'Athens': 'Mountains'}, 'units': [], 'obj_type': 'tile', 'visible': ['Axis', 'West', 'USSR']}, 'Athens': {'type': 'Coast', 'alligence': 'Greece', 'res': '1', 'pop': '0', 'muster': '1', 'borders': {'Central_Mediterranean': 'Coast', 'Istanbul': 'Strait', 'Sofia': 'Mountains', 'Belgrade': 'Mountains', 'Albania': 'Mountains', 'Aegean_Sea': 'Coast'}, 'units': [], 'obj_type': 'tile', 'visible': ['Axis', 'West', 'USSR']}, 'Bucharest': {'type': 'Coast', 'alligence': 'Rumania', 'res': '2', 'pop': '1', 'muster': '2', 'borders': {'Lvov': 'River', 'Odessa': 'River', 'Budapest': 'Mountains', 'Belgrade': 'River', 'Sofia': 'River', 'Western_Black_Sea': 'Coast'}, 'units': [], 'obj_type': 'tile', 'visible': ['Axis', 'West', 'USSR']}, 'Sofia': {'type': 'Coast', 'alligence': 'Bulgaria', 'res': '1', 'pop': '0', 'muster': '1', 'borders': {'Belgrade': 'Mountains', 'Bucharest': 'River', 'Western_Black_Sea': 'Coast', 'Istanbul': 'Strait', 'Athens': 'Mountains'}, 'units': [], 'obj_type': 'tile', 'visible': ['Axis', 'West', 'USSR']}, 'Aegean_Sea': {'type': 'Sea', 'borders': {'Central_Mediterranean': 'Sea', 'Crete': 'Coast', 'Eastern_Mediterranean': 'Sea', 'Izmir': 'Coast', 'Istanbul': 'Strait', 'Athens': 'Coast'}, 'units': [], 'obj_type': 'tile', 'visible': ['Axis', 'West', 'USSR']}, 'Crete': {'type': 'Sea', 'borders': {'Central_Mediterranean': 'Coast', 'Aegean_Sea': 'Coast', 'Eastern_Mediterranean': 'Coast'}, 'units': [], 'obj_type': 'tile', 'visible': ['Axis', 'West', 'USSR']}, 'Eastern_Mediterranean': {'type': 'Sea', 'borders': {'Central_Mediterranean': 'Sea', 'Cyrenaica': 'Coast', 'Aegean_Sea': 'Sea', 'Crete': 'Coast', 'Suez': 'Strait', 'Jordan': 'Coast', 'Damascus': 'Coast', 'Egypt': 'Coast', 'Adana': 'Coast', 'Izmir': 'Coast'}, 'units': [], 'obj_type': 'tile', 'visible': ['Axis', 'West', 'USSR']}, 'Egypt': {'type': 'Coast', 'alligence': 'Middle_East', 'res': '0', 'pop': '0', 'muster': '0', 'borders': {'Cyrenaica': 'Plains', 'Suez': 'Strait', 'Eastern_Mediterranean': 'Coast'}, 'units': [], 'obj_type': 'tile', 'visible': ['Axis', 'West', 'USSR'], 'owner': 'West'}, 'Suez': {'type': 'Coast', 'alligence': 'Middle_East', 'res': '0', 'pop': '1', 'muster': '2', 'borders': {'Egypt': 'Strait', 'Eastern_Mediterranean': 'Strait', 'Sudan': 'Strait', 'Jordan': 'Strait', 'Red_Sea': 'Strait'}, 'units': ['17920'], 'obj_type': 'tile', 'visible': ['Axis', 'West', 'USSR'], 'owner': 'West'}, 'Sudan': {'type': 'Coast', 'alligence': 'Middle_East', 'res': '0', 'pop': '0', 'muster': '0', 'borders': {'Suez': 'Strait', 'Red_Sea': 'Coast'}, 'units': ['28657'], 'obj_type': 'tile', 'visible': ['Axis', 'West', 'USSR'], 'owner': 'West'}, 'Jordan': {'type': 'Coast', 'alligence': 'Middle_East', 'res': '0', 'pop': '0', 'muster': '0', 'borders': {'Suez': 'Strait', 'Eastern_Mediterranean': 'Coast', 'Damascus': 'Plains', 'Iraq': 'Plains'}, 'units': [], 'obj_type': 'tile', 'visible': ['Axis', 'West', 'USSR'], 'owner': 'West'}, 'Iraq': {'type': 'Coast', 'alligence': 'Middle_East', 'res': '1', 'res_afr': '1', 'pop': '0', 'muster': '0', 'borders': {'Persian_Gulf': 'Coast', 'Damascus': 'Plains', 'Jordan': 'Plains', 'Abadan': 'Plains'}, 'units': [], 'obj_type': 'tile', 'visible': ['Axis', 'West', 'USSR'], 'owner': 'West'}, 'Damascus': {'type': 'Coast', 'alligence': 'Syria', 'res': '0', 'pop': '0', 'muster': '1', 'borders': {'Eastern_Mediterranean': 'Coast', 'Jordan': 'Plains', 'Iraq': 'Plains', 'Adana': 'Plains'}, 'units': [], 'obj_type': 'tile', 'visible': ['Axis', 'West', 'USSR'], 'owner': 'West'}, 'Red_Sea': {'type': 'Sea', 'borders': {'Suez': 'Strait', 'Sudan': 'Coast', 'Gulf_of_Aden': 'Sea'}, 'units': [], 'obj_type': 'tile', 'visible': ['Axis', 'West', 'USSR']}, 'Gulf_of_Aden': {'type': 'Sea', 'borders': {'Red_Sea': 'Sea', 'Arabian_Sea': 'Sea', 'West_Indian_Ocean': 'Ocean'}, 'units': [], 'obj_type': 'tile', 'visible': ['Axis', 'West', 'USSR']}, 'West_Indian_Ocean': {'type': 'Sea', 'borders': {'Gulf_of_Aden': 'Ocean', 'Arabian_Sea': 'Ocean', 'East_Indian_Ocean': 'Ocean', 'South_Atlantic_Ocean': 'Ocean-Africa'}, 'units': [], 'obj_type': 'tile', 'visible': ['Axis', 'West', 'USSR']}, 'East_Indian_Ocean': {'type': 'Sea', 'borders': {'Arabian_Sea': 'Ocean', 'West_Indian_Ocean': 'Ocean', 'Bombay': 'Coast', 'Delhi': 'Coast'}, 'units': [], 'obj_type': 'tile', 'visible': ['Axis', 'West', 'USSR']}, 'Arabian_Sea': {'type': 'Sea', 'borders': {'Gulf_of_Aden': 'Sea', 'West_Indian_Ocean': 'Ocean', 'Persian_Gulf': 'Sea', 'East_Indian_Ocean': 'Ocean', 'Bombay': 'Coast', 'Karachi': 'Coast', 'Shiraz': 'Coast'}, 'units': [], 'obj_type': 'tile', 'visible': ['Axis', 'West', 'USSR']}, 'Persian_Gulf': {'type': 'Sea', 'borders': {'Arabian_Sea': 'Sea', 'Shiraz': 'Coast', 'Abadan': 'Coast', 'Iraq': 'Coast'}, 'units': [], 'obj_type': 'tile', 'visible': ['Axis', 'West', 'USSR']}, 'Bombay': {'type': 'Coast', 'alligence': 'India', 'res': '1', 'res_afr': '1', 'pop': '1', 'muster': '2', 'borders': {'Arabian_Sea': 'Coast', 'East_Indian_Ocean': 'Coast', 'Karachi': 'Plains', 'Delhi': 'Plains'}, 'units': ['19824'], 'obj_type': 'tile', 'visible': ['Axis', 'West', 'USSR'], 'owner': 'West'}, 'Karachi': {'type': 'Coast', 'alligence': 'India', 'res': '0', 'res_afr': '0', 'pop': '0', 'muster': '0', 'borders': {'Arabian_Sea': 'Coast', 'Bombay': 'Plains', 'Delhi': 'Plains', 'Kabul': 'Mountains', 'Shiraz': 'Mountains'}, 'units': ['248'], 'obj_type': 'tile', 'visible': ['Axis', 'West', 'USSR'], 'owner': 'West'}, 'Delhi': {'type': 'Coast', 'alligence': 'India', 'res': '1', 'res_afr': '1', 'pop': '2', 'muster': '3', 'borders': {'East_Indian_Ocean': 'Coast', 'Bombay': 'Plains', 'Karachi': 'Plains'}, 'units': ['16513', '20305'], 'obj_type': 'tile', 'visible': ['Axis', 'West', 'USSR'], 'owner': 'West'}, 'Kabul': {'type': 'Land', 'alligence': 'Afghanistan', 'res': '0', 'pop': '0', 'muster': '1', 'borders': {'Karachi': 'Mountains', 'Shiraz': 'Mountains', 'Tehran': 'Mountains', 'Turkmenistan': 'Mountains'}, 'units': [], 'obj_type': 'tile', 'visible': ['Axis', 'West', 'USSR']}, 'Shiraz': {'type': 'Coast', 'alligence': 'Persia', 'res': '0', 'pop': '0', 'muster': '0', 'borders': {'Persian_Gulf': 'Coast', 'Arabian_Sea': 'Coast', 'Karachi': 'Mountains', 'Kabul': 'Mountains', 'Abadan': 'Mountains', 'Tehran': 'Mountains'}, 'units': [], 'obj_type': 'tile', 'visible': ['Axis', 'West', 'USSR']}, 'Tehran': {'type': 'Coast', 'alligence': 'Persia', 'res': '0', 'pop': '1', 'muster': '2', 'borders': {'Shiraz': 'Mountains', 'Abadan': 'Mountains', 'Kabul': 'Mountains', 'Tabriz': 'Mountains', 'Turkmenistan': 'Mountains', 'Southern_Caspian_Sea': 'Coast'}, 'units': [], 'obj_type': 'tile', 'visible': ['Axis', 'West', 'USSR']}, 'Abadan': {'type': 'Coast', 'alligence': 'Persia', 'res': '2', 'res_afr': '2', 'pop': '0', 'muster': '0', 'borders': {'Persian_Gulf': 'Coast', 'Shiraz': 'Mountains', 'Iraq': 'Plains', 'Tehran': 'Mountains', 'Tabriz': 'Mountains'}, 'units': [], 'obj_type': 'tile', 'visible': ['Axis', 'West', 'USSR']}, 'Tabriz': {'type': 'Coast', 'alligence': 'Persia', 'res': '0', 'pop': '0', 'muster': '0', 'borders': {'Abadan': 'Mountains', 'Tehran': 'Mountains', 'Southern_Caspian_Sea': 'Coast', 'Baku': 'Mountains', 'Kars': 'Mountains', 'Georgia': 'Mountains'}, 'units': [], 'obj_type': 'tile', 'visible': ['Axis', 'West', 'USSR']}, 'Kars': {'type': 'Coast', 'alligence': 'Turkey', 'res': '0', 'pop': '0', 'muster': '0', 'borders': {'Tabriz': 'Mountains', 'Georgia': 'Mountains', 'Eastern_Black_Sea': 'Coast', 'Sinope': 'Mountains', 'Adana': 'Mountains'}, 'units': [], 'obj_type': 'tile', 'visible': ['Axis', 'West', 'USSR']}, 'Sinope': {'type': 'Coast', 'alligence': 'Turkey', 'res': '0', 'pop': '0', 'muster': '0', 'borders': {'Kars': 'Mountains', 'Adana': 'Mountains', 'Ankara': 'Mountains', 'Eastern_Black_Sea': 'Coast'}, 'units': [], 'obj_type': 'tile', 'visible': ['Axis', 'West', 'USSR']}, 'Adana': {'type': 'Coast', 'alligence': 'Turkey', 'res': '0', 'pop': '0', 'muster': '0', 'borders': {'Kars': 'Mountains', 'Sinope': 'Mountains', 'Damascus': 'Plains', 'Eastern_Mediterranean': 'Coast', 'Ankara': 'Mountains', 'Izmir': 'Mountains'}, 'units': [], 'obj_type': 'tile', 'visible': ['Axis', 'West', 'USSR']}, 'Ankara': {'type': 'Coast', 'alligence': 'Turkey', 'res': '0', 'pop': '1', 'muster': '3', 'borders': {'Sinope': 'Mountains', 'Adana': 'Mountains', 'Izmir': 'Mountains', 'Istanbul': 'Strait', 'Western_Black_Sea': 'Coast'}, 'units': [], 'obj_type': 'tile', 'visible': ['Axis', 'West', 'USSR']}, 'Izmir': {'type': 'Coast', 'alligence': 'Turkey', 'res': '1', 'pop': '0', 'muster': '1', 'borders': {'Adana': 'Mountains', 'Ankara': 'Mountains', 'Eastern_Mediterranean': 'Coast', 'Aegean_Sea': 'Coast', 'Istanbul': 'Strait'}, 'units': [], 'obj_type': 'tile', 'visible': ['Axis', 'West', 'USSR']}, 'Istanbul': {'type': 'Coast', 'alligence': 'Turkey', 'res': '0', 'pop': '1', 'muster': '2', 'borders': {'Izmir': 'Strait', 'Ankara': 'Strait', 'Aegean_Sea': 'Strait', 'Western_Black_Sea': 'Strait', 'Sofia': 'Strait', 'Athens': 'Strait'}, 'units': [], 'obj_type': 'tile', 'visible': ['Axis', 'West', 'USSR']}, 'Southern_Caspian_Sea': {'type': 'Sea', 'borders': {'Tehran': 'Coast', 'Tabriz': 'Coast', 'Turkmenistan': 'Coast', 'Baku': 'Coast', 'Northern_Caspian_Sea': 'Sea'}, 'units': [], 'obj_type': 'tile', 'visible': ['Axis', 'West', 'USSR']}, 'Northern_Caspian_Sea': {'type': 'Sea', 'borders': {'Southern_Caspian_Sea': 'Sea', 'Turkmenistan': 'Coast', 'Baku': 'Coast', 'Kazakhstan': 'Coast', 'Grozny': 'Coast', 'Ufa': 'Coast'}, 'units': [], 'obj_type': 'tile', 'visible': ['Axis', 'West', 'USSR']}, 'Eastern_Black_Sea': {'type': 'Sea', 'borders': {'Kars': 'Coast', 'Georgia': 'Coast', 'Sinope': 'Coast', 'Western_Black_Sea': 'Sea', 'Sevastopol': 'Strait', 'Kuban': 'Coast'}, 'units': [], 'obj_type': 'tile', 'visible': ['Axis', 'West', 'USSR']}, 'Western_Black_Sea': {'type': 'Sea', 'borders': {'Istanbul': 'Strait', 'Eastern_Black_Sea': 'Sea', 'Ankara': 'Coast', 'Sevastopol': 'Strait', 'Odessa': 'Coast', 'Bucharest': 'Coast', 'Sofia': 'Coast'}, 'units': [], 'obj_type': 'tile', 'visible': ['Axis', 'West', 'USSR']}, 'Sea_of_Azov': {'type': 'Sea', 'borders': {'Sevastopol': 'Strait', 'Kuban': 'Coast', 'Kharkov': 'Coast'}, 'units': [], 'obj_type': 'tile', 'visible': ['Axis', 'West', 'USSR']}, 'Archangel': {'type': 'Coast', 'alligence': 'USSR', 'res': '0', 'pop': '0', 'muster': '0', 'borders': {'Vologda': 'Forest', 'Leningrad': 'Forest', 'Murmansk': 'Forest', 'White_Sea': 'Coast'}, 'units': [], 'obj_type': 'tile', 'visible': ['Axis', 'West', 'USSR'], 'owner': 'USSR'}, 'Vologda': {'type': 'Land', 'alligence': 'USSR', 'res': '0', 'pop': '0', 'muster': '0', 'borders': {'Moscow': 'Forest', 'Gorky': 'Forest', 'Leningrad': 'Forest', 'Archangel': 'Forest'}, 'units': [], 'obj_type': 'tile', 'visible': ['Axis', 'West', 'USSR'], 'owner': 'USSR'}, 'Gorky': {'type': 'Land', 'alligence': 'USSR', 'res': '0', 'pop': '0', 'muster': '0', 'borders': {'Moscow': 'River', 'Penza': 'River', 'Perm': 'Forest', 'Vologda': 'Forest'}, 'units': [], 'obj_type': 'tile', 'visible': ['Axis', 'West', 'USSR'], 'owner': 'USSR'}, 'Perm': {'type': 'Land', 'alligence': 'USSR', 'res': '0', 'pop': '0', 'muster': '0', 'borders': {'Penza': 'River', 'Ufa': 'Plains', 'Urals': 'Mountains', 'Gorky': 'Forest'}, 'units': [], 'obj_type': 'tile', 'visible': ['Axis', 'West', 'USSR'], 'owner': 'USSR'}, 'Urals': {'type': 'Land', 'alligence': 'USSR', 'res': '1', 'pop': '1', 'muster': '2', 'borders': {'Kazakhstan': 'Mountains', 'Western_Siberia': 'Plains', 'Ufa': 'Mountains', 'Perm': 'Mountains'}, 'units': ['12400'], 'obj_type': 'tile', 'visible': ['Axis', 'West', 'USSR'], 'owner': 'USSR'}, 'Western_Siberia': {'type': 'Land', 'alligence': 'USSR', 'res': '1', 'pop': '0', 'muster': '0', 'borders': {'Kazakhstan': 'Plains', 'Urals': 'Plains'}, 'units': [], 'obj_type': 'tile', 'visible': ['Axis', 'West', 'USSR'], 'owner': 'USSR'}, 'Leningrad': {'type': 'Coast', 'alligence': 'USSR', 'res': '0', 'pop': '2', 'muster': '3', 'borders': {'Bryansk': 'Forest', 'Belorussia': 'Forest', 'Moscow': 'Forest', 'Vologda': 'Forest', 'Archangel': 'Forest', 'Murmansk': 'Forest', 'Helsinki': 'Forest', 'Gulf_of_Bothnia': 'Coast', 'Riga': 'Forest'}, 'units': ['10624', '11065'], 'obj_type': 'tile', 'visible': ['Axis', 'West', 'USSR'], 'owner': 'USSR'}, 'Moscow': {'type': 'Land', 'alligence': 'USSR', 'res': '0', 'pop': '3', 'muster': '3', 'borders': {'Voronezh': 'Plains', 'Penza': 'Plains', 'Bryansk': 'Forest', 'Leningrad': 'Forest', 'Gorky': 'River', 'Vologda': 'Forest'}, 'units': ['13753', '14208', '14665', '32753'], 'obj_type': 'tile', 'visible': ['Axis', 'West', 'USSR'], 'owner': 'USSR'}, 'Murmansk': {'type': 'Coast', 'alligence': 'USSR', 'res': '0', 'pop': '0', 'muster': '0', 'borders': {'Archangel': 'Forest', 'Leningrad': 'Forest', 'White_Sea': 'Coast', 'Barents_Sea': 'Coast', 'Helsinki': 'Forest', 'Petsamo': 'Forest'}, 'units': ['30694'], 'obj_type': 'tile', 'visible': ['Axis', 'West', 'USSR'], 'owner': 'USSR'}, 'Penza': {'type': 'Land', 'alligence': 'USSR', 'res': '0', 'pop': '0', 'muster': '0', 'borders': {'Voronezh': 'Forest', 'Ufa': 'River', 'Moscow': 'Plains', 'Gorky': 'River', 'Perm': 'River'}, 'units': [], 'obj_type': 'tile', 'visible': ['Axis', 'West', 'USSR'], 'owner': 'USSR'}, 'Ufa': {'type': 'Coast', 'alligence': 'USSR', 'res': '1', 'pop': '0', 'muster': '0', 'borders': {'Grozny': 'River', 'Stalingrad': 'River', 'Northern_Caspian_Sea': 'Coast', 'Kazakhstan': 'Plains', 'Voronezh': 'River', 'Penza': 'River', 'Perm': 'Plains', 'Urals': 'Mountains'}, 'units': ['32236'], 'obj_type': 'tile', 'visible': ['Axis', 'West', 'USSR'], 'owner': 'USSR'}, 'Kazakhstan': {'type': 'Coast', 'alligence': 'USSR', 'res': '0', 'pop': '0', 'muster': '0', 'borders': {'Turkmenistan': 'Plains', 'Northern_Caspian_Sea': 'Coast', 'Ufa': 'Plains', 'Western_Siberia': 'Plains', 'Urals': 'Mountains'}, 'units': [], 'obj_type': 'tile', 'visible': ['Axis', 'West', 'USSR'], 'owner': 'USSR'}, 'Belorussia': {'type': 'Land', 'alligence': 'USSR', 'res': '0', 'pop': '0', 'muster': '0', 'borders': {'Bryansk': 'Plains', 'Leningrad': 'Forest', 'Riga': 'Plains', 'Vilna': 'Plains'}, 'units': ['34833'], 'obj_type': 'tile', 'visible': ['Axis', 'West', 'USSR'], 'owner': 'USSR'}, 'Bryansk': {'type': 'Land', 'alligence': 'USSR', 'res': '0', 'pop': '0', 'muster': '0', 'borders': {'Kharkov': 'Plains', 'Voronezh': 'Plains', 'Belorussia': 'Plains', 'Moscow': 'Forest', 'Kiev': 'River', 'Leningrad': 'Forest'}, 'units': [], 'obj_type': 'tile', 'visible': ['Axis', 'West', 'USSR'], 'owner': 'USSR'}, 'Voronezh': {'type': 'Land', 'alligence': 'USSR', 'res': '0', 'pop': '0', 'muster': '0', 'borders': {'Stalingrad': 'Plains', 'Kharkov': 'River', 'Bryansk': 'Plains', 'Ufa': 'River', 'Moscow': 'Plains', 'Penza': 'Forest'}, 'units': [], 'obj_type': 'tile', 'visible': ['Axis', 'West', 'USSR'], 'owner': 'USSR'}, 'Stalingrad': {'type': 'Land', 'alligence': 'USSR', 'res': '0', 'pop': '1', 'muster': '2', 'borders': {'Kuban': 'Plains', 'Grozny': 'Plains', 'Ufa': 'River', 'Voronezh': 'Plains', 'Kharkov': 'River'}, 'units': ['13300'], 'obj_type': 'tile', 'visible': ['Axis', 'West', 'USSR'], 'owner': 'USSR'}, 'Grozny': {'type': 'Coast', 'alligence': 'USSR', 'res': '0', 'pop': '0', 'muster': '0', 'borders': {'Baku': 'Mountains', 'Northern_Caspian_Sea': 'Coast', 'Georgia': 'Mountains', 'Kuban': 'Plains', 'Stalingrad': 'Plains', 'Ufa': 'River'}, 'units': [], 'obj_type': 'tile', 'visible': ['Axis', 'West', 'USSR'], 'owner': 'USSR'}, 'Turkmenistan': {'type': 'Coast', 'alligence': 'USSR', 'res': '0', 'pop': '0', 'muster': '0', 'borders': {'Kabul': 'Mountains', 'Tehran': 'Mountains', 'Southern_Caspian_Sea': 'Coast', 'Northern_Caspian_Sea': 'Coast', 'Kazakhstan': 'Plains'}, 'units': [], 'obj_type': 'tile', 'visible': ['Axis', 'West', 'USSR'], 'owner': 'USSR'}, 'Kuban': {'type': 'Coast', 'alligence': 'USSR', 'res': '0', 'pop': '0', 'muster': '0', 'borders': {'Georgia': 'Mountains', 'Grozny': 'Plains', 'Eastern_Black_Sea': 'Coast', 'Sea_of_Azov': 'Coast', 'Sevastopol': 'Strait', 'Kharkov': 'River', 'Stalingrad': 'Plains'}, 'units': ['33272'], 'obj_type': 'tile', 'visible': ['Axis', 'West', 'USSR'], 'owner': 'USSR'}, 'Georgia': {'type': 'Coast', 'alligence': 'USSR', 'res': '0', 'pop': '0', 'muster': '0', 'borders': {'Baku': 'Plains', 'Tabriz': 'Mountains', 'Grozny': 'Mountains', 'Kuban': 'Mountains', 'Kars': 'Mountains', 'Eastern_Black_Sea': 'Coast'}, 'units': ['31207'], 'obj_type': 'tile', 'visible': ['Axis', 'West', 'USSR'], 'owner': 'USSR'}, 'Baku': {'type': 'Coast', 'alligence': 'USSR', 'res': '3', 'res_afr': '1', 'pop': '2', 'muster': '3', 'borders': {'Tabriz': 'Mountains', 'Southern_Caspian_Sea': 'Coast', 'Georgia': 'Plains', 'Northern_Caspian_Sea': 'Coast', 'Grozny': 'Mountains'}, 'units': ['10185', '11953'], 'obj_type': 'tile', 'visible': ['Axis', 'West', 'USSR'], 'owner': 'USSR'}, 'Kiev': {'type': 'Land', 'alligence': 'USSR', 'res': '1', 'pop': '1', 'muster': '2', 'borders': {'Odessa': 'Plains', 'Kharkov': 'River', 'Bryansk': 'River', 'Lvov': 'Plains'}, 'units': ['12849'], 'obj_type': 'tile', 'visible': ['Axis', 'West', 'USSR'], 'owner': 'USSR'}, 'Kharkov': {'type': 'Coast', 'alligence': 'USSR', 'res': '1', 'pop': '1', 'muster': '2', 'borders': {'Sea_of_Azov': 'Coast', 'Sevastopol': 'Strait', 'Odessa': 'River', 'Kiev': 'River', 'Kuban': 'River', 'Stalingrad': 'River', 'Voronezh': 'River', 'Bryansk': 'Plains'}, 'units': ['9748'], 'obj_type': 'tile', 'visible': ['Axis', 'West', 'USSR'], 'owner': 'USSR'}, 'Odessa': {'type': 'Coast', 'alligence': 'USSR', 'res': '2', 'pop': '1', 'muster': '2', 'borders': {'Kharkov': 'River', 'Western_Black_Sea': 'Coast', 'Sevastopol': 'Strait', 'Kiev': 'Plains', 'Lvov': 'Plains', 'Bucharest': 'River'}, 'units': ['11508'], 'obj_type': 'tile', 'visible': ['Axis', 'West', 'USSR'], 'owner': 'USSR'}, 'Sevastopol': {'type': 'Coast', 'alligence': 'USSR', 'res': '0', 'pop': '0', 'muster': '0', 'borders': {'Western_Black_Sea': 'Strait', 'Eastern_Black_Sea': 'Strait', 'Sea_of_Azov': 'Strait', 'Kuban': 'Strait', 'Kharkov': 'Strait', 'Odessa': 'Strait'}, 'units': [], 'obj_type': 'tile', 'visible': ['Axis', 'West', 'USSR'], 'owner': 'USSR'}}, 'nations': {'designations': {'Canada': 'West', 'USA': 'Major', 'Latin_America': 'Minor', 'French_North_Africa': 'West', 'Gibraltar': 'West', 'Portugal': 'Minor', 'Spain': 'Minor', 'Ireland': 'Minor', 'Denmark': 'Minor', 'Britain': 'West', 'France': 'West', 'Italy': 'Axis', 'Malta': 'West', 'Libya': 'Axis', 'Low_Countries': 'Minor', 'Austria': 'Minor', 'Germany': 'Axis', 'Norway': 'Minor', 'Sweden': 'Minor', 'Finland': 'Minor', 'Baltic_States': 'Minor', 'Poland': 'Minor', 'Czechoslovakia': 'Minor', 'Hungary': 'Minor', 'Yugoslavia': 'Minor', 'Albania': 'Minor', 'Greece': 'Minor', 'Rumania': 'Minor', 'Bulgaria': 'Minor', 'Middle_East': 'West', 'Syria': 'West', 'India': 'West', 'Afghanistan': 'Minor', 'Persia': 'Minor', 'Turkey': 'Minor', 'USSR': 'USSR'}, 'territories': {'Canada': ['Ottawa'], 'USA': ['New_York', 'Washington'], 'Latin_America': ['Rio_de_Janeiro'], 'French_North_Africa': ['Dakar', 'Morocco', 'Algiers', 'Tunisia', 'Sfax'], 'Gibraltar': ['Gibraltar'], 'Portugal': ['Lisbon', 'Azores'], 'Spain': ['Madrid', 'Leon', 'Barcelona'], 'Ireland': ['Dublin'], 'Denmark': ['Iceland', 'Copenhagen'], 'Britain': ['Glasgow', 'London'], 'France': ['Paris', 'Lorraine', 'Gascony', 'Marseille'], 'Italy': ['Sardinia', 'Sicily', 'Milan', 'Rome', 'Venice', 'Taranto'], 'Malta': ['Malta'], 'Libya': ['Tripoli', 'Cyrenaica'], 'Low_Countries': ['Amsterdam'], 'Austria': ['Vienna'], 'Germany': ['Munich', 'Ruhr', 'Berlin', 'Konigsberg'], 'Norway': ['Oslo', 'Narvik'], 'Sweden': ['Gallivare', 'Stockholm'], 'Finland': ['Petsamo', 'Helsinki'], 'Baltic_States': ['Riga'], 'Poland': ['Warsaw', 'Vilna', 'Lvov'], 'Czechoslovakia': ['Prague'], 'Hungary': ['Budapest'], 'Yugoslavia': ['Croatia', 'Belgrade'], 'Albania': ['Albania'], 'Greece': ['Athens'], 'Rumania': ['Bucharest'], 'Bulgaria': ['Sofia'], 'Middle_East': ['Egypt', 'Suez', 'Sudan', 'Jordan', 'Iraq'], 'Syria': ['Damascus'], 'India': ['Bombay', 'Karachi', 'Delhi'], 'Afghanistan': ['Kabul'], 'Persia': ['Shiraz', 'Tehran', 'Abadan', 'Tabriz'], 'Turkey': ['Kars', 'Sinope', 'Adana', 'Ankara', 'Izmir', 'Istanbul'], 'USSR': ['Archangel', 'Vologda', 'Gorky', 'Perm', 'Urals', 'Western_Siberia', 'Leningrad', 'Moscow', 'Murmansk', 'Penza', 'Ufa', 'Kazakhstan', 'Belorussia', 'Bryansk', 'Voronezh', 'Stalingrad', 'Grozny', 'Turkmenistan', 'Kuban', 'Georgia', 'Baku', 'Kiev', 'Kharkov', 'Odessa', 'Sevastopol']}, 'capitals': {'Canada': 'Ottawa', 'USA': 'Washington', 'Latin_America': 'Latin_America', 'French_North_Africa': 'Algiers', 'Gibraltar': 'Gibraltar', 'Portugal': 'Lisbon', 'Spain': 'Madrid', 'Ireland': 'Dublin', 'Denmark': 'Copenhagen', 'Britain': 'London', 'France': 'Paris', 'Italy': 'Rome', 'Malta': 'Malta', 'Libya': 'Tripoli', 'Low_Countries': 'Amsterdam', 'Austria': 'Vienna', 'Germany': 'Berlin', 'Norway': 'Oslo', 'Sweden': 'Stockholm', 'Finland': 'Helsinki', 'Baltic_States': 'Riga', 'Poland': 'Warsaw', 'Czechoslovakia': 'Prague', 'Hungary': 'Budapest', 'Yugoslavia': 'Belgrade', 'Albania': 'Albania', 'Greece': 'Athens', 'Rumania': 'Bucharest', 'Bulgaria': 'Sofia', 'Middle_East': 'Suez', 'Syria': 'Damascus', 'India': 'Delhi', 'Afghanistan': 'Kabul', 'Persia': 'Tehran', 'Turkey': 'Ankara', 'USSR': 'Moscow'}, 'groups': {'West': ['Canada', 'French_North_Africa', 'Gibraltar', 'Britain', 'France', 'Malta', 'Middle_East', 'Syria', 'India'], 'Major': ['USA'], 'Minor': ['Latin_America', 'Portugal', 'Spain', 'Ireland', 'Denmark', 'Low_Countries', 'Austria', 'Norway', 'Sweden', 'Finland', 'Baltic_States', 'Poland', 'Czechoslovakia', 'Hungary', 'Yugoslavia', 'Albania', 'Greece', 'Rumania', 'Bulgaria', 'Afghanistan', 'Persia', 'Turkey'], 'Axis': ['Italy', 'Libya', 'Germany'], 'USSR': ['USSR']}, 'status': {'USA': {'is_armed': '0', 'units': {}}, 'Latin_America': {'is_armed': '0', 'units': {}}, 'Portugal': {'is_armed': '0', 'units': {}}, 'Spain': {'is_armed': '0', 'units': {}}, 'Ireland': {'is_armed': '0', 'units': {}}, 'Denmark': {'is_armed': '0', 'units': {}}, 'Low_Countries': {'is_armed': '0', 'units': {}}, 'Austria': {'is_armed': '0', 'units': {}}, 'Norway': {'is_armed': '0', 'units': {}}, 'Sweden': {'is_armed': '0', 'units': {}}, 'Finland': {'is_armed': '0', 'units': {}}, 'Baltic_States': {'is_armed': '0', 'units': {}}, 'Poland': {'is_armed': '0', 'units': {}}, 'Czechoslovakia': {'is_armed': '0', 'units': {}}, 'Hungary': {'is_armed': '0', 'units': {}}, 'Yugoslavia': {'is_armed': '0', 'units': {}}, 'Albania': {'is_armed': '0', 'units': {}}, 'Greece': {'is_armed': '0', 'units': {}}, 'Rumania': {'is_armed': '0', 'units': {}}, 'Bulgaria': {'is_armed': '0', 'units': {}}, 'Afghanistan': {'is_armed': '0', 'units': {}}, 'Persia': {'is_armed': '0', 'units': {}}, 'Turkey': {'is_armed': '0', 'units': {}}}}, 'players': {'Axis': {'stats': {'handlimit': '7', 'factory_all_costs': ['5', '4', '3'], 'factory_idx': '0', 'factory_cost': '5', 'emergency_command': '4', 'rivals': ['USSR', 'West'], 'DoW': {'USSR': '0', 'West': '0'}, 'at_war_with': {'USSR': '0', 'West': '0'}, 'at_war': '0', 'aggressed': '0', 'peace_dividends': ['0'], 'enable_USA': '0', 'enable_Winter': '0', 'great_power': 'Germany'}, 'cities': {'MainCapital': 'Berlin', 'SubCapitals': ['Ruhr', 'Rome']}, 'members': {'Germany': ['Germany'], 'Italy': ['Italy', 'Libya']}, 'homeland': {'Germany': ['Munich', 'Ruhr', 'Berlin', 'Konigsberg'], 'Italy': ['Sardinia', 'Sicily', 'Milan', 'Rome', 'Venice', 'Taranto']}, 'territory': ['Sardinia', 'Sicily', 'Milan', 'Rome', 'Venice', 'Taranto', 'Tripoli', 'Cyrenaica', 'Munich', 'Ruhr', 'Berlin', 'Konigsberg'], 'tracks': {'POP': '11', 'RES': '6', 'IND': '12'}, 'units': {'640': {'nationality': 'Italy', 'tile': 'Rome', 'type': 'Infantry', 'obj_type': 'unit', 'cv': '1', 'visible': ['Axis']}, '1033': {'nationality': 'Italy', 'tile': 'Tripoli', 'type': 'Tank', 'obj_type': 'unit', 'cv': '1', 'visible': ['Axis']}, '1428': {'nationality': 'Germany', 'tile': 'Ruhr', 'type': 'Submarine', 'obj_type': 'unit', 'cv': '2', 'visible': ['Axis']}, '1825': {'nationality': 'Italy', 'tile': 'Milan', 'type': 'Submarine', 'obj_type': 'unit', 'cv': '1', 'visible': ['Axis']}, '2224': {'nationality': 'Italy', 'tile': 'Rome', 'type': 'Submarine', 'obj_type': 'unit', 'cv': '2', 'visible': ['Axis']}, '2625': {'nationality': 'Germany', 'tile': 'Berlin', 'type': 'Infantry', 'obj_type': 'unit', 'cv': '1', 'visible': ['Axis']}, '3028': {'nationality': 'Italy', 'tile': 'Rome', 'type': 'AirForce', 'obj_type': 'unit', 'cv': '1', 'visible': ['Axis']}, '3433': {'nationality': 'Germany', 'tile': 'Berlin', 'type': 'Carrier', 'obj_type': 'unit', 'cv': '1', 'visible': ['Axis']}, '3840': {'nationality': 'Germany', 'tile': 'Berlin', 'type': 'Fortress', 'obj_type': 'unit', 'cv': '1', 'visible': ['Axis']}, '4249': {'nationality': 'Italy', 'tile': 'Rome', 'type': 'Tank', 'obj_type': 'unit', 'cv': '1', 'visible': ['Axis']}, '4660': {'nationality': 'Germany', 'tile': 'Berlin', 'type': 'Tank', 'obj_type': 'unit', 'cv': '1', 'visible': ['Axis']}, '5073': {'nationality': 'Germany', 'tile': 'Berlin', 'type': 'Fleet', 'obj_type': 'unit', 'cv': '1', 'visible': ['Axis']}, '5488': {'nationality': 'Germany', 'tile': 'Munich', 'type': 'Tank', 'obj_type': 'unit', 'cv': '1', 'visible': ['Axis']}, '5905': {'nationality': 'Germany', 'tile': 'Berlin', 'type': 'Infantry', 'obj_type': 'unit', 'cv': '1', 'visible': ['Axis']}, '6324': {'nationality': 'Germany', 'tile': 'Ruhr', 'type': 'Fleet', 'obj_type': 'unit', 'cv': '1', 'visible': ['Axis']}, '6745': {'nationality': 'Germany', 'tile': 'Ruhr', 'type': 'Submarine', 'obj_type': 'unit', 'cv': '1', 'visible': ['Axis']}, '7168': {'nationality': 'Italy', 'tile': 'Milan', 'type': 'AirForce', 'obj_type': 'unit', 'cv': '1', 'visible': ['Axis']}, '7593': {'nationality': 'Germany', 'tile': 'Munich', 'type': 'Fortress', 'obj_type': 'unit', 'cv': '1', 'visible': ['Axis']}, '8020': {'nationality': 'Italy', 'tile': 'Tripoli', 'type': 'AirForce', 'obj_type': 'unit', 'cv': '1', 'visible': ['Axis']}, '8449': {'nationality': 'Germany', 'tile': 'Ruhr', 'type': 'Carrier', 'obj_type': 'unit', 'cv': '1', 'visible': ['Axis']}, '8880': {'nationality': 'Germany', 'tile': 'Konigsberg', 'type': 'Fleet', 'obj_type': 'unit', 'cv': '1', 'visible': ['Axis']}, '9313': {'nationality': 'Germany', 'tile': 'Konigsberg', 'type': 'Fleet', 'obj_type': 'unit', 'cv': '1', 'visible': ['Axis']}, '22234': {'nationality': 'Germany', 'tile': 'Ruhr', 'type': 'Submarine', 'obj_type': 'unit', 'cv': '1', 'visible': ['Axis']}, '22719': {'nationality': 'Italy', 'tile': 'Venice', 'type': 'Fortress', 'obj_type': 'unit', 'cv': '1', 'visible': ['Axis']}, '23692': {'nationality': 'Italy', 'tile': 'Taranto', 'type': 'Fleet', 'obj_type': 'unit', 'cv': '1', 'visible': ['Axis']}, '24181': {'nationality': 'Italy', 'tile': 'Taranto', 'type': 'Fleet', 'obj_type': 'unit', 'cv': '1', 'visible': ['Axis']}, '24672': {'nationality': 'Germany', 'tile': 'Ruhr', 'type': 'Fleet', 'obj_type': 'unit', 'cv': '1', 'visible': ['Axis']}, '25657': {'nationality': 'Italy', 'tile': 'Cyrenaica', 'type': 'Fortress', 'obj_type': 'unit', 'cv': '1', 'visible': ['Axis']}, '26152': {'nationality': 'Germany', 'tile': 'Berlin', 'type': 'AirForce', 'obj_type': 'unit', 'cv': '1', 'visible': ['Axis']}, '26649': {'nationality': 'Italy', 'tile': 'Venice', 'type': 'Carrier', 'obj_type': 'unit', 'cv': '1', 'visible': ['Axis']}}, 'hand': ['action_18', 'action_20', 'action_3', 'action_26', 'action_40', 'action_25', 'action_6', 'action_7', 'action_48', 'action_37', 'action_4', 'action_33', 'action_36', 'action_38', 'invest_25'], 'technologies': [], 'secret_vault': [], 'influence': [], 'diplomacy': {'associates': [], 'protectorates': [], 'satellites': [], 'violations': []}}, 'USSR': {'stats': {'handlimit': '6', 'factory_all_costs': ['7', '5', '3'], 'factory_idx': '0', 'factory_cost': '7', 'emergency_command': '2', 'rivals': ['Axis', 'West'], 'DoW': {'Axis': '0', 'West': '0'}, 'at_war_with': {'Axis': '0', 'West': '0'}, 'at_war': '0', 'aggressed': '0', 'peace_dividends': ['0'], 'enable_USA': '0', 'enable_Winter': '1', 'great_power': 'USSR'}, 'cities': {'MainCapital': 'Moscow', 'SubCapitals': ['Leningrad', 'Baku']}, 'members': {'USSR': ['USSR']}, 'homeland': {'USSR': ['Archangel', 'Vologda', 'Gorky', 'Perm', 'Urals', 'Western_Siberia', 'Leningrad', 'Moscow', 'Murmansk', 'Penza', 'Ufa', 'Kazakhstan', 'Belorussia', 'Bryansk', 'Voronezh', 'Stalingrad', 'Grozny', 'Turkmenistan', 'Kuban', 'Georgia', 'Baku', 'Kiev', 'Kharkov', 'Odessa', 'Sevastopol']}, 'territory': ['Archangel', 'Vologda', 'Gorky', 'Perm', 'Urals', 'Western_Siberia', 'Leningrad', 'Moscow', 'Murmansk', 'Penza', 'Ufa', 'Kazakhstan', 'Belorussia', 'Bryansk', 'Voronezh', 'Stalingrad', 'Grozny', 'Turkmenistan', 'Kuban', 'Georgia', 'Baku', 'Kiev', 'Kharkov', 'Odessa', 'Sevastopol'], 'tracks': {'POP': '12', 'RES': '11', 'IND': '9'}, 'units': {'9748': {'nationality': 'USSR', 'tile': 'Kharkov', 'type': 'Carrier', 'obj_type': 'unit', 'cv': '1', 'visible': ['USSR']}, '10185': {'nationality': 'USSR', 'tile': 'Baku', 'type': 'Tank', 'obj_type': 'unit', 'cv': '1', 'visible': ['USSR']}, '10624': {'nationality': 'USSR', 'tile': 'Leningrad', 'type': 'Tank', 'obj_type': 'unit', 'cv': '1', 'visible': ['USSR']}, '11065': {'nationality': 'USSR', 'tile': 'Leningrad', 'type': 'Fortress', 'obj_type': 'unit', 'cv': '1', 'visible': ['USSR']}, '11508': {'nationality': 'USSR', 'tile': 'Odessa', 'type': 'Tank', 'obj_type': 'unit', 'cv': '2', 'visible': ['USSR']}, '11953': {'nationality': 'USSR', 'tile': 'Baku', 'type': 'Infantry', 'obj_type': 'unit', 'cv': '1', 'visible': ['USSR']}, '12400': {'nationality': 'USSR', 'tile': 'Urals', 'type': 'Tank', 'obj_type': 'unit', 'cv': '2', 'visible': ['USSR']}, '12849': {'nationality': 'USSR', 'tile': 'Kiev', 'type': 'Tank', 'obj_type': 'unit', 'cv': '1', 'visible': ['USSR']}, '13300': {'nationality': 'USSR', 'tile': 'Stalingrad', 'type': 'AirForce', 'obj_type': 'unit', 'cv': '2', 'visible': ['USSR']}, '13753': {'nationality': 'USSR', 'tile': 'Moscow', 'type': 'AirForce', 'obj_type': 'unit', 'cv': '1', 'visible': ['USSR']}, '14208': {'nationality': 'USSR', 'tile': 'Moscow', 'type': 'AirForce', 'obj_type': 'unit', 'cv': '1', 'visible': ['USSR']}, '14665': {'nationality': 'USSR', 'tile': 'Moscow', 'type': 'Tank', 'obj_type': 'unit', 'cv': '1', 'visible': ['USSR']}, '30694': {'nationality': 'USSR', 'tile': 'Murmansk', 'type': 'Submarine', 'obj_type': 'unit', 'cv': '1', 'visible': ['USSR']}, '31207': {'nationality': 'USSR', 'tile': 'Georgia', 'type': 'Fleet', 'obj_type': 'unit', 'cv': '1', 'visible': ['USSR']}, '32236': {'nationality': 'USSR', 'tile': 'Ufa', 'type': 'AirForce', 'obj_type': 'unit', 'cv': '1', 'visible': ['USSR']}, '32753': {'nationality': 'USSR', 'tile': 'Moscow', 'type': 'Fortress', 'obj_type': 'unit', 'cv': '1', 'visible': ['USSR']}, '33272': {'nationality': 'USSR', 'tile': 'Kuban', 'type': 'Fleet', 'obj_type': 'unit', 'cv': '1', 'visible': ['USSR']}, '34833': {'nationality': 'USSR', 'tile': 'Belorussia', 'type': 'AirForce', 'obj_type': 'unit', 'cv': '1', 'visible': ['USSR']}}, 'hand': ['action_45', 'action_52', 'action_14', 'action_10', 'action_43', 'action_53'], 'technologies': [], 'secret_vault': [], 'influence': [], 'diplomacy': {'associates': [], 'protectorates': [], 'satellites': [], 'violations': []}}, 'West': {'stats': {'handlimit': '8', 'factory_all_costs': ['6', '5', '4', '3'], 'factory_idx': '0', 'factory_cost': '6', 'emergency_command': '2', 'rivals': ['Axis', 'USSR'], 'DoW': {'Axis': '0', 'USSR': '0'}, 'at_war_with': {'Axis': '0', 'USSR': '0'}, 'at_war': '0', 'aggressed': '0', 'peace_dividends': ['0'], 'enable_USA': '1', 'enable_Winter': '0', 'great_power': 'Britain'}, 'cities': {'MainCapital': 'London', 'SubCapitals': ['Delhi', 'Paris', 'Washington']}, 'members': {'Britain': ['Britain', 'Canada', 'Gibraltar', 'Malta', 'Middle_East', 'India'], 'France': ['France', 'French_North_Africa', 'Syria']}, 'homeland': {'Britain': ['Glasgow', 'London'], 'France': ['Paris', 'Lorraine', 'Gascony', 'Marseille']}, 'territory': ['Ottawa', 'Dakar', 'Morocco', 'Algiers', 'Tunisia', 'Sfax', 'Gibraltar', 'Glasgow', 'London', 'Paris', 'Lorraine', 'Gascony', 'Marseille', 'Malta', 'Egypt', 'Suez', 'Sudan', 'Jordan', 'Iraq', 'Damascus', 'Bombay', 'Karachi', 'Delhi'], 'tracks': {'POP': '12', 'RES': '11', 'IND': '7'}, 'units': {'246': {'nationality': 'Britain', 'tile': 'London', 'type': 'Fleet', 'cv': '4', 'obj_type': 'unit', 'visible': ['West']}, '247': {'nationality': 'Britain', 'tile': 'Gibraltar', 'type': 'Fortress', 'cv': '1', 'obj_type': 'unit', 'visible': ['West']}, '248': {'nationality': 'Britain', 'tile': 'Karachi', 'type': 'Fortress', 'cv': '1', 'obj_type': 'unit', 'visible': ['West']}, '249': {'nationality': 'France', 'tile': 'Lorraine', 'type': 'Fortress', 'cv': '3', 'obj_type': 'unit', 'visible': ['West']}, '15124': {'nationality': 'France', 'tile': 'Paris', 'type': 'Fleet', 'obj_type': 'unit', 'cv': '1', 'visible': ['West']}, '15585': {'nationality': 'Britain', 'tile': 'London', 'type': 'Carrier', 'obj_type': 'unit', 'cv': '1', 'visible': ['West']}, '16048': {'nationality': 'France', 'tile': 'Marseille', 'type': 'AirForce', 'obj_type': 'unit', 'cv': '1', 'visible': ['West']}, '16513': {'nationality': 'Britain', 'tile': 'Delhi', 'type': 'Tank', 'obj_type': 'unit', 'cv': '1', 'visible': ['West']}, '16980': {'nationality': 'France', 'tile': 'Paris', 'type': 'Infantry', 'obj_type': 'unit', 'cv': '1', 'visible': ['West']}, '17449': {'nationality': 'France', 'tile': 'Algiers', 'type': 'Carrier', 'obj_type': 'unit', 'cv': '1', 'visible': ['West']}, '17920': {'nationality': 'Britain', 'tile': 'Suez', 'type': 'Carrier', 'obj_type': 'unit', 'cv': '1', 'visible': ['West']}, '18393': {'nationality': 'Britain', 'tile': 'London', 'type': 'Fortress', 'obj_type': 'unit', 'cv': '2', 'visible': ['West']}, '18868': {'nationality': 'Britain', 'tile': 'London', 'type': 'Tank', 'obj_type': 'unit', 'cv': '1', 'visible': ['West']}, '19345': {'nationality': 'Britain', 'tile': 'Glasgow', 'type': 'Fleet', 'obj_type': 'unit', 'cv': '1', 'visible': ['West']}, '19824': {'nationality': 'Britain', 'tile': 'Bombay', 'type': 'Fortress', 'obj_type': 'unit', 'cv': '1', 'visible': ['West']}, '20305': {'nationality': 'Britain', 'tile': 'Delhi', 'type': 'AirForce', 'obj_type': 'unit', 'cv': '1', 'visible': ['West']}, '27148': {'nationality': 'France', 'tile': 'Gascony', 'type': 'Fleet', 'obj_type': 'unit', 'cv': '1', 'visible': ['West']}, '27649': {'nationality': 'France', 'tile': 'Marseille', 'type': 'Tank', 'obj_type': 'unit', 'cv': '1', 'visible': ['West']}, '28152': {'nationality': 'France', 'tile': 'Gascony', 'type': 'AirForce', 'obj_type': 'unit', 'cv': '1', 'visible': ['West']}, '28657': {'nationality': 'Britain', 'tile': 'Sudan', 'type': 'Fortress', 'obj_type': 'unit', 'cv': '1', 'visible': ['West']}, '29164': {'nationality': 'Britain', 'tile': 'Glasgow', 'type': 'Fleet', 'obj_type': 'unit', 'cv': '1', 'visible': ['West']}, '29673': {'nationality': 'Britain', 'tile': 'Ottawa', 'type': 'Fortress', 'obj_type': 'unit', 'cv': '1', 'visible': ['West']}}, 'hand': ['action_21', 'action_22', 'action_19', 'action_30', 'action_29', 'action_24', 'action_44', 'action_27'], 'technologies': [], 'secret_vault': [], 'influence': [], 'diplomacy': {'associates': [], 'protectorates': [], 'satellites': [], 'violations': []}}}, 'diplomacy': {'minors': {'Latin_America': {'faction': 'None', 'value': '0'}, 'Portugal': {'faction': 'None', 'value': '0'}, 'Spain': {'faction': 'None', 'value': '0'}, 'Ireland': {'faction': 'None', 'value': '0'}, 'Denmark': {'faction': 'None', 'value': '0'}, 'Low_Countries': {'faction': 'None', 'value': '0'}, 'Austria': {'faction': 'None', 'value': '0'}, 'Norway': {'faction': 'None', 'value': '0'}, 'Sweden': {'faction': 'None', 'value': '0'}, 'Finland': {'faction': 'None', 'value': '0'}, 'Baltic_States': {'faction': 'None', 'value': '0'}, 'Poland': {'faction': 'None', 'value': '0'}, 'Czechoslovakia': {'faction': 'None', 'value': '0'}, 'Hungary': {'faction': 'None', 'value': '0'}, 'Yugoslavia': {'faction': 'None', 'value': '0'}, 'Albania': {'faction': 'None', 'value': '0'}, 'Greece': {'faction': 'None', 'value': '0'}, 'Rumania': {'faction': 'None', 'value': '0'}, 'Bulgaria': {'faction': 'None', 'value': '0'}, 'Afghanistan': {'faction': 'None', 'value': '0'}, 'Persia': {'faction': 'None', 'value': '0'}, 'Turkey': {'faction': 'None', 'value': '0'}}, 'majors': {'USA': {'faction': 'None', 'value': '0'}}, 'neutrals': {'Latin_America': {'faction': 'None', 'value': '0'}, 'Portugal': {'faction': 'None', 'value': '0'}, 'Spain': {'faction': 'None', 'value': '0'}, 'Ireland': {'faction': 'None', 'value': '0'}, 'Denmark': {'faction': 'None', 'value': '0'}, 'Low_Countries': {'faction': 'None', 'value': '0'}, 'Austria': {'faction': 'None', 'value': '0'}, 'Norway': {'faction': 'None', 'value': '0'}, 'Sweden': {'faction': 'None', 'value': '0'}, 'Finland': {'faction': 'None', 'value': '0'}, 'Baltic_States': {'faction': 'None', 'value': '0'}, 'Poland': {'faction': 'None', 'value': '0'}, 'Czechoslovakia': {'faction': 'None', 'value': '0'}, 'Hungary': {'faction': 'None', 'value': '0'}, 'Yugoslavia': {'faction': 'None', 'value': '0'}, 'Albania': {'faction': 'None', 'value': '0'}, 'Greece': {'faction': 'None', 'value': '0'}, 'Rumania': {'faction': 'None', 'value': '0'}, 'Bulgaria': {'faction': 'None', 'value': '0'}, 'Afghanistan': {'faction': 'None', 'value': '0'}, 'Persia': {'faction': 'None', 'value': '0'}, 'Turkey': {'faction': 'None', 'value': '0'}, 'USA': {'faction': 'None', 'value': '0'}}, 'influence': {}}, 'cards': {'action': {'deck': ['action_50', 'action_9', 'action_31', 'action_42', 'action_35', 'action_8', 'action_2', 'action_55', 'action_5', 'action_28', 'action_34', 'action_15', 'action_23', 'action_13', 'action_46', 'action_11', 'action_16', 'action_54', 'action_47', 'action_41', 'action_49', 'action_51', 'action_39', 'action_32', 'action_17', 'action_12', 'action_1'], 'discard_pile': []}, 'investment': {'deck': ['invest_17', 'invest_36', 'invest_7', 'invest_38', 'invest_47', 'invest_4', 'invest_12', 'invest_43', 'invest_44', 'invest_45', 'invest_20', 'invest_41', 'invest_34', 'invest_31', 'invest_8', 'invest_5', 'invest_3', 'invest_29', 'invest_55', 'invest_11', 'invest_49', 'invest_54', 'invest_50', 'invest_23', 'invest_13', 'invest_10', 'invest_39', 'invest_6', 'invest_48', 'invest_26', 'invest_32', 'invest_53', 'invest_37', 'invest_22', 'invest_52', 'invest_19', 'invest_27', 'invest_1', 'invest_51', 'invest_18', 'invest_16', 'invest_2', 'invest_35', 'invest_33', 'invest_21', 'invest_9', 'invest_28', 'invest_30', 'invest_42', 'invest_40', 'invest_24', 'invest_46', 'invest_15', 'invest_14'], 'discard_pile': []}, 'info': {'action': {'Ties_that_Bind': {'message': 'Add_1_Friendly_(or_remove_1_Rival)_Influence_marker_from_one_of_the_Neutral_nations_listed_after_your_Faction.', 'add': '1', 'remove': '1', 'from_self': '1', 'options': {'Axis': ['Austria', 'Hungary', 'Bulgaria'], 'West': ['USA', 'Low_Countries', 'Czechoslovakia'], 'USSR': ['Spain', 'Yugoslavia']}}, 'Ethnic_Ties': {'message': 'Add_1_Friendly_(or_remove_1_Rival)_Influence_marker_to_one_of_the_Neutral_Nations_listed_after_your_Faction.', 'add': '1', 'remove': '1', 'from_self': '1', 'options': {'Axis': ['Austria', 'Sweden', 'Norway'], 'West': ['USA', 'Norway', 'Low_Countries', 'Rumania'], 'USSR': ['Yugoslavia', 'Poland', 'Bulgaria']}}, 'Birds_of_a_Feather_1': {'message': 'Add_1_Friendly_(or_remove_1_Rival)_Influence_marker_in_one_of_the_Neutral_Nations_listed_after_your_Faction.', 'add': '1', 'remove': '1', 'from_self': '1', 'options': {'Axis': ['Poland', 'Spain', 'Bulgaria', 'Baltic_States'], 'West': ['USA', 'Low_Countries', 'Denmark', 'Czechoslovakia'], 'USSR': ['Spain']}}, 'Foreign_Aid': {'message': 'Reduce_Friendly_IND_by_1_to_add_1_Friendly_(or_remove_1_Rival)_Influence_marker_in_any_Neutral_Nation', 'add': '1', 'remove': '1'}, 'Brothers_in_Arms': {'message': 'Add_1_Friendly_(or_remove_1_Rival)_Influence_marker_to_one_of_the_Neutral_Nations_listed_after_your_Faction.', 'add': '1', 'remove': '1', 'from_self': '1', 'options': {'Axis': ['Austria', 'Hungary', 'Bulgaria'], 'West': ['USA', 'Low_Countries', 'Rumania'], 'USSR': ['Spain', 'Czechoslovakia']}}, 'Birds_of_a_Feather_2': {'message': 'Add_1_Friendly_(or_remove_1_Rival)_Influence_marker_in_one_of_the_Neutral_Nations_listed_after_your_Faction.', 'add': '1', 'remove': '1', 'from_self': '1', 'options': {'Axis': ['Portugal', 'Spain', 'Yugoslavia', 'Latin_America'], 'West': ['USA', 'Norway', 'Denmark', 'Sweden'], 'USSR': ['Spain']}}, 'Isolationism': {'message': 'Remove_1_Rival_Influence_marker_from_the_USA,_Spain,_Low_Countries,_Poland,_Sweden,_or_Turkey', 'remove': '1', 'options': ['USA', 'Spain', 'Low_Countries', 'Poland', 'Sweden', 'Turkey']}, 'Fear_&_Loathing': {'message': 'Remove_a_Rival_Influence_marker_from_one_of_the_Neutral_Nations_listed_after_that_Rival.', 'remove': '1', 'from_self': '0', 'options': {'Axis': ['Low_Countries', 'Czechoslovakia', 'Poland', 'Yugoslavia', 'Norway', 'Rumania', 'USA'], 'West': ['Austria', 'Hungary', 'Bulgaria', 'Latin_America', 'Turkey', 'Persia'], 'USSR': ['Poland', 'Rumania', 'Turkey', 'Finland', 'Sweden', 'Baltic_States', 'USA']}}, 'Guarantee': {'message': 'Add_1_Friendly_(or_remove_1_Rival)_Influence_marker_in_any_Neutral_Nation_adjacent_to_Rival-controlled_Territory.', 'add': '1', 'remove': '1', 'adjacent': '1', 'from_self': '0'}, 'Versailles': {'message': 'Add_1_Friendly_(or_remove_1_Rival)_Influence_marker_from_one_of_the_Neural_Nations_listed_after_your_Faction.', 'add': '1', 'remove': '1', 'from_self': '1', 'options': {'Axis': ['Austria', 'Hungary', 'Turkey'], 'West': ['Poland', 'Czechoslovakia', 'Yugoslavia'], 'USSR': ['Yugoslavia']}}, 'Intimidation': {'message': 'Add_1_Friendly_(or_remove_1_Rival)_Influence_marker_in_any_Neutral_Nation_adjacent_to_Friendly-controlled_Territory.', 'add': '1', 'remove': '1', 'adjacent': '1', 'from_self': '1'}}, 'investment': {'technologies': {'Atomic_Research_4': 'Implosion_trigger_-_wins_game*', 'Atomic_Research_3': 'Plutonium_-_allows_step_4', 'Atomic_Research_2': 'Breeder_Reactor_-_allows_step_3', 'Atomic_Research_1': 'Atomic_Pile_-_allows_step_2', 'Jets': 'AFs_FirstFire', 'Rocket_Artillery': 'Infantry_FirstFire', 'LSTs': '2_invaders_per_border', 'Heavy_Bombers': 'AFs_move_3', 'Motorized_Infantry': 'Infantry_moves_3', 'Heavy_Tanks': 'Tanks_FirstFire', 'Precision_Bombsight': 'AF_can_bomb_IND', 'Air_Defense_Radar': 'AFs_2A3_in_friendly_territory', 'Naval_Radar': 'Fleets_FirstFire', 'Sonar': 'Fleet_S3', 'Industrial_Espionage': 'pair_with_revealed_tech_to_achieve_tech'}, 'intelligence': {'Spy_Ring': 'Blindly_steal_one_card_from_a_Rival', 'Code_Break': 'Inspect_rival_hand', 'Agent': 'Inspect_rival_units_on_one_tile', 'Sabotage': 'Reduce_rival_industry_by_1', 'Coup': 'Remove_all_rival_influence_from_1_neutral_minor', 'Double_Agent': 'Reverse_Intel_card_effect', 'Mole': 'Inspect_secret_vault,_and_steal_tech_(achieve_a_tech_in_the_vault_by_pairing_with_one_of_your_cards)'}}}}, 'units': {'rules': {'Fortress': {'priority': '1', 'type': 'G', 'move': '0', 'A': '2', 'N': '3', 'G': '4', 'S': '3'}, 'AirForce': {'rebase': '1', 'priority': '2', 'type': 'A', 'move': '2', 'A': '3', 'N': '1', 'G': '1', 'S': '1'}, 'Carrier': {'rebase': '1', 'doubleHit': '1', 'priority': '3', 'type': 'N', 'move': '3', 'A': '2', 'N': '2', 'G': '1', 'S': '2'}, 'Submarine': {'rebase': '1', 'priority': '4', 'type': 'S', 'move': '2', 'A': '0', 'N': '1', 'G': '0', 'S': '1'}, 'Fleet': {'rebase': '1', 'priority': '5', 'type': 'N', 'move': '3', 'A': '1', 'N': '3', 'G': '1', 'S': '2'}, 'Tank': {'priority': '6', 'type': 'G', 'move': '3', 'A': '0', 'N': '0', 'G': '2', 'S': '0'}, 'Infantry': {'priority': '7', 'type': 'G', 'move': '2', 'A': '1', 'N': '1', 'G': '3', 'S': '0'}, 'Convoy': {'not_placeable': '1', 'priority': '8', 'doubleHit': '1', 'type': 'N', 'move': '2', 'A': '0', 'N': '0', 'G': '0', 'S': '0'}}, 'placeable': ['Fortress', 'AirForce', 'Carrier', 'Submarine', 'Fleet', 'Tank', 'Infantry'], 'priorities': ['Fortress', 'AirForce', 'Carrier', 'Submarine', 'Fleet', 'Tank', 'Infantry', 'Convoy'], 'reserves': {'Germany': {'Infantry': '14', 'Fortress': '6', 'Tank': '6', 'AirForce': '7', 'Fleet': '1', 'Carrier': '0', 'Submarine': '5'}, 'Italy': {'Infantry': '5', 'Fortress': '0', 'Tank': '0', 'AirForce': '0', 'Fleet': '2', 'Carrier': '0', 'Submarine': '0'}, 'USSR': {'Infantry': '15', 'Fortress': '4', 'Tank': '2', 'AirForce': '1', 'Fleet': '2', 'Carrier': '1', 'Submarine': '1'}, 'Britain': {'Infantry': '6', 'Fortress': '0', 'Tank': '1', 'AirForce': '3', 'Fleet': '3', 'Carrier': '0', 'Submarine': '3'}, 'France': {'Infantry': '5', 'Fortress': '2', 'Tank': '1', 'AirForce': '1', 'Fleet': '2', 'Carrier': '0', 'Submarine': '1'}, 'USA': {'Infantry': '4', 'Fortress': '2', 'Tank': '4', 'AirForce': '4', 'Fleet': '4', 'Carrier': '1', 'Submarine': '1'}}}, 'logger': '<util.Logger object at 0x7f21c1df2be0>', 'temp': {'active_idx': '3', 'prod': {}}, 'random': '<random.Random object at 0x7fffdca50c78>'}))\n",
       "\t\t});\n",
       "\t\t"
      ]
     },
     "metadata": {},
     "output_type": "display_data"
    }
   ],
   "source": [
    "G = get_G()\n",
    "render_dict(G)"
   ]
  },
  {
   "cell_type": "code",
   "execution_count": 6,
   "metadata": {},
   "outputs": [],
   "source": [
    "action = ('pass',)\n",
    "player = 'Axis'"
   ]
  },
  {
   "cell_type": "code",
   "execution_count": 10,
   "metadata": {
    "scrolled": true
   },
   "outputs": [
    {
     "name": "stdout",
     "output_type": "stream",
     "text": [
      "Axis LOG\n",
      "Beginning Government Phase\n",
      "\n",
      "created: \n",
      "updated: \n",
      "removed: \n"
     ]
    }
   ],
   "source": [
    "out = format_msg_to_python(get_status(player))\n",
    "if 'log' in out:\n",
    "    print('{} LOG'.format(player))\n",
    "    print(out.log)\n",
    "if 'error' in out:\n",
    "    print(out.error)\n",
    "print('created: {}'.format(', '.join(map(str, out.created))))\n",
    "print('updated: {}'.format(', '.join(map(str, out.updated))))\n",
    "print('removed: {}'.format(', '.join(map(str, out.removed))))"
   ]
  },
  {
   "cell_type": "code",
   "execution_count": 8,
   "metadata": {
    "scrolled": true
   },
   "outputs": [
    {
     "name": "stdout",
     "output_type": "stream",
     "text": [
      "WAITING: {}\n"
     ]
    }
   ],
   "source": [
    "if 'actions' in out:\n",
    "    actions = list(util.decode_actions(out.actions))\n",
    "    print('ACTIONS: {}'.format(len(actions)))\n",
    "    for i, a in enumerate(actions):\n",
    "        print(i, a)\n",
    "if 'waiting_for' in out:\n",
    "    print('WAITING: {}'.format(out.waiting_for))\n",
    "#render_dict(out)"
   ]
  },
  {
   "cell_type": "code",
   "execution_count": 10,
   "metadata": {},
   "outputs": [
    {
     "data": {
      "text/plain": [
       "('Italy', 'Rome', 'Infantry')"
      ]
     },
     "execution_count": 10,
     "metadata": {},
     "output_type": "execute_result"
    }
   ],
   "source": [
    "action = actions[31]\n",
    "action"
   ]
  },
  {
   "cell_type": "code",
   "execution_count": 9,
   "metadata": {},
   "outputs": [],
   "source": [
    "out = format_msg_to_python(take_action(player, action))\n",
    "if 'waiting_for' in out:\n",
    "    player = out.waiting_for.pop()\n",
    "    print('SWITCHING to {}'.format(player))"
   ]
  },
  {
   "cell_type": "code",
   "execution_count": 13,
   "metadata": {},
   "outputs": [
    {
     "data": {
      "text/plain": [
       "46"
      ]
     },
     "execution_count": 13,
     "metadata": {},
     "output_type": "execute_result"
    }
   ],
   "source": [
    "actions = util.decode_actions(out.actions)\n",
    "len(actions)"
   ]
  },
  {
   "cell_type": "code",
   "execution_count": 15,
   "metadata": {},
   "outputs": [
    {
     "data": {
      "text/plain": [
       "False"
      ]
     },
     "execution_count": 15,
     "metadata": {},
     "output_type": "execute_result"
    }
   ],
   "source": [
    "('Italy', 'Rome', 'Infantry') in actions"
   ]
  },
  {
   "cell_type": "code",
   "execution_count": null,
   "metadata": {
    "collapsed": true
   },
   "outputs": [],
   "source": []
  },
  {
   "cell_type": "code",
   "execution_count": null,
   "metadata": {
    "collapsed": true
   },
   "outputs": [],
   "source": []
  },
  {
   "cell_type": "code",
   "execution_count": 215,
   "metadata": {},
   "outputs": [
    {
     "data": {
      "text/plain": [
       "{'value':1, 'nation':'Greece', 'faction':'USSR', 'obj_type':'influence', 'visible':{'Axis', 'USSR', 'West'}}"
      ]
     },
     "execution_count": 215,
     "metadata": {},
     "output_type": "execute_result"
    }
   ],
   "source": [
    "out.created['392']"
   ]
  },
  {
   "cell_type": "code",
   "execution_count": 66,
   "metadata": {},
   "outputs": [
    {
     "data": {
      "text/plain": [
       "{'obj_type':'investment_card', 'visible':{}}"
      ]
     },
     "execution_count": 66,
     "metadata": {},
     "output_type": "execute_result"
    }
   ],
   "source": [
    "out.updated['invest_13']"
   ]
  },
  {
   "cell_type": "code",
   "execution_count": null,
   "metadata": {
    "collapsed": true
   },
   "outputs": [],
   "source": []
  },
  {
   "cell_type": "code",
   "execution_count": 186,
   "metadata": {
    "collapsed": true
   },
   "outputs": [],
   "source": [
    "#G.players[player].stats"
   ]
  },
  {
   "cell_type": "code",
   "execution_count": 67,
   "metadata": {
    "collapsed": true
   },
   "outputs": [],
   "source": [
    "player = 'West'"
   ]
  },
  {
   "cell_type": "code",
   "execution_count": 68,
   "metadata": {
    "collapsed": true
   },
   "outputs": [],
   "source": [
    "#draw_cards(G, 'investment', player, 20)"
   ]
  },
  {
   "cell_type": "code",
   "execution_count": 69,
   "metadata": {
    "scrolled": true
   },
   "outputs": [
    {
     "data": {
      "text/html": [
       "<div id=\"732d9417-6dab-4888-9b4a-635c2a15ad69\" style=\"height: 600px; width:100%;\"></div>"
      ]
     },
     "metadata": {},
     "output_type": "display_data"
    },
    {
     "data": {
      "application/javascript": [
       "\n",
       "\t\trequire([\"https://rawgit.com/caldwell/renderjson/master/renderjson.js\"], function() {\n",
       "\t\t  renderjson.set_show_to_level(1)\n",
       "\t\t  document.getElementById('732d9417-6dab-4888-9b4a-635c2a15ad69').appendChild(renderjson({'invest_33': {'intelligence': 'Sabotage', 'value': '3', 'obj_type': 'investment_card', 'visible': ['West'], 'owner': 'West'}, 'action_18': {'top': 'Hungary', 'bottom': 'Poland', 'season': 'Summer', 'priority': 'C', 'value': '6', 'obj_type': 'action_card', 'visible': ['West'], 'owner': 'West'}, 'action_48': {'wildcard': 'Isolationism', 'season': 'Fall', 'priority': 'H', 'value': '8', 'obj_type': 'action_card', 'visible': ['West'], 'owner': 'West'}, 'action_25': {'top': 'USA', 'bottom': 'Sweden', 'season': 'Summer', 'priority': 'J', 'value': '9', 'obj_type': 'action_card', 'visible': ['West'], 'owner': 'West'}, 'action_38': {'top': 'Austria', 'bottom': 'Latin_America', 'season': 'Summer', 'priority': 'X', 'value': '7', 'obj_type': 'action_card', 'visible': ['West'], 'owner': 'West'}, 'action_12': {'wildcard': 'Birds_of_a_Feather_1', 'season': 'Spring', 'priority': 'L', 'value': '5', 'obj_type': 'action_card', 'visible': ['West'], 'owner': 'West'}, 'action_7': {'top': 'Hungary', 'bottom': 'Yugoslavia', 'season': 'Spring', 'priority': 'G', 'value': '6', 'obj_type': 'action_card', 'visible': ['West'], 'owner': 'West'}, 'action_11': {'top': 'Austria', 'bottom': 'Afghanistan', 'season': 'Spring', 'priority': 'K', 'value': '5', 'obj_type': 'action_card', 'visible': ['West'], 'owner': 'West'}, 'invest_18': {'top': 'Atomic_Research_1', 'bottom': 'Precision_Bombsights', 'value': '3', 'obj_type': 'investment_card', 'visible': ['West'], 'owner': 'West'}, 'action_16': {'top': 'Czechoslovakia', 'bottom': 'Spain', 'season': 'Summer', 'priority': 'A', 'value': '6', 'obj_type': 'action_card', 'visible': ['West'], 'owner': 'West'}, 'invest_11': {'top': 'Motorized_Infantry', 'bottom': 'LSTs', 'value': '3', 'obj_type': 'investment_card', 'visible': ['West'], 'owner': 'West'}}))\n",
       "\t\t});\n",
       "\t\t"
      ]
     },
     "metadata": {},
     "output_type": "display_data"
    }
   ],
   "source": [
    "cards = tdict({ID:G.objects.table[ID] for ID in G.players[player].hand})\n",
    "render_dict(cards)"
   ]
  },
  {
   "cell_type": "code",
   "execution_count": 33,
   "metadata": {
    "collapsed": true
   },
   "outputs": [],
   "source": [
    "player = 'West'"
   ]
  },
  {
   "cell_type": "code",
   "execution_count": 10,
   "metadata": {
    "collapsed": true
   },
   "outputs": [],
   "source": [
    "player = 'USSR'"
   ]
  },
  {
   "cell_type": "code",
   "execution_count": 9,
   "metadata": {
    "collapsed": true
   },
   "outputs": [],
   "source": [
    "player = 'Axis'"
   ]
  },
  {
   "cell_type": "code",
   "execution_count": 13,
   "metadata": {},
   "outputs": [
    {
     "data": {
      "text/plain": [
       "'Axis'"
      ]
     },
     "execution_count": 13,
     "metadata": {},
     "output_type": "execute_result"
    }
   ],
   "source": [
    "player"
   ]
  },
  {
   "cell_type": "code",
   "execution_count": 11,
   "metadata": {
    "collapsed": true
   },
   "outputs": [],
   "source": [
    "out = format_msg_to_python(get_status(player))"
   ]
  },
  {
   "cell_type": "code",
   "execution_count": 12,
   "metadata": {
    "scrolled": true
   },
   "outputs": [
    {
     "name": "stdout",
     "output_type": "stream",
     "text": [
      "Axis spends 1 production on building a new cadre in Venice (0 production remaining)\n",
      "Axis draws 1 action cards (now holding 15 cards)\n",
      "Axis draws 6 investment cards (now holding 21 cards)\n",
      "Axis is done with production\n",
      "\n"
     ]
    }
   ],
   "source": [
    "if 'log' in out:\n",
    "    print(out.log)\n",
    "if 'error' in out:\n",
    "    print(out.error)"
   ]
  },
  {
   "cell_type": "code",
   "execution_count": 13,
   "metadata": {
    "scrolled": true
   },
   "outputs": [
    {
     "data": {
      "text/html": [
       "<div id=\"b9fc849c-c5e8-458e-9e38-e963213dcf5d\" style=\"height: 600px; width:100%;\"></div>"
      ]
     },
     "metadata": {},
     "output_type": "display_data"
    },
    {
     "data": {
      "application/javascript": [
       "\n",
       "\t\trequire([\"https://rawgit.com/caldwell/renderjson/master/renderjson.js\"], function() {\n",
       "\t\t  renderjson.set_show_to_level(1)\n",
       "\t\t  document.getElementById('b9fc849c-c5e8-458e-9e38-e963213dcf5d').appendChild(renderjson({'created': {'166': {'nationality': 'Italy', 'tile': 'Venice', 'type': 'Fleet', 'obj_type': 'unit', 'visible': ['Axis'], 'cv': '1'}}, 'updated': {'action_8': {'top': 'Austria', 'bottom': 'Poland', 'season': 'Spring', 'priority': 'H', 'value': '6', 'obj_type': 'action_card', 'visible': ['Axis'], 'owner': 'Axis'}, 'invest_37': {'intelligence': 'Agent', 'value': '1', 'obj_type': 'investment_card', 'visible': ['Axis'], 'owner': 'Axis'}, 'invest_35': {'intelligence': 'Code_Break', 'value': '1', 'obj_type': 'investment_card', 'visible': ['Axis'], 'owner': 'Axis'}, 'invest_13': {'top': 'Jets', 'bottom': 'Heavy_Bombers', 'value': '4', 'obj_type': 'investment_card', 'visible': ['Axis'], 'owner': 'Axis'}, 'invest_32': {'intelligence': 'Agent', 'value': '2', 'obj_type': 'investment_card', 'visible': ['Axis'], 'owner': 'Axis'}, 'invest_10': {'top': 'Heavy_Tanks', 'bottom': 'Naval_Radar', 'value': '2', 'obj_type': 'investment_card', 'visible': ['Axis'], 'owner': 'Axis'}, 'invest_2': {'top': 'Rocket_Artillery', 'bottom': 'Heavy_Tanks', 'value': '3', 'obj_type': 'investment_card', 'visible': ['Axis'], 'owner': 'Axis'}}, 'removed': {}, 'waiting_for': [], 'log': 'Axis spends 1 production on building a new cadre in Venice (0 production remaining)\\nAxis draws 1 action cards (now holding 15 cards)\\nAxis draws 6 investment cards (now holding 21 cards)\\nAxis is done with production\\n'}))\n",
       "\t\t});\n",
       "\t\t"
      ]
     },
     "metadata": {},
     "output_type": "display_data"
    }
   ],
   "source": [
    "render_dict(out)"
   ]
  },
  {
   "cell_type": "code",
   "execution_count": null,
   "metadata": {
    "collapsed": true
   },
   "outputs": [],
   "source": [
    "actions = list(util.decode_actions(out.actions))\n",
    "actions"
   ]
  },
  {
   "cell_type": "code",
   "execution_count": null,
   "metadata": {
    "collapsed": true
   },
   "outputs": [],
   "source": [
    "render_dict(adict({ID:G.objects.table[ID] for ID in G.players[player].hand}))"
   ]
  },
  {
   "cell_type": "code",
   "execution_count": null,
   "metadata": {
    "collapsed": true
   },
   "outputs": [],
   "source": [
    "# action = random.choice(actions)\n",
    "# action\n",
    "action = ('factory_upgrade',)"
   ]
  },
  {
   "cell_type": "code",
   "execution_count": 13,
   "metadata": {
    "collapsed": true
   },
   "outputs": [],
   "source": [
    "player = 'West'"
   ]
  },
  {
   "cell_type": "code",
   "execution_count": 18,
   "metadata": {
    "collapsed": true
   },
   "outputs": [],
   "source": [
    "player = 'USSR'"
   ]
  },
  {
   "cell_type": "code",
   "execution_count": 11,
   "metadata": {
    "collapsed": true
   },
   "outputs": [],
   "source": [
    "player = 'Axis'"
   ]
  },
  {
   "cell_type": "code",
   "execution_count": 12,
   "metadata": {},
   "outputs": [
    {
     "data": {
      "text/plain": [
       "'Axis'"
      ]
     },
     "execution_count": 12,
     "metadata": {},
     "output_type": "execute_result"
    }
   ],
   "source": [
    "player"
   ]
  },
  {
   "cell_type": "code",
   "execution_count": 14,
   "metadata": {
    "collapsed": true
   },
   "outputs": [],
   "source": [
    "action = ('cancel',)\n",
    "action = ('Britain', 'Glasgow', 'Submarine')\n",
    "action = ('pass',)"
   ]
  },
  {
   "cell_type": "code",
   "execution_count": 15,
   "metadata": {},
   "outputs": [
    {
     "name": "stdout",
     "output_type": "stream",
     "text": [
      "27\n",
      "0 0\n",
      "{}\n",
      "dict_keys([])\n",
      "adict()\n"
     ]
    }
   ],
   "source": [
    "out = format_msg_to_python(take_action(player, action))"
   ]
  },
  {
   "cell_type": "code",
   "execution_count": 14,
   "metadata": {},
   "outputs": [
    {
     "name": "stdout",
     "output_type": "stream",
     "text": [
      "Game loaded\n",
      "USSR draws 20 investment cards (now holding 32 cards)\n",
      "Beginning phase: Government\n",
      "Game saved\n",
      "\n"
     ]
    }
   ],
   "source": [
    "if 'log' in out:\n",
    "    print(out.log)\n",
    "if 'error' in out:\n",
    "    print(out.error)"
   ]
  },
  {
   "cell_type": "code",
   "execution_count": 15,
   "metadata": {
    "scrolled": true
   },
   "outputs": [
    {
     "data": {
      "text/html": [
       "<div id=\"b751ee81-bf87-4e66-b7fa-524b2be5b163\" style=\"height: 600px; width:100%;\"></div>"
      ]
     },
     "metadata": {},
     "output_type": "display_data"
    },
    {
     "data": {
      "application/javascript": [
       "\n",
       "\t\trequire([\"https://rawgit.com/caldwell/renderjson/master/renderjson.js\"], function() {\n",
       "\t\t  renderjson.set_show_to_level(1)\n",
       "\t\t  document.getElementById('b751ee81-bf87-4e66-b7fa-524b2be5b163').appendChild(renderjson({'created': {}, 'updated': {}, 'removed': {}, 'waiting_for': ['West'], 'log': 'Game loaded\\nUSSR draws 20 investment cards (now holding 32 cards)\\nBeginning phase: Government\\nGame saved\\n'}))\n",
       "\t\t});\n",
       "\t\t"
      ]
     },
     "metadata": {},
     "output_type": "display_data"
    }
   ],
   "source": [
    "render_dict(out)"
   ]
  },
  {
   "cell_type": "code",
   "execution_count": null,
   "metadata": {
    "collapsed": true
   },
   "outputs": [],
   "source": []
  },
  {
   "cell_type": "code",
   "execution_count": null,
   "metadata": {
    "collapsed": true
   },
   "outputs": [],
   "source": []
  }
 ],
 "metadata": {
  "kernelspec": {
   "display_name": "Python 3",
   "language": "python",
   "name": "python3"
  },
  "language_info": {
   "codemirror_mode": {
    "name": "ipython",
    "version": 3
   },
   "file_extension": ".py",
   "mimetype": "text/x-python",
   "name": "python",
   "nbconvert_exporter": "python",
   "pygments_lexer": "ipython3",
   "version": "3.7.2"
  }
 },
 "nbformat": 4,
 "nbformat_minor": 2
}
