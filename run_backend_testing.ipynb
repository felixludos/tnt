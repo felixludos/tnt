{
 "cells": [
  {
   "cell_type": "code",
   "execution_count": 1,
   "metadata": {},
   "outputs": [],
   "source": [
    "import sys, os, time\n",
    "%load_ext autoreload\n",
    "%autoreload 2\n",
    "%matplotlib inline\n",
    "#%matplotlib tk\n",
    "import matplotlib.pyplot as plt\n",
    "from tnt_util import *\n",
    "from util import adict, idict, xset, collate, load, render_dict, save, Logger, seq_iterate, PhaseInterrupt\n",
    "from tnt_setup import init_gamestate, setup_phase\n",
    "from tnt_cards import load_card_decks, draw_cards\n",
    "from collections import namedtuple\n",
    "import random\n",
    "from itertools import chain, product\n",
    "from tnt_units import load_unit_rules\n",
    "import tnt_setup as setup\n",
    "\n",
    "from flask_app import *"
   ]
  },
  {
   "cell_type": "code",
   "execution_count": 2,
   "metadata": {},
   "outputs": [
    {
     "data": {
      "text/plain": [
       "'Backend active: use \"init\" to init game'"
      ]
     },
     "execution_count": 2,
     "metadata": {},
     "output_type": "execute_result"
    }
   ],
   "source": [
    "ping()"
   ]
  },
  {
   "cell_type": "code",
   "execution_count": 3,
   "metadata": {},
   "outputs": [
    {
     "name": "stdout",
     "output_type": "stream",
     "text": [
      "Set seed 10\n"
     ]
    }
   ],
   "source": [
    "out = format_msg_to_python(init_game(debug=False, player='Axis', seed=10))"
   ]
  },
  {
   "cell_type": "code",
   "execution_count": 4,
   "metadata": {
    "scrolled": true
   },
   "outputs": [
    {
     "name": "stdout",
     "output_type": "stream",
     "text": [
      "Game loaded\n"
     ]
    }
   ],
   "source": [
    "path = 'saves/gov_complete.json'\n",
    "path = 'saves/planning_complete.json'\n",
    "load(path)"
   ]
  },
  {
   "cell_type": "code",
   "execution_count": 5,
   "metadata": {
    "scrolled": true
   },
   "outputs": [
    {
     "data": {
      "text/html": [
       "<div id=\"b681ec82-ad7f-45aa-8f0a-eff78856fd95\" style=\"height: 600px; width:100%;\"></div>"
      ]
     },
     "metadata": {},
     "output_type": "display_data"
    },
    {
     "data": {
      "application/javascript": [
       "\n",
       "\t\trequire([\"https://rawgit.com/caldwell/renderjson/master/renderjson.js\"], function() {\n",
       "\t\t  renderjson.set_show_to_level(1)\n",
       "\t\t  document.getElementById('b681ec82-ad7f-45aa-8f0a-eff78856fd95').appendChild(renderjson({'game': {'seed': '3', 'year': '1936', 'last_year': '1945', 'turn_order_options': {'1': {'l0': 'Axis', 'l1': 'USSR', 'l2': 'West'}, '2': {'l0': 'Axis', 'l1': 'West', 'l2': 'USSR'}, '3': {'l0': 'West', 'l1': 'Axis', 'l2': 'USSR'}, '4': {'l0': 'West', 'l1': 'USSR', 'l2': 'Axis'}, '5': {'l0': 'USSR', 'l1': 'West', 'l2': 'Axis'}, '6': {'l0': 'USSR', 'l1': 'Axis', 'l2': 'West'}}, 'sequence': {'l0': 'Setup', 'l1': 'New_Year', 'l2': 'Production', 'l3': 'Government', 'l4': 'Spring', 'l5': 'Movement', 'l6': 'Summer', 'l7': 'Blockade', 'l8': 'Fall', 'l9': 'Winter', 'l10': 'New_Year', 'l11': 'Production', 'l12': 'Government', 'l13': 'Spring', 'l14': 'Summer', 'l15': 'Blockade', 'l16': 'Fall', 'l17': 'Winter', 'l18': 'New_Year', 'l19': 'Production', 'l20': 'Government', 'l21': 'Spring', 'l22': 'Summer', 'l23': 'Blockade', 'l24': 'Fall', 'l25': 'Winter', 'l26': 'New_Year', 'l27': 'Production', 'l28': 'Government', 'l29': 'Spring', 'l30': 'Summer', 'l31': 'Blockade', 'l32': 'Fall', 'l33': 'Winter', 'l34': 'New_Year', 'l35': 'Production', 'l36': 'Government', 'l37': 'Spring', 'l38': 'Summer', 'l39': 'Blockade', 'l40': 'Fall', 'l41': 'Winter', 'l42': 'New_Year', 'l43': 'Production', 'l44': 'Government', 'l45': 'Spring', 'l46': 'Summer', 'l47': 'Blockade', 'l48': 'Fall', 'l49': 'Winter', 'l50': 'New_Year', 'l51': 'Production', 'l52': 'Government', 'l53': 'Spring', 'l54': 'Summer', 'l55': 'Blockade', 'l56': 'Fall', 'l57': 'Winter', 'l58': 'New_Year', 'l59': 'Production', 'l60': 'Government', 'l61': 'Spring', 'l62': 'Summer', 'l63': 'Blockade', 'l64': 'Fall', 'l65': 'Winter', 'l66': 'New_Year', 'l67': 'Production', 'l68': 'Government', 'l69': 'Spring', 'l70': 'Summer', 'l71': 'Blockade', 'l72': 'Fall', 'l73': 'Winter', 'l74': 'New_Year', 'l75': 'Production', 'l76': 'Government', 'l77': 'Spring', 'l78': 'Summer', 'l79': 'Blockade', 'l80': 'Fall', 'l81': 'Winter', 'l82': 'Scoring'}, 'index': '5', 'peace_dividends': {'l0': '0', 'l1': '1', 'l2': '0', 'l3': '0', 'l4': '2', 'l5': '0', 'l6': '0', 'l7': '0', 'l8': '1', 'l9': '1', 'l10': '0', 'l11': '0', 'l12': '1', 'l13': '1', 'l14': '1', 'l15': '0', 'l16': '0', 'l17': '2', 'l18': '0', 'l19': '1', 'l20': '0', 'l21': '1', 'l22': '0', 'l23': '2', 'l24': '1', 'l25': '2', 'l26': '1', 'l27': '0', 'l28': '0'}, 'victory': {'economic': '25'}, 'turn_order': {'l0': 'Axis', 'l1': 'USSR', 'l2': 'West'}}, 'objects': {'table': {'Ottawa': {'type': 'Coast', 'alligence': 'Canada', 'res': '1', 'pop': '0', 'muster': '1', 'borders': {'North_Atlantic_Ocean': 'Coast', 'New_York': 'Forest'}, 'units': {}, 'obj_type': 'tile', 'visible': {'s0': 'Axis', 's1': 'West', 's2': 'USSR'}, 'capital': '1', 'owner': 'West'}, 'New_York': {'type': 'Coast', 'alligence': 'USA', 'res': '2', 'pop': '1', 'muster': '2', 'borders': {'Ottawa': 'Forest', 'North_Atlantic_Ocean': 'Coast', 'Washington': 'Plains'}, 'units': {}, 'obj_type': 'tile', 'visible': {'s0': 'Axis', 's1': 'West', 's2': 'USSR'}}, 'Washington': {'type': 'Coast', 'alligence': 'USA', 'res': '2', 'pop': '2', 'muster': '3', 'borders': {'New_York': 'Plains', 'North_Atlantic_Ocean': 'Coast'}, 'units': {}, 'obj_type': 'tile', 'visible': {'s0': 'Axis', 's1': 'West', 's2': 'USSR'}, 'capital': '1'}, 'Irish_Sea': {'type': 'Sea', 'borders': {'Irminger_Sea': 'Sea', 'North_Atlantic_Ocean': 'Ocean', 'Bay_of_Biscay': 'Sea', 'Norwegian_Sea': 'Sea', 'English_Channel': 'Sea', 'London': 'Coast', 'Glasgow': 'Coast', 'Dublin': 'Coast', 'Iceland': 'Coast'}, 'units': {}, 'obj_type': 'tile', 'visible': {'s0': 'Axis', 's1': 'West', 's2': 'USSR'}}, 'North_Atlantic_Ocean': {'type': 'Ocean', 'borders': {'Ottawa': 'Coast', 'New_York': 'Coast', 'Washington': 'Coast', 'Irminger_Sea': 'Ocean', 'Irish_Sea': 'Ocean', 'Bay_of_Biscay': 'Ocean', 'Azores': 'Strait', 'Mid_Atlantic_Ocean': 'Ocean'}, 'units': {}, 'obj_type': 'tile', 'visible': {'s0': 'Axis', 's1': 'West', 's2': 'USSR'}}, 'Mid_Atlantic_Ocean': {'type': 'Ocean', 'borders': {'North_Atlantic_Ocean': 'Ocean', 'Azores': 'Strait', 'South_Atlantic_Ocean': 'Ocean', 'Rio_de_Janeiro': 'Coast', 'Madeira_Sea': 'Ocean', 'Dakar': 'Coast', 'Morocco': 'Coast'}, 'units': {}, 'obj_type': 'tile', 'visible': {'s0': 'Axis', 's1': 'West', 's2': 'USSR'}}, 'South_Atlantic_Ocean': {'type': 'Ocean', 'borders': {'Mid_Atlantic_Ocean': 'Ocean', 'Rio_de_Janeiro': 'Coast', 'Dakar': 'Coast', 'West_Indian_Ocean': 'Ocean-Africa'}, 'units': {}, 'obj_type': 'tile', 'visible': {'s0': 'Axis', 's1': 'West', 's2': 'USSR'}}, 'Rio_de_Janeiro': {'type': 'Coast', 'alligence': 'Latin_America', 'res': '2', 'pop': '0', 'muster': '1', 'borders': {'South_Atlantic_Ocean': 'Coast', 'Mid_Atlantic_Ocean': 'Coast'}, 'units': {}, 'obj_type': 'tile', 'visible': {'s0': 'Axis', 's1': 'West', 's2': 'USSR'}, 'capital': '1'}, 'Dakar': {'type': 'Coast', 'alligence': 'French_North_Africa', 'res': '0', 'pop': '0', 'muster': '0', 'borders': {'South_Atlantic_Ocean': 'Coast', 'Mid_Atlantic_Ocean': 'Coast', 'Morocco': 'Plains'}, 'units': {}, 'obj_type': 'tile', 'visible': {'s0': 'Axis', 's1': 'West', 's2': 'USSR'}, 'owner': 'West'}, 'Morocco': {'type': 'Coast', 'alligence': 'French_North_Africa', 'res': '0', 'pop': '0', 'muster': '0', 'borders': {'Mid_Atlantic_Ocean': 'Coast', 'Dakar': 'Plains', 'Madeira_Sea': 'Coast', 'Gibraltar': 'Strait', 'Algiers': 'Mountains'}, 'units': {}, 'obj_type': 'tile', 'visible': {'s0': 'Axis', 's1': 'West', 's2': 'USSR'}, 'owner': 'West'}, 'Algiers': {'type': 'Coast', 'alligence': 'French_North_Africa', 'res': '0', 'pop': '1', 'muster': '2', 'borders': {'Gibraltar': 'Strait', 'Morocco': 'Mountains', 'Tunisia': 'Mountains', 'Western_Mediterranean': 'Coast'}, 'units': {'s0': '18868'}, 'obj_type': 'tile', 'visible': {'s0': 'Axis', 's1': 'West', 's2': 'USSR'}, 'capital': '1', 'owner': 'West'}, 'Tunisia': {'type': 'Coast', 'alligence': 'French_North_Africa', 'res': '0', 'pop': '0', 'muster': '0', 'borders': {'Algiers': 'Mountains', 'Western_Mediterranean': 'Coast', 'Sfax': 'Mountains', 'Malta': 'Strait'}, 'units': {}, 'obj_type': 'tile', 'visible': {'s0': 'Axis', 's1': 'West', 's2': 'USSR'}, 'owner': 'West'}, 'Sfax': {'type': 'Land', 'alligence': 'French_North_Africa', 'res': '0', 'pop': '0', 'muster': '0', 'borders': {'Tunisia': 'Mountains', 'Tripoli': 'Mountains', 'Malta': 'Strait'}, 'units': {}, 'obj_type': 'tile', 'visible': {'s0': 'Axis', 's1': 'West', 's2': 'USSR'}, 'owner': 'West'}, 'Gibraltar': {'type': 'Strait', 'alligence': 'Gibraltar', 'res': '0', 'pop': '0', 'muster': '1', 'borders': {'Madeira_Sea': 'Strait', 'Morocco': 'Strait', 'Algiers': 'Strait', 'Madrid': 'Strait', 'Western_Mediterranean': 'Strait', 'Barcelona': 'Strait'}, 'units': {'s0': '247'}, 'obj_type': 'tile', 'visible': {'s0': 'Axis', 's1': 'West', 's2': 'USSR'}, 'capital': '1', 'owner': 'West'}, 'Madeira_Sea': {'type': 'Sea', 'borders': {'Mid_Atlantic_Ocean': 'Ocean', 'Bay_of_Biscay': 'Sea', 'Azores': 'Strait', 'Morocco': 'Coast', 'Gibraltar': 'Strait', 'Lisbon': 'Coast', 'Leon': 'Coast'}, 'units': {}, 'obj_type': 'tile', 'visible': {'s0': 'Axis', 's1': 'West', 's2': 'USSR'}}, 'Lisbon': {'type': 'Coast', 'alligence': 'Portugal', 'res': '1', 'pop': '0', 'muster': '1', 'borders': {'Madrid': 'Plains', 'Madeira_Sea': 'Coast', 'Leon': 'Plains'}, 'units': {}, 'obj_type': 'tile', 'visible': {'s0': 'Axis', 's1': 'West', 's2': 'USSR'}, 'capital': '1'}, 'Madrid': {'type': 'Land', 'alligence': 'Spain', 'res': '0', 'pop': '1', 'muster': '3', 'borders': {'Gibraltar': 'Strait', 'Lisbon': 'Plains', 'Leon': 'Coast', 'Barcelona': 'Plains'}, 'units': {}, 'obj_type': 'tile', 'visible': {'s0': 'Axis', 's1': 'West', 's2': 'USSR'}, 'capital': '1'}, 'Leon': {'type': 'Coast', 'alligence': 'Spain', 'res': '0', 'pop': '0', 'muster': '0', 'borders': {'Lisbon': 'Plains', 'Madeira_Sea': 'Coast', 'Bay_of_Biscay': 'Coast', 'Madrid': 'Coast', 'Barcelona': 'Plains', 'Gascony': 'Mountains'}, 'units': {}, 'obj_type': 'tile', 'visible': {'s0': 'Axis', 's1': 'West', 's2': 'USSR'}}, 'Barcelona': {'type': 'Coast', 'alligence': 'Spain', 'res': '0', 'pop': '1', 'muster': '0', 'borders': {'Gibraltar': 'Strait', 'Madrid': 'Plains', 'Leon': 'Plains', 'Western_Mediterranean': 'Coast', 'Gascony': 'Mountains', 'Marseille': 'Mountains'}, 'units': {}, 'obj_type': 'tile', 'visible': {'s0': 'Axis', 's1': 'West', 's2': 'USSR'}}, 'Azores': {'type': 'Strait', 'alligence': 'Portugal', 'res': '0', 'pop': '0', 'muster': '0', 'borders': {'North_Atlantic_Ocean': 'Strait', 'Mid_Atlantic_Ocean': 'Strait', 'Madeira_Sea': 'Strait', 'Bay_of_Biscay': 'Strait'}, 'units': {}, 'obj_type': 'tile', 'visible': {'s0': 'Axis', 's1': 'West', 's2': 'USSR'}}, 'Bay_of_Biscay': {'type': 'Sea', 'borders': {'North_Atlantic_Ocean': 'Ocean', 'Madeira_Sea': 'Sea', 'Azores': 'Strait', 'Irish_Sea': 'Sea', 'English_Channel': 'Sea', 'Leon': 'Coast', 'Paris': 'Coast', 'Gascony': 'Coast'}, 'units': {}, 'obj_type': 'tile', 'visible': {'s0': 'Axis', 's1': 'West', 's2': 'USSR'}}, 'Dublin': {'type': 'Coast', 'alligence': 'Ireland', 'res': '0', 'pop': '0', 'muster': '1', 'borders': {'Irish_Sea': 'Coast'}, 'units': {}, 'obj_type': 'tile', 'visible': {'s0': 'Axis', 's1': 'West', 's2': 'USSR'}, 'capital': '1'}, 'Irminger_Sea': {'type': 'Sea', 'borders': {'North_Atlantic_Ocean': 'Ocean', 'Irish_Sea': 'Sea', 'Iceland': 'Coast', 'Greenland_Sea': 'Sea'}, 'units': {}, 'obj_type': 'tile', 'visible': {'s0': 'Axis', 's1': 'West', 's2': 'USSR'}}, 'Iceland': {'type': 'Coast', 'alligence': 'Denmark', 'res': '0', 'pop': '0', 'muster': '0', 'borders': {'Irminger_Sea': 'Coast', 'Greenland_Sea': 'Coast', 'Norwegian_Sea': 'Coast', 'Irish_Sea': 'Coast'}, 'units': {}, 'obj_type': 'tile', 'visible': {'s0': 'Axis', 's1': 'West', 's2': 'USSR'}}, 'Greenland_Sea': {'type': 'Sea', 'borders': {'Irminger_Sea': 'Sea', 'Norwegian_Sea': 'Sea', 'Nordkapp_Sea': 'Sea', 'Iceland': 'Coast'}, 'units': {}, 'obj_type': 'tile', 'visible': {'s0': 'Axis', 's1': 'West', 's2': 'USSR'}}, 'Norwegian_Sea': {'type': 'Sea', 'borders': {'Greenland_Sea': 'Sea', 'Irish_Sea': 'Sea', 'Nordkapp_Sea': 'Sea', 'Oslo': 'Coast', 'North_Sea': 'Sea', 'Glasgow': 'Coast', 'Iceland': 'Coast'}, 'units': {}, 'obj_type': 'tile', 'visible': {'s0': 'Axis', 's1': 'West', 's2': 'USSR'}}, 'Nordkapp_Sea': {'type': 'Sea', 'borders': {'Barents_Sea': 'Sea', 'Narvik': 'Coast', 'Oslo': 'Coast', 'Norwegian_Sea': 'Sea', 'Greenland_Sea': 'Sea'}, 'units': {}, 'obj_type': 'tile', 'visible': {'s0': 'Axis', 's1': 'West', 's2': 'USSR'}}, 'North_Sea': {'type': 'Sea', 'borders': {'Copenhagen': 'Strait', 'Oslo': 'Coast', 'Ruhr': 'Coast', 'Norwegian_Sea': 'Sea', 'Amsterdam': 'Sea', 'Glasgow': 'Coast', 'London': 'Coast', 'English_Channel': 'Sea', 'Paris': 'Coast'}, 'units': {}, 'obj_type': 'tile', 'visible': {'s0': 'Axis', 's1': 'West', 's2': 'USSR'}}, 'English_Channel': {'type': 'Sea', 'borders': {'Irish_Sea': 'Sea', 'Bay_of_Biscay': 'Sea', 'North_Sea': 'Sea', 'London': 'Coast', 'Paris': 'Coast'}, 'units': {}, 'obj_type': 'tile', 'visible': {'s0': 'Axis', 's1': 'West', 's2': 'USSR'}}, 'Glasgow': {'type': 'Coast', 'alligence': 'Britain', 'res': '1', 'pop': '1', 'muster': '2', 'borders': {'Norwegian_Sea': 'Coast', 'North_Sea': 'Coast', 'London': 'Mountains', 'Irish_Sea': 'Coast'}, 'units': {'s0': '16048', 's1': '31624'}, 'obj_type': 'tile', 'visible': {'s0': 'Axis', 's1': 'West', 's2': 'USSR'}, 'owner': 'West'}, 'London': {'type': 'Coast', 'alligence': 'Britain', 'res': '1', 'pop': '3', 'muster': '3', 'borders': {'North_Sea': 'Coast', 'English_Channel': 'Coast', 'Irish_Sea': 'Coast', 'Glasgow': 'Mountains'}, 'units': {'s0': '246', 's1': '19345', 's2': '19824', 's3': '20305'}, 'obj_type': 'tile', 'visible': {'s0': 'Axis', 's1': 'West', 's2': 'USSR'}, 'capital': '1', 'owner': 'West'}, 'Paris': {'type': 'Coast', 'alligence': 'France', 'res': '0', 'pop': '2', 'muster': '3', 'borders': {'English_Channel': 'Coast', 'Bay_of_Biscay': 'Coast', 'Gascony': 'Plains', 'Lorraine': 'Plains', 'Amsterdam': 'Plains', 'North_Sea': 'Coast'}, 'units': {'s0': '15124', 's1': '15585', 's2': '32133'}, 'obj_type': 'tile', 'visible': {'s0': 'Axis', 's1': 'West', 's2': 'USSR'}, 'capital': '1', 'owner': 'West'}, 'Lorraine': {'type': 'Land', 'alligence': 'France', 'res': '2', 'pop': '0', 'muster': '0', 'borders': {'Munich': 'River', 'Paris': 'Plains', 'Amsterdam': 'Forest', 'Gascony': 'Plains', 'Marseille': 'Plains'}, 'units': {'s0': '249', 's1': '34177'}, 'obj_type': 'tile', 'visible': {'s0': 'Axis', 's1': 'West', 's2': 'USSR'}, 'owner': 'West'}, 'Gascony': {'type': 'Coast', 'alligence': 'France', 'res': '0', 'pop': '0', 'muster': '0', 'borders': {'Leon': 'Mountains', 'Barcelona': 'Mountains', 'Bay_of_Biscay': 'Coast', 'Paris': 'Plains', 'Lorraine': 'Plains', 'Marseille': 'Plains'}, 'units': {}, 'obj_type': 'tile', 'visible': {'s0': 'Axis', 's1': 'West', 's2': 'USSR'}, 'owner': 'West'}, 'Marseille': {'type': 'Coast', 'alligence': 'France', 'res': '0', 'pop': '1', 'muster': '2', 'borders': {'Barcelona': 'Mountains', 'Western_Mediterranean': 'Coast', 'Gascony': 'Plains', 'Lorraine': 'Plains', 'Milan': 'Mountains'}, 'units': {'s0': '18393'}, 'obj_type': 'tile', 'visible': {'s0': 'Axis', 's1': 'West', 's2': 'USSR'}, 'owner': 'West'}, 'Western_Mediterranean': {'type': 'Sea', 'borders': {'Gibraltar': 'Strait', 'Algiers': 'Coast', 'Barcelona': 'Coast', 'Tunisia': 'Coast', 'Sardinia': 'Coast', 'Tyrrhenian_Sea': 'Sea', 'Milan': 'Coast', 'Marseille': 'Coast'}, 'units': {}, 'obj_type': 'tile', 'visible': {'s0': 'Axis', 's1': 'West', 's2': 'USSR'}}, 'Sardinia': {'type': 'Coast', 'alligence': 'Italy', 'res': '0', 'pop': '0', 'muster': '0', 'borders': {'Western_Mediterranean': 'Coast', 'Tyrrhenian_Sea': 'Coast'}, 'units': {'s0': '22721'}, 'obj_type': 'tile', 'visible': {'s0': 'Axis', 's1': 'West', 's2': 'USSR'}, 'owner': 'Axis'}, 'Tyrrhenian_Sea': {'type': 'Sea', 'borders': {'Western_Mediterranean': 'Sea', 'Sardinia': 'Coast', 'Malta': 'Strait', 'Sicily': 'Strait', 'Rome': 'Coast', 'Milan': 'Coast'}, 'units': {}, 'obj_type': 'tile', 'visible': {'s0': 'Axis', 's1': 'West', 's2': 'USSR'}}, 'Malta': {'type': 'Strait', 'alligence': 'Malta', 'res': '0', 'pop': '0', 'muster': '1', 'borders': {'Tunisia': 'Strait', 'Sfax': 'Strait', 'Tyrrhenian_Sea': 'Strait', 'Central_Mediterranean': 'Strait', 'Sicily': 'Strait'}, 'units': {'s0': '33664'}, 'obj_type': 'tile', 'visible': {'s0': 'Axis', 's1': 'West', 's2': 'USSR'}, 'capital': '1', 'owner': 'West'}, 'Sicily': {'type': 'Strait', 'alligence': 'Italy', 'res': '0', 'pop': '0', 'muster': '0', 'borders': {'Malta': 'Strait', 'Tyrrhenian_Sea': 'Strait', 'Central_Mediterranean': 'Strait', 'Rome': 'Strait', 'Taranto': 'Strait'}, 'units': {}, 'obj_type': 'tile', 'visible': {'s0': 'Axis', 's1': 'West', 's2': 'USSR'}, 'owner': 'Axis'}, 'Central_Mediterranean': {'type': 'Sea', 'borders': {'Malta': 'Strait', 'Sicily': 'Strait', 'Taranto': 'Coast', 'Adriatic_Sea': 'Sea', 'Tripoli': 'Coast', 'Cyrenaica': 'Coast', 'Albania': 'Coast', 'Eastern_Mediterranean': 'Sea', 'Aegean_Sea': 'Sea', 'Athens': 'Coast', 'Crete': 'Coast'}, 'units': {}, 'obj_type': 'tile', 'visible': {'s0': 'Axis', 's1': 'West', 's2': 'USSR'}}, 'Adriatic_Sea': {'type': 'Sea', 'borders': {'Central_Mediterranean': 'Sea', 'Venice': 'Sea', 'Taranto': 'Sea', 'Croatia': 'Coast', 'Albania': 'Coast'}, 'units': {}, 'obj_type': 'tile', 'visible': {'s0': 'Axis', 's1': 'West', 's2': 'USSR'}}, 'Milan': {'type': 'Coast', 'alligence': 'Italy', 'res': '1', 'pop': '1', 'muster': '2', 'borders': {'Tyrrhenian_Sea': 'Coast', 'Rome': 'Mountains', 'Western_Mediterranean': 'Coast', 'Venice': 'Plains', 'Marseille': 'Mountains'}, 'units': {'s0': '3840', 's1': '6745'}, 'obj_type': 'tile', 'visible': {'s0': 'Axis', 's1': 'West', 's2': 'USSR'}, 'owner': 'Axis'}, 'Rome': {'type': 'Coast', 'alligence': 'Italy', 'res': '0', 'pop': '2', 'muster': '3', 'borders': {'Sicily': 'Strait', 'Tyrrhenian_Sea': 'Coast', 'Milan': 'Mountains', 'Venice': 'Mountains', 'Taranto': 'Mountains'}, 'units': {'s0': '1033', 's1': '2224', 's2': '4660', 's3': '6324'}, 'obj_type': 'tile', 'visible': {'s0': 'Axis', 's1': 'West', 's2': 'USSR'}, 'capital': '1', 'owner': 'Axis'}, 'Venice': {'type': 'Coast', 'alligence': 'Italy', 'res': '1', 'pop': '0', 'muster': '0', 'borders': {'Milan': 'Plains', 'Rome': 'Mountains', 'Taranto': 'Mountains', 'Adriatic_Sea': 'Sea', 'Vienna': 'Mountains', 'Croatia': 'Mountains'}, 'units': {}, 'obj_type': 'tile', 'visible': {'s0': 'Axis', 's1': 'West', 's2': 'USSR'}, 'owner': 'Axis'}, 'Taranto': {'type': 'Coast', 'alligence': 'Italy', 'res': '0', 'pop': '0', 'muster': '0', 'borders': {'Sicily': 'Strait', 'Rome': 'Mountains', 'Venice': 'Mountains', 'Central_Mediterranean': 'Coast', 'Adriatic_Sea': 'Sea'}, 'units': {}, 'obj_type': 'tile', 'visible': {'s0': 'Axis', 's1': 'West', 's2': 'USSR'}, 'owner': 'Axis'}, 'Tripoli': {'type': 'Coast', 'alligence': 'Libya', 'res': '0', 'pop': '1', 'muster': '2', 'borders': {'Sfax': 'Mountains', 'Central_Mediterranean': 'Coast', 'Cyrenaica': 'Plains'}, 'units': {'s0': '1825', 's1': '2625'}, 'obj_type': 'tile', 'visible': {'s0': 'Axis', 's1': 'West', 's2': 'USSR'}, 'capital': '1', 'owner': 'Axis'}, 'Cyrenaica': {'type': 'Coast', 'alligence': 'Libya', 'res': '0', 'pop': '0', 'muster': '0', 'borders': {'Central_Mediterranean': 'Coast', 'Tripoli': 'Plains', 'Eastern_Mediterranean': 'Coast', 'Egypt': 'Plains'}, 'units': {}, 'obj_type': 'tile', 'visible': {'s0': 'Axis', 's1': 'West', 's2': 'USSR'}, 'owner': 'Axis'}, 'Amsterdam': {'type': 'Coast', 'alligence': 'Low_Countries', 'res': '0', 'pop': '1', 'muster': '2', 'borders': {'Ruhr': 'River', 'Munich': 'River', 'North_Sea': 'Sea', 'Paris': 'Plains', 'Lorraine': 'Forest'}, 'units': {}, 'obj_type': 'tile', 'visible': {'s0': 'Axis', 's1': 'West', 's2': 'USSR'}, 'capital': '1'}, 'Vienna': {'type': 'Land', 'alligence': 'Austria', 'res': '0', 'pop': '1', 'muster': '2', 'borders': {'Prague': 'Plains', 'Munich': 'Plains', 'Venice': 'Mountains', 'Croatia': 'Mountains', 'Budapest': 'Plains'}, 'units': {}, 'obj_type': 'tile', 'visible': {'s0': 'Axis', 's1': 'West', 's2': 'USSR'}, 'capital': '1'}, 'Munich': {'type': 'Land', 'alligence': 'Germany', 'res': '0', 'pop': '1', 'muster': '2', 'borders': {'Berlin': 'Plains', 'Ruhr': 'Plains', 'Prague': 'Forest', 'Vienna': 'Plains', 'Amsterdam': 'River', 'Lorraine': 'River'}, 'units': {'s0': '4249', 's1': '8449', 's2': '21752'}, 'obj_type': 'tile', 'visible': {'s0': 'Axis', 's1': 'West', 's2': 'USSR'}, 'owner': 'Axis'}, 'Ruhr': {'type': 'Coast', 'alligence': 'Germany', 'res': '3', 'pop': '2', 'muster': '3', 'borders': {'Copenhagen': 'Strait', 'Baltic_Sea': 'Coast', 'North_Sea': 'Coast', 'Berlin': 'Plains', 'Munich': 'Plains', 'Amsterdam': 'River'}, 'units': {'s0': '3028', 's1': '5073', 's2': '5905', 's3': '8020', 's4': '24180'}, 'obj_type': 'tile', 'visible': {'s0': 'Axis', 's1': 'West', 's2': 'USSR'}, 'owner': 'Axis'}, 'Berlin': {'type': 'Coast', 'alligence': 'Germany', 'res': '1', 'pop': '3', 'muster': '3', 'borders': {'Baltic_Sea': 'Coast', 'Warsaw': 'River', 'Ruhr': 'Plains', 'Prague': 'Forest', 'Munich': 'Plains'}, 'units': {'s0': '3433', 's1': '5488', 's2': '7168', 's3': '7593', 's4': '8880', 's5': '9313', 's6': '25645'}, 'obj_type': 'tile', 'visible': {'s0': 'Axis', 's1': 'West', 's2': 'USSR'}, 'capital': '1', 'owner': 'Axis'}, 'Copenhagen': {'type': 'Strait', 'alligence': 'Denmark', 'res': '1', 'pop': '0', 'muster': '1', 'borders': {'Stockholm': 'Strait', 'Baltic_Sea': 'Strait', 'Oslo': 'Strait', 'North_Sea': 'Strait', 'Ruhr': 'Strait'}, 'units': {}, 'obj_type': 'tile', 'visible': {'s0': 'Axis', 's1': 'West', 's2': 'USSR'}, 'capital': '1'}, 'Oslo': {'type': 'Coast', 'alligence': 'Norway', 'res': '1', 'pop': '0', 'muster': '1', 'borders': {'Gallivare': 'Mountains', 'Stockholm': 'Forest', 'Narvik': 'Mountains', 'Nordkapp_Sea': 'Coast', 'Norwegian_Sea': 'Coast', 'Copenhagen': 'Strait', 'North_Sea': 'Coast'}, 'units': {}, 'obj_type': 'tile', 'visible': {'s0': 'Axis', 's1': 'West', 's2': 'USSR'}, 'capital': '1'}, 'Narvik': {'type': 'Coast', 'alligence': 'Norway', 'res': '0', 'pop': '0', 'muster': '0', 'borders': {'Petsamo': 'Mountains', 'Barents_Sea': 'Coast', 'Gallivare': 'Mountains', 'Oslo': 'Mountains', 'Nordkapp_Sea': 'Coast'}, 'units': {}, 'obj_type': 'tile', 'visible': {'s0': 'Axis', 's1': 'West', 's2': 'USSR'}}, 'Gallivare': {'type': 'Coast', 'alligence': 'Sweden', 'res': '1', 'pop': '0', 'muster': '0', 'borders': {'Helsinki': 'Forest', 'Petsamo': 'Forest', 'Narvik': 'Mountains', 'Oslo': 'Mountains', 'Stockholm': 'Forest', 'Gulf_of_Bothnia': 'Coast'}, 'units': {}, 'obj_type': 'tile', 'visible': {'s0': 'Axis', 's1': 'West', 's2': 'USSR'}}, 'Stockholm': {'type': 'Coast', 'alligence': 'Sweden', 'res': '1', 'pop': '1', 'muster': '2', 'borders': {'Gallivare': 'Forest', 'Gulf_of_Bothnia': 'Coast', 'Baltic_Sea': 'Coast', 'Oslo': 'Forest', 'Copenhagen': 'Strait'}, 'units': {}, 'obj_type': 'tile', 'visible': {'s0': 'Axis', 's1': 'West', 's2': 'USSR'}, 'capital': '1'}, 'Petsamo': {'type': 'Land', 'alligence': 'Finland', 'res': '1', 'pop': '0', 'muster': '0', 'borders': {'Murmansk': 'Forest', 'Helsinki': 'Forest', 'Narvik': 'Mountains', 'Gallivare': 'Forest'}, 'units': {}, 'obj_type': 'tile', 'visible': {'s0': 'Axis', 's1': 'West', 's2': 'USSR'}}, 'Helsinki': {'type': 'Coast', 'alligence': 'Finland', 'res': '0', 'pop': '0', 'muster': '1', 'borders': {'Leningrad': 'Forest', 'Murmansk': 'Forest', 'Petsamo': 'Forest', 'Gulf_of_Bothnia': 'Coast', 'Gallivare': 'Forest'}, 'units': {}, 'obj_type': 'tile', 'visible': {'s0': 'Axis', 's1': 'West', 's2': 'USSR'}, 'capital': '1'}, 'Barents_Sea': {'type': 'Sea', 'borders': {'Murmansk': 'Coast', 'White_Sea': 'Sea', 'Narvik': 'Coast', 'Nordkapp_Sea': 'Sea'}, 'units': {}, 'obj_type': 'tile', 'visible': {'s0': 'Axis', 's1': 'West', 's2': 'USSR'}}, 'White_Sea': {'type': 'Sea', 'borders': {'Archangel': 'Coast', 'Murmansk': 'Coast', 'Barents_Sea': 'Sea'}, 'units': {}, 'obj_type': 'tile', 'visible': {'s0': 'Axis', 's1': 'West', 's2': 'USSR'}}, 'Gulf_of_Bothnia': {'type': 'Sea', 'borders': {'Helsinki': 'Coast', 'Leningrad': 'Coast', 'Gallivare': 'Coast', 'Stockholm': 'Coast', 'Riga': 'Coast', 'Baltic_Sea': 'Sea'}, 'units': {}, 'obj_type': 'tile', 'visible': {'s0': 'Axis', 's1': 'West', 's2': 'USSR'}}, 'Baltic_Sea': {'type': 'Sea', 'borders': {'Gulf_of_Bothnia': 'Sea', 'Riga': 'Coast', 'Stockholm': 'Coast', 'Konigsberg': 'Coast', 'Warsaw': 'Coast', 'Copenhagen': 'Strait', 'Berlin': 'Coast', 'Ruhr': 'Coast'}, 'units': {}, 'obj_type': 'tile', 'visible': {'s0': 'Axis', 's1': 'West', 's2': 'USSR'}}, 'Riga': {'type': 'Coast', 'alligence': 'Baltic_States', 'res': '0', 'pop': '0', 'muster': '1', 'borders': {'Leningrad': 'Forest', 'Gulf_of_Bothnia': 'Coast', 'Baltic_Sea': 'Coast', 'Belorussia': 'Plains', 'Vilna': 'Plains', 'Konigsberg': 'Plains'}, 'units': {}, 'obj_type': 'tile', 'visible': {'s0': 'Axis', 's1': 'West', 's2': 'USSR'}, 'capital': '1'}, 'Konigsberg': {'type': 'Coast', 'alligence': 'Germany', 'res': '0', 'pop': '1', 'muster': '2', 'borders': {'Riga': 'Plains', 'Vilna': 'Forest', 'Baltic_Sea': 'Coast', 'Warsaw': 'River'}, 'units': {'s0': '640', 's1': '1428', 's2': '26136'}, 'obj_type': 'tile', 'visible': {'s0': 'Axis', 's1': 'West', 's2': 'USSR'}, 'owner': 'Axis'}, 'Warsaw': {'type': 'Coast', 'alligence': 'Poland', 'res': '1', 'pop': '1', 'muster': '3', 'borders': {'Baltic_Sea': 'Coast', 'Konigsberg': 'River', 'Vilna': 'River', 'Lvov': 'River', 'Berlin': 'River', 'Prague': 'Forest'}, 'units': {}, 'obj_type': 'tile', 'visible': {'s0': 'Axis', 's1': 'West', 's2': 'USSR'}, 'capital': '1'}, 'Vilna': {'type': 'Land', 'alligence': 'Poland', 'res': '0', 'pop': '0', 'muster': '1', 'borders': {'Belorussia': 'Plains', 'Riga': 'Plains', 'Konigsberg': 'Forest', 'Lvov': 'Plains', 'Warsaw': 'River'}, 'units': {}, 'obj_type': 'tile', 'visible': {'s0': 'Axis', 's1': 'West', 's2': 'USSR'}}, 'Lvov': {'type': 'Land', 'alligence': 'Poland', 'res': '0', 'pop': '1', 'muster': '2', 'borders': {'Vilna': 'Plains', 'Kiev': 'Plains', 'Odessa': 'Plains', 'Warsaw': 'River', 'Prague': 'Mountains', 'Budapest': 'Mountains', 'Bucharest': 'River'}, 'units': {}, 'obj_type': 'tile', 'visible': {'s0': 'Axis', 's1': 'West', 's2': 'USSR'}}, 'Prague': {'type': 'Land', 'alligence': 'Czechoslovakia', 'res': '0', 'pop': '1', 'muster': '2', 'borders': {'Lvov': 'Mountains', 'Warsaw': 'Forest', 'Berlin': 'Forest', 'Munich': 'Forest', 'Budapest': 'Mountains', 'Vienna': 'Plains'}, 'units': {}, 'obj_type': 'tile', 'visible': {'s0': 'Axis', 's1': 'West', 's2': 'USSR'}, 'capital': '1'}, 'Budapest': {'type': 'Land', 'alligence': 'Hungary', 'res': '1', 'pop': '1', 'muster': '2', 'borders': {'Lvov': 'Mountains', 'Prague': 'Mountains', 'Croatia': 'Plains', 'Belgrade': 'Plains', 'Vienna': 'Plains', 'Bucharest': 'Mountains'}, 'units': {}, 'obj_type': 'tile', 'visible': {'s0': 'Axis', 's1': 'West', 's2': 'USSR'}, 'capital': '1'}, 'Croatia': {'type': 'Coast', 'alligence': 'Yugoslavia', 'res': '1', 'pop': '0', 'muster': '0', 'borders': {'Adriatic_Sea': 'Coast', 'Vienna': 'Mountains', 'Venice': 'Mountains', 'Budapest': 'Plains', 'Belgrade': 'Forest', 'Albania': 'Mountains'}, 'units': {}, 'obj_type': 'tile', 'visible': {'s0': 'Axis', 's1': 'West', 's2': 'USSR'}}, 'Belgrade': {'type': 'Land', 'alligence': 'Yugoslavia', 'res': '0', 'pop': '0', 'muster': '1', 'borders': {'Croatia': 'Forest', 'Budapest': 'Plains', 'Albania': 'Mountains', 'Bucharest': 'River', 'Sofia': 'Mountains', 'Athens': 'Mountains'}, 'units': {}, 'obj_type': 'tile', 'visible': {'s0': 'Axis', 's1': 'West', 's2': 'USSR'}, 'capital': '1'}, 'Albania': {'type': 'Coast', 'alligence': 'Albania', 'res': '0', 'pop': '0', 'muster': '0', 'borders': {'Adriatic_Sea': 'Coast', 'Central_Mediterranean': 'Coast', 'Croatia': 'Mountains', 'Belgrade': 'Mountains', 'Athens': 'Mountains'}, 'units': {}, 'obj_type': 'tile', 'visible': {'s0': 'Axis', 's1': 'West', 's2': 'USSR'}, 'capital': '1'}, 'Athens': {'type': 'Coast', 'alligence': 'Greece', 'res': '1', 'pop': '0', 'muster': '1', 'borders': {'Central_Mediterranean': 'Coast', 'Istanbul': 'Strait', 'Sofia': 'Mountains', 'Belgrade': 'Mountains', 'Albania': 'Mountains', 'Aegean_Sea': 'Coast'}, 'units': {}, 'obj_type': 'tile', 'visible': {'s0': 'Axis', 's1': 'West', 's2': 'USSR'}, 'capital': '1'}, 'Bucharest': {'type': 'Coast', 'alligence': 'Rumania', 'res': '2', 'pop': '1', 'muster': '2', 'borders': {'Lvov': 'River', 'Odessa': 'River', 'Budapest': 'Mountains', 'Belgrade': 'River', 'Sofia': 'River', 'Western_Black_Sea': 'Coast'}, 'units': {}, 'obj_type': 'tile', 'visible': {'s0': 'Axis', 's1': 'West', 's2': 'USSR'}, 'capital': '1'}, 'Sofia': {'type': 'Coast', 'alligence': 'Bulgaria', 'res': '1', 'pop': '0', 'muster': '1', 'borders': {'Belgrade': 'Mountains', 'Bucharest': 'River', 'Western_Black_Sea': 'Coast', 'Istanbul': 'Strait', 'Athens': 'Mountains'}, 'units': {}, 'obj_type': 'tile', 'visible': {'s0': 'Axis', 's1': 'West', 's2': 'USSR'}, 'capital': '1'}, 'Aegean_Sea': {'type': 'Sea', 'borders': {'Central_Mediterranean': 'Sea', 'Crete': 'Coast', 'Eastern_Mediterranean': 'Sea', 'Izmir': 'Coast', 'Istanbul': 'Strait', 'Athens': 'Coast'}, 'units': {}, 'obj_type': 'tile', 'visible': {'s0': 'Axis', 's1': 'West', 's2': 'USSR'}}, 'Crete': {'type': 'Sea', 'borders': {'Central_Mediterranean': 'Coast', 'Aegean_Sea': 'Coast', 'Eastern_Mediterranean': 'Coast'}, 'units': {}, 'obj_type': 'tile', 'visible': {'s0': 'Axis', 's1': 'West', 's2': 'USSR'}}, 'Eastern_Mediterranean': {'type': 'Sea', 'borders': {'Central_Mediterranean': 'Sea', 'Cyrenaica': 'Coast', 'Aegean_Sea': 'Sea', 'Crete': 'Coast', 'Suez': 'Strait', 'Jordan': 'Coast', 'Damascus': 'Coast', 'Egypt': 'Coast', 'Adana': 'Coast', 'Izmir': 'Coast'}, 'units': {}, 'obj_type': 'tile', 'visible': {'s0': 'Axis', 's1': 'West', 's2': 'USSR'}}, 'Egypt': {'type': 'Coast', 'alligence': 'Middle_East', 'res': '0', 'pop': '0', 'muster': '0', 'borders': {'Cyrenaica': 'Plains', 'Suez': 'Strait', 'Eastern_Mediterranean': 'Coast'}, 'units': {}, 'obj_type': 'tile', 'visible': {'s0': 'Axis', 's1': 'West', 's2': 'USSR'}, 'owner': 'West'}, 'Suez': {'type': 'Strait', 'alligence': 'Middle_East', 'res': '0', 'pop': '1', 'muster': '2', 'borders': {'Egypt': 'Strait', 'Eastern_Mediterranean': 'Strait', 'Sudan': 'Strait', 'Jordan': 'Strait', 'Red_Sea': 'Strait'}, 'units': {'s0': '16980'}, 'obj_type': 'tile', 'visible': {'s0': 'Axis', 's1': 'West', 's2': 'USSR'}, 'capital': '1', 'owner': 'West'}, 'Sudan': {'type': 'Coast', 'alligence': 'Middle_East', 'res': '0', 'pop': '0', 'muster': '0', 'borders': {'Suez': 'Strait', 'Red_Sea': 'Coast'}, 'units': {}, 'obj_type': 'tile', 'visible': {'s0': 'Axis', 's1': 'West', 's2': 'USSR'}, 'owner': 'West'}, 'Jordan': {'type': 'Coast', 'alligence': 'Middle_East', 'res': '0', 'pop': '0', 'muster': '0', 'borders': {'Suez': 'Strait', 'Eastern_Mediterranean': 'Coast', 'Damascus': 'Plains', 'Iraq': 'Plains'}, 'units': {}, 'obj_type': 'tile', 'visible': {'s0': 'Axis', 's1': 'West', 's2': 'USSR'}, 'owner': 'West'}, 'Iraq': {'type': 'Coast', 'alligence': 'Middle_East', 'res': '1', 'res_afr': '1', 'pop': '0', 'muster': '0', 'borders': {'Persian_Gulf': 'Coast', 'Damascus': 'Plains', 'Jordan': 'Plains', 'Abadan': 'Plains'}, 'units': {}, 'obj_type': 'tile', 'visible': {'s0': 'Axis', 's1': 'West', 's2': 'USSR'}, 'owner': 'West'}, 'Damascus': {'type': 'Coast', 'alligence': 'Syria', 'res': '0', 'pop': '0', 'muster': '1', 'borders': {'Eastern_Mediterranean': 'Coast', 'Jordan': 'Plains', 'Iraq': 'Plains', 'Adana': 'Plains'}, 'units': {}, 'obj_type': 'tile', 'visible': {'s0': 'Axis', 's1': 'West', 's2': 'USSR'}, 'capital': '1', 'owner': 'West'}, 'Red_Sea': {'type': 'Sea', 'borders': {'Suez': 'Strait', 'Sudan': 'Coast', 'Gulf_of_Aden': 'Sea'}, 'units': {}, 'obj_type': 'tile', 'visible': {'s0': 'Axis', 's1': 'West', 's2': 'USSR'}}, 'Gulf_of_Aden': {'type': 'Sea', 'borders': {'Red_Sea': 'Sea', 'Arabian_Sea': 'Sea', 'West_Indian_Ocean': 'Ocean'}, 'units': {}, 'obj_type': 'tile', 'visible': {'s0': 'Axis', 's1': 'West', 's2': 'USSR'}}, 'West_Indian_Ocean': {'type': 'Sea', 'borders': {'Gulf_of_Aden': 'Ocean', 'Arabian_Sea': 'Ocean', 'East_Indian_Ocean': 'Ocean', 'South_Atlantic_Ocean': 'Ocean-Africa'}, 'units': {}, 'obj_type': 'tile', 'visible': {'s0': 'Axis', 's1': 'West', 's2': 'USSR'}}, 'East_Indian_Ocean': {'type': 'Sea', 'borders': {'Arabian_Sea': 'Ocean', 'West_Indian_Ocean': 'Ocean', 'Bombay': 'Coast', 'Delhi': 'Coast'}, 'units': {}, 'obj_type': 'tile', 'visible': {'s0': 'Axis', 's1': 'West', 's2': 'USSR'}}, 'Arabian_Sea': {'type': 'Sea', 'borders': {'Gulf_of_Aden': 'Sea', 'West_Indian_Ocean': 'Ocean', 'Persian_Gulf': 'Sea', 'East_Indian_Ocean': 'Ocean', 'Bombay': 'Coast', 'Karachi': 'Coast', 'Shiraz': 'Coast'}, 'units': {}, 'obj_type': 'tile', 'visible': {'s0': 'Axis', 's1': 'West', 's2': 'USSR'}}, 'Persian_Gulf': {'type': 'Sea', 'borders': {'Arabian_Sea': 'Sea', 'Shiraz': 'Coast', 'Abadan': 'Coast', 'Iraq': 'Coast'}, 'units': {}, 'obj_type': 'tile', 'visible': {'s0': 'Axis', 's1': 'West', 's2': 'USSR'}}, 'Bombay': {'type': 'Coast', 'alligence': 'India', 'res': '1', 'res_afr': '1', 'pop': '1', 'muster': '2', 'borders': {'Arabian_Sea': 'Coast', 'East_Indian_Ocean': 'Coast', 'Karachi': 'Plains', 'Delhi': 'Plains'}, 'units': {'s0': '17920'}, 'obj_type': 'tile', 'visible': {'s0': 'Axis', 's1': 'West', 's2': 'USSR'}, 'owner': 'West'}, 'Karachi': {'type': 'Coast', 'alligence': 'India', 'res': '0', 'res_afr': '0', 'pop': '0', 'muster': '0', 'borders': {'Arabian_Sea': 'Coast', 'Bombay': 'Plains', 'Delhi': 'Plains', 'Kabul': 'Mountains', 'Shiraz': 'Mountains'}, 'units': {'s0': '248'}, 'obj_type': 'tile', 'visible': {'s0': 'Axis', 's1': 'West', 's2': 'USSR'}, 'owner': 'West'}, 'Delhi': {'type': 'Coast', 'alligence': 'India', 'res': '1', 'res_afr': '1', 'pop': '2', 'muster': '3', 'borders': {'East_Indian_Ocean': 'Coast', 'Bombay': 'Plains', 'Karachi': 'Plains'}, 'units': {'s0': '16513', 's1': '17449'}, 'obj_type': 'tile', 'visible': {'s0': 'Axis', 's1': 'West', 's2': 'USSR'}, 'capital': '1', 'owner': 'West'}, 'Kabul': {'type': 'Land', 'alligence': 'Afghanistan', 'res': '0', 'pop': '0', 'muster': '1', 'borders': {'Karachi': 'Mountains', 'Shiraz': 'Mountains', 'Tehran': 'Mountains', 'Turkmenistan': 'Mountains'}, 'units': {}, 'obj_type': 'tile', 'visible': {'s0': 'Axis', 's1': 'West', 's2': 'USSR'}, 'capital': '1'}, 'Shiraz': {'type': 'Coast', 'alligence': 'Persia', 'res': '0', 'pop': '0', 'muster': '0', 'borders': {'Persian_Gulf': 'Coast', 'Arabian_Sea': 'Coast', 'Karachi': 'Mountains', 'Kabul': 'Mountains', 'Abadan': 'Mountains', 'Tehran': 'Mountains'}, 'units': {}, 'obj_type': 'tile', 'visible': {'s0': 'Axis', 's1': 'West', 's2': 'USSR'}}, 'Tehran': {'type': 'Coast', 'alligence': 'Persia', 'res': '0', 'pop': '1', 'muster': '2', 'borders': {'Shiraz': 'Mountains', 'Abadan': 'Mountains', 'Kabul': 'Mountains', 'Tabriz': 'Mountains', 'Turkmenistan': 'Mountains', 'Southern_Caspian_Sea': 'Coast'}, 'units': {}, 'obj_type': 'tile', 'visible': {'s0': 'Axis', 's1': 'West', 's2': 'USSR'}, 'capital': '1'}, 'Abadan': {'type': 'Coast', 'alligence': 'Persia', 'res': '2', 'res_afr': '2', 'pop': '0', 'muster': '0', 'borders': {'Persian_Gulf': 'Coast', 'Shiraz': 'Mountains', 'Iraq': 'Plains', 'Tehran': 'Mountains', 'Tabriz': 'Mountains'}, 'units': {}, 'obj_type': 'tile', 'visible': {'s0': 'Axis', 's1': 'West', 's2': 'USSR'}}, 'Tabriz': {'type': 'Coast', 'alligence': 'Persia', 'res': '0', 'pop': '0', 'muster': '0', 'borders': {'Abadan': 'Mountains', 'Tehran': 'Mountains', 'Southern_Caspian_Sea': 'Coast', 'Baku': 'Mountains', 'Kars': 'Mountains', 'Georgia': 'Mountains'}, 'units': {}, 'obj_type': 'tile', 'visible': {'s0': 'Axis', 's1': 'West', 's2': 'USSR'}}, 'Kars': {'type': 'Coast', 'alligence': 'Turkey', 'res': '0', 'pop': '0', 'muster': '0', 'borders': {'Tabriz': 'Mountains', 'Georgia': 'Mountains', 'Eastern_Black_Sea': 'Coast', 'Sinope': 'Mountains', 'Adana': 'Mountains'}, 'units': {}, 'obj_type': 'tile', 'visible': {'s0': 'Axis', 's1': 'West', 's2': 'USSR'}}, 'Sinope': {'type': 'Coast', 'alligence': 'Turkey', 'res': '0', 'pop': '0', 'muster': '0', 'borders': {'Kars': 'Mountains', 'Adana': 'Mountains', 'Ankara': 'Mountains', 'Eastern_Black_Sea': 'Coast'}, 'units': {}, 'obj_type': 'tile', 'visible': {'s0': 'Axis', 's1': 'West', 's2': 'USSR'}}, 'Adana': {'type': 'Coast', 'alligence': 'Turkey', 'res': '0', 'pop': '0', 'muster': '0', 'borders': {'Kars': 'Mountains', 'Sinope': 'Mountains', 'Damascus': 'Plains', 'Eastern_Mediterranean': 'Coast', 'Ankara': 'Mountains', 'Izmir': 'Mountains'}, 'units': {}, 'obj_type': 'tile', 'visible': {'s0': 'Axis', 's1': 'West', 's2': 'USSR'}}, 'Ankara': {'type': 'Coast', 'alligence': 'Turkey', 'res': '0', 'pop': '1', 'muster': '3', 'borders': {'Sinope': 'Mountains', 'Adana': 'Mountains', 'Izmir': 'Mountains', 'Istanbul': 'Strait', 'Western_Black_Sea': 'Coast'}, 'units': {}, 'obj_type': 'tile', 'visible': {'s0': 'Axis', 's1': 'West', 's2': 'USSR'}, 'capital': '1'}, 'Izmir': {'type': 'Coast', 'alligence': 'Turkey', 'res': '1', 'pop': '0', 'muster': '1', 'borders': {'Adana': 'Mountains', 'Ankara': 'Mountains', 'Eastern_Mediterranean': 'Coast', 'Aegean_Sea': 'Coast', 'Istanbul': 'Strait'}, 'units': {}, 'obj_type': 'tile', 'visible': {'s0': 'Axis', 's1': 'West', 's2': 'USSR'}}, 'Istanbul': {'type': 'Strait', 'alligence': 'Turkey', 'res': '0', 'pop': '1', 'muster': '2', 'borders': {'Izmir': 'Strait', 'Ankara': 'Strait', 'Aegean_Sea': 'Strait', 'Western_Black_Sea': 'Strait', 'Sofia': 'Strait', 'Athens': 'Strait'}, 'units': {}, 'obj_type': 'tile', 'visible': {'s0': 'Axis', 's1': 'West', 's2': 'USSR'}}, 'Southern_Caspian_Sea': {'type': 'Sea', 'borders': {'Tehran': 'Coast', 'Tabriz': 'Coast', 'Turkmenistan': 'Coast', 'Baku': 'Coast', 'Northern_Caspian_Sea': 'Sea'}, 'units': {}, 'obj_type': 'tile', 'visible': {'s0': 'Axis', 's1': 'West', 's2': 'USSR'}}, 'Northern_Caspian_Sea': {'type': 'Sea', 'borders': {'Southern_Caspian_Sea': 'Sea', 'Turkmenistan': 'Coast', 'Baku': 'Coast', 'Kazakhstan': 'Coast', 'Grozny': 'Coast', 'Ufa': 'Coast'}, 'units': {}, 'obj_type': 'tile', 'visible': {'s0': 'Axis', 's1': 'West', 's2': 'USSR'}}, 'Eastern_Black_Sea': {'type': 'Sea', 'borders': {'Kars': 'Coast', 'Georgia': 'Coast', 'Sinope': 'Coast', 'Western_Black_Sea': 'Sea', 'Sevastopol': 'Strait', 'Kuban': 'Coast'}, 'units': {}, 'obj_type': 'tile', 'visible': {'s0': 'Axis', 's1': 'West', 's2': 'USSR'}}, 'Western_Black_Sea': {'type': 'Sea', 'borders': {'Istanbul': 'Strait', 'Eastern_Black_Sea': 'Sea', 'Ankara': 'Coast', 'Sevastopol': 'Strait', 'Odessa': 'Coast', 'Bucharest': 'Coast', 'Sofia': 'Coast'}, 'units': {}, 'obj_type': 'tile', 'visible': {'s0': 'Axis', 's1': 'West', 's2': 'USSR'}}, 'Sea_of_Azov': {'type': 'Sea', 'borders': {'Sevastopol': 'Strait', 'Kuban': 'Coast', 'Kharkov': 'Coast'}, 'units': {}, 'obj_type': 'tile', 'visible': {'s0': 'Axis', 's1': 'West', 's2': 'USSR'}}, 'Archangel': {'type': 'Coast', 'alligence': 'USSR', 'res': '0', 'pop': '0', 'muster': '0', 'borders': {'Vologda': 'Forest', 'Leningrad': 'Forest', 'Murmansk': 'Forest', 'White_Sea': 'Coast'}, 'units': {'s0': '28113'}, 'obj_type': 'tile', 'visible': {'s0': 'Axis', 's1': 'West', 's2': 'USSR'}, 'owner': 'USSR'}, 'Vologda': {'type': 'Land', 'alligence': 'USSR', 'res': '0', 'pop': '0', 'muster': '0', 'borders': {'Moscow': 'Forest', 'Gorky': 'Forest', 'Leningrad': 'Forest', 'Archangel': 'Forest'}, 'units': {}, 'obj_type': 'tile', 'visible': {'s0': 'Axis', 's1': 'West', 's2': 'USSR'}, 'owner': 'USSR'}, 'Gorky': {'type': 'Land', 'alligence': 'USSR', 'res': '0', 'pop': '0', 'muster': '0', 'borders': {'Moscow': 'River', 'Penza': 'River', 'Perm': 'Forest', 'Vologda': 'Forest'}, 'units': {}, 'obj_type': 'tile', 'visible': {'s0': 'Axis', 's1': 'West', 's2': 'USSR'}, 'owner': 'USSR'}, 'Perm': {'type': 'Land', 'alligence': 'USSR', 'res': '0', 'pop': '0', 'muster': '0', 'borders': {'Penza': 'River', 'Ufa': 'Plains', 'Urals': 'Mountains', 'Gorky': 'Forest'}, 'units': {}, 'obj_type': 'tile', 'visible': {'s0': 'Axis', 's1': 'West', 's2': 'USSR'}, 'owner': 'USSR'}, 'Urals': {'type': 'Land', 'alligence': 'USSR', 'res': '1', 'pop': '1', 'muster': '2', 'borders': {'Kazakhstan': 'Mountains', 'Western_Siberia': 'Plains', 'Ufa': 'Mountains', 'Perm': 'Mountains'}, 'units': {'s0': '11508'}, 'obj_type': 'tile', 'visible': {'s0': 'Axis', 's1': 'West', 's2': 'USSR'}, 'owner': 'USSR'}, 'Western_Siberia': {'type': 'Land', 'alligence': 'USSR', 'res': '1', 'pop': '0', 'muster': '0', 'borders': {'Kazakhstan': 'Plains', 'Urals': 'Plains'}, 'units': {}, 'obj_type': 'tile', 'visible': {'s0': 'Axis', 's1': 'West', 's2': 'USSR'}, 'owner': 'USSR'}, 'Leningrad': {'type': 'Coast', 'alligence': 'USSR', 'res': '0', 'pop': '2', 'muster': '3', 'borders': {'Bryansk': 'Forest', 'Belorussia': 'Forest', 'Moscow': 'Forest', 'Vologda': 'Forest', 'Archangel': 'Forest', 'Murmansk': 'Forest', 'Helsinki': 'Forest', 'Gulf_of_Bothnia': 'Coast', 'Riga': 'Forest'}, 'units': {'s0': '10185', 's1': '10624', 's2': '30109'}, 'obj_type': 'tile', 'visible': {'s0': 'Axis', 's1': 'West', 's2': 'USSR'}, 'owner': 'USSR'}, 'Moscow': {'type': 'Land', 'alligence': 'USSR', 'res': '0', 'pop': '3', 'muster': '3', 'borders': {'Voronezh': 'Plains', 'Penza': 'Plains', 'Bryansk': 'Forest', 'Leningrad': 'Forest', 'Gorky': 'River', 'Vologda': 'Forest'}, 'units': {'s0': '11953', 's1': '12400', 's2': '12849'}, 'obj_type': 'tile', 'visible': {'s0': 'Axis', 's1': 'West', 's2': 'USSR'}, 'capital': '1', 'owner': 'USSR'}, 'Murmansk': {'type': 'Coast', 'alligence': 'USSR', 'res': '0', 'pop': '0', 'muster': '0', 'borders': {'Archangel': 'Forest', 'Leningrad': 'Forest', 'White_Sea': 'Coast', 'Barents_Sea': 'Coast', 'Helsinki': 'Forest', 'Petsamo': 'Forest'}, 'units': {}, 'obj_type': 'tile', 'visible': {'s0': 'Axis', 's1': 'West', 's2': 'USSR'}, 'owner': 'USSR'}, 'Penza': {'type': 'Land', 'alligence': 'USSR', 'res': '0', 'pop': '0', 'muster': '0', 'borders': {'Voronezh': 'Forest', 'Ufa': 'River', 'Moscow': 'Plains', 'Gorky': 'River', 'Perm': 'River'}, 'units': {}, 'obj_type': 'tile', 'visible': {'s0': 'Axis', 's1': 'West', 's2': 'USSR'}, 'owner': 'USSR'}, 'Ufa': {'type': 'Coast', 'alligence': 'USSR', 'res': '1', 'pop': '0', 'muster': '0', 'borders': {'Grozny': 'River', 'Stalingrad': 'River', 'Northern_Caspian_Sea': 'Coast', 'Kazakhstan': 'Plains', 'Voronezh': 'River', 'Penza': 'River', 'Perm': 'Plains', 'Urals': 'Mountains'}, 'units': {}, 'obj_type': 'tile', 'visible': {'s0': 'Axis', 's1': 'West', 's2': 'USSR'}, 'owner': 'USSR'}, 'Kazakhstan': {'type': 'Coast', 'alligence': 'USSR', 'res': '0', 'pop': '0', 'muster': '0', 'borders': {'Turkmenistan': 'Plains', 'Northern_Caspian_Sea': 'Coast', 'Ufa': 'Plains', 'Western_Siberia': 'Plains', 'Urals': 'Mountains'}, 'units': {'s0': '30612'}, 'obj_type': 'tile', 'visible': {'s0': 'Axis', 's1': 'West', 's2': 'USSR'}, 'owner': 'USSR'}, 'Belorussia': {'type': 'Land', 'alligence': 'USSR', 'res': '0', 'pop': '0', 'muster': '0', 'borders': {'Bryansk': 'Plains', 'Leningrad': 'Forest', 'Riga': 'Plains', 'Vilna': 'Plains'}, 'units': {}, 'obj_type': 'tile', 'visible': {'s0': 'Axis', 's1': 'West', 's2': 'USSR'}, 'owner': 'USSR'}, 'Bryansk': {'type': 'Land', 'alligence': 'USSR', 'res': '0', 'pop': '0', 'muster': '0', 'borders': {'Kharkov': 'Plains', 'Voronezh': 'Plains', 'Belorussia': 'Plains', 'Moscow': 'Forest', 'Kiev': 'River', 'Leningrad': 'Forest'}, 'units': {'s0': '29608'}, 'obj_type': 'tile', 'visible': {'s0': 'Axis', 's1': 'West', 's2': 'USSR'}, 'owner': 'USSR'}, 'Voronezh': {'type': 'Land', 'alligence': 'USSR', 'res': '0', 'pop': '0', 'muster': '0', 'borders': {'Stalingrad': 'Plains', 'Kharkov': 'River', 'Bryansk': 'Plains', 'Ufa': 'River', 'Moscow': 'Plains', 'Penza': 'Forest'}, 'units': {}, 'obj_type': 'tile', 'visible': {'s0': 'Axis', 's1': 'West', 's2': 'USSR'}, 'owner': 'USSR'}, 'Stalingrad': {'type': 'Land', 'alligence': 'USSR', 'res': '0', 'pop': '1', 'muster': '2', 'borders': {'Kuban': 'Plains', 'Grozny': 'Plains', 'Ufa': 'River', 'Voronezh': 'Plains', 'Kharkov': 'River'}, 'units': {'s0': '14208'}, 'obj_type': 'tile', 'visible': {'s0': 'Axis', 's1': 'West', 's2': 'USSR'}, 'owner': 'USSR'}, 'Grozny': {'type': 'Coast', 'alligence': 'USSR', 'res': '0', 'pop': '0', 'muster': '0', 'borders': {'Baku': 'Mountains', 'Northern_Caspian_Sea': 'Coast', 'Georgia': 'Mountains', 'Kuban': 'Plains', 'Stalingrad': 'Plains', 'Ufa': 'River'}, 'units': {}, 'obj_type': 'tile', 'visible': {'s0': 'Axis', 's1': 'West', 's2': 'USSR'}, 'owner': 'USSR'}, 'Turkmenistan': {'type': 'Coast', 'alligence': 'USSR', 'res': '0', 'pop': '0', 'muster': '0', 'borders': {'Kabul': 'Mountains', 'Tehran': 'Mountains', 'Southern_Caspian_Sea': 'Coast', 'Northern_Caspian_Sea': 'Coast', 'Kazakhstan': 'Plains'}, 'units': {}, 'obj_type': 'tile', 'visible': {'s0': 'Axis', 's1': 'West', 's2': 'USSR'}, 'owner': 'USSR'}, 'Kuban': {'type': 'Coast', 'alligence': 'USSR', 'res': '0', 'pop': '0', 'muster': '0', 'borders': {'Georgia': 'Mountains', 'Grozny': 'Plains', 'Eastern_Black_Sea': 'Coast', 'Sea_of_Azov': 'Coast', 'Sevastopol': 'Strait', 'Kharkov': 'River', 'Stalingrad': 'Plains'}, 'units': {}, 'obj_type': 'tile', 'visible': {'s0': 'Axis', 's1': 'West', 's2': 'USSR'}, 'owner': 'USSR'}, 'Georgia': {'type': 'Coast', 'alligence': 'USSR', 'res': '0', 'pop': '0', 'muster': '0', 'borders': {'Baku': 'Plains', 'Tabriz': 'Mountains', 'Grozny': 'Mountains', 'Kuban': 'Mountains', 'Kars': 'Mountains', 'Eastern_Black_Sea': 'Coast'}, 'units': {'s0': '27616', 's1': '31117'}, 'obj_type': 'tile', 'visible': {'s0': 'Axis', 's1': 'West', 's2': 'USSR'}, 'owner': 'USSR'}, 'Baku': {'type': 'Coast', 'alligence': 'USSR', 'res': '3', 'res_afr': '1', 'pop': '2', 'muster': '3', 'borders': {'Tabriz': 'Mountains', 'Southern_Caspian_Sea': 'Coast', 'Georgia': 'Plains', 'Northern_Caspian_Sea': 'Coast', 'Grozny': 'Mountains'}, 'units': {'s0': '13300', 's1': '13753'}, 'obj_type': 'tile', 'visible': {'s0': 'Axis', 's1': 'West', 's2': 'USSR'}, 'owner': 'USSR'}, 'Kiev': {'type': 'Land', 'alligence': 'USSR', 'res': '1', 'pop': '1', 'muster': '2', 'borders': {'Odessa': 'Plains', 'Kharkov': 'River', 'Bryansk': 'River', 'Lvov': 'Plains'}, 'units': {'s0': '14665'}, 'obj_type': 'tile', 'visible': {'s0': 'Axis', 's1': 'West', 's2': 'USSR'}, 'owner': 'USSR'}, 'Kharkov': {'type': 'Coast', 'alligence': 'USSR', 'res': '1', 'pop': '1', 'muster': '2', 'borders': {'Sea_of_Azov': 'Coast', 'Sevastopol': 'Strait', 'Odessa': 'River', 'Kiev': 'River', 'Kuban': 'River', 'Stalingrad': 'River', 'Voronezh': 'River', 'Bryansk': 'Plains'}, 'units': {'s0': '11065'}, 'obj_type': 'tile', 'visible': {'s0': 'Axis', 's1': 'West', 's2': 'USSR'}, 'owner': 'USSR'}, 'Odessa': {'type': 'Coast', 'alligence': 'USSR', 'res': '2', 'pop': '1', 'muster': '2', 'borders': {'Kharkov': 'River', 'Western_Black_Sea': 'Coast', 'Sevastopol': 'Strait', 'Kiev': 'Plains', 'Lvov': 'Plains', 'Bucharest': 'River'}, 'units': {'s0': '9748', 's1': '27121'}, 'obj_type': 'tile', 'visible': {'s0': 'Axis', 's1': 'West', 's2': 'USSR'}, 'owner': 'USSR'}, 'Sevastopol': {'type': 'Strait', 'alligence': 'USSR', 'res': '0', 'pop': '0', 'muster': '0', 'borders': {'Western_Black_Sea': 'Strait', 'Eastern_Black_Sea': 'Strait', 'Sea_of_Azov': 'Strait', 'Kuban': 'Strait', 'Kharkov': 'Strait', 'Odessa': 'Strait'}, 'units': {}, 'obj_type': 'tile', 'visible': {'s0': 'Axis', 's1': 'West', 's2': 'USSR'}, 'owner': 'USSR'}, 'action_22': {'top': 'Low_Countries', 'bottom': 'Denmark', 'season': 'Summer', 'priority': 'G', 'value': '8', 'obj_type': 'action_card', 'visible': {}}, 'action_23': {'top': 'Denmark', 'bottom': 'Turkey', 'season': 'Summer', 'priority': 'H', 'value': '8', 'obj_type': 'action_card', 'visible': {'s0': 'Axis'}, 'owner': 'Axis'}, 'action_19': {'top': 'Latin_America', 'bottom': 'USA', 'season': 'Summer', 'priority': 'D', 'value': '7', 'obj_type': 'action_card', 'visible': {}}, 'action_13': {'top': 'Romania', 'bottom': 'USA', 'season': 'Spring', 'priority': 'M', 'value': '4', 'obj_type': 'action_card', 'visible': {}}, 'action_47': {'top': 'Finland', 'bottom': 'Norway', 'season': 'Fall', 'priority': 'G', 'value': '8', 'obj_type': 'action_card', 'visible': {}}, 'action_1': {'top': 'Yugoslavia', 'bottom': 'Spain', 'season': 'Spring', 'priority': 'A', 'value': '4', 'obj_type': 'action_card', 'visible': {}}, 'action_8': {'top': 'Austria', 'bottom': 'Poland', 'season': 'Spring', 'priority': 'H', 'value': '6', 'obj_type': 'action_card', 'visible': {}}, 'action_7': {'top': 'Hungary', 'bottom': 'Yugoslavia', 'season': 'Spring', 'priority': 'G', 'value': '6', 'obj_type': 'action_card', 'visible': {}}, 'action_46': {'top': 'Greece', 'bottom': 'Latin_America', 'season': 'Fall', 'priority': 'F', 'value': '7', 'obj_type': 'action_card', 'visible': {}}, 'action_26': {'top': 'Latin_America', 'bottom': 'Greece', 'season': 'Summer', 'priority': 'K', 'value': '9', 'obj_type': 'action_card', 'visible': {}}, 'action_33': {'top': 'Baltic_States', 'bottom': 'Finland', 'season': 'Summer', 'priority': 'S', 'value': '9', 'obj_type': 'action_card', 'visible': {}}, 'action_6': {'top': 'Rumania', 'bottom': 'Spain', 'season': 'Spring', 'priority': 'F', 'value': '5', 'obj_type': 'action_card', 'visible': {}}, 'action_28': {'top': 'Yugoslavia', 'bottom': 'Norway', 'season': 'Summer', 'priority': 'M', 'value': '10', 'obj_type': 'action_card', 'visible': {}}, 'action_31': {'top': 'Austria', 'bottom': 'USA', 'season': 'Summer', 'priority': 'Q', 'value': '9', 'obj_type': 'action_card', 'visible': {}}, 'action_21': {'top': 'Rumania', 'bottom': 'Yugoslavia', 'season': 'Summer', 'priority': 'F', 'value': '7', 'obj_type': 'action_card', 'visible': {}}, 'action_18': {'top': 'Hungary', 'bottom': 'Poland', 'season': 'Summer', 'priority': 'C', 'value': '6', 'obj_type': 'action_card', 'visible': {}}, 'action_34': {'top': 'Hungary', 'bottom': 'Yugoslavia', 'season': 'Summer', 'priority': 'T', 'value': '8', 'obj_type': 'action_card', 'visible': {}}, 'action_3': {'top': 'USA', 'bottom': 'Latin_America', 'season': 'Spring', 'priority': 'C', 'value': '4', 'obj_type': 'action_card', 'visible': {}}, 'action_5': {'top': 'Czechoslovakia', 'bottom': 'Austria', 'season': 'Spring', 'priority': 'E', 'value': '5', 'obj_type': 'action_card', 'visible': {}}, 'action_4': {'top': 'Portugal', 'bottom': 'Greece', 'season': 'Spring', 'priority': 'D', 'value': '5', 'obj_type': 'action_card', 'visible': {}}, 'action_43': {'top': 'Low_Countries', 'bottom': 'Afghanistan', 'season': 'Fall', 'priority': 'C', 'value': '6', 'obj_type': 'action_card', 'visible': {}}, 'action_30': {'top': 'Hungary', 'bottom': 'Greece', 'season': 'Summer', 'priority': 'P', 'value': '10', 'obj_type': 'action_card', 'visible': {}}, 'action_10': {'top': 'Bulgaria', 'bottom': 'Rumania', 'season': 'Spring', 'priority': 'J', 'value': '5', 'obj_type': 'action_card', 'visible': {}}, 'action_50': {'top': 'Greece', 'bottom': 'Turkey', 'season': 'Fall', 'priority': 'J', 'value': '7', 'obj_type': 'action_card', 'visible': {}}, 'action_55': {'top': 'Persia', 'bottom': 'Turkey', 'season': 'Fall', 'priority': 'P', 'value': '6', 'obj_type': 'action_card', 'visible': {}}, 'action_49': {'top': 'Low_Countries', 'bottom': 'Denmark', 'season': 'Fall', 'priority': 'I', 'value': '8', 'obj_type': 'action_card', 'visible': {}}, 'action_51': {'top': 'Baltic_States', 'bottom': 'Sweden', 'season': 'Fall', 'priority': 'K', 'value': '7', 'obj_type': 'action_card', 'visible': {}}, 'action_53': {'top': 'Bulgaria', 'bottom': 'Greece', 'season': 'Fall', 'priority': 'M', 'value': '6', 'obj_type': 'action_card', 'visible': {}}, 'action_29': {'top': 'Czechoslovakia', 'bottom': 'Yugoslavia', 'season': 'Summer', 'priority': 'N', 'value': '10', 'obj_type': 'action_card', 'visible': {}}, 'action_37': {'top': 'Bulgaria', 'bottom': 'Austria', 'season': 'Summer', 'priority': 'W', 'value': '7', 'obj_type': 'action_card', 'visible': {}}, 'action_14': {'top': 'Portugal', 'bottom': 'Hungary', 'season': 'Spring', 'priority': 'N', 'value': '4', 'obj_type': 'action_card', 'visible': {}}, 'action_32': {'top': 'Czechoslovakia', 'bottom': 'Bulgaria', 'season': 'Summer', 'priority': 'R', 'value': '9', 'obj_type': 'action_card', 'visible': {}}, 'action_27': {'top': 'Finland', 'bottom': 'Low_Countries', 'season': 'Summer', 'priority': 'L', 'value': '9', 'obj_type': 'action_card', 'visible': {}}, 'action_25': {'top': 'USA', 'bottom': 'Sweden', 'season': 'Summer', 'priority': 'J', 'value': '9', 'obj_type': 'action_card', 'visible': {}}, 'action_41': {'top': 'Afghanistan', 'bottom': 'Hungary', 'season': 'Fall', 'priority': 'A', 'value': '6', 'obj_type': 'action_card', 'visible': {}}, 'action_11': {'top': 'Austria', 'bottom': 'Afghanistan', 'season': 'Spring', 'priority': 'K', 'value': '5', 'obj_type': 'action_card', 'visible': {}}, 'action_54': {'top': 'Finland', 'bottom': 'Czechoslovakia', 'season': 'Fall', 'priority': 'N', 'value': '6', 'obj_type': 'action_card', 'visible': {}}, 'action_16': {'top': 'Czechoslovakia', 'bottom': 'Spain', 'season': 'Summer', 'priority': 'A', 'value': '6', 'obj_type': 'action_card', 'visible': {}}, 'action_39': {'top': 'Rumania', 'bottom': 'Persia', 'season': 'Summer', 'priority': 'Y', 'value': '6', 'obj_type': 'action_card', 'visible': {}}, 'action_40': {'top': 'Spain', 'bottom': 'Poland', 'season': 'Summer', 'priority': 'Z', 'value': '6', 'obj_type': 'action_card', 'visible': {}}, 'action_52': {'top': 'Norway', 'bottom': 'Sweden', 'season': 'Fall', 'priority': 'L', 'value': '7', 'obj_type': 'action_card', 'visible': {}}, 'action_38': {'top': 'Austria', 'bottom': 'Latin_America', 'season': 'Summer', 'priority': 'X', 'value': '7', 'obj_type': 'action_card', 'visible': {}}, 'action_36': {'top': 'Czechoslovakia', 'bottom': 'Portugal', 'season': 'Summer', 'priority': 'V', 'value': '8', 'obj_type': 'action_card', 'visible': {}}, 'action_20': {'wildcard': 'Ties_that_Bind', 'season': 'Summer', 'priority': 'E', 'value': '7', 'obj_type': 'action_card', 'visible': {}}, 'action_9': {'wildcard': 'Ethnic_Ties', 'season': 'Spring', 'priority': 'I', 'value': '6', 'obj_type': 'action_card', 'visible': {}}, 'action_12': {'wildcard': 'Birds_of_a_Feather_1', 'season': 'Spring', 'priority': 'L', 'value': '5', 'obj_type': 'action_card', 'visible': {}}, 'action_17': {'wildcard': 'Foreign_Aid', 'season': 'Summer', 'priority': 'B', 'value': '6', 'obj_type': 'action_card', 'visible': {}}, 'action_44': {'wildcard': 'Brothers_in_Arms', 'season': 'Fall', 'priority': 'D', 'value': '7', 'obj_type': 'action_card', 'visible': {}}, 'action_45': {'wildcard': 'Birds_of_a_Feather_2', 'season': 'Fall', 'priority': 'E', 'value': '7', 'obj_type': 'action_card', 'visible': {}}, 'action_35': {'wildcard': 'Isolationism', 'season': 'Summer', 'priority': 'U', 'value': '8', 'obj_type': 'action_card', 'visible': {}}, 'action_2': {'wildcard': 'Fear_&_Loathing', 'season': 'Spring', 'priority': 'B', 'value': '4', 'obj_type': 'action_card', 'visible': {}}, 'action_42': {'wildcard': 'Guarantee', 'season': 'Fall', 'priority': 'B', 'value': '6', 'obj_type': 'action_card', 'visible': {}}, 'action_48': {'wildcard': 'Isolationism', 'season': 'Fall', 'priority': 'H', 'value': '8', 'obj_type': 'action_card', 'visible': {}}, 'action_24': {'wildcard': 'Versailles', 'season': 'Summer', 'priority': 'I', 'value': '8', 'obj_type': 'action_card', 'visible': {}}, 'action_15': {'wildcard': 'Intimidation', 'season': 'Spring', 'priority': 'P', 'value': '4', 'obj_type': 'action_card', 'visible': {}}, 'invest_47': {'top': 'Naval_Radar', 'bottom': 'Sonar', 'value': '1', 'obj_type': 'investment_card', 'visible': {}}, 'invest_44': {'top': 'Industrial_Espionage', 'bottom': 'Precision_Bombsight', 'value': '3', 'obj_type': 'investment_card', 'visible': {}}, 'invest_21': {'top': 'AirDefense_Radar', 'bottom': 'Industrial_Espionage', 'value': '2', 'obj_type': 'investment_card', 'visible': {}}, 'invest_22': {'top': 'Atomic_Research_2', 'bottom': 'Industrial_Espionage', 'value': '3', 'obj_type': 'investment_card', 'visible': {}}, 'invest_49': {'top': 'AirDefense_Radar', 'bottom': 'Heavy_Tanks', 'value': '2', 'obj_type': 'investment_card', 'visible': {}}, 'invest_55': {'top': 'Atomic_Research_4', 'bottom': 'Jets', 'value': '4', 'obj_type': 'investment_card', 'visible': {}}, 'invest_26': {'top': 'Precision_Bombsights', 'bottom': 'Industrial_Espionage', 'value': '3', 'obj_type': 'investment_card', 'visible': {}}, 'invest_51': {'top': 'Motorized_Infantry', 'bottom': 'LSTs', 'value': '3', 'obj_type': 'investment_card', 'visible': {}}, 'invest_13': {'top': 'Jets', 'bottom': 'Heavy_Bombers', 'value': '4', 'obj_type': 'investment_card', 'visible': {}}, 'invest_7': {'top': 'AirDefense_Radar', 'bottom': 'Sonar', 'value': '1', 'obj_type': 'investment_card', 'visible': {}}, 'invest_25': {'top': 'Precision_Bombsights', 'bottom': 'Rocket_Artillery', 'value': '3', 'obj_type': 'investment_card', 'visible': {}}, 'invest_29': {'top': 'Precision_Bombsights', 'bottom': 'Heavy_Bombers', 'value': '3', 'obj_type': 'investment_card', 'visible': {}}, 'invest_9': {'top': 'Sonar', 'bottom': 'Rocket_Arillery', 'value': '2', 'obj_type': 'investment_card', 'visible': {}}, 'invest_30': {'top': 'Motorized_Infantry', 'bottom': 'LSTs', 'value': '3', 'obj_type': 'investment_card', 'visible': {}}, 'invest_52': {'top': 'Industrial_Espionage', 'bottom': 'Heavy_Bombers', 'value': '2', 'obj_type': 'investment_card', 'visible': {}}, 'invest_43': {'top': 'Jets', 'bottom': 'Heavy_Tanks', 'value': '3', 'obj_type': 'investment_card', 'visible': {}}, 'invest_18': {'top': 'Atomic_Research_1', 'bottom': 'Precision_Bombsights', 'value': '3', 'obj_type': 'investment_card', 'visible': {}}, 'invest_53': {'top': 'Atomic_Research_3', 'bottom': 'Motorized_Infantry', 'value': '3', 'obj_type': 'investment_card', 'visible': {}}, 'invest_50': {'top': 'Sonar', 'bottom': 'Naval_Radar', 'value': '2', 'obj_type': 'investment_card', 'visible': {}}, 'invest_16': {'top': 'Atomic_Research_3', 'bottom': 'LSTs', 'value': '4', 'obj_type': 'investment_card', 'visible': {}}, 'invest_46': {'top': 'Atomic_Research_2', 'bottom': 'AirDefense_Radar', 'value': '2', 'obj_type': 'investment_card', 'visible': {}}, 'invest_10': {'top': 'Heavy_Tanks', 'bottom': 'Naval_Radar', 'value': '2', 'obj_type': 'investment_card', 'visible': {}}, 'invest_28': {'top': 'Precision_Bombsights', 'bottom': 'Atomic_Research_1', 'value': '2', 'obj_type': 'investment_card', 'visible': {}}, 'invest_48': {'top': 'Rocket_Artillery', 'bottom': 'Heavy_Tanks', 'value': '3', 'obj_type': 'investment_card', 'visible': {}}, 'invest_45': {'top': 'Sonar', 'bottom': 'Naval_Radar', 'value': '1', 'obj_type': 'investment_card', 'visible': {}}, 'invest_1': {'top': 'Heavy_Tanks', 'bottom': 'AirDefense_Radar', 'value': '2', 'obj_type': 'investment_card', 'visible': {}}, 'invest_8': {'top': 'Naval_Radar', 'bottom': 'Sonar', 'value': '2', 'obj_type': 'investment_card', 'visible': {}}, 'invest_4': {'top': 'AirDefense_Radar', 'bottom': 'Sonar', 'value': '1', 'obj_type': 'investment_card', 'visible': {}}, 'invest_6': {'top': 'Rocket_Artillery', 'bottom': 'AirDefense_Radar', 'value': '3', 'obj_type': 'investment_card', 'visible': {}}, 'invest_54': {'top': 'Heavy_Bombers', 'bottom': 'LSTs', 'value': '3', 'obj_type': 'investment_card', 'visible': {}}, 'invest_5': {'top': 'Sonar', 'bottom': 'Naval_Radar', 'value': '1', 'obj_type': 'investment_card', 'visible': {}}, 'invest_11': {'top': 'Motorized_Infantry', 'bottom': 'LSTs', 'value': '3', 'obj_type': 'investment_card', 'visible': {}}, 'invest_23': {'top': 'Atomic_Research_1', 'bottom': 'Precision_Bombsights', 'value': '2', 'obj_type': 'investment_card', 'visible': {}}, 'invest_2': {'top': 'Rocket_Artillery', 'bottom': 'Heavy_Tanks', 'value': '3', 'obj_type': 'investment_card', 'visible': {}}, 'invest_42': {'top': 'Atomic_Research_1', 'bottom': 'Sonar', 'value': '2', 'obj_type': 'investment_card', 'visible': {}}, 'invest_41': {'top': 'Naval_Radar', 'bottom': 'AirDefense_Radar', 'value': '1', 'obj_type': 'investment_card', 'visible': {}}, 'invest_12': {'top': 'LSTs', 'bottom': 'Heavy_Bombers', 'value': '3', 'obj_type': 'investment_card', 'visible': {}}, 'invest_17': {'top': 'Atomic_Research_4', 'bottom': 'Heavy_Bombers', 'value': '4', 'obj_type': 'investment_card', 'visible': {}}, 'invest_27': {'top': 'Atomic_Research_2', 'bottom': 'Motorized_Infantry', 'value': '3', 'obj_type': 'investment_card', 'visible': {}}, 'invest_15': {'top': 'Motorized_Infantry', 'bottom': 'Jets', 'value': '3', 'obj_type': 'investment_card', 'visible': {}}, 'invest_38': {'intelligence': 'Coup', 'value': '4', 'obj_type': 'investment_card', 'visible': {}}, 'invest_39': {'intelligence': 'Spy_Ring', 'value': '2', 'obj_type': 'investment_card', 'visible': {}}, 'invest_34': {'intelligence': 'Spy_Ring', 'value': '3', 'obj_type': 'investment_card', 'visible': {}}, 'invest_33': {'intelligence': 'Sabotage', 'value': '3', 'obj_type': 'investment_card', 'visible': {}}, 'invest_32': {'intelligence': 'Agent', 'value': '2', 'obj_type': 'investment_card', 'visible': {}}, 'invest_40': {'intelligence': 'Code_Break', 'value': '2', 'obj_type': 'investment_card', 'visible': {}}, 'invest_37': {'intelligence': 'Agent', 'value': '1', 'obj_type': 'investment_card', 'visible': {}}, 'invest_36': {'intelligence': 'Double_Agent', 'value': '4', 'obj_type': 'investment_card', 'visible': {}}, 'invest_31': {'intelligence': 'Mole', 'value': '3', 'obj_type': 'investment_card', 'visible': {}}, 'invest_35': {'intelligence': 'Code_Break', 'value': '1', 'obj_type': 'investment_card', 'visible': {}}, 'invest_14': {'value': '1', 'science': {'l0': 'Sonar', 'l1': 'Naval_Radar', 'l2': 'Heavy_Tanks', 'l3': 'AirDefense_Radar', 'l4': 'Motorized_Infantry', 'l5': 'Atomic_Research_1'}, 'year': '1938', 'obj_type': 'investment_card', 'visible': {}}, 'invest_24': {'value': '3', 'science': {'l0': 'LSTs', 'l1': 'Heavy_Tanks', 'l2': 'AirDefense_Radar', 'l3': 'Rocket_Artillery', 'l4': 'Precision_Bombsights', 'l5': 'Atomic_Research_3'}, 'year': '1942', 'obj_type': 'investment_card', 'visible': {}}, 'invest_19': {'value': '2', 'science': {'l0': 'Sonar', 'l1': 'Naval_Radar', 'l2': 'Heavy_Bombers', 'l3': 'Rocket_Artillery', 'l4': 'Precision_Bombsights', 'l5': 'Atomic_Research_2'}, 'year': '1940', 'obj_type': 'investment_card', 'visible': {}}, 'invest_3': {'value': '1', 'science': {'l0': 'Sonar', 'l1': 'Naval_Radar', 'l2': 'Heavy_Tanks', 'l3': 'AirDefense_Radar', 'l4': 'Motorized_Infantry', 'l5': 'Atomic_Research_1'}, 'year': '1938', 'obj_type': 'investment_card', 'visible': {}}, 'invest_20': {'value': '4', 'science': {'l0': 'LSTs', 'l1': 'Jets', 'l2': 'Heavy_Bombers', 'l3': 'Precision_Bombsights', 'l4': 'Atomic_Research_3', 'l5': 'Atomic_Research_4'}, 'year': '1944', 'obj_type': 'investment_card', 'visible': {}}, '246': {'nationality': 'Britain', 'tile': 'London', 'type': 'Fleet', 'cv': '4', 'obj_type': 'unit', 'visible': {'s0': 'West'}}, '247': {'nationality': 'Britain', 'tile': 'Gibraltar', 'type': 'Fortress', 'cv': '1', 'obj_type': 'unit', 'visible': {'s0': 'West'}}, '248': {'nationality': 'Britain', 'tile': 'Karachi', 'type': 'Fortress', 'cv': '1', 'obj_type': 'unit', 'visible': {'s0': 'West'}}, '249': {'nationality': 'France', 'tile': 'Lorraine', 'type': 'Fortress', 'cv': '3', 'obj_type': 'unit', 'visible': {'s0': 'West'}}, '640': {'nationality': 'Germany', 'tile': 'Konigsberg', 'type': 'Tank', 'obj_type': 'unit', 'cv': '2', 'visible': {'s0': 'Axis'}}, '1033': {'nationality': 'Italy', 'tile': 'Rome', 'type': 'Carrier', 'obj_type': 'unit', 'cv': '1', 'visible': {'s0': 'Axis'}}, '1428': {'nationality': 'Germany', 'tile': 'Konigsberg', 'type': 'Carrier', 'obj_type': 'unit', 'cv': '1', 'visible': {'s0': 'Axis'}}, '1825': {'nationality': 'Italy', 'tile': 'Tripoli', 'type': 'Fleet', 'obj_type': 'unit', 'cv': '1', 'visible': {'s0': 'Axis'}}, '2224': {'nationality': 'Italy', 'tile': 'Rome', 'type': 'AirForce', 'obj_type': 'unit', 'cv': '1', 'visible': {'s0': 'Axis'}}, '2625': {'nationality': 'Italy', 'tile': 'Tripoli', 'type': 'Infantry', 'obj_type': 'unit', 'cv': '1', 'visible': {'s0': 'Axis'}}, '3028': {'nationality': 'Germany', 'tile': 'Ruhr', 'type': 'Submarine', 'obj_type': 'unit', 'cv': '1', 'visible': {'s0': 'Axis'}}, '3433': {'nationality': 'Germany', 'tile': 'Berlin', 'type': 'Fortress', 'obj_type': 'unit', 'cv': '1', 'visible': {'s0': 'Axis'}}, '3840': {'nationality': 'Italy', 'tile': 'Milan', 'type': 'Submarine', 'obj_type': 'unit', 'cv': '2', 'visible': {'s0': 'Axis'}}, '4249': {'nationality': 'Germany', 'tile': 'Munich', 'type': 'Fortress', 'obj_type': 'unit', 'cv': '1', 'visible': {'s0': 'Axis'}}, '4660': {'nationality': 'Italy', 'tile': 'Rome', 'type': 'Submarine', 'obj_type': 'unit', 'cv': '2', 'visible': {'s0': 'Axis'}}, '5073': {'nationality': 'Germany', 'tile': 'Ruhr', 'type': 'Fleet', 'obj_type': 'unit', 'cv': '1', 'visible': {'s0': 'Axis'}}, '5488': {'nationality': 'Germany', 'tile': 'Berlin', 'type': 'AirForce', 'obj_type': 'unit', 'cv': '1', 'visible': {'s0': 'Axis'}}, '5905': {'nationality': 'Germany', 'tile': 'Ruhr', 'type': 'Infantry', 'obj_type': 'unit', 'cv': '2', 'visible': {'s0': 'Axis'}}, '6324': {'nationality': 'Italy', 'tile': 'Rome', 'type': 'Tank', 'obj_type': 'unit', 'cv': '1', 'visible': {'s0': 'Axis'}}, '6745': {'nationality': 'Italy', 'tile': 'Milan', 'type': 'Fleet', 'obj_type': 'unit', 'cv': '1', 'visible': {'s0': 'Axis'}}, '7168': {'nationality': 'Germany', 'tile': 'Berlin', 'type': 'Tank', 'obj_type': 'unit', 'cv': '1', 'visible': {'s0': 'Axis'}}, '7593': {'nationality': 'Germany', 'tile': 'Berlin', 'type': 'Carrier', 'obj_type': 'unit', 'cv': '1', 'visible': {'s0': 'Axis'}}, '8020': {'nationality': 'Germany', 'tile': 'Ruhr', 'type': 'Infantry', 'obj_type': 'unit', 'cv': '1', 'visible': {'s0': 'Axis'}}, '8449': {'nationality': 'Germany', 'tile': 'Munich', 'type': 'AirForce', 'obj_type': 'unit', 'cv': '1', 'visible': {'s0': 'Axis'}}, '8880': {'nationality': 'Germany', 'tile': 'Berlin', 'type': 'Tank', 'obj_type': 'unit', 'cv': '2', 'visible': {'s0': 'Axis'}}, '9313': {'nationality': 'Germany', 'tile': 'Berlin', 'type': 'Fleet', 'obj_type': 'unit', 'cv': '1', 'visible': {'s0': 'Axis'}}, '9748': {'nationality': 'USSR', 'tile': 'Odessa', 'type': 'Infantry', 'obj_type': 'unit', 'cv': '1', 'visible': {'s0': 'USSR'}}, '10185': {'nationality': 'USSR', 'tile': 'Leningrad', 'type': 'Infantry', 'obj_type': 'unit', 'cv': '1', 'visible': {'s0': 'USSR'}}, '10624': {'nationality': 'USSR', 'tile': 'Leningrad', 'type': 'AirForce', 'obj_type': 'unit', 'cv': '1', 'visible': {'s0': 'USSR'}}, '11065': {'nationality': 'USSR', 'tile': 'Kharkov', 'type': 'Fortress', 'obj_type': 'unit', 'cv': '1', 'visible': {'s0': 'USSR'}}, '11508': {'nationality': 'USSR', 'tile': 'Urals', 'type': 'Infantry', 'obj_type': 'unit', 'cv': '1', 'visible': {'s0': 'USSR'}}, '11953': {'nationality': 'USSR', 'tile': 'Moscow', 'type': 'Fortress', 'obj_type': 'unit', 'cv': '1', 'visible': {'s0': 'USSR'}}, '12400': {'nationality': 'USSR', 'tile': 'Moscow', 'type': 'Tank', 'obj_type': 'unit', 'cv': '1', 'visible': {'s0': 'USSR'}}, '12849': {'nationality': 'USSR', 'tile': 'Moscow', 'type': 'AirForce', 'obj_type': 'unit', 'cv': '2', 'visible': {'s0': 'USSR'}}, '13300': {'nationality': 'USSR', 'tile': 'Baku', 'type': 'Tank', 'obj_type': 'unit', 'cv': '1', 'visible': {'s0': 'USSR'}}, '13753': {'nationality': 'USSR', 'tile': 'Baku', 'type': 'Fleet', 'obj_type': 'unit', 'cv': '1', 'visible': {'s0': 'USSR'}}, '14208': {'nationality': 'USSR', 'tile': 'Stalingrad', 'type': 'Infantry', 'obj_type': 'unit', 'cv': '1', 'visible': {'s0': 'USSR'}}, '14665': {'nationality': 'USSR', 'tile': 'Kiev', 'type': 'Tank', 'obj_type': 'unit', 'cv': '2', 'visible': {'s0': 'USSR'}}, '15124': {'nationality': 'France', 'tile': 'Paris', 'type': 'Carrier', 'obj_type': 'unit', 'cv': '1', 'visible': {'s0': 'West'}}, '15585': {'nationality': 'France', 'tile': 'Paris', 'type': 'Fleet', 'obj_type': 'unit', 'cv': '2', 'visible': {'s0': 'West'}}, '16048': {'nationality': 'Britain', 'tile': 'Glasgow', 'type': 'Infantry', 'obj_type': 'unit', 'cv': '1', 'visible': {'s0': 'West'}}, '16513': {'nationality': 'Britain', 'tile': 'Delhi', 'type': 'Fleet', 'obj_type': 'unit', 'cv': '1', 'visible': {'s0': 'West'}}, '16980': {'nationality': 'Britain', 'tile': 'Suez', 'type': 'Carrier', 'obj_type': 'unit', 'cv': '2', 'visible': {'s0': 'West'}}, '17449': {'nationality': 'Britain', 'tile': 'Delhi', 'type': 'Fleet', 'obj_type': 'unit', 'cv': '1', 'visible': {'s0': 'West'}}, '17920': {'nationality': 'Britain', 'tile': 'Bombay', 'type': 'Submarine', 'obj_type': 'unit', 'cv': '1', 'visible': {'s0': 'West'}}, '18393': {'nationality': 'France', 'tile': 'Marseille', 'type': 'Tank', 'obj_type': 'unit', 'cv': '1', 'visible': {'s0': 'West'}}, '18868': {'nationality': 'France', 'tile': 'Algiers', 'type': 'Submarine', 'obj_type': 'unit', 'cv': '1', 'visible': {'s0': 'West'}}, '19345': {'nationality': 'Britain', 'tile': 'London', 'type': 'Carrier', 'obj_type': 'unit', 'cv': '1', 'visible': {'s0': 'West'}}, '19824': {'nationality': 'Britain', 'tile': 'London', 'type': 'Submarine', 'obj_type': 'unit', 'cv': '1', 'visible': {'s0': 'West'}}, '20305': {'nationality': 'Britain', 'tile': 'London', 'type': 'Fleet', 'obj_type': 'unit', 'cv': '2', 'visible': {'s0': 'West'}}, '21752': {'nationality': 'Germany', 'tile': 'Munich', 'type': 'Tank', 'obj_type': 'unit', 'cv': '1', 'visible': {'s0': 'Axis'}}, '22721': {'nationality': 'Italy', 'tile': 'Sardinia', 'type': 'Fleet', 'obj_type': 'unit', 'cv': '1', 'visible': {'s0': 'Axis'}}, '24180': {'nationality': 'Germany', 'tile': 'Ruhr', 'type': 'Fortress', 'obj_type': 'unit', 'cv': '1', 'visible': {'s0': 'Axis'}}, '25645': {'nationality': 'Germany', 'tile': 'Berlin', 'type': 'Infantry', 'obj_type': 'unit', 'cv': '1', 'visible': {'s0': 'Axis'}}, '26136': {'nationality': 'Germany', 'tile': 'Konigsberg', 'type': 'Infantry', 'obj_type': 'unit', 'cv': '1', 'visible': {'s0': 'Axis'}}, '27121': {'nationality': 'USSR', 'tile': 'Odessa', 'type': 'Submarine', 'obj_type': 'unit', 'cv': '1', 'visible': {'s0': 'USSR'}}, '27616': {'nationality': 'USSR', 'tile': 'Georgia', 'type': 'Carrier', 'obj_type': 'unit', 'cv': '1', 'visible': {'s0': 'USSR'}}, '28113': {'nationality': 'USSR', 'tile': 'Archangel', 'type': 'Carrier', 'obj_type': 'unit', 'cv': '1', 'visible': {'s0': 'USSR'}}, '29608': {'nationality': 'USSR', 'tile': 'Bryansk', 'type': 'Tank', 'obj_type': 'unit', 'cv': '1', 'visible': {'s0': 'USSR'}}, '30109': {'nationality': 'USSR', 'tile': 'Leningrad', 'type': 'Tank', 'obj_type': 'unit', 'cv': '1', 'visible': {'s0': 'USSR'}}, '30612': {'nationality': 'USSR', 'tile': 'Kazakhstan', 'type': 'Submarine', 'obj_type': 'unit', 'cv': '1', 'visible': {'s0': 'USSR'}}, '31117': {'nationality': 'USSR', 'tile': 'Georgia', 'type': 'Fortress', 'obj_type': 'unit', 'cv': '1', 'visible': {'s0': 'USSR'}}, '31624': {'nationality': 'Britain', 'tile': 'Glasgow', 'type': 'Infantry', 'obj_type': 'unit', 'cv': '1', 'visible': {'s0': 'West'}}, '32133': {'nationality': 'France', 'tile': 'Paris', 'type': 'AirForce', 'obj_type': 'unit', 'cv': '1', 'visible': {'s0': 'West'}}, '33664': {'nationality': 'Britain', 'tile': 'Malta', 'type': 'Fortress', 'obj_type': 'unit', 'cv': '1', 'visible': {'s0': 'West'}}, '34177': {'nationality': 'France', 'tile': 'Lorraine', 'type': 'AirForce', 'obj_type': 'unit', 'cv': '1', 'visible': {'s0': 'West'}}, '38820': {'value': '2', 'nation': 'Hungary', 'faction': 'Axis', 'obj_type': 'influence', 'visible': {'s0': 'Axis', 's1': 'USSR', 's2': 'West'}}, '48202': {'value': '2', 'nation': 'Bulgaria', 'faction': 'Axis', 'obj_type': 'influence', 'visible': {'s0': 'Axis', 's1': 'USSR', 's2': 'West'}}, '58629': {'value': '1', 'nation': 'Portugal', 'faction': 'Axis', 'obj_type': 'influence', 'visible': {'s0': 'Axis', 's1': 'USSR', 's2': 'West'}}, '58630': {'value': '1', 'nation': 'Persia', 'faction': 'USSR', 'obj_type': 'influence', 'visible': {'s0': 'Axis', 's1': 'USSR', 's2': 'West'}}, '58631': {'value': '2', 'nation': 'Poland', 'faction': 'West', 'obj_type': 'influence', 'visible': {'s0': 'Axis', 's1': 'USSR', 's2': 'West'}}, '58632': {'value': '1', 'nation': 'Rumania', 'faction': 'USSR', 'obj_type': 'influence', 'visible': {'s0': 'Axis', 's1': 'USSR', 's2': 'West'}}, '58633': {'value': '1', 'nation': 'Afghanistan', 'faction': 'USSR', 'obj_type': 'influence', 'visible': {'s0': 'Axis', 's1': 'USSR', 's2': 'West'}}, '58634': {'value': '1', 'nation': 'Sweden', 'faction': 'Axis', 'obj_type': 'influence', 'visible': {'s0': 'Axis', 's1': 'USSR', 's2': 'West'}}, '58635': {'value': '1', 'nation': 'USA', 'faction': 'West', 'obj_type': 'influence', 'visible': {'s0': 'Axis', 's1': 'USSR', 's2': 'West'}}, '58636': {'value': '1', 'nation': 'Yugoslavia', 'faction': 'Axis', 'obj_type': 'influence', 'visible': {'s0': 'Axis', 's1': 'USSR', 's2': 'West'}}, '58637': {'value': '1', 'nation': 'Denmark', 'faction': 'West', 'obj_type': 'influence', 'visible': {'s0': 'Axis', 's1': 'USSR', 's2': 'West'}}, '58638': {'value': '1', 'nation': 'Baltic_States', 'faction': 'Axis', 'obj_type': 'influence', 'visible': {'s0': 'Axis', 's1': 'USSR', 's2': 'West'}}}, 'created': {}, 'updated': {'action_5': {'top': 'Czechoslovakia', 'bottom': 'Austria', 'season': 'Spring', 'priority': 'E', 'value': '5', 'obj_type': 'action_card', 'visible': {}}}, 'removed': {}}, 'tiles': {'Ottawa': {'type': 'Coast', 'alligence': 'Canada', 'res': '1', 'pop': '0', 'muster': '1', 'borders': {'North_Atlantic_Ocean': 'Coast', 'New_York': 'Forest'}, 'units': {}, 'obj_type': 'tile', 'visible': {'s0': 'Axis', 's1': 'West', 's2': 'USSR'}, 'capital': '1', 'owner': 'West'}, 'New_York': {'type': 'Coast', 'alligence': 'USA', 'res': '2', 'pop': '1', 'muster': '2', 'borders': {'Ottawa': 'Forest', 'North_Atlantic_Ocean': 'Coast', 'Washington': 'Plains'}, 'units': {}, 'obj_type': 'tile', 'visible': {'s0': 'Axis', 's1': 'West', 's2': 'USSR'}}, 'Washington': {'type': 'Coast', 'alligence': 'USA', 'res': '2', 'pop': '2', 'muster': '3', 'borders': {'New_York': 'Plains', 'North_Atlantic_Ocean': 'Coast'}, 'units': {}, 'obj_type': 'tile', 'visible': {'s0': 'Axis', 's1': 'West', 's2': 'USSR'}, 'capital': '1'}, 'Irish_Sea': {'type': 'Sea', 'borders': {'Irminger_Sea': 'Sea', 'North_Atlantic_Ocean': 'Ocean', 'Bay_of_Biscay': 'Sea', 'Norwegian_Sea': 'Sea', 'English_Channel': 'Sea', 'London': 'Coast', 'Glasgow': 'Coast', 'Dublin': 'Coast', 'Iceland': 'Coast'}, 'units': {}, 'obj_type': 'tile', 'visible': {'s0': 'Axis', 's1': 'West', 's2': 'USSR'}}, 'North_Atlantic_Ocean': {'type': 'Ocean', 'borders': {'Ottawa': 'Coast', 'New_York': 'Coast', 'Washington': 'Coast', 'Irminger_Sea': 'Ocean', 'Irish_Sea': 'Ocean', 'Bay_of_Biscay': 'Ocean', 'Azores': 'Strait', 'Mid_Atlantic_Ocean': 'Ocean'}, 'units': {}, 'obj_type': 'tile', 'visible': {'s0': 'Axis', 's1': 'West', 's2': 'USSR'}}, 'Mid_Atlantic_Ocean': {'type': 'Ocean', 'borders': {'North_Atlantic_Ocean': 'Ocean', 'Azores': 'Strait', 'South_Atlantic_Ocean': 'Ocean', 'Rio_de_Janeiro': 'Coast', 'Madeira_Sea': 'Ocean', 'Dakar': 'Coast', 'Morocco': 'Coast'}, 'units': {}, 'obj_type': 'tile', 'visible': {'s0': 'Axis', 's1': 'West', 's2': 'USSR'}}, 'South_Atlantic_Ocean': {'type': 'Ocean', 'borders': {'Mid_Atlantic_Ocean': 'Ocean', 'Rio_de_Janeiro': 'Coast', 'Dakar': 'Coast', 'West_Indian_Ocean': 'Ocean-Africa'}, 'units': {}, 'obj_type': 'tile', 'visible': {'s0': 'Axis', 's1': 'West', 's2': 'USSR'}}, 'Rio_de_Janeiro': {'type': 'Coast', 'alligence': 'Latin_America', 'res': '2', 'pop': '0', 'muster': '1', 'borders': {'South_Atlantic_Ocean': 'Coast', 'Mid_Atlantic_Ocean': 'Coast'}, 'units': {}, 'obj_type': 'tile', 'visible': {'s0': 'Axis', 's1': 'West', 's2': 'USSR'}, 'capital': '1'}, 'Dakar': {'type': 'Coast', 'alligence': 'French_North_Africa', 'res': '0', 'pop': '0', 'muster': '0', 'borders': {'South_Atlantic_Ocean': 'Coast', 'Mid_Atlantic_Ocean': 'Coast', 'Morocco': 'Plains'}, 'units': {}, 'obj_type': 'tile', 'visible': {'s0': 'Axis', 's1': 'West', 's2': 'USSR'}, 'owner': 'West'}, 'Morocco': {'type': 'Coast', 'alligence': 'French_North_Africa', 'res': '0', 'pop': '0', 'muster': '0', 'borders': {'Mid_Atlantic_Ocean': 'Coast', 'Dakar': 'Plains', 'Madeira_Sea': 'Coast', 'Gibraltar': 'Strait', 'Algiers': 'Mountains'}, 'units': {}, 'obj_type': 'tile', 'visible': {'s0': 'Axis', 's1': 'West', 's2': 'USSR'}, 'owner': 'West'}, 'Algiers': {'type': 'Coast', 'alligence': 'French_North_Africa', 'res': '0', 'pop': '1', 'muster': '2', 'borders': {'Gibraltar': 'Strait', 'Morocco': 'Mountains', 'Tunisia': 'Mountains', 'Western_Mediterranean': 'Coast'}, 'units': {'s0': '18868'}, 'obj_type': 'tile', 'visible': {'s0': 'Axis', 's1': 'West', 's2': 'USSR'}, 'capital': '1', 'owner': 'West'}, 'Tunisia': {'type': 'Coast', 'alligence': 'French_North_Africa', 'res': '0', 'pop': '0', 'muster': '0', 'borders': {'Algiers': 'Mountains', 'Western_Mediterranean': 'Coast', 'Sfax': 'Mountains', 'Malta': 'Strait'}, 'units': {}, 'obj_type': 'tile', 'visible': {'s0': 'Axis', 's1': 'West', 's2': 'USSR'}, 'owner': 'West'}, 'Sfax': {'type': 'Land', 'alligence': 'French_North_Africa', 'res': '0', 'pop': '0', 'muster': '0', 'borders': {'Tunisia': 'Mountains', 'Tripoli': 'Mountains', 'Malta': 'Strait'}, 'units': {}, 'obj_type': 'tile', 'visible': {'s0': 'Axis', 's1': 'West', 's2': 'USSR'}, 'owner': 'West'}, 'Gibraltar': {'type': 'Strait', 'alligence': 'Gibraltar', 'res': '0', 'pop': '0', 'muster': '1', 'borders': {'Madeira_Sea': 'Strait', 'Morocco': 'Strait', 'Algiers': 'Strait', 'Madrid': 'Strait', 'Western_Mediterranean': 'Strait', 'Barcelona': 'Strait'}, 'units': {'s0': '247'}, 'obj_type': 'tile', 'visible': {'s0': 'Axis', 's1': 'West', 's2': 'USSR'}, 'capital': '1', 'owner': 'West'}, 'Madeira_Sea': {'type': 'Sea', 'borders': {'Mid_Atlantic_Ocean': 'Ocean', 'Bay_of_Biscay': 'Sea', 'Azores': 'Strait', 'Morocco': 'Coast', 'Gibraltar': 'Strait', 'Lisbon': 'Coast', 'Leon': 'Coast'}, 'units': {}, 'obj_type': 'tile', 'visible': {'s0': 'Axis', 's1': 'West', 's2': 'USSR'}}, 'Lisbon': {'type': 'Coast', 'alligence': 'Portugal', 'res': '1', 'pop': '0', 'muster': '1', 'borders': {'Madrid': 'Plains', 'Madeira_Sea': 'Coast', 'Leon': 'Plains'}, 'units': {}, 'obj_type': 'tile', 'visible': {'s0': 'Axis', 's1': 'West', 's2': 'USSR'}, 'capital': '1'}, 'Madrid': {'type': 'Land', 'alligence': 'Spain', 'res': '0', 'pop': '1', 'muster': '3', 'borders': {'Gibraltar': 'Strait', 'Lisbon': 'Plains', 'Leon': 'Coast', 'Barcelona': 'Plains'}, 'units': {}, 'obj_type': 'tile', 'visible': {'s0': 'Axis', 's1': 'West', 's2': 'USSR'}, 'capital': '1'}, 'Leon': {'type': 'Coast', 'alligence': 'Spain', 'res': '0', 'pop': '0', 'muster': '0', 'borders': {'Lisbon': 'Plains', 'Madeira_Sea': 'Coast', 'Bay_of_Biscay': 'Coast', 'Madrid': 'Coast', 'Barcelona': 'Plains', 'Gascony': 'Mountains'}, 'units': {}, 'obj_type': 'tile', 'visible': {'s0': 'Axis', 's1': 'West', 's2': 'USSR'}}, 'Barcelona': {'type': 'Coast', 'alligence': 'Spain', 'res': '0', 'pop': '1', 'muster': '0', 'borders': {'Gibraltar': 'Strait', 'Madrid': 'Plains', 'Leon': 'Plains', 'Western_Mediterranean': 'Coast', 'Gascony': 'Mountains', 'Marseille': 'Mountains'}, 'units': {}, 'obj_type': 'tile', 'visible': {'s0': 'Axis', 's1': 'West', 's2': 'USSR'}}, 'Azores': {'type': 'Strait', 'alligence': 'Portugal', 'res': '0', 'pop': '0', 'muster': '0', 'borders': {'North_Atlantic_Ocean': 'Strait', 'Mid_Atlantic_Ocean': 'Strait', 'Madeira_Sea': 'Strait', 'Bay_of_Biscay': 'Strait'}, 'units': {}, 'obj_type': 'tile', 'visible': {'s0': 'Axis', 's1': 'West', 's2': 'USSR'}}, 'Bay_of_Biscay': {'type': 'Sea', 'borders': {'North_Atlantic_Ocean': 'Ocean', 'Madeira_Sea': 'Sea', 'Azores': 'Strait', 'Irish_Sea': 'Sea', 'English_Channel': 'Sea', 'Leon': 'Coast', 'Paris': 'Coast', 'Gascony': 'Coast'}, 'units': {}, 'obj_type': 'tile', 'visible': {'s0': 'Axis', 's1': 'West', 's2': 'USSR'}}, 'Dublin': {'type': 'Coast', 'alligence': 'Ireland', 'res': '0', 'pop': '0', 'muster': '1', 'borders': {'Irish_Sea': 'Coast'}, 'units': {}, 'obj_type': 'tile', 'visible': {'s0': 'Axis', 's1': 'West', 's2': 'USSR'}, 'capital': '1'}, 'Irminger_Sea': {'type': 'Sea', 'borders': {'North_Atlantic_Ocean': 'Ocean', 'Irish_Sea': 'Sea', 'Iceland': 'Coast', 'Greenland_Sea': 'Sea'}, 'units': {}, 'obj_type': 'tile', 'visible': {'s0': 'Axis', 's1': 'West', 's2': 'USSR'}}, 'Iceland': {'type': 'Coast', 'alligence': 'Denmark', 'res': '0', 'pop': '0', 'muster': '0', 'borders': {'Irminger_Sea': 'Coast', 'Greenland_Sea': 'Coast', 'Norwegian_Sea': 'Coast', 'Irish_Sea': 'Coast'}, 'units': {}, 'obj_type': 'tile', 'visible': {'s0': 'Axis', 's1': 'West', 's2': 'USSR'}}, 'Greenland_Sea': {'type': 'Sea', 'borders': {'Irminger_Sea': 'Sea', 'Norwegian_Sea': 'Sea', 'Nordkapp_Sea': 'Sea', 'Iceland': 'Coast'}, 'units': {}, 'obj_type': 'tile', 'visible': {'s0': 'Axis', 's1': 'West', 's2': 'USSR'}}, 'Norwegian_Sea': {'type': 'Sea', 'borders': {'Greenland_Sea': 'Sea', 'Irish_Sea': 'Sea', 'Nordkapp_Sea': 'Sea', 'Oslo': 'Coast', 'North_Sea': 'Sea', 'Glasgow': 'Coast', 'Iceland': 'Coast'}, 'units': {}, 'obj_type': 'tile', 'visible': {'s0': 'Axis', 's1': 'West', 's2': 'USSR'}}, 'Nordkapp_Sea': {'type': 'Sea', 'borders': {'Barents_Sea': 'Sea', 'Narvik': 'Coast', 'Oslo': 'Coast', 'Norwegian_Sea': 'Sea', 'Greenland_Sea': 'Sea'}, 'units': {}, 'obj_type': 'tile', 'visible': {'s0': 'Axis', 's1': 'West', 's2': 'USSR'}}, 'North_Sea': {'type': 'Sea', 'borders': {'Copenhagen': 'Strait', 'Oslo': 'Coast', 'Ruhr': 'Coast', 'Norwegian_Sea': 'Sea', 'Amsterdam': 'Sea', 'Glasgow': 'Coast', 'London': 'Coast', 'English_Channel': 'Sea', 'Paris': 'Coast'}, 'units': {}, 'obj_type': 'tile', 'visible': {'s0': 'Axis', 's1': 'West', 's2': 'USSR'}}, 'English_Channel': {'type': 'Sea', 'borders': {'Irish_Sea': 'Sea', 'Bay_of_Biscay': 'Sea', 'North_Sea': 'Sea', 'London': 'Coast', 'Paris': 'Coast'}, 'units': {}, 'obj_type': 'tile', 'visible': {'s0': 'Axis', 's1': 'West', 's2': 'USSR'}}, 'Glasgow': {'type': 'Coast', 'alligence': 'Britain', 'res': '1', 'pop': '1', 'muster': '2', 'borders': {'Norwegian_Sea': 'Coast', 'North_Sea': 'Coast', 'London': 'Mountains', 'Irish_Sea': 'Coast'}, 'units': {'s0': '16048', 's1': '31624'}, 'obj_type': 'tile', 'visible': {'s0': 'Axis', 's1': 'West', 's2': 'USSR'}, 'owner': 'West'}, 'London': {'type': 'Coast', 'alligence': 'Britain', 'res': '1', 'pop': '3', 'muster': '3', 'borders': {'North_Sea': 'Coast', 'English_Channel': 'Coast', 'Irish_Sea': 'Coast', 'Glasgow': 'Mountains'}, 'units': {'s0': '246', 's1': '19345', 's2': '19824', 's3': '20305'}, 'obj_type': 'tile', 'visible': {'s0': 'Axis', 's1': 'West', 's2': 'USSR'}, 'capital': '1', 'owner': 'West'}, 'Paris': {'type': 'Coast', 'alligence': 'France', 'res': '0', 'pop': '2', 'muster': '3', 'borders': {'English_Channel': 'Coast', 'Bay_of_Biscay': 'Coast', 'Gascony': 'Plains', 'Lorraine': 'Plains', 'Amsterdam': 'Plains', 'North_Sea': 'Coast'}, 'units': {'s0': '15124', 's1': '15585', 's2': '32133'}, 'obj_type': 'tile', 'visible': {'s0': 'Axis', 's1': 'West', 's2': 'USSR'}, 'capital': '1', 'owner': 'West'}, 'Lorraine': {'type': 'Land', 'alligence': 'France', 'res': '2', 'pop': '0', 'muster': '0', 'borders': {'Munich': 'River', 'Paris': 'Plains', 'Amsterdam': 'Forest', 'Gascony': 'Plains', 'Marseille': 'Plains'}, 'units': {'s0': '249', 's1': '34177'}, 'obj_type': 'tile', 'visible': {'s0': 'Axis', 's1': 'West', 's2': 'USSR'}, 'owner': 'West'}, 'Gascony': {'type': 'Coast', 'alligence': 'France', 'res': '0', 'pop': '0', 'muster': '0', 'borders': {'Leon': 'Mountains', 'Barcelona': 'Mountains', 'Bay_of_Biscay': 'Coast', 'Paris': 'Plains', 'Lorraine': 'Plains', 'Marseille': 'Plains'}, 'units': {}, 'obj_type': 'tile', 'visible': {'s0': 'Axis', 's1': 'West', 's2': 'USSR'}, 'owner': 'West'}, 'Marseille': {'type': 'Coast', 'alligence': 'France', 'res': '0', 'pop': '1', 'muster': '2', 'borders': {'Barcelona': 'Mountains', 'Western_Mediterranean': 'Coast', 'Gascony': 'Plains', 'Lorraine': 'Plains', 'Milan': 'Mountains'}, 'units': {'s0': '18393'}, 'obj_type': 'tile', 'visible': {'s0': 'Axis', 's1': 'West', 's2': 'USSR'}, 'owner': 'West'}, 'Western_Mediterranean': {'type': 'Sea', 'borders': {'Gibraltar': 'Strait', 'Algiers': 'Coast', 'Barcelona': 'Coast', 'Tunisia': 'Coast', 'Sardinia': 'Coast', 'Tyrrhenian_Sea': 'Sea', 'Milan': 'Coast', 'Marseille': 'Coast'}, 'units': {}, 'obj_type': 'tile', 'visible': {'s0': 'Axis', 's1': 'West', 's2': 'USSR'}}, 'Sardinia': {'type': 'Coast', 'alligence': 'Italy', 'res': '0', 'pop': '0', 'muster': '0', 'borders': {'Western_Mediterranean': 'Coast', 'Tyrrhenian_Sea': 'Coast'}, 'units': {'s0': '22721'}, 'obj_type': 'tile', 'visible': {'s0': 'Axis', 's1': 'West', 's2': 'USSR'}, 'owner': 'Axis'}, 'Tyrrhenian_Sea': {'type': 'Sea', 'borders': {'Western_Mediterranean': 'Sea', 'Sardinia': 'Coast', 'Malta': 'Strait', 'Sicily': 'Strait', 'Rome': 'Coast', 'Milan': 'Coast'}, 'units': {}, 'obj_type': 'tile', 'visible': {'s0': 'Axis', 's1': 'West', 's2': 'USSR'}}, 'Malta': {'type': 'Strait', 'alligence': 'Malta', 'res': '0', 'pop': '0', 'muster': '1', 'borders': {'Tunisia': 'Strait', 'Sfax': 'Strait', 'Tyrrhenian_Sea': 'Strait', 'Central_Mediterranean': 'Strait', 'Sicily': 'Strait'}, 'units': {'s0': '33664'}, 'obj_type': 'tile', 'visible': {'s0': 'Axis', 's1': 'West', 's2': 'USSR'}, 'capital': '1', 'owner': 'West'}, 'Sicily': {'type': 'Strait', 'alligence': 'Italy', 'res': '0', 'pop': '0', 'muster': '0', 'borders': {'Malta': 'Strait', 'Tyrrhenian_Sea': 'Strait', 'Central_Mediterranean': 'Strait', 'Rome': 'Strait', 'Taranto': 'Strait'}, 'units': {}, 'obj_type': 'tile', 'visible': {'s0': 'Axis', 's1': 'West', 's2': 'USSR'}, 'owner': 'Axis'}, 'Central_Mediterranean': {'type': 'Sea', 'borders': {'Malta': 'Strait', 'Sicily': 'Strait', 'Taranto': 'Coast', 'Adriatic_Sea': 'Sea', 'Tripoli': 'Coast', 'Cyrenaica': 'Coast', 'Albania': 'Coast', 'Eastern_Mediterranean': 'Sea', 'Aegean_Sea': 'Sea', 'Athens': 'Coast', 'Crete': 'Coast'}, 'units': {}, 'obj_type': 'tile', 'visible': {'s0': 'Axis', 's1': 'West', 's2': 'USSR'}}, 'Adriatic_Sea': {'type': 'Sea', 'borders': {'Central_Mediterranean': 'Sea', 'Venice': 'Sea', 'Taranto': 'Sea', 'Croatia': 'Coast', 'Albania': 'Coast'}, 'units': {}, 'obj_type': 'tile', 'visible': {'s0': 'Axis', 's1': 'West', 's2': 'USSR'}}, 'Milan': {'type': 'Coast', 'alligence': 'Italy', 'res': '1', 'pop': '1', 'muster': '2', 'borders': {'Tyrrhenian_Sea': 'Coast', 'Rome': 'Mountains', 'Western_Mediterranean': 'Coast', 'Venice': 'Plains', 'Marseille': 'Mountains'}, 'units': {'s0': '3840', 's1': '6745'}, 'obj_type': 'tile', 'visible': {'s0': 'Axis', 's1': 'West', 's2': 'USSR'}, 'owner': 'Axis'}, 'Rome': {'type': 'Coast', 'alligence': 'Italy', 'res': '0', 'pop': '2', 'muster': '3', 'borders': {'Sicily': 'Strait', 'Tyrrhenian_Sea': 'Coast', 'Milan': 'Mountains', 'Venice': 'Mountains', 'Taranto': 'Mountains'}, 'units': {'s0': '1033', 's1': '2224', 's2': '4660', 's3': '6324'}, 'obj_type': 'tile', 'visible': {'s0': 'Axis', 's1': 'West', 's2': 'USSR'}, 'capital': '1', 'owner': 'Axis'}, 'Venice': {'type': 'Coast', 'alligence': 'Italy', 'res': '1', 'pop': '0', 'muster': '0', 'borders': {'Milan': 'Plains', 'Rome': 'Mountains', 'Taranto': 'Mountains', 'Adriatic_Sea': 'Sea', 'Vienna': 'Mountains', 'Croatia': 'Mountains'}, 'units': {}, 'obj_type': 'tile', 'visible': {'s0': 'Axis', 's1': 'West', 's2': 'USSR'}, 'owner': 'Axis'}, 'Taranto': {'type': 'Coast', 'alligence': 'Italy', 'res': '0', 'pop': '0', 'muster': '0', 'borders': {'Sicily': 'Strait', 'Rome': 'Mountains', 'Venice': 'Mountains', 'Central_Mediterranean': 'Coast', 'Adriatic_Sea': 'Sea'}, 'units': {}, 'obj_type': 'tile', 'visible': {'s0': 'Axis', 's1': 'West', 's2': 'USSR'}, 'owner': 'Axis'}, 'Tripoli': {'type': 'Coast', 'alligence': 'Libya', 'res': '0', 'pop': '1', 'muster': '2', 'borders': {'Sfax': 'Mountains', 'Central_Mediterranean': 'Coast', 'Cyrenaica': 'Plains'}, 'units': {'s0': '1825', 's1': '2625'}, 'obj_type': 'tile', 'visible': {'s0': 'Axis', 's1': 'West', 's2': 'USSR'}, 'capital': '1', 'owner': 'Axis'}, 'Cyrenaica': {'type': 'Coast', 'alligence': 'Libya', 'res': '0', 'pop': '0', 'muster': '0', 'borders': {'Central_Mediterranean': 'Coast', 'Tripoli': 'Plains', 'Eastern_Mediterranean': 'Coast', 'Egypt': 'Plains'}, 'units': {}, 'obj_type': 'tile', 'visible': {'s0': 'Axis', 's1': 'West', 's2': 'USSR'}, 'owner': 'Axis'}, 'Amsterdam': {'type': 'Coast', 'alligence': 'Low_Countries', 'res': '0', 'pop': '1', 'muster': '2', 'borders': {'Ruhr': 'River', 'Munich': 'River', 'North_Sea': 'Sea', 'Paris': 'Plains', 'Lorraine': 'Forest'}, 'units': {}, 'obj_type': 'tile', 'visible': {'s0': 'Axis', 's1': 'West', 's2': 'USSR'}, 'capital': '1'}, 'Vienna': {'type': 'Land', 'alligence': 'Austria', 'res': '0', 'pop': '1', 'muster': '2', 'borders': {'Prague': 'Plains', 'Munich': 'Plains', 'Venice': 'Mountains', 'Croatia': 'Mountains', 'Budapest': 'Plains'}, 'units': {}, 'obj_type': 'tile', 'visible': {'s0': 'Axis', 's1': 'West', 's2': 'USSR'}, 'capital': '1'}, 'Munich': {'type': 'Land', 'alligence': 'Germany', 'res': '0', 'pop': '1', 'muster': '2', 'borders': {'Berlin': 'Plains', 'Ruhr': 'Plains', 'Prague': 'Forest', 'Vienna': 'Plains', 'Amsterdam': 'River', 'Lorraine': 'River'}, 'units': {'s0': '4249', 's1': '8449', 's2': '21752'}, 'obj_type': 'tile', 'visible': {'s0': 'Axis', 's1': 'West', 's2': 'USSR'}, 'owner': 'Axis'}, 'Ruhr': {'type': 'Coast', 'alligence': 'Germany', 'res': '3', 'pop': '2', 'muster': '3', 'borders': {'Copenhagen': 'Strait', 'Baltic_Sea': 'Coast', 'North_Sea': 'Coast', 'Berlin': 'Plains', 'Munich': 'Plains', 'Amsterdam': 'River'}, 'units': {'s0': '3028', 's1': '5073', 's2': '5905', 's3': '8020', 's4': '24180'}, 'obj_type': 'tile', 'visible': {'s0': 'Axis', 's1': 'West', 's2': 'USSR'}, 'owner': 'Axis'}, 'Berlin': {'type': 'Coast', 'alligence': 'Germany', 'res': '1', 'pop': '3', 'muster': '3', 'borders': {'Baltic_Sea': 'Coast', 'Warsaw': 'River', 'Ruhr': 'Plains', 'Prague': 'Forest', 'Munich': 'Plains'}, 'units': {'s0': '3433', 's1': '5488', 's2': '7168', 's3': '7593', 's4': '8880', 's5': '9313', 's6': '25645'}, 'obj_type': 'tile', 'visible': {'s0': 'Axis', 's1': 'West', 's2': 'USSR'}, 'capital': '1', 'owner': 'Axis'}, 'Copenhagen': {'type': 'Strait', 'alligence': 'Denmark', 'res': '1', 'pop': '0', 'muster': '1', 'borders': {'Stockholm': 'Strait', 'Baltic_Sea': 'Strait', 'Oslo': 'Strait', 'North_Sea': 'Strait', 'Ruhr': 'Strait'}, 'units': {}, 'obj_type': 'tile', 'visible': {'s0': 'Axis', 's1': 'West', 's2': 'USSR'}, 'capital': '1'}, 'Oslo': {'type': 'Coast', 'alligence': 'Norway', 'res': '1', 'pop': '0', 'muster': '1', 'borders': {'Gallivare': 'Mountains', 'Stockholm': 'Forest', 'Narvik': 'Mountains', 'Nordkapp_Sea': 'Coast', 'Norwegian_Sea': 'Coast', 'Copenhagen': 'Strait', 'North_Sea': 'Coast'}, 'units': {}, 'obj_type': 'tile', 'visible': {'s0': 'Axis', 's1': 'West', 's2': 'USSR'}, 'capital': '1'}, 'Narvik': {'type': 'Coast', 'alligence': 'Norway', 'res': '0', 'pop': '0', 'muster': '0', 'borders': {'Petsamo': 'Mountains', 'Barents_Sea': 'Coast', 'Gallivare': 'Mountains', 'Oslo': 'Mountains', 'Nordkapp_Sea': 'Coast'}, 'units': {}, 'obj_type': 'tile', 'visible': {'s0': 'Axis', 's1': 'West', 's2': 'USSR'}}, 'Gallivare': {'type': 'Coast', 'alligence': 'Sweden', 'res': '1', 'pop': '0', 'muster': '0', 'borders': {'Helsinki': 'Forest', 'Petsamo': 'Forest', 'Narvik': 'Mountains', 'Oslo': 'Mountains', 'Stockholm': 'Forest', 'Gulf_of_Bothnia': 'Coast'}, 'units': {}, 'obj_type': 'tile', 'visible': {'s0': 'Axis', 's1': 'West', 's2': 'USSR'}}, 'Stockholm': {'type': 'Coast', 'alligence': 'Sweden', 'res': '1', 'pop': '1', 'muster': '2', 'borders': {'Gallivare': 'Forest', 'Gulf_of_Bothnia': 'Coast', 'Baltic_Sea': 'Coast', 'Oslo': 'Forest', 'Copenhagen': 'Strait'}, 'units': {}, 'obj_type': 'tile', 'visible': {'s0': 'Axis', 's1': 'West', 's2': 'USSR'}, 'capital': '1'}, 'Petsamo': {'type': 'Land', 'alligence': 'Finland', 'res': '1', 'pop': '0', 'muster': '0', 'borders': {'Murmansk': 'Forest', 'Helsinki': 'Forest', 'Narvik': 'Mountains', 'Gallivare': 'Forest'}, 'units': {}, 'obj_type': 'tile', 'visible': {'s0': 'Axis', 's1': 'West', 's2': 'USSR'}}, 'Helsinki': {'type': 'Coast', 'alligence': 'Finland', 'res': '0', 'pop': '0', 'muster': '1', 'borders': {'Leningrad': 'Forest', 'Murmansk': 'Forest', 'Petsamo': 'Forest', 'Gulf_of_Bothnia': 'Coast', 'Gallivare': 'Forest'}, 'units': {}, 'obj_type': 'tile', 'visible': {'s0': 'Axis', 's1': 'West', 's2': 'USSR'}, 'capital': '1'}, 'Barents_Sea': {'type': 'Sea', 'borders': {'Murmansk': 'Coast', 'White_Sea': 'Sea', 'Narvik': 'Coast', 'Nordkapp_Sea': 'Sea'}, 'units': {}, 'obj_type': 'tile', 'visible': {'s0': 'Axis', 's1': 'West', 's2': 'USSR'}}, 'White_Sea': {'type': 'Sea', 'borders': {'Archangel': 'Coast', 'Murmansk': 'Coast', 'Barents_Sea': 'Sea'}, 'units': {}, 'obj_type': 'tile', 'visible': {'s0': 'Axis', 's1': 'West', 's2': 'USSR'}}, 'Gulf_of_Bothnia': {'type': 'Sea', 'borders': {'Helsinki': 'Coast', 'Leningrad': 'Coast', 'Gallivare': 'Coast', 'Stockholm': 'Coast', 'Riga': 'Coast', 'Baltic_Sea': 'Sea'}, 'units': {}, 'obj_type': 'tile', 'visible': {'s0': 'Axis', 's1': 'West', 's2': 'USSR'}}, 'Baltic_Sea': {'type': 'Sea', 'borders': {'Gulf_of_Bothnia': 'Sea', 'Riga': 'Coast', 'Stockholm': 'Coast', 'Konigsberg': 'Coast', 'Warsaw': 'Coast', 'Copenhagen': 'Strait', 'Berlin': 'Coast', 'Ruhr': 'Coast'}, 'units': {}, 'obj_type': 'tile', 'visible': {'s0': 'Axis', 's1': 'West', 's2': 'USSR'}}, 'Riga': {'type': 'Coast', 'alligence': 'Baltic_States', 'res': '0', 'pop': '0', 'muster': '1', 'borders': {'Leningrad': 'Forest', 'Gulf_of_Bothnia': 'Coast', 'Baltic_Sea': 'Coast', 'Belorussia': 'Plains', 'Vilna': 'Plains', 'Konigsberg': 'Plains'}, 'units': {}, 'obj_type': 'tile', 'visible': {'s0': 'Axis', 's1': 'West', 's2': 'USSR'}, 'capital': '1'}, 'Konigsberg': {'type': 'Coast', 'alligence': 'Germany', 'res': '0', 'pop': '1', 'muster': '2', 'borders': {'Riga': 'Plains', 'Vilna': 'Forest', 'Baltic_Sea': 'Coast', 'Warsaw': 'River'}, 'units': {'s0': '640', 's1': '1428', 's2': '26136'}, 'obj_type': 'tile', 'visible': {'s0': 'Axis', 's1': 'West', 's2': 'USSR'}, 'owner': 'Axis'}, 'Warsaw': {'type': 'Coast', 'alligence': 'Poland', 'res': '1', 'pop': '1', 'muster': '3', 'borders': {'Baltic_Sea': 'Coast', 'Konigsberg': 'River', 'Vilna': 'River', 'Lvov': 'River', 'Berlin': 'River', 'Prague': 'Forest'}, 'units': {}, 'obj_type': 'tile', 'visible': {'s0': 'Axis', 's1': 'West', 's2': 'USSR'}, 'capital': '1'}, 'Vilna': {'type': 'Land', 'alligence': 'Poland', 'res': '0', 'pop': '0', 'muster': '1', 'borders': {'Belorussia': 'Plains', 'Riga': 'Plains', 'Konigsberg': 'Forest', 'Lvov': 'Plains', 'Warsaw': 'River'}, 'units': {}, 'obj_type': 'tile', 'visible': {'s0': 'Axis', 's1': 'West', 's2': 'USSR'}}, 'Lvov': {'type': 'Land', 'alligence': 'Poland', 'res': '0', 'pop': '1', 'muster': '2', 'borders': {'Vilna': 'Plains', 'Kiev': 'Plains', 'Odessa': 'Plains', 'Warsaw': 'River', 'Prague': 'Mountains', 'Budapest': 'Mountains', 'Bucharest': 'River'}, 'units': {}, 'obj_type': 'tile', 'visible': {'s0': 'Axis', 's1': 'West', 's2': 'USSR'}}, 'Prague': {'type': 'Land', 'alligence': 'Czechoslovakia', 'res': '0', 'pop': '1', 'muster': '2', 'borders': {'Lvov': 'Mountains', 'Warsaw': 'Forest', 'Berlin': 'Forest', 'Munich': 'Forest', 'Budapest': 'Mountains', 'Vienna': 'Plains'}, 'units': {}, 'obj_type': 'tile', 'visible': {'s0': 'Axis', 's1': 'West', 's2': 'USSR'}, 'capital': '1'}, 'Budapest': {'type': 'Land', 'alligence': 'Hungary', 'res': '1', 'pop': '1', 'muster': '2', 'borders': {'Lvov': 'Mountains', 'Prague': 'Mountains', 'Croatia': 'Plains', 'Belgrade': 'Plains', 'Vienna': 'Plains', 'Bucharest': 'Mountains'}, 'units': {}, 'obj_type': 'tile', 'visible': {'s0': 'Axis', 's1': 'West', 's2': 'USSR'}, 'capital': '1'}, 'Croatia': {'type': 'Coast', 'alligence': 'Yugoslavia', 'res': '1', 'pop': '0', 'muster': '0', 'borders': {'Adriatic_Sea': 'Coast', 'Vienna': 'Mountains', 'Venice': 'Mountains', 'Budapest': 'Plains', 'Belgrade': 'Forest', 'Albania': 'Mountains'}, 'units': {}, 'obj_type': 'tile', 'visible': {'s0': 'Axis', 's1': 'West', 's2': 'USSR'}}, 'Belgrade': {'type': 'Land', 'alligence': 'Yugoslavia', 'res': '0', 'pop': '0', 'muster': '1', 'borders': {'Croatia': 'Forest', 'Budapest': 'Plains', 'Albania': 'Mountains', 'Bucharest': 'River', 'Sofia': 'Mountains', 'Athens': 'Mountains'}, 'units': {}, 'obj_type': 'tile', 'visible': {'s0': 'Axis', 's1': 'West', 's2': 'USSR'}, 'capital': '1'}, 'Albania': {'type': 'Coast', 'alligence': 'Albania', 'res': '0', 'pop': '0', 'muster': '0', 'borders': {'Adriatic_Sea': 'Coast', 'Central_Mediterranean': 'Coast', 'Croatia': 'Mountains', 'Belgrade': 'Mountains', 'Athens': 'Mountains'}, 'units': {}, 'obj_type': 'tile', 'visible': {'s0': 'Axis', 's1': 'West', 's2': 'USSR'}, 'capital': '1'}, 'Athens': {'type': 'Coast', 'alligence': 'Greece', 'res': '1', 'pop': '0', 'muster': '1', 'borders': {'Central_Mediterranean': 'Coast', 'Istanbul': 'Strait', 'Sofia': 'Mountains', 'Belgrade': 'Mountains', 'Albania': 'Mountains', 'Aegean_Sea': 'Coast'}, 'units': {}, 'obj_type': 'tile', 'visible': {'s0': 'Axis', 's1': 'West', 's2': 'USSR'}, 'capital': '1'}, 'Bucharest': {'type': 'Coast', 'alligence': 'Rumania', 'res': '2', 'pop': '1', 'muster': '2', 'borders': {'Lvov': 'River', 'Odessa': 'River', 'Budapest': 'Mountains', 'Belgrade': 'River', 'Sofia': 'River', 'Western_Black_Sea': 'Coast'}, 'units': {}, 'obj_type': 'tile', 'visible': {'s0': 'Axis', 's1': 'West', 's2': 'USSR'}, 'capital': '1'}, 'Sofia': {'type': 'Coast', 'alligence': 'Bulgaria', 'res': '1', 'pop': '0', 'muster': '1', 'borders': {'Belgrade': 'Mountains', 'Bucharest': 'River', 'Western_Black_Sea': 'Coast', 'Istanbul': 'Strait', 'Athens': 'Mountains'}, 'units': {}, 'obj_type': 'tile', 'visible': {'s0': 'Axis', 's1': 'West', 's2': 'USSR'}, 'capital': '1'}, 'Aegean_Sea': {'type': 'Sea', 'borders': {'Central_Mediterranean': 'Sea', 'Crete': 'Coast', 'Eastern_Mediterranean': 'Sea', 'Izmir': 'Coast', 'Istanbul': 'Strait', 'Athens': 'Coast'}, 'units': {}, 'obj_type': 'tile', 'visible': {'s0': 'Axis', 's1': 'West', 's2': 'USSR'}}, 'Crete': {'type': 'Sea', 'borders': {'Central_Mediterranean': 'Coast', 'Aegean_Sea': 'Coast', 'Eastern_Mediterranean': 'Coast'}, 'units': {}, 'obj_type': 'tile', 'visible': {'s0': 'Axis', 's1': 'West', 's2': 'USSR'}}, 'Eastern_Mediterranean': {'type': 'Sea', 'borders': {'Central_Mediterranean': 'Sea', 'Cyrenaica': 'Coast', 'Aegean_Sea': 'Sea', 'Crete': 'Coast', 'Suez': 'Strait', 'Jordan': 'Coast', 'Damascus': 'Coast', 'Egypt': 'Coast', 'Adana': 'Coast', 'Izmir': 'Coast'}, 'units': {}, 'obj_type': 'tile', 'visible': {'s0': 'Axis', 's1': 'West', 's2': 'USSR'}}, 'Egypt': {'type': 'Coast', 'alligence': 'Middle_East', 'res': '0', 'pop': '0', 'muster': '0', 'borders': {'Cyrenaica': 'Plains', 'Suez': 'Strait', 'Eastern_Mediterranean': 'Coast'}, 'units': {}, 'obj_type': 'tile', 'visible': {'s0': 'Axis', 's1': 'West', 's2': 'USSR'}, 'owner': 'West'}, 'Suez': {'type': 'Strait', 'alligence': 'Middle_East', 'res': '0', 'pop': '1', 'muster': '2', 'borders': {'Egypt': 'Strait', 'Eastern_Mediterranean': 'Strait', 'Sudan': 'Strait', 'Jordan': 'Strait', 'Red_Sea': 'Strait'}, 'units': {'s0': '16980'}, 'obj_type': 'tile', 'visible': {'s0': 'Axis', 's1': 'West', 's2': 'USSR'}, 'capital': '1', 'owner': 'West'}, 'Sudan': {'type': 'Coast', 'alligence': 'Middle_East', 'res': '0', 'pop': '0', 'muster': '0', 'borders': {'Suez': 'Strait', 'Red_Sea': 'Coast'}, 'units': {}, 'obj_type': 'tile', 'visible': {'s0': 'Axis', 's1': 'West', 's2': 'USSR'}, 'owner': 'West'}, 'Jordan': {'type': 'Coast', 'alligence': 'Middle_East', 'res': '0', 'pop': '0', 'muster': '0', 'borders': {'Suez': 'Strait', 'Eastern_Mediterranean': 'Coast', 'Damascus': 'Plains', 'Iraq': 'Plains'}, 'units': {}, 'obj_type': 'tile', 'visible': {'s0': 'Axis', 's1': 'West', 's2': 'USSR'}, 'owner': 'West'}, 'Iraq': {'type': 'Coast', 'alligence': 'Middle_East', 'res': '1', 'res_afr': '1', 'pop': '0', 'muster': '0', 'borders': {'Persian_Gulf': 'Coast', 'Damascus': 'Plains', 'Jordan': 'Plains', 'Abadan': 'Plains'}, 'units': {}, 'obj_type': 'tile', 'visible': {'s0': 'Axis', 's1': 'West', 's2': 'USSR'}, 'owner': 'West'}, 'Damascus': {'type': 'Coast', 'alligence': 'Syria', 'res': '0', 'pop': '0', 'muster': '1', 'borders': {'Eastern_Mediterranean': 'Coast', 'Jordan': 'Plains', 'Iraq': 'Plains', 'Adana': 'Plains'}, 'units': {}, 'obj_type': 'tile', 'visible': {'s0': 'Axis', 's1': 'West', 's2': 'USSR'}, 'capital': '1', 'owner': 'West'}, 'Red_Sea': {'type': 'Sea', 'borders': {'Suez': 'Strait', 'Sudan': 'Coast', 'Gulf_of_Aden': 'Sea'}, 'units': {}, 'obj_type': 'tile', 'visible': {'s0': 'Axis', 's1': 'West', 's2': 'USSR'}}, 'Gulf_of_Aden': {'type': 'Sea', 'borders': {'Red_Sea': 'Sea', 'Arabian_Sea': 'Sea', 'West_Indian_Ocean': 'Ocean'}, 'units': {}, 'obj_type': 'tile', 'visible': {'s0': 'Axis', 's1': 'West', 's2': 'USSR'}}, 'West_Indian_Ocean': {'type': 'Sea', 'borders': {'Gulf_of_Aden': 'Ocean', 'Arabian_Sea': 'Ocean', 'East_Indian_Ocean': 'Ocean', 'South_Atlantic_Ocean': 'Ocean-Africa'}, 'units': {}, 'obj_type': 'tile', 'visible': {'s0': 'Axis', 's1': 'West', 's2': 'USSR'}}, 'East_Indian_Ocean': {'type': 'Sea', 'borders': {'Arabian_Sea': 'Ocean', 'West_Indian_Ocean': 'Ocean', 'Bombay': 'Coast', 'Delhi': 'Coast'}, 'units': {}, 'obj_type': 'tile', 'visible': {'s0': 'Axis', 's1': 'West', 's2': 'USSR'}}, 'Arabian_Sea': {'type': 'Sea', 'borders': {'Gulf_of_Aden': 'Sea', 'West_Indian_Ocean': 'Ocean', 'Persian_Gulf': 'Sea', 'East_Indian_Ocean': 'Ocean', 'Bombay': 'Coast', 'Karachi': 'Coast', 'Shiraz': 'Coast'}, 'units': {}, 'obj_type': 'tile', 'visible': {'s0': 'Axis', 's1': 'West', 's2': 'USSR'}}, 'Persian_Gulf': {'type': 'Sea', 'borders': {'Arabian_Sea': 'Sea', 'Shiraz': 'Coast', 'Abadan': 'Coast', 'Iraq': 'Coast'}, 'units': {}, 'obj_type': 'tile', 'visible': {'s0': 'Axis', 's1': 'West', 's2': 'USSR'}}, 'Bombay': {'type': 'Coast', 'alligence': 'India', 'res': '1', 'res_afr': '1', 'pop': '1', 'muster': '2', 'borders': {'Arabian_Sea': 'Coast', 'East_Indian_Ocean': 'Coast', 'Karachi': 'Plains', 'Delhi': 'Plains'}, 'units': {'s0': '17920'}, 'obj_type': 'tile', 'visible': {'s0': 'Axis', 's1': 'West', 's2': 'USSR'}, 'owner': 'West'}, 'Karachi': {'type': 'Coast', 'alligence': 'India', 'res': '0', 'res_afr': '0', 'pop': '0', 'muster': '0', 'borders': {'Arabian_Sea': 'Coast', 'Bombay': 'Plains', 'Delhi': 'Plains', 'Kabul': 'Mountains', 'Shiraz': 'Mountains'}, 'units': {'s0': '248'}, 'obj_type': 'tile', 'visible': {'s0': 'Axis', 's1': 'West', 's2': 'USSR'}, 'owner': 'West'}, 'Delhi': {'type': 'Coast', 'alligence': 'India', 'res': '1', 'res_afr': '1', 'pop': '2', 'muster': '3', 'borders': {'East_Indian_Ocean': 'Coast', 'Bombay': 'Plains', 'Karachi': 'Plains'}, 'units': {'s0': '16513', 's1': '17449'}, 'obj_type': 'tile', 'visible': {'s0': 'Axis', 's1': 'West', 's2': 'USSR'}, 'capital': '1', 'owner': 'West'}, 'Kabul': {'type': 'Land', 'alligence': 'Afghanistan', 'res': '0', 'pop': '0', 'muster': '1', 'borders': {'Karachi': 'Mountains', 'Shiraz': 'Mountains', 'Tehran': 'Mountains', 'Turkmenistan': 'Mountains'}, 'units': {}, 'obj_type': 'tile', 'visible': {'s0': 'Axis', 's1': 'West', 's2': 'USSR'}, 'capital': '1'}, 'Shiraz': {'type': 'Coast', 'alligence': 'Persia', 'res': '0', 'pop': '0', 'muster': '0', 'borders': {'Persian_Gulf': 'Coast', 'Arabian_Sea': 'Coast', 'Karachi': 'Mountains', 'Kabul': 'Mountains', 'Abadan': 'Mountains', 'Tehran': 'Mountains'}, 'units': {}, 'obj_type': 'tile', 'visible': {'s0': 'Axis', 's1': 'West', 's2': 'USSR'}}, 'Tehran': {'type': 'Coast', 'alligence': 'Persia', 'res': '0', 'pop': '1', 'muster': '2', 'borders': {'Shiraz': 'Mountains', 'Abadan': 'Mountains', 'Kabul': 'Mountains', 'Tabriz': 'Mountains', 'Turkmenistan': 'Mountains', 'Southern_Caspian_Sea': 'Coast'}, 'units': {}, 'obj_type': 'tile', 'visible': {'s0': 'Axis', 's1': 'West', 's2': 'USSR'}, 'capital': '1'}, 'Abadan': {'type': 'Coast', 'alligence': 'Persia', 'res': '2', 'res_afr': '2', 'pop': '0', 'muster': '0', 'borders': {'Persian_Gulf': 'Coast', 'Shiraz': 'Mountains', 'Iraq': 'Plains', 'Tehran': 'Mountains', 'Tabriz': 'Mountains'}, 'units': {}, 'obj_type': 'tile', 'visible': {'s0': 'Axis', 's1': 'West', 's2': 'USSR'}}, 'Tabriz': {'type': 'Coast', 'alligence': 'Persia', 'res': '0', 'pop': '0', 'muster': '0', 'borders': {'Abadan': 'Mountains', 'Tehran': 'Mountains', 'Southern_Caspian_Sea': 'Coast', 'Baku': 'Mountains', 'Kars': 'Mountains', 'Georgia': 'Mountains'}, 'units': {}, 'obj_type': 'tile', 'visible': {'s0': 'Axis', 's1': 'West', 's2': 'USSR'}}, 'Kars': {'type': 'Coast', 'alligence': 'Turkey', 'res': '0', 'pop': '0', 'muster': '0', 'borders': {'Tabriz': 'Mountains', 'Georgia': 'Mountains', 'Eastern_Black_Sea': 'Coast', 'Sinope': 'Mountains', 'Adana': 'Mountains'}, 'units': {}, 'obj_type': 'tile', 'visible': {'s0': 'Axis', 's1': 'West', 's2': 'USSR'}}, 'Sinope': {'type': 'Coast', 'alligence': 'Turkey', 'res': '0', 'pop': '0', 'muster': '0', 'borders': {'Kars': 'Mountains', 'Adana': 'Mountains', 'Ankara': 'Mountains', 'Eastern_Black_Sea': 'Coast'}, 'units': {}, 'obj_type': 'tile', 'visible': {'s0': 'Axis', 's1': 'West', 's2': 'USSR'}}, 'Adana': {'type': 'Coast', 'alligence': 'Turkey', 'res': '0', 'pop': '0', 'muster': '0', 'borders': {'Kars': 'Mountains', 'Sinope': 'Mountains', 'Damascus': 'Plains', 'Eastern_Mediterranean': 'Coast', 'Ankara': 'Mountains', 'Izmir': 'Mountains'}, 'units': {}, 'obj_type': 'tile', 'visible': {'s0': 'Axis', 's1': 'West', 's2': 'USSR'}}, 'Ankara': {'type': 'Coast', 'alligence': 'Turkey', 'res': '0', 'pop': '1', 'muster': '3', 'borders': {'Sinope': 'Mountains', 'Adana': 'Mountains', 'Izmir': 'Mountains', 'Istanbul': 'Strait', 'Western_Black_Sea': 'Coast'}, 'units': {}, 'obj_type': 'tile', 'visible': {'s0': 'Axis', 's1': 'West', 's2': 'USSR'}, 'capital': '1'}, 'Izmir': {'type': 'Coast', 'alligence': 'Turkey', 'res': '1', 'pop': '0', 'muster': '1', 'borders': {'Adana': 'Mountains', 'Ankara': 'Mountains', 'Eastern_Mediterranean': 'Coast', 'Aegean_Sea': 'Coast', 'Istanbul': 'Strait'}, 'units': {}, 'obj_type': 'tile', 'visible': {'s0': 'Axis', 's1': 'West', 's2': 'USSR'}}, 'Istanbul': {'type': 'Strait', 'alligence': 'Turkey', 'res': '0', 'pop': '1', 'muster': '2', 'borders': {'Izmir': 'Strait', 'Ankara': 'Strait', 'Aegean_Sea': 'Strait', 'Western_Black_Sea': 'Strait', 'Sofia': 'Strait', 'Athens': 'Strait'}, 'units': {}, 'obj_type': 'tile', 'visible': {'s0': 'Axis', 's1': 'West', 's2': 'USSR'}}, 'Southern_Caspian_Sea': {'type': 'Sea', 'borders': {'Tehran': 'Coast', 'Tabriz': 'Coast', 'Turkmenistan': 'Coast', 'Baku': 'Coast', 'Northern_Caspian_Sea': 'Sea'}, 'units': {}, 'obj_type': 'tile', 'visible': {'s0': 'Axis', 's1': 'West', 's2': 'USSR'}}, 'Northern_Caspian_Sea': {'type': 'Sea', 'borders': {'Southern_Caspian_Sea': 'Sea', 'Turkmenistan': 'Coast', 'Baku': 'Coast', 'Kazakhstan': 'Coast', 'Grozny': 'Coast', 'Ufa': 'Coast'}, 'units': {}, 'obj_type': 'tile', 'visible': {'s0': 'Axis', 's1': 'West', 's2': 'USSR'}}, 'Eastern_Black_Sea': {'type': 'Sea', 'borders': {'Kars': 'Coast', 'Georgia': 'Coast', 'Sinope': 'Coast', 'Western_Black_Sea': 'Sea', 'Sevastopol': 'Strait', 'Kuban': 'Coast'}, 'units': {}, 'obj_type': 'tile', 'visible': {'s0': 'Axis', 's1': 'West', 's2': 'USSR'}}, 'Western_Black_Sea': {'type': 'Sea', 'borders': {'Istanbul': 'Strait', 'Eastern_Black_Sea': 'Sea', 'Ankara': 'Coast', 'Sevastopol': 'Strait', 'Odessa': 'Coast', 'Bucharest': 'Coast', 'Sofia': 'Coast'}, 'units': {}, 'obj_type': 'tile', 'visible': {'s0': 'Axis', 's1': 'West', 's2': 'USSR'}}, 'Sea_of_Azov': {'type': 'Sea', 'borders': {'Sevastopol': 'Strait', 'Kuban': 'Coast', 'Kharkov': 'Coast'}, 'units': {}, 'obj_type': 'tile', 'visible': {'s0': 'Axis', 's1': 'West', 's2': 'USSR'}}, 'Archangel': {'type': 'Coast', 'alligence': 'USSR', 'res': '0', 'pop': '0', 'muster': '0', 'borders': {'Vologda': 'Forest', 'Leningrad': 'Forest', 'Murmansk': 'Forest', 'White_Sea': 'Coast'}, 'units': {'s0': '28113'}, 'obj_type': 'tile', 'visible': {'s0': 'Axis', 's1': 'West', 's2': 'USSR'}, 'owner': 'USSR'}, 'Vologda': {'type': 'Land', 'alligence': 'USSR', 'res': '0', 'pop': '0', 'muster': '0', 'borders': {'Moscow': 'Forest', 'Gorky': 'Forest', 'Leningrad': 'Forest', 'Archangel': 'Forest'}, 'units': {}, 'obj_type': 'tile', 'visible': {'s0': 'Axis', 's1': 'West', 's2': 'USSR'}, 'owner': 'USSR'}, 'Gorky': {'type': 'Land', 'alligence': 'USSR', 'res': '0', 'pop': '0', 'muster': '0', 'borders': {'Moscow': 'River', 'Penza': 'River', 'Perm': 'Forest', 'Vologda': 'Forest'}, 'units': {}, 'obj_type': 'tile', 'visible': {'s0': 'Axis', 's1': 'West', 's2': 'USSR'}, 'owner': 'USSR'}, 'Perm': {'type': 'Land', 'alligence': 'USSR', 'res': '0', 'pop': '0', 'muster': '0', 'borders': {'Penza': 'River', 'Ufa': 'Plains', 'Urals': 'Mountains', 'Gorky': 'Forest'}, 'units': {}, 'obj_type': 'tile', 'visible': {'s0': 'Axis', 's1': 'West', 's2': 'USSR'}, 'owner': 'USSR'}, 'Urals': {'type': 'Land', 'alligence': 'USSR', 'res': '1', 'pop': '1', 'muster': '2', 'borders': {'Kazakhstan': 'Mountains', 'Western_Siberia': 'Plains', 'Ufa': 'Mountains', 'Perm': 'Mountains'}, 'units': {'s0': '11508'}, 'obj_type': 'tile', 'visible': {'s0': 'Axis', 's1': 'West', 's2': 'USSR'}, 'owner': 'USSR'}, 'Western_Siberia': {'type': 'Land', 'alligence': 'USSR', 'res': '1', 'pop': '0', 'muster': '0', 'borders': {'Kazakhstan': 'Plains', 'Urals': 'Plains'}, 'units': {}, 'obj_type': 'tile', 'visible': {'s0': 'Axis', 's1': 'West', 's2': 'USSR'}, 'owner': 'USSR'}, 'Leningrad': {'type': 'Coast', 'alligence': 'USSR', 'res': '0', 'pop': '2', 'muster': '3', 'borders': {'Bryansk': 'Forest', 'Belorussia': 'Forest', 'Moscow': 'Forest', 'Vologda': 'Forest', 'Archangel': 'Forest', 'Murmansk': 'Forest', 'Helsinki': 'Forest', 'Gulf_of_Bothnia': 'Coast', 'Riga': 'Forest'}, 'units': {'s0': '10185', 's1': '10624', 's2': '30109'}, 'obj_type': 'tile', 'visible': {'s0': 'Axis', 's1': 'West', 's2': 'USSR'}, 'owner': 'USSR'}, 'Moscow': {'type': 'Land', 'alligence': 'USSR', 'res': '0', 'pop': '3', 'muster': '3', 'borders': {'Voronezh': 'Plains', 'Penza': 'Plains', 'Bryansk': 'Forest', 'Leningrad': 'Forest', 'Gorky': 'River', 'Vologda': 'Forest'}, 'units': {'s0': '11953', 's1': '12400', 's2': '12849'}, 'obj_type': 'tile', 'visible': {'s0': 'Axis', 's1': 'West', 's2': 'USSR'}, 'capital': '1', 'owner': 'USSR'}, 'Murmansk': {'type': 'Coast', 'alligence': 'USSR', 'res': '0', 'pop': '0', 'muster': '0', 'borders': {'Archangel': 'Forest', 'Leningrad': 'Forest', 'White_Sea': 'Coast', 'Barents_Sea': 'Coast', 'Helsinki': 'Forest', 'Petsamo': 'Forest'}, 'units': {}, 'obj_type': 'tile', 'visible': {'s0': 'Axis', 's1': 'West', 's2': 'USSR'}, 'owner': 'USSR'}, 'Penza': {'type': 'Land', 'alligence': 'USSR', 'res': '0', 'pop': '0', 'muster': '0', 'borders': {'Voronezh': 'Forest', 'Ufa': 'River', 'Moscow': 'Plains', 'Gorky': 'River', 'Perm': 'River'}, 'units': {}, 'obj_type': 'tile', 'visible': {'s0': 'Axis', 's1': 'West', 's2': 'USSR'}, 'owner': 'USSR'}, 'Ufa': {'type': 'Coast', 'alligence': 'USSR', 'res': '1', 'pop': '0', 'muster': '0', 'borders': {'Grozny': 'River', 'Stalingrad': 'River', 'Northern_Caspian_Sea': 'Coast', 'Kazakhstan': 'Plains', 'Voronezh': 'River', 'Penza': 'River', 'Perm': 'Plains', 'Urals': 'Mountains'}, 'units': {}, 'obj_type': 'tile', 'visible': {'s0': 'Axis', 's1': 'West', 's2': 'USSR'}, 'owner': 'USSR'}, 'Kazakhstan': {'type': 'Coast', 'alligence': 'USSR', 'res': '0', 'pop': '0', 'muster': '0', 'borders': {'Turkmenistan': 'Plains', 'Northern_Caspian_Sea': 'Coast', 'Ufa': 'Plains', 'Western_Siberia': 'Plains', 'Urals': 'Mountains'}, 'units': {'s0': '30612'}, 'obj_type': 'tile', 'visible': {'s0': 'Axis', 's1': 'West', 's2': 'USSR'}, 'owner': 'USSR'}, 'Belorussia': {'type': 'Land', 'alligence': 'USSR', 'res': '0', 'pop': '0', 'muster': '0', 'borders': {'Bryansk': 'Plains', 'Leningrad': 'Forest', 'Riga': 'Plains', 'Vilna': 'Plains'}, 'units': {}, 'obj_type': 'tile', 'visible': {'s0': 'Axis', 's1': 'West', 's2': 'USSR'}, 'owner': 'USSR'}, 'Bryansk': {'type': 'Land', 'alligence': 'USSR', 'res': '0', 'pop': '0', 'muster': '0', 'borders': {'Kharkov': 'Plains', 'Voronezh': 'Plains', 'Belorussia': 'Plains', 'Moscow': 'Forest', 'Kiev': 'River', 'Leningrad': 'Forest'}, 'units': {'s0': '29608'}, 'obj_type': 'tile', 'visible': {'s0': 'Axis', 's1': 'West', 's2': 'USSR'}, 'owner': 'USSR'}, 'Voronezh': {'type': 'Land', 'alligence': 'USSR', 'res': '0', 'pop': '0', 'muster': '0', 'borders': {'Stalingrad': 'Plains', 'Kharkov': 'River', 'Bryansk': 'Plains', 'Ufa': 'River', 'Moscow': 'Plains', 'Penza': 'Forest'}, 'units': {}, 'obj_type': 'tile', 'visible': {'s0': 'Axis', 's1': 'West', 's2': 'USSR'}, 'owner': 'USSR'}, 'Stalingrad': {'type': 'Land', 'alligence': 'USSR', 'res': '0', 'pop': '1', 'muster': '2', 'borders': {'Kuban': 'Plains', 'Grozny': 'Plains', 'Ufa': 'River', 'Voronezh': 'Plains', 'Kharkov': 'River'}, 'units': {'s0': '14208'}, 'obj_type': 'tile', 'visible': {'s0': 'Axis', 's1': 'West', 's2': 'USSR'}, 'owner': 'USSR'}, 'Grozny': {'type': 'Coast', 'alligence': 'USSR', 'res': '0', 'pop': '0', 'muster': '0', 'borders': {'Baku': 'Mountains', 'Northern_Caspian_Sea': 'Coast', 'Georgia': 'Mountains', 'Kuban': 'Plains', 'Stalingrad': 'Plains', 'Ufa': 'River'}, 'units': {}, 'obj_type': 'tile', 'visible': {'s0': 'Axis', 's1': 'West', 's2': 'USSR'}, 'owner': 'USSR'}, 'Turkmenistan': {'type': 'Coast', 'alligence': 'USSR', 'res': '0', 'pop': '0', 'muster': '0', 'borders': {'Kabul': 'Mountains', 'Tehran': 'Mountains', 'Southern_Caspian_Sea': 'Coast', 'Northern_Caspian_Sea': 'Coast', 'Kazakhstan': 'Plains'}, 'units': {}, 'obj_type': 'tile', 'visible': {'s0': 'Axis', 's1': 'West', 's2': 'USSR'}, 'owner': 'USSR'}, 'Kuban': {'type': 'Coast', 'alligence': 'USSR', 'res': '0', 'pop': '0', 'muster': '0', 'borders': {'Georgia': 'Mountains', 'Grozny': 'Plains', 'Eastern_Black_Sea': 'Coast', 'Sea_of_Azov': 'Coast', 'Sevastopol': 'Strait', 'Kharkov': 'River', 'Stalingrad': 'Plains'}, 'units': {}, 'obj_type': 'tile', 'visible': {'s0': 'Axis', 's1': 'West', 's2': 'USSR'}, 'owner': 'USSR'}, 'Georgia': {'type': 'Coast', 'alligence': 'USSR', 'res': '0', 'pop': '0', 'muster': '0', 'borders': {'Baku': 'Plains', 'Tabriz': 'Mountains', 'Grozny': 'Mountains', 'Kuban': 'Mountains', 'Kars': 'Mountains', 'Eastern_Black_Sea': 'Coast'}, 'units': {'s0': '27616', 's1': '31117'}, 'obj_type': 'tile', 'visible': {'s0': 'Axis', 's1': 'West', 's2': 'USSR'}, 'owner': 'USSR'}, 'Baku': {'type': 'Coast', 'alligence': 'USSR', 'res': '3', 'res_afr': '1', 'pop': '2', 'muster': '3', 'borders': {'Tabriz': 'Mountains', 'Southern_Caspian_Sea': 'Coast', 'Georgia': 'Plains', 'Northern_Caspian_Sea': 'Coast', 'Grozny': 'Mountains'}, 'units': {'s0': '13300', 's1': '13753'}, 'obj_type': 'tile', 'visible': {'s0': 'Axis', 's1': 'West', 's2': 'USSR'}, 'owner': 'USSR'}, 'Kiev': {'type': 'Land', 'alligence': 'USSR', 'res': '1', 'pop': '1', 'muster': '2', 'borders': {'Odessa': 'Plains', 'Kharkov': 'River', 'Bryansk': 'River', 'Lvov': 'Plains'}, 'units': {'s0': '14665'}, 'obj_type': 'tile', 'visible': {'s0': 'Axis', 's1': 'West', 's2': 'USSR'}, 'owner': 'USSR'}, 'Kharkov': {'type': 'Coast', 'alligence': 'USSR', 'res': '1', 'pop': '1', 'muster': '2', 'borders': {'Sea_of_Azov': 'Coast', 'Sevastopol': 'Strait', 'Odessa': 'River', 'Kiev': 'River', 'Kuban': 'River', 'Stalingrad': 'River', 'Voronezh': 'River', 'Bryansk': 'Plains'}, 'units': {'s0': '11065'}, 'obj_type': 'tile', 'visible': {'s0': 'Axis', 's1': 'West', 's2': 'USSR'}, 'owner': 'USSR'}, 'Odessa': {'type': 'Coast', 'alligence': 'USSR', 'res': '2', 'pop': '1', 'muster': '2', 'borders': {'Kharkov': 'River', 'Western_Black_Sea': 'Coast', 'Sevastopol': 'Strait', 'Kiev': 'Plains', 'Lvov': 'Plains', 'Bucharest': 'River'}, 'units': {'s0': '9748', 's1': '27121'}, 'obj_type': 'tile', 'visible': {'s0': 'Axis', 's1': 'West', 's2': 'USSR'}, 'owner': 'USSR'}, 'Sevastopol': {'type': 'Strait', 'alligence': 'USSR', 'res': '0', 'pop': '0', 'muster': '0', 'borders': {'Western_Black_Sea': 'Strait', 'Eastern_Black_Sea': 'Strait', 'Sea_of_Azov': 'Strait', 'Kuban': 'Strait', 'Kharkov': 'Strait', 'Odessa': 'Strait'}, 'units': {}, 'obj_type': 'tile', 'visible': {'s0': 'Axis', 's1': 'West', 's2': 'USSR'}, 'owner': 'USSR'}}, 'nations': {'designations': {'Canada': 'West', 'USA': 'Major', 'Latin_America': 'Minor', 'French_North_Africa': 'West', 'Gibraltar': 'West', 'Portugal': 'Minor', 'Spain': 'Minor', 'Ireland': 'Minor', 'Denmark': 'Minor', 'Britain': 'West', 'France': 'West', 'Italy': 'Axis', 'Malta': 'West', 'Libya': 'Axis', 'Low_Countries': 'Minor', 'Austria': 'Minor', 'Germany': 'Axis', 'Norway': 'Minor', 'Sweden': 'Minor', 'Finland': 'Minor', 'Baltic_States': 'Minor', 'Poland': 'Minor', 'Czechoslovakia': 'Minor', 'Hungary': 'Minor', 'Yugoslavia': 'Minor', 'Albania': 'Minor', 'Greece': 'Minor', 'Rumania': 'Minor', 'Bulgaria': 'Minor', 'Middle_East': 'West', 'Syria': 'West', 'India': 'West', 'Afghanistan': 'Minor', 'Persia': 'Minor', 'Turkey': 'Minor', 'USSR': 'USSR'}, 'territories': {'Canada': {'s0': 'Ottawa'}, 'USA': {'s0': 'New_York', 's1': 'Washington'}, 'Latin_America': {'s0': 'Rio_de_Janeiro'}, 'French_North_Africa': {'s0': 'Dakar', 's1': 'Morocco', 's2': 'Algiers', 's3': 'Tunisia', 's4': 'Sfax'}, 'Gibraltar': {'s0': 'Gibraltar'}, 'Portugal': {'s0': 'Lisbon', 's1': 'Azores'}, 'Spain': {'s0': 'Madrid', 's1': 'Leon', 's2': 'Barcelona'}, 'Ireland': {'s0': 'Dublin'}, 'Denmark': {'s0': 'Iceland', 's1': 'Copenhagen'}, 'Britain': {'s0': 'Glasgow', 's1': 'London'}, 'France': {'s0': 'Paris', 's1': 'Lorraine', 's2': 'Gascony', 's3': 'Marseille'}, 'Italy': {'s0': 'Sardinia', 's1': 'Sicily', 's2': 'Milan', 's3': 'Rome', 's4': 'Venice', 's5': 'Taranto'}, 'Malta': {'s0': 'Malta'}, 'Libya': {'s0': 'Tripoli', 's1': 'Cyrenaica'}, 'Low_Countries': {'s0': 'Amsterdam'}, 'Austria': {'s0': 'Vienna'}, 'Germany': {'s0': 'Munich', 's1': 'Ruhr', 's2': 'Berlin', 's3': 'Konigsberg'}, 'Norway': {'s0': 'Oslo', 's1': 'Narvik'}, 'Sweden': {'s0': 'Gallivare', 's1': 'Stockholm'}, 'Finland': {'s0': 'Petsamo', 's1': 'Helsinki'}, 'Baltic_States': {'s0': 'Riga'}, 'Poland': {'s0': 'Warsaw', 's1': 'Vilna', 's2': 'Lvov'}, 'Czechoslovakia': {'s0': 'Prague'}, 'Hungary': {'s0': 'Budapest'}, 'Yugoslavia': {'s0': 'Croatia', 's1': 'Belgrade'}, 'Albania': {'s0': 'Albania'}, 'Greece': {'s0': 'Athens'}, 'Rumania': {'s0': 'Bucharest'}, 'Bulgaria': {'s0': 'Sofia'}, 'Middle_East': {'s0': 'Egypt', 's1': 'Suez', 's2': 'Sudan', 's3': 'Jordan', 's4': 'Iraq'}, 'Syria': {'s0': 'Damascus'}, 'India': {'s0': 'Bombay', 's1': 'Karachi', 's2': 'Delhi'}, 'Afghanistan': {'s0': 'Kabul'}, 'Persia': {'s0': 'Shiraz', 's1': 'Tehran', 's2': 'Abadan', 's3': 'Tabriz'}, 'Turkey': {'s0': 'Kars', 's1': 'Sinope', 's2': 'Adana', 's3': 'Ankara', 's4': 'Izmir', 's5': 'Istanbul'}, 'USSR': {'s0': 'Archangel', 's1': 'Vologda', 's2': 'Gorky', 's3': 'Perm', 's4': 'Urals', 's5': 'Western_Siberia', 's6': 'Leningrad', 's7': 'Moscow', 's8': 'Murmansk', 's9': 'Penza', 's10': 'Ufa', 's11': 'Kazakhstan', 's12': 'Belorussia', 's13': 'Bryansk', 's14': 'Voronezh', 's15': 'Stalingrad', 's16': 'Grozny', 's17': 'Turkmenistan', 's18': 'Kuban', 's19': 'Georgia', 's20': 'Baku', 's21': 'Kiev', 's22': 'Kharkov', 's23': 'Odessa', 's24': 'Sevastopol'}}, 'capitals': {'Canada': 'Ottawa', 'USA': 'Washington', 'Latin_America': 'Rio_de_Janeiro', 'French_North_Africa': 'Algiers', 'Gibraltar': 'Gibraltar', 'Portugal': 'Lisbon', 'Spain': 'Madrid', 'Ireland': 'Dublin', 'Denmark': 'Copenhagen', 'Britain': 'London', 'France': 'Paris', 'Italy': 'Rome', 'Malta': 'Malta', 'Libya': 'Tripoli', 'Low_Countries': 'Amsterdam', 'Austria': 'Vienna', 'Germany': 'Berlin', 'Norway': 'Oslo', 'Sweden': 'Stockholm', 'Finland': 'Helsinki', 'Baltic_States': 'Riga', 'Poland': 'Warsaw', 'Czechoslovakia': 'Prague', 'Hungary': 'Budapest', 'Yugoslavia': 'Belgrade', 'Albania': 'Albania', 'Greece': 'Athens', 'Rumania': 'Bucharest', 'Bulgaria': 'Sofia', 'Middle_East': 'Suez', 'Syria': 'Damascus', 'India': 'Delhi', 'Afghanistan': 'Kabul', 'Persia': 'Tehran', 'Turkey': 'Ankara', 'USSR': 'Moscow'}, 'groups': {'West': {'s0': 'Canada', 's1': 'French_North_Africa', 's2': 'Gibraltar', 's3': 'Britain', 's4': 'France', 's5': 'Malta', 's6': 'Middle_East', 's7': 'Syria', 's8': 'India'}, 'Major': {'s0': 'USA'}, 'Minor': {'s0': 'Latin_America', 's1': 'Portugal', 's2': 'Spain', 's3': 'Ireland', 's4': 'Denmark', 's5': 'Low_Countries', 's6': 'Austria', 's7': 'Norway', 's8': 'Sweden', 's9': 'Finland', 's10': 'Baltic_States', 's11': 'Poland', 's12': 'Czechoslovakia', 's13': 'Hungary', 's14': 'Yugoslavia', 's15': 'Albania', 's16': 'Greece', 's17': 'Rumania', 's18': 'Bulgaria', 's19': 'Afghanistan', 's20': 'Persia', 's21': 'Turkey'}, 'Axis': {'s0': 'Italy', 's1': 'Libya', 's2': 'Germany'}, 'USSR': {'s0': 'USSR'}}, 'status': {'USA': {'is_armed': '0', 'units': {}}, 'Latin_America': {'is_armed': '0', 'units': {}}, 'Portugal': {'is_armed': '0', 'units': {}}, 'Spain': {'is_armed': '0', 'units': {}}, 'Ireland': {'is_armed': '0', 'units': {}}, 'Denmark': {'is_armed': '0', 'units': {}}, 'Low_Countries': {'is_armed': '0', 'units': {}}, 'Austria': {'is_armed': '0', 'units': {}}, 'Norway': {'is_armed': '0', 'units': {}}, 'Sweden': {'is_armed': '0', 'units': {}}, 'Finland': {'is_armed': '0', 'units': {}}, 'Baltic_States': {'is_armed': '0', 'units': {}}, 'Poland': {'is_armed': '0', 'units': {}}, 'Czechoslovakia': {'is_armed': '0', 'units': {}}, 'Hungary': {'is_armed': '0', 'units': {}}, 'Yugoslavia': {'is_armed': '0', 'units': {}}, 'Albania': {'is_armed': '0', 'units': {}}, 'Greece': {'is_armed': '0', 'units': {}}, 'Rumania': {'is_armed': '0', 'units': {}}, 'Bulgaria': {'is_armed': '0', 'units': {}}, 'Afghanistan': {'is_armed': '0', 'units': {}}, 'Persia': {'is_armed': '0', 'units': {}}, 'Turkey': {'is_armed': '0', 'units': {}}}}, 'players': {'Axis': {'stats': {'handlimit': '7', 'factory_all_costs': {'l0': '5', 'l1': '4', 'l2': '3'}, 'factory_idx': '0', 'factory_cost': '5', 'emergency_command': '4', 'rivals': {'s0': 'USSR', 's1': 'West'}, 'DoW': {'USSR': '0', 'West': '0'}, 'at_war_with': {'USSR': '0', 'West': '0'}, 'at_war': '0', 'aggressed': '0', 'peace_dividends': {'l0': '0'}, 'enable_USA': '0', 'enable_Winter': '0', 'great_power': 'Germany'}, 'cities': {'MainCapital': 'Berlin', 'SubCapitals': {'l0': 'Ruhr', 'l1': 'Rome'}}, 'members': {'Germany': {'s0': 'Germany'}, 'Italy': {'s0': 'Italy', 's1': 'Libya'}}, 'homeland': {'Germany': {'s0': 'Munich', 's1': 'Ruhr', 's2': 'Berlin', 's3': 'Konigsberg'}, 'Italy': {'s0': 'Sardinia', 's1': 'Sicily', 's2': 'Milan', 's3': 'Rome', 's4': 'Venice', 's5': 'Taranto'}}, 'territory': {'s0': 'Sardinia', 's1': 'Sicily', 's2': 'Milan', 's3': 'Rome', 's4': 'Venice', 's5': 'Taranto', 's6': 'Tripoli', 's7': 'Cyrenaica', 's8': 'Munich', 's9': 'Ruhr', 's10': 'Berlin', 's11': 'Konigsberg'}, 'tracks': {'POP': '13', 'RES': '12', 'IND': '12'}, 'units': {'640': {'nationality': 'Germany', 'tile': 'Konigsberg', 'type': 'Tank', 'obj_type': 'unit', 'cv': '2', 'visible': {'s0': 'Axis'}}, '1033': {'nationality': 'Italy', 'tile': 'Rome', 'type': 'Carrier', 'obj_type': 'unit', 'cv': '1', 'visible': {'s0': 'Axis'}}, '1428': {'nationality': 'Germany', 'tile': 'Konigsberg', 'type': 'Carrier', 'obj_type': 'unit', 'cv': '1', 'visible': {'s0': 'Axis'}}, '1825': {'nationality': 'Italy', 'tile': 'Tripoli', 'type': 'Fleet', 'obj_type': 'unit', 'cv': '1', 'visible': {'s0': 'Axis'}}, '2224': {'nationality': 'Italy', 'tile': 'Rome', 'type': 'AirForce', 'obj_type': 'unit', 'cv': '1', 'visible': {'s0': 'Axis'}}, '2625': {'nationality': 'Italy', 'tile': 'Tripoli', 'type': 'Infantry', 'obj_type': 'unit', 'cv': '1', 'visible': {'s0': 'Axis'}}, '3028': {'nationality': 'Germany', 'tile': 'Ruhr', 'type': 'Submarine', 'obj_type': 'unit', 'cv': '1', 'visible': {'s0': 'Axis'}}, '3433': {'nationality': 'Germany', 'tile': 'Berlin', 'type': 'Fortress', 'obj_type': 'unit', 'cv': '1', 'visible': {'s0': 'Axis'}}, '3840': {'nationality': 'Italy', 'tile': 'Milan', 'type': 'Submarine', 'obj_type': 'unit', 'cv': '2', 'visible': {'s0': 'Axis'}}, '4249': {'nationality': 'Germany', 'tile': 'Munich', 'type': 'Fortress', 'obj_type': 'unit', 'cv': '1', 'visible': {'s0': 'Axis'}}, '4660': {'nationality': 'Italy', 'tile': 'Rome', 'type': 'Submarine', 'obj_type': 'unit', 'cv': '2', 'visible': {'s0': 'Axis'}}, '5073': {'nationality': 'Germany', 'tile': 'Ruhr', 'type': 'Fleet', 'obj_type': 'unit', 'cv': '1', 'visible': {'s0': 'Axis'}}, '5488': {'nationality': 'Germany', 'tile': 'Berlin', 'type': 'AirForce', 'obj_type': 'unit', 'cv': '1', 'visible': {'s0': 'Axis'}}, '5905': {'nationality': 'Germany', 'tile': 'Ruhr', 'type': 'Infantry', 'obj_type': 'unit', 'cv': '2', 'visible': {'s0': 'Axis'}}, '6324': {'nationality': 'Italy', 'tile': 'Rome', 'type': 'Tank', 'obj_type': 'unit', 'cv': '1', 'visible': {'s0': 'Axis'}}, '6745': {'nationality': 'Italy', 'tile': 'Milan', 'type': 'Fleet', 'obj_type': 'unit', 'cv': '1', 'visible': {'s0': 'Axis'}}, '7168': {'nationality': 'Germany', 'tile': 'Berlin', 'type': 'Tank', 'obj_type': 'unit', 'cv': '1', 'visible': {'s0': 'Axis'}}, '7593': {'nationality': 'Germany', 'tile': 'Berlin', 'type': 'Carrier', 'obj_type': 'unit', 'cv': '1', 'visible': {'s0': 'Axis'}}, '8020': {'nationality': 'Germany', 'tile': 'Ruhr', 'type': 'Infantry', 'obj_type': 'unit', 'cv': '1', 'visible': {'s0': 'Axis'}}, '8449': {'nationality': 'Germany', 'tile': 'Munich', 'type': 'AirForce', 'obj_type': 'unit', 'cv': '1', 'visible': {'s0': 'Axis'}}, '8880': {'nationality': 'Germany', 'tile': 'Berlin', 'type': 'Tank', 'obj_type': 'unit', 'cv': '2', 'visible': {'s0': 'Axis'}}, '9313': {'nationality': 'Germany', 'tile': 'Berlin', 'type': 'Fleet', 'obj_type': 'unit', 'cv': '1', 'visible': {'s0': 'Axis'}}, '21752': {'nationality': 'Germany', 'tile': 'Munich', 'type': 'Tank', 'obj_type': 'unit', 'cv': '1', 'visible': {'s0': 'Axis'}}, '22721': {'nationality': 'Italy', 'tile': 'Sardinia', 'type': 'Fleet', 'obj_type': 'unit', 'cv': '1', 'visible': {'s0': 'Axis'}}, '24180': {'nationality': 'Germany', 'tile': 'Ruhr', 'type': 'Fortress', 'obj_type': 'unit', 'cv': '1', 'visible': {'s0': 'Axis'}}, '25645': {'nationality': 'Germany', 'tile': 'Berlin', 'type': 'Infantry', 'obj_type': 'unit', 'cv': '1', 'visible': {'s0': 'Axis'}}, '26136': {'nationality': 'Germany', 'tile': 'Konigsberg', 'type': 'Infantry', 'obj_type': 'unit', 'cv': '1', 'visible': {'s0': 'Axis'}}}, 'hand': {'s0': 'action_23'}, 'technologies': {}, 'secret_vault': {}, 'influence': {'s0': '38820', 's1': '48202', 's2': '58629', 's3': '58634', 's4': '58636', 's5': '58638'}, 'diplomacy': {'associates': {'s0': 'Portugal', 's1': 'Sweden', 's2': 'Baltic_States', 's3': 'Yugoslavia'}, 'protectorates': {'s0': 'Hungary', 's1': 'Bulgaria'}, 'satellites': {}, 'violations': {}}}, 'USSR': {'stats': {'handlimit': '6', 'factory_all_costs': {'l0': '7', 'l1': '5', 'l2': '3'}, 'factory_idx': '0', 'factory_cost': '7', 'emergency_command': '2', 'rivals': {'s0': 'Axis', 's1': 'West'}, 'DoW': {'Axis': '0', 'West': '0'}, 'at_war_with': {'Axis': '0', 'West': '0'}, 'at_war': '0', 'aggressed': '0', 'peace_dividends': {'l0': '1'}, 'enable_USA': '0', 'enable_Winter': '1', 'great_power': 'USSR'}, 'cities': {'MainCapital': 'Moscow', 'SubCapitals': {'l0': 'Leningrad', 'l1': 'Baku'}}, 'members': {'USSR': {'s0': 'USSR'}}, 'homeland': {'USSR': {'s0': 'Archangel', 's1': 'Vologda', 's2': 'Gorky', 's3': 'Perm', 's4': 'Urals', 's5': 'Western_Siberia', 's6': 'Leningrad', 's7': 'Moscow', 's8': 'Murmansk', 's9': 'Penza', 's10': 'Ufa', 's11': 'Kazakhstan', 's12': 'Belorussia', 's13': 'Bryansk', 's14': 'Voronezh', 's15': 'Stalingrad', 's16': 'Grozny', 's17': 'Turkmenistan', 's18': 'Kuban', 's19': 'Georgia', 's20': 'Baku', 's21': 'Kiev', 's22': 'Kharkov', 's23': 'Odessa', 's24': 'Sevastopol'}}, 'territory': {'s0': 'Archangel', 's1': 'Vologda', 's2': 'Gorky', 's3': 'Perm', 's4': 'Urals', 's5': 'Western_Siberia', 's6': 'Leningrad', 's7': 'Moscow', 's8': 'Murmansk', 's9': 'Penza', 's10': 'Ufa', 's11': 'Kazakhstan', 's12': 'Belorussia', 's13': 'Bryansk', 's14': 'Voronezh', 's15': 'Stalingrad', 's16': 'Grozny', 's17': 'Turkmenistan', 's18': 'Kuban', 's19': 'Georgia', 's20': 'Baku', 's21': 'Kiev', 's22': 'Kharkov', 's23': 'Odessa', 's24': 'Sevastopol'}, 'tracks': {'POP': '14', 'RES': '17', 'IND': '9'}, 'units': {'9748': {'nationality': 'USSR', 'tile': 'Odessa', 'type': 'Infantry', 'obj_type': 'unit', 'cv': '1', 'visible': {'s0': 'USSR'}}, '10185': {'nationality': 'USSR', 'tile': 'Leningrad', 'type': 'Infantry', 'obj_type': 'unit', 'cv': '1', 'visible': {'s0': 'USSR'}}, '10624': {'nationality': 'USSR', 'tile': 'Leningrad', 'type': 'AirForce', 'obj_type': 'unit', 'cv': '1', 'visible': {'s0': 'USSR'}}, '11065': {'nationality': 'USSR', 'tile': 'Kharkov', 'type': 'Fortress', 'obj_type': 'unit', 'cv': '1', 'visible': {'s0': 'USSR'}}, '11508': {'nationality': 'USSR', 'tile': 'Urals', 'type': 'Infantry', 'obj_type': 'unit', 'cv': '1', 'visible': {'s0': 'USSR'}}, '11953': {'nationality': 'USSR', 'tile': 'Moscow', 'type': 'Fortress', 'obj_type': 'unit', 'cv': '1', 'visible': {'s0': 'USSR'}}, '12400': {'nationality': 'USSR', 'tile': 'Moscow', 'type': 'Tank', 'obj_type': 'unit', 'cv': '1', 'visible': {'s0': 'USSR'}}, '12849': {'nationality': 'USSR', 'tile': 'Moscow', 'type': 'AirForce', 'obj_type': 'unit', 'cv': '2', 'visible': {'s0': 'USSR'}}, '13300': {'nationality': 'USSR', 'tile': 'Baku', 'type': 'Tank', 'obj_type': 'unit', 'cv': '1', 'visible': {'s0': 'USSR'}}, '13753': {'nationality': 'USSR', 'tile': 'Baku', 'type': 'Fleet', 'obj_type': 'unit', 'cv': '1', 'visible': {'s0': 'USSR'}}, '14208': {'nationality': 'USSR', 'tile': 'Stalingrad', 'type': 'Infantry', 'obj_type': 'unit', 'cv': '1', 'visible': {'s0': 'USSR'}}, '14665': {'nationality': 'USSR', 'tile': 'Kiev', 'type': 'Tank', 'obj_type': 'unit', 'cv': '2', 'visible': {'s0': 'USSR'}}, '27121': {'nationality': 'USSR', 'tile': 'Odessa', 'type': 'Submarine', 'obj_type': 'unit', 'cv': '1', 'visible': {'s0': 'USSR'}}, '27616': {'nationality': 'USSR', 'tile': 'Georgia', 'type': 'Carrier', 'obj_type': 'unit', 'cv': '1', 'visible': {'s0': 'USSR'}}, '28113': {'nationality': 'USSR', 'tile': 'Archangel', 'type': 'Carrier', 'obj_type': 'unit', 'cv': '1', 'visible': {'s0': 'USSR'}}, '29608': {'nationality': 'USSR', 'tile': 'Bryansk', 'type': 'Tank', 'obj_type': 'unit', 'cv': '1', 'visible': {'s0': 'USSR'}}, '30109': {'nationality': 'USSR', 'tile': 'Leningrad', 'type': 'Tank', 'obj_type': 'unit', 'cv': '1', 'visible': {'s0': 'USSR'}}, '30612': {'nationality': 'USSR', 'tile': 'Kazakhstan', 'type': 'Submarine', 'obj_type': 'unit', 'cv': '1', 'visible': {'s0': 'USSR'}}, '31117': {'nationality': 'USSR', 'tile': 'Georgia', 'type': 'Fortress', 'obj_type': 'unit', 'cv': '1', 'visible': {'s0': 'USSR'}}}, 'hand': {}, 'technologies': {}, 'secret_vault': {}, 'influence': {'s0': '58630', 's1': '58632', 's2': '58633'}, 'diplomacy': {'associates': {'s0': 'Rumania', 's1': 'Afghanistan', 's2': 'Persia'}, 'protectorates': {}, 'satellites': {}, 'violations': {}}}, 'West': {'stats': {'handlimit': '8', 'factory_all_costs': {'l0': '6', 'l1': '5', 'l2': '4', 'l3': '3'}, 'factory_idx': '0', 'factory_cost': '6', 'emergency_command': '2', 'rivals': {'s0': 'Axis', 's1': 'USSR'}, 'DoW': {'Axis': '0', 'USSR': '0'}, 'at_war_with': {'Axis': '0', 'USSR': '0'}, 'at_war': '0', 'aggressed': '0', 'peace_dividends': {'l0': '1'}, 'enable_USA': '1', 'enable_Winter': '0', 'great_power': 'Britain'}, 'cities': {'MainCapital': 'London', 'SubCapitals': {'l0': 'Delhi', 'l1': 'Paris', 'l2': 'Washington'}}, 'members': {'Britain': {'s0': 'Britain', 's1': 'Canada', 's2': 'Gibraltar', 's3': 'Malta', 's4': 'Middle_East', 's5': 'India'}, 'France': {'s0': 'France', 's1': 'French_North_Africa', 's2': 'Syria'}}, 'homeland': {'Britain': {'s0': 'Glasgow', 's1': 'London'}, 'France': {'s0': 'Paris', 's1': 'Lorraine', 's2': 'Gascony', 's3': 'Marseille'}}, 'territory': {'s0': 'Ottawa', 's1': 'Dakar', 's2': 'Morocco', 's3': 'Algiers', 's4': 'Tunisia', 's5': 'Sfax', 's6': 'Gibraltar', 's7': 'Glasgow', 's8': 'London', 's9': 'Paris', 's10': 'Lorraine', 's11': 'Gascony', 's12': 'Marseille', 's13': 'Malta', 's14': 'Egypt', 's15': 'Suez', 's16': 'Sudan', 's17': 'Jordan', 's18': 'Iraq', 's19': 'Damascus', 's20': 'Bombay', 's21': 'Karachi', 's22': 'Delhi'}, 'tracks': {'POP': '17', 'RES': '17', 'IND': '6'}, 'units': {'246': {'nationality': 'Britain', 'tile': 'London', 'type': 'Fleet', 'cv': '4', 'obj_type': 'unit', 'visible': {'s0': 'West'}}, '247': {'nationality': 'Britain', 'tile': 'Gibraltar', 'type': 'Fortress', 'cv': '1', 'obj_type': 'unit', 'visible': {'s0': 'West'}}, '248': {'nationality': 'Britain', 'tile': 'Karachi', 'type': 'Fortress', 'cv': '1', 'obj_type': 'unit', 'visible': {'s0': 'West'}}, '249': {'nationality': 'France', 'tile': 'Lorraine', 'type': 'Fortress', 'cv': '3', 'obj_type': 'unit', 'visible': {'s0': 'West'}}, '15124': {'nationality': 'France', 'tile': 'Paris', 'type': 'Carrier', 'obj_type': 'unit', 'cv': '1', 'visible': {'s0': 'West'}}, '15585': {'nationality': 'France', 'tile': 'Paris', 'type': 'Fleet', 'obj_type': 'unit', 'cv': '2', 'visible': {'s0': 'West'}}, '16048': {'nationality': 'Britain', 'tile': 'Glasgow', 'type': 'Infantry', 'obj_type': 'unit', 'cv': '1', 'visible': {'s0': 'West'}}, '16513': {'nationality': 'Britain', 'tile': 'Delhi', 'type': 'Fleet', 'obj_type': 'unit', 'cv': '1', 'visible': {'s0': 'West'}}, '16980': {'nationality': 'Britain', 'tile': 'Suez', 'type': 'Carrier', 'obj_type': 'unit', 'cv': '2', 'visible': {'s0': 'West'}}, '17449': {'nationality': 'Britain', 'tile': 'Delhi', 'type': 'Fleet', 'obj_type': 'unit', 'cv': '1', 'visible': {'s0': 'West'}}, '17920': {'nationality': 'Britain', 'tile': 'Bombay', 'type': 'Submarine', 'obj_type': 'unit', 'cv': '1', 'visible': {'s0': 'West'}}, '18393': {'nationality': 'France', 'tile': 'Marseille', 'type': 'Tank', 'obj_type': 'unit', 'cv': '1', 'visible': {'s0': 'West'}}, '18868': {'nationality': 'France', 'tile': 'Algiers', 'type': 'Submarine', 'obj_type': 'unit', 'cv': '1', 'visible': {'s0': 'West'}}, '19345': {'nationality': 'Britain', 'tile': 'London', 'type': 'Carrier', 'obj_type': 'unit', 'cv': '1', 'visible': {'s0': 'West'}}, '19824': {'nationality': 'Britain', 'tile': 'London', 'type': 'Submarine', 'obj_type': 'unit', 'cv': '1', 'visible': {'s0': 'West'}}, '20305': {'nationality': 'Britain', 'tile': 'London', 'type': 'Fleet', 'obj_type': 'unit', 'cv': '2', 'visible': {'s0': 'West'}}, '31624': {'nationality': 'Britain', 'tile': 'Glasgow', 'type': 'Infantry', 'obj_type': 'unit', 'cv': '1', 'visible': {'s0': 'West'}}, '32133': {'nationality': 'France', 'tile': 'Paris', 'type': 'AirForce', 'obj_type': 'unit', 'cv': '1', 'visible': {'s0': 'West'}}, '33664': {'nationality': 'Britain', 'tile': 'Malta', 'type': 'Fortress', 'obj_type': 'unit', 'cv': '1', 'visible': {'s0': 'West'}}, '34177': {'nationality': 'France', 'tile': 'Lorraine', 'type': 'AirForce', 'obj_type': 'unit', 'cv': '1', 'visible': {'s0': 'West'}}}, 'hand': {}, 'technologies': {}, 'secret_vault': {}, 'influence': {'s0': '58631', 's1': '58635', 's2': '58637'}, 'diplomacy': {'associates': {'s0': 'Denmark', 's1': 'USA'}, 'protectorates': {'s0': 'Poland'}, 'satellites': {}, 'violations': {}}}}, 'diplomacy': {'minors': {'Latin_America': {'faction': 'None', 'value': '0'}, 'Portugal': {'faction': 'Axis', 'value': '1'}, 'Spain': {'faction': 'None', 'value': '0'}, 'Ireland': {'faction': 'None', 'value': '0'}, 'Denmark': {'faction': 'West', 'value': '1'}, 'Low_Countries': {'faction': 'None', 'value': '0'}, 'Austria': {'faction': 'None', 'value': '0'}, 'Norway': {'faction': 'None', 'value': '0'}, 'Sweden': {'faction': 'Axis', 'value': '1'}, 'Finland': {'faction': 'None', 'value': '0'}, 'Baltic_States': {'faction': 'Axis', 'value': '1'}, 'Poland': {'faction': 'West', 'value': '2'}, 'Czechoslovakia': {'faction': 'None', 'value': '0'}, 'Hungary': {'faction': 'Axis', 'value': '2'}, 'Yugoslavia': {'faction': 'Axis', 'value': '1'}, 'Albania': {'faction': 'None', 'value': '0'}, 'Greece': {'faction': 'None', 'value': '0'}, 'Rumania': {'faction': 'USSR', 'value': '1'}, 'Bulgaria': {'faction': 'Axis', 'value': '2'}, 'Afghanistan': {'faction': 'USSR', 'value': '1'}, 'Persia': {'faction': 'USSR', 'value': '1'}, 'Turkey': {'faction': 'None', 'value': '0'}}, 'majors': {'USA': {'faction': 'West', 'value': '1'}}, 'neutrals': {'Latin_America': {'faction': 'None', 'value': '0'}, 'Portugal': {'faction': 'Axis', 'value': '1'}, 'Spain': {'faction': 'None', 'value': '0'}, 'Ireland': {'faction': 'None', 'value': '0'}, 'Denmark': {'faction': 'West', 'value': '1'}, 'Low_Countries': {'faction': 'None', 'value': '0'}, 'Austria': {'faction': 'None', 'value': '0'}, 'Norway': {'faction': 'None', 'value': '0'}, 'Sweden': {'faction': 'Axis', 'value': '1'}, 'Finland': {'faction': 'None', 'value': '0'}, 'Baltic_States': {'faction': 'Axis', 'value': '1'}, 'Poland': {'faction': 'West', 'value': '2'}, 'Czechoslovakia': {'faction': 'None', 'value': '0'}, 'Hungary': {'faction': 'Axis', 'value': '2'}, 'Yugoslavia': {'faction': 'Axis', 'value': '1'}, 'Albania': {'faction': 'None', 'value': '0'}, 'Greece': {'faction': 'None', 'value': '0'}, 'Rumania': {'faction': 'USSR', 'value': '1'}, 'Bulgaria': {'faction': 'Axis', 'value': '2'}, 'Afghanistan': {'faction': 'USSR', 'value': '1'}, 'Persia': {'faction': 'USSR', 'value': '1'}, 'Turkey': {'faction': 'None', 'value': '0'}, 'USA': {'faction': 'West', 'value': '1'}}, 'influence': {'Hungary': {'value': '2', 'nation': 'Hungary', 'faction': 'Axis', 'obj_type': 'influence', 'visible': {'s0': 'Axis', 's1': 'USSR', 's2': 'West'}}, 'Bulgaria': {'value': '2', 'nation': 'Bulgaria', 'faction': 'Axis', 'obj_type': 'influence', 'visible': {'s0': 'Axis', 's1': 'USSR', 's2': 'West'}}, 'Portugal': {'value': '1', 'nation': 'Portugal', 'faction': 'Axis', 'obj_type': 'influence', 'visible': {'s0': 'Axis', 's1': 'USSR', 's2': 'West'}}, 'Persia': {'value': '1', 'nation': 'Persia', 'faction': 'USSR', 'obj_type': 'influence', 'visible': {'s0': 'Axis', 's1': 'USSR', 's2': 'West'}}, 'Poland': {'value': '2', 'nation': 'Poland', 'faction': 'West', 'obj_type': 'influence', 'visible': {'s0': 'Axis', 's1': 'USSR', 's2': 'West'}}, 'Rumania': {'value': '1', 'nation': 'Rumania', 'faction': 'USSR', 'obj_type': 'influence', 'visible': {'s0': 'Axis', 's1': 'USSR', 's2': 'West'}}, 'Afghanistan': {'value': '1', 'nation': 'Afghanistan', 'faction': 'USSR', 'obj_type': 'influence', 'visible': {'s0': 'Axis', 's1': 'USSR', 's2': 'West'}}, 'Sweden': {'value': '1', 'nation': 'Sweden', 'faction': 'Axis', 'obj_type': 'influence', 'visible': {'s0': 'Axis', 's1': 'USSR', 's2': 'West'}}, 'USA': {'value': '1', 'nation': 'USA', 'faction': 'West', 'obj_type': 'influence', 'visible': {'s0': 'Axis', 's1': 'USSR', 's2': 'West'}}, 'Yugoslavia': {'value': '1', 'nation': 'Yugoslavia', 'faction': 'Axis', 'obj_type': 'influence', 'visible': {'s0': 'Axis', 's1': 'USSR', 's2': 'West'}}, 'Denmark': {'value': '1', 'nation': 'Denmark', 'faction': 'West', 'obj_type': 'influence', 'visible': {'s0': 'Axis', 's1': 'USSR', 's2': 'West'}}, 'Baltic_States': {'value': '1', 'nation': 'Baltic_States', 'faction': 'Axis', 'obj_type': 'influence', 'visible': {'s0': 'Axis', 's1': 'USSR', 's2': 'West'}}}}, 'cards': {'action': {'deck': {'l0': 'action_2', 'l1': 'action_31', 'l2': 'action_41', 'l3': 'action_50', 'l4': 'action_4', 'l5': 'action_36', 'l6': 'action_46', 'l7': 'action_16', 'l8': 'action_54', 'l9': 'action_28', 'l10': 'action_37', 'l11': 'action_29', 'l12': 'action_9', 'l13': 'action_34', 'l14': 'action_21', 'l15': 'action_38', 'l16': 'action_8', 'l17': 'action_6', 'l18': 'action_49', 'l19': 'action_33', 'l20': 'action_43', 'l21': 'action_35', 'l22': 'action_42', 'l23': 'action_45', 'l24': 'action_25', 'l25': 'action_12'}, 'discard_pile': {'l0': 'action_17', 'l1': 'action_15', 'l2': 'action_20', 'l3': 'action_24', 'l4': 'action_48', 'l5': 'action_44', 'l6': 'action_14', 'l7': 'action_55', 'l8': 'action_19', 'l9': 'action_40', 'l10': 'action_39', 'l11': 'action_3', 'l12': 'action_11', 'l13': 'action_18', 'l14': 'action_52', 'l15': 'action_13', 'l16': 'action_7', 'l17': 'action_30', 'l18': 'action_32', 'l19': 'action_47', 'l20': 'action_27', 'l21': 'action_26', 'l22': 'action_1', 'l23': 'action_10', 'l24': 'action_53', 'l25': 'action_22', 'l26': 'action_51', 'l27': 'action_5'}}, 'investment': {'deck': {'l0': 'invest_30', 'l1': 'invest_8', 'l2': 'invest_5', 'l3': 'invest_44', 'l4': 'invest_20', 'l5': 'invest_21', 'l6': 'invest_18', 'l7': 'invest_6', 'l8': 'invest_11', 'l9': 'invest_12', 'l10': 'invest_45', 'l11': 'invest_52', 'l12': 'invest_7', 'l13': 'invest_2', 'l14': 'invest_40', 'l15': 'invest_34', 'l16': 'invest_13', 'l17': 'invest_51', 'l18': 'invest_24', 'l19': 'invest_22', 'l20': 'invest_32', 'l21': 'invest_15', 'l22': 'invest_33', 'l23': 'invest_36', 'l24': 'invest_26', 'l25': 'invest_14', 'l26': 'invest_31', 'l27': 'invest_42', 'l28': 'invest_49', 'l29': 'invest_27', 'l30': 'invest_35', 'l31': 'invest_10', 'l32': 'invest_1', 'l33': 'invest_53', 'l34': 'invest_54', 'l35': 'invest_46', 'l36': 'invest_55', 'l37': 'invest_9', 'l38': 'invest_41', 'l39': 'invest_50', 'l40': 'invest_17', 'l41': 'invest_38', 'l42': 'invest_25', 'l43': 'invest_29', 'l44': 'invest_19', 'l45': 'invest_3', 'l46': 'invest_28', 'l47': 'invest_37', 'l48': 'invest_43', 'l49': 'invest_39', 'l50': 'invest_23', 'l51': 'invest_48', 'l52': 'invest_47', 'l53': 'invest_4', 'l54': 'invest_16'}, 'discard_pile': {}}, 'info': {'action': {'Ties_that_Bind': {'message': 'Add_1_Friendly_(or_remove_1_Rival)_Influence_marker_from_one_of_the_Neutral_nations_listed_after_your_Faction.', 'add': '1', 'remove': '1', 'from_self': '1', 'options': {'Axis': {'l0': 'Austria', 'l1': 'Hungary', 'l2': 'Bulgaria'}, 'West': {'l0': 'USA', 'l1': 'Low_Countries', 'l2': 'Czechoslovakia'}, 'USSR': {'l0': 'Spain', 'l1': 'Yugoslavia'}}}, 'Ethnic_Ties': {'message': 'Add_1_Friendly_(or_remove_1_Rival)_Influence_marker_to_one_of_the_Neutral_Nations_listed_after_your_Faction.', 'add': '1', 'remove': '1', 'from_self': '1', 'options': {'Axis': {'l0': 'Austria', 'l1': 'Sweden', 'l2': 'Norway'}, 'West': {'l0': 'USA', 'l1': 'Norway', 'l2': 'Low_Countries', 'l3': 'Rumania'}, 'USSR': {'l0': 'Yugoslavia', 'l1': 'Poland', 'l2': 'Bulgaria'}}}, 'Birds_of_a_Feather_1': {'message': 'Add_1_Friendly_(or_remove_1_Rival)_Influence_marker_in_one_of_the_Neutral_Nations_listed_after_your_Faction.', 'add': '1', 'remove': '1', 'from_self': '1', 'options': {'Axis': {'l0': 'Poland', 'l1': 'Spain', 'l2': 'Bulgaria', 'l3': 'Baltic_States'}, 'West': {'l0': 'USA', 'l1': 'Low_Countries', 'l2': 'Denmark', 'l3': 'Czechoslovakia'}, 'USSR': {'l0': 'Spain'}}}, 'Foreign_Aid': {'message': 'Reduce_Friendly_IND_by_1_to_add_1_Friendly_(or_remove_1_Rival)_Influence_marker_in_any_Neutral_Nation', 'add': '1', 'remove': '1'}, 'Brothers_in_Arms': {'message': 'Add_1_Friendly_(or_remove_1_Rival)_Influence_marker_to_one_of_the_Neutral_Nations_listed_after_your_Faction.', 'add': '1', 'remove': '1', 'from_self': '1', 'options': {'Axis': {'l0': 'Austria', 'l1': 'Hungary', 'l2': 'Bulgaria'}, 'West': {'l0': 'USA', 'l1': 'Low_Countries', 'l2': 'Rumania'}, 'USSR': {'l0': 'Spain', 'l1': 'Czechoslovakia'}}}, 'Birds_of_a_Feather_2': {'message': 'Add_1_Friendly_(or_remove_1_Rival)_Influence_marker_in_one_of_the_Neutral_Nations_listed_after_your_Faction.', 'add': '1', 'remove': '1', 'from_self': '1', 'options': {'Axis': {'l0': 'Portugal', 'l1': 'Spain', 'l2': 'Yugoslavia', 'l3': 'Latin_America'}, 'West': {'l0': 'USA', 'l1': 'Norway', 'l2': 'Denmark', 'l3': 'Sweden'}, 'USSR': {'l0': 'Spain'}}}, 'Isolationism': {'message': 'Remove_1_Rival_Influence_marker_from_the_USA,_Spain,_Low_Countries,_Poland,_Sweden,_or_Turkey', 'remove': '1', 'options': {'l0': 'USA', 'l1': 'Spain', 'l2': 'Low_Countries', 'l3': 'Poland', 'l4': 'Sweden', 'l5': 'Turkey'}}, 'Fear_&_Loathing': {'message': 'Remove_a_Rival_Influence_marker_from_one_of_the_Neutral_Nations_listed_after_that_Rival.', 'remove': '1', 'from_self': '0', 'options': {'Axis': {'l0': 'Low_Countries', 'l1': 'Czechoslovakia', 'l2': 'Poland', 'l3': 'Yugoslavia', 'l4': 'Norway', 'l5': 'Rumania', 'l6': 'USA'}, 'West': {'l0': 'Austria', 'l1': 'Hungary', 'l2': 'Bulgaria', 'l3': 'Latin_America', 'l4': 'Turkey', 'l5': 'Persia'}, 'USSR': {'l0': 'Poland', 'l1': 'Rumania', 'l2': 'Turkey', 'l3': 'Finland', 'l4': 'Sweden', 'l5': 'Baltic_States', 'l6': 'USA'}}}, 'Guarantee': {'message': 'Add_1_Friendly_(or_remove_1_Rival)_Influence_marker_in_any_Neutral_Nation_adjacent_to_Rival-controlled_Territory.', 'add': '1', 'remove': '1', 'adjacent': '1', 'from_self': '0'}, 'Versailles': {'message': 'Add_1_Friendly_(or_remove_1_Rival)_Influence_marker_from_one_of_the_Neural_Nations_listed_after_your_Faction.', 'add': '1', 'remove': '1', 'from_self': '1', 'options': {'Axis': {'l0': 'Austria', 'l1': 'Hungary', 'l2': 'Turkey'}, 'West': {'l0': 'Poland', 'l1': 'Czechoslovakia', 'l2': 'Yugoslavia'}, 'USSR': {'l0': 'Yugoslavia'}}}, 'Intimidation': {'message': 'Add_1_Friendly_(or_remove_1_Rival)_Influence_marker_in_any_Neutral_Nation_adjacent_to_Friendly-controlled_Territory.', 'add': '1', 'remove': '1', 'adjacent': '1', 'from_self': '1'}}, 'investment': {'technologies': {'Atomic_Research_4': 'Implosion_trigger_-_wins_game*', 'Atomic_Research_3': 'Plutonium_-_allows_step_4', 'Atomic_Research_2': 'Breeder_Reactor_-_allows_step_3', 'Atomic_Research_1': 'Atomic_Pile_-_allows_step_2', 'Jets': 'AFs_FirstFire', 'Rocket_Artillery': 'Infantry_FirstFire', 'LSTs': '2_invaders_per_border', 'Heavy_Bombers': 'AFs_move_3', 'Motorized_Infantry': 'Infantry_moves_3', 'Heavy_Tanks': 'Tanks_FirstFire', 'Precision_Bombsight': 'AF_can_bomb_IND', 'Air_Defense_Radar': 'AFs_2A3_in_friendly_territory', 'Naval_Radar': 'Fleets_FirstFire', 'Sonar': 'Fleet_S3', 'Industrial_Espionage': 'pair_with_revealed_tech_to_achieve_tech'}, 'intelligence': {'Spy_Ring': 'Blindly_steal_one_card_from_a_Rival', 'Code_Break': 'Inspect_rival_hand', 'Agent': 'Inspect_rival_units_on_one_tile', 'Sabotage': 'Reduce_rival_industry_by_1', 'Coup': 'Remove_all_rival_influence_from_1_neutral_minor', 'Double_Agent': 'Reverse_Intel_card_effect', 'Mole': 'Inspect_secret_vault,_and_steal_tech_(achieve_a_tech_in_the_vault_by_pairing_with_one_of_your_cards)'}}}}, 'units': {'rules': {'Fortress': {'priority': '1', 'type': 'G', 'move': '0', 'A': '2', 'N': '3', 'G': '4', 'S': '3'}, 'AirForce': {'rebase': '1', 'priority': '2', 'type': 'A', 'move': '2', 'A': '3', 'N': '1', 'G': '1', 'S': '1'}, 'Carrier': {'rebase': '1', 'doubleHit': '1', 'priority': '3', 'type': 'N', 'move': '3', 'A': '2', 'N': '2', 'G': '1', 'S': '2'}, 'Submarine': {'rebase': '1', 'priority': '4', 'type': 'S', 'move': '2', 'A': '0', 'N': '1', 'G': '0', 'S': '1'}, 'Fleet': {'rebase': '1', 'priority': '5', 'type': 'N', 'move': '3', 'A': '1', 'N': '3', 'G': '1', 'S': '2'}, 'Tank': {'priority': '6', 'type': 'G', 'move': '3', 'A': '0', 'N': '0', 'G': '2', 'S': '0'}, 'Infantry': {'priority': '7', 'type': 'G', 'move': '2', 'A': '1', 'N': '1', 'G': '3', 'S': '0'}, 'Convoy': {'not_placeable': '1', 'priority': '8', 'doubleHit': '1', 'type': 'N', 'move': '2', 'A': '0', 'N': '0', 'G': '0', 'S': '0'}}, 'placeable': {'s0': 'Fortress', 's1': 'AirForce', 's2': 'Carrier', 's3': 'Submarine', 's4': 'Fleet', 's5': 'Tank', 's6': 'Infantry'}, 'priorities': {'l0': 'Fortress', 'l1': 'AirForce', 'l2': 'Carrier', 'l3': 'Submarine', 'l4': 'Fleet', 'l5': 'Tank', 'l6': 'Infantry', 'l7': 'Convoy'}, 'reserves': {'Germany': {'Infantry': '12', 'Fortress': '5', 'Tank': '4', 'AirForce': '6', 'Fleet': '4', 'Carrier': '0', 'Submarine': '7'}, 'Italy': {'Infantry': '5', 'Fortress': '2', 'Tank': '1', 'AirForce': '2', 'Fleet': '1', 'Carrier': '0', 'Submarine': '0'}, 'USSR': {'Infantry': '12', 'Fortress': '3', 'Tank': '3', 'AirForce': '4', 'Fleet': '3', 'Carrier': '0', 'Submarine': '0'}, 'Britain': {'Infantry': '4', 'Fortress': '3', 'Tank': '3', 'AirForce': '4', 'Fleet': '2', 'Carrier': '0', 'Submarine': '1'}, 'France': {'Infantry': '6', 'Fortress': '2', 'Tank': '1', 'AirForce': '1', 'Fleet': '3', 'Carrier': '0', 'Submarine': '0'}, 'USA': {'Infantry': '4', 'Fortress': '2', 'Tank': '4', 'AirForce': '4', 'Fleet': '4', 'Carrier': '1', 'Submarine': '1'}}}, 'logger': '<util.Logger object at 0x7f72922f5d68>', 'temp': {'season': 'Spring', 'active_idx': '0', 'active_players': {'l0': 'USSR', 'l1': 'West'}, 'decision': {'Axis': {'top': 'Czechoslovakia', 'bottom': 'Austria', 'season': 'Spring', 'priority': 'E', 'value': '5', 'obj_type': 'action_card', 'visible': {}}}, 'passes': '2', 'borders': {'Axis': {}, 'USSR': {}, 'West': {}}, 'commands': {'Axis': {'priority': 'E', 'moved': {}, 'value': '5'}}, 'order': {'l0': 'Axis'}}, 'random': '<random.Random object at 0x7fffda016738>'}))\n",
       "\t\t});\n",
       "\t\t"
      ]
     },
     "metadata": {},
     "output_type": "display_data"
    }
   ],
   "source": [
    "G = get_G()\n",
    "render_dict(G)"
   ]
  },
  {
   "cell_type": "code",
   "execution_count": null,
   "metadata": {},
   "outputs": [],
   "source": []
  },
  {
   "cell_type": "code",
   "execution_count": 6,
   "metadata": {},
   "outputs": [],
   "source": [
    "action = ('pass',)\n",
    "player = 'Axis'"
   ]
  },
  {
   "cell_type": "code",
   "execution_count": 23,
   "metadata": {
    "scrolled": true
   },
   "outputs": [
    {
     "name": "stdout",
     "output_type": "stream",
     "text": [
      "Axis LOG\n",
      "Axis has threatened to violate the neutrality of Yugoslavia\n",
      "\n",
      "created: \n",
      "updated: \n",
      "removed: \n"
     ]
    }
   ],
   "source": [
    "out = format_msg_to_python(get_status(player))\n",
    "if 'log' in out:\n",
    "    print('{} LOG'.format(player))\n",
    "    print(out.log)\n",
    "if 'error' in out:\n",
    "    print(out.error)\n",
    "print('created: {}'.format(', '.join(map(str, out.created))))\n",
    "print('updated: {}'.format(', '.join(map(str, out.updated))))\n",
    "print('removed: {}'.format(', '.join(map(str, out.removed))))"
   ]
  },
  {
   "cell_type": "code",
   "execution_count": 24,
   "metadata": {},
   "outputs": [
    {
     "name": "stdout",
     "output_type": "stream",
     "text": [
      "640     Konigsberg    Tank          \n",
      "1033    Rome          Carrier       \n",
      "1428    Konigsberg    Carrier       \n",
      "1825    Tripoli       Fleet         \n",
      "2224    Rome          AirForce      \n",
      "2625    Tripoli       Infantry      \n",
      "3028    Ruhr          Submarine     \n",
      "3433    Berlin        Fortress      \n",
      "3840    Milan         Submarine     \n",
      "4249    Munich        Fortress      \n",
      "4660    Rome          Submarine     \n",
      "5073    Ruhr          Fleet         \n",
      "5488    Berlin        AirForce      \n",
      "5905    Ruhr          Infantry      \n",
      "6324    Rome          Tank          \n",
      "6745    Milan         Fleet         \n",
      "7168    Berlin        Tank          \n",
      "7593    Berlin        Carrier       \n",
      "8020    Ruhr          Infantry      \n",
      "8449    Munich        AirForce      \n",
      "8880    Berlin        Tank          \n",
      "9313    Berlin        Fleet         \n",
      "21752   Munich        Tank          \n",
      "22721   Sardinia      Fleet         \n",
      "24180   Ruhr          Fortress      \n",
      "25645   Berlin        Infantry      \n",
      "26136   Konigsberg    Infantry      \n"
     ]
    }
   ],
   "source": [
    "for uid, unit in G.players[player].units.items():\n",
    "    print('{:<8}{:<14}{:<14}'.format(uid, unit.tile, unit.type))"
   ]
  },
  {
   "cell_type": "code",
   "execution_count": 25,
   "metadata": {
    "scrolled": true
   },
   "outputs": [
    {
     "name": "stdout",
     "output_type": "stream",
     "text": [
      "ACTIONS: 385\n",
      "0 ('pass',)\n",
      "1 ('USSR',)\n",
      "2 ('West',)\n",
      "3 ('USA',)\n",
      "4 ('Latin_America',)\n",
      "5 ('Portugal',)\n",
      "6 ('Spain',)\n",
      "7 ('Ireland',)\n",
      "8 ('Denmark',)\n",
      "9 ('Low_Countries',)\n",
      "10 ('Austria',)\n",
      "11 ('Norway',)\n",
      "12 ('Sweden',)\n",
      "13 ('Finland',)\n",
      "14 ('Baltic_States',)\n",
      "15 ('Poland',)\n",
      "16 ('Czechoslovakia',)\n",
      "17 ('Hungary',)\n",
      "18 ('Yugoslavia',)\n",
      "19 ('Albania',)\n",
      "20 ('Greece',)\n",
      "21 ('Rumania',)\n",
      "22 ('Bulgaria',)\n",
      "23 ('Afghanistan',)\n",
      "24 ('Persia',)\n",
      "25 ('Turkey',)\n",
      "26 (640, 'Riga', 'Konigsberg')\n",
      "27 (640, 'Riga', 'Gulf_of_Bothnia')\n",
      "28 (640, 'Riga', 'Baltic_Sea')\n",
      "29 (640, 'Baltic_Sea')\n",
      "30 (640, 'Gulf_of_Bothnia')\n",
      "31 (640, 'Copenhagen', 'Baltic_Sea')\n",
      "32 (640, 'Berlin')\n",
      "33 (640, 'Ruhr')\n",
      "34 (1033, 'Sicily')\n",
      "35 (1033, 'Tyrrhenian_Sea')\n",
      "36 (1033, 'Central_Mediterranean')\n",
      "37 (1033, 'Western_Mediterranean')\n",
      "38 (1033, 'Sardinia')\n",
      "39 (1033, 'Milan')\n",
      "40 (1033, 'Taranto')\n",
      "41 (1033, 'Adriatic_Sea')\n",
      "42 (1033, 'Tripoli')\n",
      "43 (1033, 'Cyrenaica')\n",
      "44 (1033, 'Eastern_Mediterranean')\n",
      "45 (1033, 'Aegean_Sea')\n",
      "46 (1033, 'Crete')\n",
      "47 (1033, 'Madeira_Sea')\n",
      "48 (1033, 'Venice')\n",
      "49 (1033, 'Croatia')\n",
      "50 (1033, 'Red_Sea')\n",
      "51 (1033, 'Western_Black_Sea')\n",
      "52 (1033, 'Bay_of_Biscay')\n",
      "53 (1033, 'Gulf_of_Aden')\n",
      "54 (1033, 'Eastern_Black_Sea')\n",
      "55 (1033, 'Mid_Atlantic_Ocean')\n",
      "56 (1033, 'Irish_Sea')\n",
      "57 (1033, 'English_Channel')\n",
      "58 (1428, 'Riga')\n",
      "59 (1428, 'Baltic_Sea')\n",
      "60 (1428, 'Gulf_of_Bothnia')\n",
      "61 (1428, 'Copenhagen')\n",
      "62 (1428, 'Berlin')\n",
      "63 (1428, 'Ruhr')\n",
      "64 (1825, 'Central_Mediterranean')\n",
      "65 (1825, 'Tyrrhenian_Sea')\n",
      "66 (1825, 'Sicily')\n",
      "67 (1825, 'Rome')\n",
      "68 (1825, 'Taranto')\n",
      "69 (1825, 'Adriatic_Sea')\n",
      "70 (1825, 'Venice')\n",
      "71 (1825, 'Croatia')\n",
      "72 (1825, 'Cyrenaica')\n",
      "73 (1825, 'Eastern_Mediterranean')\n",
      "74 (1825, 'Aegean_Sea')\n",
      "75 (1825, 'Crete')\n",
      "76 (1825, 'Western_Mediterranean')\n",
      "77 (1825, 'Madeira_Sea')\n",
      "78 (1825, 'Sardinia')\n",
      "79 (1825, 'Milan')\n",
      "80 (1825, 'Red_Sea')\n",
      "81 (1825, 'Western_Black_Sea')\n",
      "82 (1825, 'Eastern_Black_Sea')\n",
      "83 (1825, 'Gulf_of_Aden')\n",
      "84 (1825, 'Arabian_Sea')\n",
      "85 (1825, 'West_Indian_Ocean')\n",
      "86 (1825, 'Sea_of_Azov')\n",
      "87 (2224, 'Sicily')\n",
      "88 (2224, 'Tyrrhenian_Sea')\n",
      "89 (2224, 'Central_Mediterranean')\n",
      "90 (2224, 'Taranto')\n",
      "91 (2224, 'Western_Mediterranean')\n",
      "92 (2224, 'Sardinia')\n",
      "93 (2224, 'Milan')\n",
      "94 (2224, 'Venice')\n",
      "95 (2224, 'Adriatic_Sea')\n",
      "96 (2224, 'Croatia')\n",
      "97 (2224, 'Tripoli')\n",
      "98 (2224, 'Cyrenaica')\n",
      "99 (2224, 'Eastern_Mediterranean')\n",
      "100 (2224, 'Aegean_Sea')\n",
      "101 (2224, 'Crete')\n",
      "102 (2224, 'Madeira_Sea')\n",
      "103 (2625, 'Central_Mediterranean')\n",
      "104 (2625, 'Sicily')\n",
      "105 (2625, 'Taranto')\n",
      "106 (2625, 'Adriatic_Sea')\n",
      "107 (2625, 'Cyrenaica')\n",
      "108 (2625, 'Eastern_Mediterranean')\n",
      "109 (2625, 'Aegean_Sea')\n",
      "110 (2625, 'Crete')\n",
      "111 (2625, 'Tyrrhenian_Sea')\n",
      "112 (2625, 'Western_Mediterranean')\n",
      "113 (2625, 'Sardinia')\n",
      "114 (2625, 'Rome')\n",
      "115 (2625, 'Milan')\n",
      "116 (2625, 'Venice')\n",
      "117 (2625, 'Croatia')\n",
      "118 (2625, 'Red_Sea')\n",
      "119 (2625, 'Western_Black_Sea')\n",
      "120 (3028, 'Copenhagen')\n",
      "121 (3028, 'Baltic_Sea')\n",
      "122 (3028, 'North_Sea')\n",
      "123 (3028, 'Gulf_of_Bothnia')\n",
      "124 (3028, 'Riga')\n",
      "125 (3028, 'Konigsberg')\n",
      "126 (3028, 'Berlin')\n",
      "127 (3028, 'Norwegian_Sea')\n",
      "128 (3028, 'English_Channel')\n",
      "129 (3028, 'Greenland_Sea')\n",
      "130 (3028, 'Irish_Sea')\n",
      "131 (3028, 'Nordkapp_Sea')\n",
      "132 (3028, 'Iceland')\n",
      "133 (3028, 'Bay_of_Biscay')\n",
      "134 (3028, 'Irminger_Sea')\n",
      "135 (3028, 'Barents_Sea')\n",
      "136 (3028, 'Madeira_Sea')\n",
      "137 (3840, 'Tyrrhenian_Sea')\n",
      "138 (3840, 'Western_Mediterranean')\n",
      "139 (3840, 'Sardinia')\n",
      "140 (3840, 'Sicily')\n",
      "141 (3840, 'Rome')\n",
      "142 (3840, 'Madeira_Sea')\n",
      "143 (3840, 'Central_Mediterranean')\n",
      "144 (3840, 'Taranto')\n",
      "145 (3840, 'Adriatic_Sea')\n",
      "146 (3840, 'Tripoli')\n",
      "147 (3840, 'Cyrenaica')\n",
      "148 (3840, 'Eastern_Mediterranean')\n",
      "149 (3840, 'Aegean_Sea')\n",
      "150 (3840, 'Crete')\n",
      "151 (3840, 'Bay_of_Biscay')\n",
      "152 (4660, 'Sicily')\n",
      "153 (4660, 'Tyrrhenian_Sea')\n",
      "154 (4660, 'Central_Mediterranean')\n",
      "155 (4660, 'Taranto')\n",
      "156 (4660, 'Western_Mediterranean')\n",
      "157 (4660, 'Sardinia')\n",
      "158 (4660, 'Milan')\n",
      "159 (4660, 'Adriatic_Sea')\n",
      "160 (4660, 'Tripoli')\n",
      "161 (4660, 'Cyrenaica')\n",
      "162 (4660, 'Eastern_Mediterranean')\n",
      "163 (4660, 'Aegean_Sea')\n",
      "164 (4660, 'Crete')\n",
      "165 (4660, 'Venice')\n",
      "166 (4660, 'Croatia')\n",
      "167 (4660, 'Madeira_Sea')\n",
      "168 (5073, 'Copenhagen')\n",
      "169 (5073, 'Baltic_Sea')\n",
      "170 (5073, 'Gulf_of_Bothnia')\n",
      "171 (5073, 'Riga')\n",
      "172 (5073, 'Konigsberg')\n",
      "173 (5073, 'Berlin')\n",
      "174 (5073, 'North_Sea')\n",
      "175 (5073, 'Norwegian_Sea')\n",
      "176 (5073, 'Greenland_Sea')\n",
      "177 (5073, 'Irish_Sea')\n",
      "178 (5073, 'Nordkapp_Sea')\n",
      "179 (5073, 'Iceland')\n",
      "180 (5073, 'English_Channel')\n",
      "181 (5073, 'Bay_of_Biscay')\n",
      "182 (5073, 'Irminger_Sea')\n",
      "183 (5073, 'North_Atlantic_Ocean')\n",
      "184 (5073, 'Barents_Sea')\n",
      "185 (5073, 'White_Sea')\n",
      "186 (5073, 'Madeira_Sea')\n",
      "187 (5073, 'Mid_Atlantic_Ocean')\n",
      "188 (5073, 'Western_Mediterranean')\n",
      "189 (5488, 'Baltic_Sea')\n",
      "190 (5488, 'Gulf_of_Bothnia')\n",
      "191 (5488, 'Riga')\n",
      "192 (5488, 'Konigsberg')\n",
      "193 (5488, 'Copenhagen')\n",
      "194 (5488, 'Ruhr')\n",
      "195 (5488, 'North_Sea')\n",
      "196 (5488, 'Munich')\n",
      "197 (5488, 'Nordkapp_Sea')\n",
      "198 (5488, 'Norwegian_Sea')\n",
      "199 (5488, 'English_Channel')\n",
      "200 (5488, 'Greenland_Sea')\n",
      "201 (5488, 'Irish_Sea')\n",
      "202 (5488, 'Iceland')\n",
      "203 (5488, 'Bay_of_Biscay')\n",
      "204 (5905, 'Copenhagen', 'Ruhr')\n",
      "205 (5905, 'Copenhagen', 'Baltic_Sea')\n",
      "206 (5905, 'Copenhagen', 'North_Sea')\n",
      "207 (5905, 'Baltic_Sea')\n",
      "208 (5905, 'Gulf_of_Bothnia')\n",
      "209 (5905, 'Riga', 'Baltic_Sea')\n",
      "210 (5905, 'Konigsberg')\n",
      "211 (5905, 'Berlin')\n",
      "212 (5905, 'North_Sea')\n",
      "213 (5905, 'Norwegian_Sea')\n",
      "214 (5905, 'English_Channel')\n",
      "215 (5905, 'Munich')\n",
      "216 (5905, 'Greenland_Sea')\n",
      "217 (5905, 'Irminger_Sea')\n",
      "218 (5905, 'Nordkapp_Sea')\n",
      "219 (5905, 'Iceland')\n",
      "220 (5905, 'Irish_Sea')\n",
      "221 (5905, 'Bay_of_Biscay')\n",
      "222 (5905, 'Barents_Sea')\n",
      "223 (5905, 'Madeira_Sea')\n",
      "224 (6324, 'Sicily')\n",
      "225 (6324, 'Tyrrhenian_Sea')\n",
      "226 (6324, 'Central_Mediterranean')\n",
      "227 (6324, 'Western_Mediterranean')\n",
      "228 (6324, 'Sardinia')\n",
      "229 (6324, 'Milan')\n",
      "230 (6324, 'Taranto')\n",
      "231 (6324, 'Adriatic_Sea')\n",
      "232 (6324, 'Tripoli')\n",
      "233 (6324, 'Cyrenaica')\n",
      "234 (6324, 'Eastern_Mediterranean')\n",
      "235 (6324, 'Aegean_Sea')\n",
      "236 (6324, 'Crete')\n",
      "237 (6324, 'Venice')\n",
      "238 (6324, 'Croatia')\n",
      "239 (6324, 'Belgrade', 'Croatia')\n",
      "240 (6324, 'Madeira_Sea')\n",
      "241 (6324, 'Red_Sea')\n",
      "242 (6324, 'Western_Black_Sea')\n",
      "243 (6324, 'Bay_of_Biscay')\n",
      "244 (6324, 'Gulf_of_Aden')\n",
      "245 (6324, 'Eastern_Black_Sea')\n",
      "246 (6324, 'Mid_Atlantic_Ocean')\n",
      "247 (6324, 'Irish_Sea')\n",
      "248 (6324, 'English_Channel')\n",
      "249 (6745, 'Tyrrhenian_Sea')\n",
      "250 (6745, 'Western_Mediterranean')\n",
      "251 (6745, 'Sardinia')\n",
      "252 (6745, 'Central_Mediterranean')\n",
      "253 (6745, 'Sicily')\n",
      "254 (6745, 'Rome')\n",
      "255 (6745, 'Taranto')\n",
      "256 (6745, 'Madeira_Sea')\n",
      "257 (6745, 'Mid_Atlantic_Ocean')\n",
      "258 (6745, 'Bay_of_Biscay')\n",
      "259 (6745, 'Irish_Sea')\n",
      "260 (6745, 'English_Channel')\n",
      "261 (6745, 'Adriatic_Sea')\n",
      "262 (6745, 'Tripoli')\n",
      "263 (6745, 'Cyrenaica')\n",
      "264 (6745, 'Eastern_Mediterranean')\n",
      "265 (6745, 'Aegean_Sea')\n",
      "266 (6745, 'Crete')\n",
      "267 (6745, 'Venice')\n",
      "268 (6745, 'Croatia')\n",
      "269 (6745, 'Red_Sea')\n",
      "270 (6745, 'Western_Black_Sea')\n",
      "271 (6745, 'North_Atlantic_Ocean')\n",
      "272 (6745, 'Irminger_Sea')\n",
      "273 (6745, 'Norwegian_Sea')\n",
      "274 (6745, 'Iceland')\n",
      "275 (6745, 'North_Sea')\n",
      "276 (7168, 'Baltic_Sea')\n",
      "277 (7168, 'Gulf_of_Bothnia')\n",
      "278 (7168, 'Riga', 'Gulf_of_Bothnia')\n",
      "279 (7168, 'Riga', 'Baltic_Sea')\n",
      "280 (7168, 'Konigsberg')\n",
      "281 (7168, 'Copenhagen', 'Baltic_Sea')\n",
      "282 (7168, 'Copenhagen', 'Ruhr')\n",
      "283 (7168, 'Ruhr')\n",
      "284 (7168, 'Munich')\n",
      "285 (7593, 'Baltic_Sea')\n",
      "286 (7593, 'Gulf_of_Bothnia')\n",
      "287 (7593, 'Riga')\n",
      "288 (7593, 'Konigsberg')\n",
      "289 (7593, 'Copenhagen')\n",
      "290 (7593, 'Ruhr')\n",
      "291 (8020, 'Copenhagen', 'Ruhr')\n",
      "292 (8020, 'Copenhagen', 'Baltic_Sea')\n",
      "293 (8020, 'Copenhagen', 'North_Sea')\n",
      "294 (8020, 'Baltic_Sea')\n",
      "295 (8020, 'Gulf_of_Bothnia')\n",
      "296 (8020, 'Riga', 'Baltic_Sea')\n",
      "297 (8020, 'Konigsberg')\n",
      "298 (8020, 'Berlin')\n",
      "299 (8020, 'North_Sea')\n",
      "300 (8020, 'Norwegian_Sea')\n",
      "301 (8020, 'English_Channel')\n",
      "302 (8020, 'Munich')\n",
      "303 (8020, 'Greenland_Sea')\n",
      "304 (8020, 'Irminger_Sea')\n",
      "305 (8020, 'Nordkapp_Sea')\n",
      "306 (8020, 'Iceland')\n",
      "307 (8020, 'Irish_Sea')\n",
      "308 (8020, 'Bay_of_Biscay')\n",
      "309 (8020, 'Barents_Sea')\n",
      "310 (8020, 'Madeira_Sea')\n",
      "311 (8449, 'Berlin')\n",
      "312 (8449, 'Baltic_Sea')\n",
      "313 (8449, 'Ruhr')\n",
      "314 (8449, 'Copenhagen')\n",
      "315 (8449, 'North_Sea')\n",
      "316 (8449, 'Gulf_of_Bothnia')\n",
      "317 (8449, 'Konigsberg')\n",
      "318 (8449, 'Norwegian_Sea')\n",
      "319 (8449, 'English_Channel')\n",
      "320 (8449, 'Nordkapp_Sea')\n",
      "321 (8449, 'Greenland_Sea')\n",
      "322 (8449, 'Irish_Sea')\n",
      "323 (8449, 'Iceland')\n",
      "324 (8449, 'Bay_of_Biscay')\n",
      "325 (8880, 'Baltic_Sea')\n",
      "326 (8880, 'Gulf_of_Bothnia')\n",
      "327 (8880, 'Riga', 'Gulf_of_Bothnia')\n",
      "328 (8880, 'Riga', 'Baltic_Sea')\n",
      "329 (8880, 'Konigsberg')\n",
      "330 (8880, 'Copenhagen', 'Baltic_Sea')\n",
      "331 (8880, 'Copenhagen', 'Ruhr')\n",
      "332 (8880, 'Ruhr')\n",
      "333 (8880, 'Munich')\n",
      "334 (9313, 'Baltic_Sea')\n",
      "335 (9313, 'Gulf_of_Bothnia')\n",
      "336 (9313, 'Riga')\n",
      "337 (9313, 'Konigsberg')\n",
      "338 (9313, 'Copenhagen')\n",
      "339 (9313, 'Ruhr')\n",
      "340 (21752, 'Berlin')\n",
      "341 (21752, 'Ruhr')\n",
      "342 (21752, 'Copenhagen', 'Ruhr')\n",
      "343 (22721, 'Western_Mediterranean')\n",
      "344 (22721, 'Madeira_Sea')\n",
      "345 (22721, 'Tyrrhenian_Sea')\n",
      "346 (22721, 'Sicily')\n",
      "347 (22721, 'Rome')\n",
      "348 (22721, 'Milan')\n",
      "349 (22721, 'Central_Mediterranean')\n",
      "350 (22721, 'Taranto')\n",
      "351 (22721, 'Mid_Atlantic_Ocean')\n",
      "352 (22721, 'Bay_of_Biscay')\n",
      "353 (22721, 'North_Atlantic_Ocean')\n",
      "354 (22721, 'Irish_Sea')\n",
      "355 (22721, 'Irminger_Sea')\n",
      "356 (22721, 'Norwegian_Sea')\n",
      "357 (22721, 'English_Channel')\n",
      "358 (22721, 'Iceland')\n",
      "359 (22721, 'North_Sea')\n",
      "360 (22721, 'Adriatic_Sea')\n",
      "361 (22721, 'Venice')\n",
      "362 (22721, 'Croatia')\n",
      "363 (22721, 'Tripoli')\n",
      "364 (22721, 'Cyrenaica')\n",
      "365 (22721, 'Eastern_Mediterranean')\n",
      "366 (22721, 'Aegean_Sea')\n",
      "367 (22721, 'Crete')\n",
      "368 (22721, 'Red_Sea')\n",
      "369 (22721, 'Western_Black_Sea')\n",
      "370 (25645, 'Baltic_Sea')\n",
      "371 (25645, 'Gulf_of_Bothnia')\n",
      "372 (25645, 'Riga', 'Baltic_Sea')\n",
      "373 (25645, 'Konigsberg')\n",
      "374 (25645, 'Copenhagen', 'Baltic_Sea')\n",
      "375 (25645, 'Copenhagen', 'Ruhr')\n",
      "376 (25645, 'Ruhr')\n",
      "377 (25645, 'Munich')\n",
      "378 (26136, 'Riga', 'Konigsberg')\n",
      "379 (26136, 'Riga', 'Baltic_Sea')\n",
      "380 (26136, 'Baltic_Sea')\n",
      "381 (26136, 'Gulf_of_Bothnia')\n",
      "382 (26136, 'Copenhagen', 'Baltic_Sea')\n",
      "383 (26136, 'Berlin')\n",
      "384 (26136, 'Ruhr')\n"
     ]
    }
   ],
   "source": [
    "if 'actions' in out:\n",
    "    actions = list(util.decode_actions(out.actions))\n",
    "    print('ACTIONS: {}'.format(len(actions)))\n",
    "    for i, a in enumerate(actions):\n",
    "        print(i, a)\n",
    "if 'waiting_for' in out:\n",
    "    print('WAITING: {}'.format(out.waiting_for))\n",
    "#render_dict(out)"
   ]
  },
  {
   "cell_type": "code",
   "execution_count": 21,
   "metadata": {},
   "outputs": [
    {
     "data": {
      "text/plain": [
       "('Yugoslavia',)"
      ]
     },
     "execution_count": 21,
     "metadata": {},
     "output_type": "execute_result"
    }
   ],
   "source": [
    "action = actions[18]\n",
    "action"
   ]
  },
  {
   "cell_type": "code",
   "execution_count": 22,
   "metadata": {},
   "outputs": [],
   "source": [
    "out = format_msg_to_python(take_action(player, action))\n",
    "if 'waiting_for' in out:\n",
    "    player = out.waiting_for.pop()\n",
    "    print('SWITCHING to {}'.format(player))"
   ]
  },
  {
   "cell_type": "code",
   "execution_count": null,
   "metadata": {},
   "outputs": [],
   "source": []
  },
  {
   "cell_type": "code",
   "execution_count": null,
   "metadata": {},
   "outputs": [],
   "source": []
  },
  {
   "cell_type": "code",
   "execution_count": null,
   "metadata": {},
   "outputs": [],
   "source": []
  },
  {
   "cell_type": "code",
   "execution_count": 13,
   "metadata": {},
   "outputs": [
    {
     "data": {
      "text/plain": [
       "46"
      ]
     },
     "execution_count": 13,
     "metadata": {},
     "output_type": "execute_result"
    }
   ],
   "source": [
    "actions = util.decode_actions(out.actions)\n",
    "len(actions)"
   ]
  },
  {
   "cell_type": "code",
   "execution_count": 15,
   "metadata": {},
   "outputs": [
    {
     "data": {
      "text/plain": [
       "False"
      ]
     },
     "execution_count": 15,
     "metadata": {},
     "output_type": "execute_result"
    }
   ],
   "source": [
    "('Italy', 'Rome', 'Infantry') in actions"
   ]
  },
  {
   "cell_type": "code",
   "execution_count": null,
   "metadata": {
    "collapsed": true
   },
   "outputs": [],
   "source": []
  },
  {
   "cell_type": "code",
   "execution_count": null,
   "metadata": {
    "collapsed": true
   },
   "outputs": [],
   "source": []
  },
  {
   "cell_type": "code",
   "execution_count": 215,
   "metadata": {},
   "outputs": [
    {
     "data": {
      "text/plain": [
       "{'value':1, 'nation':'Greece', 'faction':'USSR', 'obj_type':'influence', 'visible':{'Axis', 'USSR', 'West'}}"
      ]
     },
     "execution_count": 215,
     "metadata": {},
     "output_type": "execute_result"
    }
   ],
   "source": [
    "out.created['392']"
   ]
  },
  {
   "cell_type": "code",
   "execution_count": 66,
   "metadata": {},
   "outputs": [
    {
     "data": {
      "text/plain": [
       "{'obj_type':'investment_card', 'visible':{}}"
      ]
     },
     "execution_count": 66,
     "metadata": {},
     "output_type": "execute_result"
    }
   ],
   "source": [
    "out.updated['invest_13']"
   ]
  },
  {
   "cell_type": "code",
   "execution_count": null,
   "metadata": {
    "collapsed": true
   },
   "outputs": [],
   "source": []
  },
  {
   "cell_type": "code",
   "execution_count": 186,
   "metadata": {
    "collapsed": true
   },
   "outputs": [],
   "source": [
    "#G.players[player].stats"
   ]
  },
  {
   "cell_type": "code",
   "execution_count": 67,
   "metadata": {
    "collapsed": true
   },
   "outputs": [],
   "source": [
    "player = 'West'"
   ]
  },
  {
   "cell_type": "code",
   "execution_count": 68,
   "metadata": {
    "collapsed": true
   },
   "outputs": [],
   "source": [
    "#draw_cards(G, 'investment', player, 20)"
   ]
  },
  {
   "cell_type": "code",
   "execution_count": 69,
   "metadata": {
    "scrolled": true
   },
   "outputs": [
    {
     "data": {
      "text/html": [
       "<div id=\"732d9417-6dab-4888-9b4a-635c2a15ad69\" style=\"height: 600px; width:100%;\"></div>"
      ]
     },
     "metadata": {},
     "output_type": "display_data"
    },
    {
     "data": {
      "application/javascript": [
       "\n",
       "\t\trequire([\"https://rawgit.com/caldwell/renderjson/master/renderjson.js\"], function() {\n",
       "\t\t  renderjson.set_show_to_level(1)\n",
       "\t\t  document.getElementById('732d9417-6dab-4888-9b4a-635c2a15ad69').appendChild(renderjson({'invest_33': {'intelligence': 'Sabotage', 'value': '3', 'obj_type': 'investment_card', 'visible': ['West'], 'owner': 'West'}, 'action_18': {'top': 'Hungary', 'bottom': 'Poland', 'season': 'Summer', 'priority': 'C', 'value': '6', 'obj_type': 'action_card', 'visible': ['West'], 'owner': 'West'}, 'action_48': {'wildcard': 'Isolationism', 'season': 'Fall', 'priority': 'H', 'value': '8', 'obj_type': 'action_card', 'visible': ['West'], 'owner': 'West'}, 'action_25': {'top': 'USA', 'bottom': 'Sweden', 'season': 'Summer', 'priority': 'J', 'value': '9', 'obj_type': 'action_card', 'visible': ['West'], 'owner': 'West'}, 'action_38': {'top': 'Austria', 'bottom': 'Latin_America', 'season': 'Summer', 'priority': 'X', 'value': '7', 'obj_type': 'action_card', 'visible': ['West'], 'owner': 'West'}, 'action_12': {'wildcard': 'Birds_of_a_Feather_1', 'season': 'Spring', 'priority': 'L', 'value': '5', 'obj_type': 'action_card', 'visible': ['West'], 'owner': 'West'}, 'action_7': {'top': 'Hungary', 'bottom': 'Yugoslavia', 'season': 'Spring', 'priority': 'G', 'value': '6', 'obj_type': 'action_card', 'visible': ['West'], 'owner': 'West'}, 'action_11': {'top': 'Austria', 'bottom': 'Afghanistan', 'season': 'Spring', 'priority': 'K', 'value': '5', 'obj_type': 'action_card', 'visible': ['West'], 'owner': 'West'}, 'invest_18': {'top': 'Atomic_Research_1', 'bottom': 'Precision_Bombsights', 'value': '3', 'obj_type': 'investment_card', 'visible': ['West'], 'owner': 'West'}, 'action_16': {'top': 'Czechoslovakia', 'bottom': 'Spain', 'season': 'Summer', 'priority': 'A', 'value': '6', 'obj_type': 'action_card', 'visible': ['West'], 'owner': 'West'}, 'invest_11': {'top': 'Motorized_Infantry', 'bottom': 'LSTs', 'value': '3', 'obj_type': 'investment_card', 'visible': ['West'], 'owner': 'West'}}))\n",
       "\t\t});\n",
       "\t\t"
      ]
     },
     "metadata": {},
     "output_type": "display_data"
    }
   ],
   "source": [
    "cards = tdict({ID:G.objects.table[ID] for ID in G.players[player].hand})\n",
    "render_dict(cards)"
   ]
  },
  {
   "cell_type": "code",
   "execution_count": 33,
   "metadata": {
    "collapsed": true
   },
   "outputs": [],
   "source": [
    "player = 'West'"
   ]
  },
  {
   "cell_type": "code",
   "execution_count": 10,
   "metadata": {
    "collapsed": true
   },
   "outputs": [],
   "source": [
    "player = 'USSR'"
   ]
  },
  {
   "cell_type": "code",
   "execution_count": 9,
   "metadata": {
    "collapsed": true
   },
   "outputs": [],
   "source": [
    "player = 'Axis'"
   ]
  },
  {
   "cell_type": "code",
   "execution_count": 13,
   "metadata": {},
   "outputs": [
    {
     "data": {
      "text/plain": [
       "'Axis'"
      ]
     },
     "execution_count": 13,
     "metadata": {},
     "output_type": "execute_result"
    }
   ],
   "source": [
    "player"
   ]
  },
  {
   "cell_type": "code",
   "execution_count": 11,
   "metadata": {
    "collapsed": true
   },
   "outputs": [],
   "source": [
    "out = format_msg_to_python(get_status(player))"
   ]
  },
  {
   "cell_type": "code",
   "execution_count": 12,
   "metadata": {
    "scrolled": true
   },
   "outputs": [
    {
     "name": "stdout",
     "output_type": "stream",
     "text": [
      "Axis spends 1 production on building a new cadre in Venice (0 production remaining)\n",
      "Axis draws 1 action cards (now holding 15 cards)\n",
      "Axis draws 6 investment cards (now holding 21 cards)\n",
      "Axis is done with production\n",
      "\n"
     ]
    }
   ],
   "source": [
    "if 'log' in out:\n",
    "    print(out.log)\n",
    "if 'error' in out:\n",
    "    print(out.error)"
   ]
  },
  {
   "cell_type": "code",
   "execution_count": 13,
   "metadata": {
    "scrolled": true
   },
   "outputs": [
    {
     "data": {
      "text/html": [
       "<div id=\"b9fc849c-c5e8-458e-9e38-e963213dcf5d\" style=\"height: 600px; width:100%;\"></div>"
      ]
     },
     "metadata": {},
     "output_type": "display_data"
    },
    {
     "data": {
      "application/javascript": [
       "\n",
       "\t\trequire([\"https://rawgit.com/caldwell/renderjson/master/renderjson.js\"], function() {\n",
       "\t\t  renderjson.set_show_to_level(1)\n",
       "\t\t  document.getElementById('b9fc849c-c5e8-458e-9e38-e963213dcf5d').appendChild(renderjson({'created': {'166': {'nationality': 'Italy', 'tile': 'Venice', 'type': 'Fleet', 'obj_type': 'unit', 'visible': ['Axis'], 'cv': '1'}}, 'updated': {'action_8': {'top': 'Austria', 'bottom': 'Poland', 'season': 'Spring', 'priority': 'H', 'value': '6', 'obj_type': 'action_card', 'visible': ['Axis'], 'owner': 'Axis'}, 'invest_37': {'intelligence': 'Agent', 'value': '1', 'obj_type': 'investment_card', 'visible': ['Axis'], 'owner': 'Axis'}, 'invest_35': {'intelligence': 'Code_Break', 'value': '1', 'obj_type': 'investment_card', 'visible': ['Axis'], 'owner': 'Axis'}, 'invest_13': {'top': 'Jets', 'bottom': 'Heavy_Bombers', 'value': '4', 'obj_type': 'investment_card', 'visible': ['Axis'], 'owner': 'Axis'}, 'invest_32': {'intelligence': 'Agent', 'value': '2', 'obj_type': 'investment_card', 'visible': ['Axis'], 'owner': 'Axis'}, 'invest_10': {'top': 'Heavy_Tanks', 'bottom': 'Naval_Radar', 'value': '2', 'obj_type': 'investment_card', 'visible': ['Axis'], 'owner': 'Axis'}, 'invest_2': {'top': 'Rocket_Artillery', 'bottom': 'Heavy_Tanks', 'value': '3', 'obj_type': 'investment_card', 'visible': ['Axis'], 'owner': 'Axis'}}, 'removed': {}, 'waiting_for': [], 'log': 'Axis spends 1 production on building a new cadre in Venice (0 production remaining)\\nAxis draws 1 action cards (now holding 15 cards)\\nAxis draws 6 investment cards (now holding 21 cards)\\nAxis is done with production\\n'}))\n",
       "\t\t});\n",
       "\t\t"
      ]
     },
     "metadata": {},
     "output_type": "display_data"
    }
   ],
   "source": [
    "render_dict(out)"
   ]
  },
  {
   "cell_type": "code",
   "execution_count": null,
   "metadata": {
    "collapsed": true
   },
   "outputs": [],
   "source": [
    "actions = list(util.decode_actions(out.actions))\n",
    "actions"
   ]
  },
  {
   "cell_type": "code",
   "execution_count": null,
   "metadata": {
    "collapsed": true
   },
   "outputs": [],
   "source": [
    "render_dict(adict({ID:G.objects.table[ID] for ID in G.players[player].hand}))"
   ]
  },
  {
   "cell_type": "code",
   "execution_count": null,
   "metadata": {
    "collapsed": true
   },
   "outputs": [],
   "source": [
    "# action = random.choice(actions)\n",
    "# action\n",
    "action = ('factory_upgrade',)"
   ]
  },
  {
   "cell_type": "code",
   "execution_count": 13,
   "metadata": {
    "collapsed": true
   },
   "outputs": [],
   "source": [
    "player = 'West'"
   ]
  },
  {
   "cell_type": "code",
   "execution_count": 18,
   "metadata": {
    "collapsed": true
   },
   "outputs": [],
   "source": [
    "player = 'USSR'"
   ]
  },
  {
   "cell_type": "code",
   "execution_count": 11,
   "metadata": {
    "collapsed": true
   },
   "outputs": [],
   "source": [
    "player = 'Axis'"
   ]
  },
  {
   "cell_type": "code",
   "execution_count": 12,
   "metadata": {},
   "outputs": [
    {
     "data": {
      "text/plain": [
       "'Axis'"
      ]
     },
     "execution_count": 12,
     "metadata": {},
     "output_type": "execute_result"
    }
   ],
   "source": [
    "player"
   ]
  },
  {
   "cell_type": "code",
   "execution_count": 14,
   "metadata": {
    "collapsed": true
   },
   "outputs": [],
   "source": [
    "action = ('cancel',)\n",
    "action = ('Britain', 'Glasgow', 'Submarine')\n",
    "action = ('pass',)"
   ]
  },
  {
   "cell_type": "code",
   "execution_count": 15,
   "metadata": {},
   "outputs": [
    {
     "name": "stdout",
     "output_type": "stream",
     "text": [
      "27\n",
      "0 0\n",
      "{}\n",
      "dict_keys([])\n",
      "adict()\n"
     ]
    }
   ],
   "source": [
    "out = format_msg_to_python(take_action(player, action))"
   ]
  },
  {
   "cell_type": "code",
   "execution_count": 14,
   "metadata": {},
   "outputs": [
    {
     "name": "stdout",
     "output_type": "stream",
     "text": [
      "Game loaded\n",
      "USSR draws 20 investment cards (now holding 32 cards)\n",
      "Beginning phase: Government\n",
      "Game saved\n",
      "\n"
     ]
    }
   ],
   "source": [
    "if 'log' in out:\n",
    "    print(out.log)\n",
    "if 'error' in out:\n",
    "    print(out.error)"
   ]
  },
  {
   "cell_type": "code",
   "execution_count": 15,
   "metadata": {
    "scrolled": true
   },
   "outputs": [
    {
     "data": {
      "text/html": [
       "<div id=\"b751ee81-bf87-4e66-b7fa-524b2be5b163\" style=\"height: 600px; width:100%;\"></div>"
      ]
     },
     "metadata": {},
     "output_type": "display_data"
    },
    {
     "data": {
      "application/javascript": [
       "\n",
       "\t\trequire([\"https://rawgit.com/caldwell/renderjson/master/renderjson.js\"], function() {\n",
       "\t\t  renderjson.set_show_to_level(1)\n",
       "\t\t  document.getElementById('b751ee81-bf87-4e66-b7fa-524b2be5b163').appendChild(renderjson({'created': {}, 'updated': {}, 'removed': {}, 'waiting_for': ['West'], 'log': 'Game loaded\\nUSSR draws 20 investment cards (now holding 32 cards)\\nBeginning phase: Government\\nGame saved\\n'}))\n",
       "\t\t});\n",
       "\t\t"
      ]
     },
     "metadata": {},
     "output_type": "display_data"
    }
   ],
   "source": [
    "render_dict(out)"
   ]
  },
  {
   "cell_type": "code",
   "execution_count": null,
   "metadata": {
    "collapsed": true
   },
   "outputs": [],
   "source": []
  },
  {
   "cell_type": "code",
   "execution_count": null,
   "metadata": {
    "collapsed": true
   },
   "outputs": [],
   "source": []
  }
 ],
 "metadata": {
  "kernelspec": {
   "display_name": "Python 3",
   "language": "python",
   "name": "python3"
  },
  "language_info": {
   "codemirror_mode": {
    "name": "ipython",
    "version": 3
   },
   "file_extension": ".py",
   "mimetype": "text/x-python",
   "name": "python",
   "nbconvert_exporter": "python",
   "pygments_lexer": "ipython3",
   "version": "3.7.2"
  }
 },
 "nbformat": 4,
 "nbformat_minor": 2
}
