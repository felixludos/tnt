{
 "cells": [
  {
   "cell_type": "code",
   "execution_count": 1,
   "metadata": {},
   "outputs": [
    {
     "name": "stdout",
     "output_type": "stream",
     "text": [
      "Backend active: use \"init\" to init game\n"
     ]
    }
   ],
   "source": [
    "import sys, os, time\n",
    "# os.environ['PYTHONHASHSEED'] = '0'\n",
    "import random\n",
    "import numpy as np\n",
    "seed = 10\n",
    "RNG = random.Random(seed)\n",
    "random.seed(seed)\n",
    "np.random.seed(seed)\n",
    "\n",
    "import util as util\n",
    "from util import adict, idict, xset, collate, load, render_dict, save, Logger, seq_iterate\n",
    "from tnt_setup import init_gamestate, setup_phase\n",
    "from tnt_cards import load_card_decks, draw_cards\n",
    "from collections import namedtuple\n",
    "from itertools import chain, product\n",
    "from tnt_units import load_unit_rules\n",
    "import tnt_setup as setup\n",
    "\n",
    "from flask_app import *\n",
    "\n",
    "print(ping())\n",
    "\n",
    "# out = format_msg_to_python(init_game(debug=True, player='Axis', seed=seed))"
   ]
  },
  {
   "cell_type": "code",
   "execution_count": 2,
   "metadata": {},
   "outputs": [
    {
     "name": "stdout",
     "output_type": "stream",
     "text": [
      "Set seed 10\n",
      "Beginning phase: Setup\n",
      "Game saved\n",
      "{({'Munich'}, {'Infantry', 'Tank', 'AirForce', 'Fortress'}), ({'Berlin', 'Ruhr', 'Konigsberg'}, {'Fleet', 'Infantry', 'Carrier', 'Submarine', 'AirForce', 'Fortress', 'Tank'})}\n",
      "{({'Tripoli', 'Rome', 'Milan'}, {'Fleet', 'Infantry', 'Carrier', 'Submarine', 'AirForce', 'Fortress', 'Tank'})}\n",
      "{({'Moscow', 'Urals', 'Stalingrad', 'Kiev'}, {'Infantry', 'Tank', 'AirForce', 'Fortress'}), ({'Baku', 'Odessa', 'Leningrad', 'Kharkov'}, {'Fleet', 'Infantry', 'Carrier', 'Submarine', 'AirForce', 'Fortress', 'Tank'})}\n",
      "{({'Delhi', 'Bombay', 'Suez', 'Glasgow', 'London'}, {'Fleet', 'Infantry', 'Carrier', 'Submarine', 'AirForce', 'Fortress', 'Tank'})}\n",
      "{({'Algiers', 'Paris', 'Marseille'}, {'Fleet', 'Infantry', 'Carrier', 'Submarine', 'AirForce', 'Fortress', 'Tank'})}\n",
      "adict(Axis:{('Italy', {({'Tripoli', 'Rome', 'Milan'}, {'Fleet', 'Infantry', 'Carrier', 'Submarine', 'AirForce', 'Fortress', 'Tank'})}), ('Germany', {({'Munich'}, {'Infantry', 'Tank', 'AirForce', 'Fortress'}), ({'Berlin', 'Ruhr', 'Konigsberg'}, {'Fleet', 'Infantry', 'Carrier', 'Submarine', 'AirForce', 'Fortress', 'Tank'})})}, USSR:{('USSR', {({'Moscow', 'Urals', 'Stalingrad', 'Kiev'}, {'Infantry', 'Tank', 'AirForce', 'Fortress'}), ({'Baku', 'Odessa', 'Leningrad', 'Kharkov'}, {'Fleet', 'Infantry', 'Carrier', 'Submarine', 'AirForce', 'Fortress', 'Tank'})})}, West:{('France', {({'Algiers', 'Paris', 'Marseille'}, {'Fleet', 'Infantry', 'Carrier', 'Submarine', 'AirForce', 'Fortress', 'Tank'})}), ('Britain', {({'Delhi', 'Bombay', 'Suez', 'Glasgow', 'London'}, {'Fleet', 'Infantry', 'Carrier', 'Submarine', 'AirForce', 'Fortress', 'Tank'})})})\n"
     ]
    }
   ],
   "source": [
    "out = format_msg_to_python(init_game(debug=True, player='Axis', seed=seed))"
   ]
  },
  {
   "cell_type": "code",
   "execution_count": 2,
   "metadata": {},
   "outputs": [
    {
     "name": "stdout",
     "output_type": "stream",
     "text": [
      "Set seed 10\n",
      "Beginning phase: Setup\n",
      "Game saved\n",
      "{({'Munich'}, {'Fortress', 'Tank', 'Infantry', 'AirForce'}), ({'Ruhr', 'Berlin', 'Konigsberg'}, {'Tank', 'AirForce', 'Submarine', 'Carrier', 'Fleet', 'Infantry', 'Fortress'})}\n",
      "{({'Rome', 'Tripoli', 'Milan'}, {'Tank', 'AirForce', 'Submarine', 'Carrier', 'Fleet', 'Infantry', 'Fortress'})}\n",
      "{({'Urals', 'Kiev', 'Stalingrad', 'Moscow'}, {'Fortress', 'Tank', 'Infantry', 'AirForce'}), ({'Leningrad', 'Baku', 'Odessa', 'Kharkov'}, {'Tank', 'AirForce', 'Submarine', 'Carrier', 'Fleet', 'Infantry', 'Fortress'})}\n",
      "{({'Bombay', 'Delhi', 'Suez', 'London', 'Glasgow'}, {'Tank', 'AirForce', 'Submarine', 'Carrier', 'Fleet', 'Infantry', 'Fortress'})}\n",
      "{({'Marseille', 'Paris', 'Algiers'}, {'Tank', 'AirForce', 'Submarine', 'Carrier', 'Fleet', 'Infantry', 'Fortress'})}\n",
      "adict(Axis:{('Italy', {({'Rome', 'Tripoli', 'Milan'}, {'Tank', 'AirForce', 'Submarine', 'Carrier', 'Fleet', 'Infantry', 'Fortress'})}), ('Germany', {({'Munich'}, {'Fortress', 'Tank', 'Infantry', 'AirForce'}), ({'Ruhr', 'Berlin', 'Konigsberg'}, {'Tank', 'AirForce', 'Submarine', 'Carrier', 'Fleet', 'Infantry', 'Fortress'})})}, USSR:{('USSR', {({'Urals', 'Kiev', 'Stalingrad', 'Moscow'}, {'Fortress', 'Tank', 'Infantry', 'AirForce'}), ({'Leningrad', 'Baku', 'Odessa', 'Kharkov'}, {'Tank', 'AirForce', 'Submarine', 'Carrier', 'Fleet', 'Infantry', 'Fortress'})})}, West:{('Britain', {({'Bombay', 'Delhi', 'Suez', 'London', 'Glasgow'}, {'Tank', 'AirForce', 'Submarine', 'Carrier', 'Fleet', 'Infantry', 'Fortress'})}), ('France', {({'Marseille', 'Paris', 'Algiers'}, {'Tank', 'AirForce', 'Submarine', 'Carrier', 'Fleet', 'Infantry', 'Fortress'})})})\n"
     ]
    }
   ],
   "source": [
    "out = format_msg_to_python(init_game(debug=True, player='Axis', seed=seed))"
   ]
  },
  {
   "cell_type": "code",
   "execution_count": 4,
   "metadata": {
    "scrolled": true
   },
   "outputs": [],
   "source": [
    "G = get_G()\n",
    "# render_dict(G)"
   ]
  },
  {
   "cell_type": "code",
   "execution_count": 5,
   "metadata": {},
   "outputs": [],
   "source": [
    "now = out.actions#list(util.decode_actions(out.actions))"
   ]
  },
  {
   "cell_type": "code",
   "execution_count": 6,
   "metadata": {},
   "outputs": [
    {
     "name": "stdout",
     "output_type": "stream",
     "text": [
      "{('Germany', {({'Ruhr', 'Konigsberg', 'Berlin'}, {'Carrier', 'Tank', 'AirForce', 'Fleet', 'Infantry', 'Fortress', 'Submarine'}), ({'Munich'}, {'Tank', 'AirForce', 'Infantry', 'Fortress'})}), ('Italy', {({'Milan', 'Rome', 'Tripoli'}, {'Carrier', 'Tank', 'AirForce', 'Fleet', 'Infantry', 'Fortress', 'Submarine'})})}\n"
     ]
    }
   ],
   "source": [
    "print(now)"
   ]
  },
  {
   "cell_type": "code",
   "execution_count": 7,
   "metadata": {},
   "outputs": [
    {
     "ename": "NameError",
     "evalue": "name 'prev' is not defined",
     "output_type": "error",
     "traceback": [
      "\u001b[0;31m---------------------------------------------------------------------------\u001b[0m",
      "\u001b[0;31mNameError\u001b[0m                                 Traceback (most recent call last)",
      "\u001b[0;32m<ipython-input-7-4a2ed6d81213>\u001b[0m in \u001b[0;36m<module>\u001b[0;34m()\u001b[0m\n\u001b[0;32m----> 1\u001b[0;31m \u001b[0mprint\u001b[0m\u001b[0;34m(\u001b[0m\u001b[0mprev\u001b[0m\u001b[0;34m)\u001b[0m\u001b[0;34m\u001b[0m\u001b[0;34m\u001b[0m\u001b[0m\n\u001b[0m",
      "\u001b[0;31mNameError\u001b[0m: name 'prev' is not defined"
     ]
    }
   ],
   "source": [
    "print(prev)"
   ]
  },
  {
   "cell_type": "code",
   "execution_count": null,
   "metadata": {},
   "outputs": [],
   "source": [
    "if prev != str(now):\n",
    "    print(now)\n",
    "    print(prev)\n",
    "prev = now"
   ]
  },
  {
   "cell_type": "code",
   "execution_count": null,
   "metadata": {},
   "outputs": [],
   "source": [
    "now"
   ]
  },
  {
   "cell_type": "code",
   "execution_count": null,
   "metadata": {},
   "outputs": [],
   "source": [
    "if now != prev:\n",
    "    print('failed')\n",
    "prev = now"
   ]
  },
  {
   "cell_type": "code",
   "execution_count": null,
   "metadata": {},
   "outputs": [],
   "source": [
    "for x, y in zip(now,prev):\n",
    "    if x != y:\n",
    "        print(x, y)\n",
    "        print('failed')\n",
    "prev = now"
   ]
  },
  {
   "cell_type": "code",
   "execution_count": null,
   "metadata": {},
   "outputs": [],
   "source": []
  },
  {
   "cell_type": "code",
   "execution_count": null,
   "metadata": {},
   "outputs": [],
   "source": []
  }
 ],
 "metadata": {
  "kernelspec": {
   "display_name": "Python 3",
   "language": "python",
   "name": "python3"
  },
  "language_info": {
   "codemirror_mode": {
    "name": "ipython",
    "version": 3
   },
   "file_extension": ".py",
   "mimetype": "text/x-python",
   "name": "python",
   "nbconvert_exporter": "python",
   "pygments_lexer": "ipython3",
   "version": "3.7.2"
  }
 },
 "nbformat": 4,
 "nbformat_minor": 2
}
