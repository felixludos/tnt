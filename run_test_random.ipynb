{
 "cells": [
  {
   "cell_type": "code",
   "execution_count": 1,
   "metadata": {},
   "outputs": [
    {
     "name": "stdout",
     "output_type": "stream",
     "text": [
      "Backend active: use \"init\" to init game\n"
     ]
    }
   ],
   "source": [
    "import sys, os, time\n",
    "import random\n",
    "import numpy as np\n",
    "seed = 10\n",
    "RNG = random.Random(seed)\n",
    "random.seed(seed)\n",
    "np.random.seed(seed)\n",
    "\n",
    "import util as util\n",
    "from util import adict, idict, xset, collate, load, render_dict, save, Logger, seq_iterate\n",
    "from tnt_setup import init_gamestate, setup_phase\n",
    "from tnt_cards import load_card_decks, draw_cards\n",
    "from collections import namedtuple\n",
    "from itertools import chain, product\n",
    "from tnt_units import load_unit_rules\n",
    "import tnt_setup as setup\n",
    "\n",
    "from flask_app import *\n",
    "\n",
    "print(ping())\n",
    "\n",
    "# out = format_msg_to_python(init_game(debug=True, player='Axis', seed=seed))"
   ]
  },
  {
   "cell_type": "code",
   "execution_count": 2,
   "metadata": {},
   "outputs": [
    {
     "name": "stdout",
     "output_type": "stream",
     "text": [
      "Set seed 10\n",
      "Beginning phase: Setup\n",
      "Game saved\n",
      "adict(Axis:[9]{('Germany', [8]{([7]{'Munich'}, [4]{'Fortress', 'Tank', 'Infantry', 'AirForce'}), ([6]{'Ruhr', 'Berlin', 'Konigsberg'}, [1]{'Tank', 'Infantry', 'Carrier', 'Fleet', 'Submarine', 'Fortress', 'AirForce'})}), ('Italy', [16]{([15]{'Milan', 'Rome', 'Tripoli'}, [10]{'Tank', 'Infantry', 'Carrier', 'Fleet', 'Submarine', 'Fortress', 'AirForce'})})}, USSR:[25]{('USSR', [24]{([22]{'Urals', 'Kiev', 'Stalingrad', 'Moscow'}, [20]{'Fortress', 'Tank', 'Infantry', 'AirForce'}), ([23]{'Odessa', 'Kharkov', 'Leningrad', 'Baku'}, [17]{'Tank', 'Infantry', 'Carrier', 'Fleet', 'Submarine', 'Fortress', 'AirForce'})})}, West:[33]{('France', [40]{([39]{'Marseille', 'Paris', 'Algiers'}, [34]{'Tank', 'Infantry', 'Carrier', 'Fleet', 'Submarine', 'Fortress', 'AirForce'})}), ('Britain', [32]{([31]{'Suez', 'Glasgow', 'London', 'Bombay', 'Delhi'}, [26]{'Tank', 'Infantry', 'Carrier', 'Fleet', 'Submarine', 'Fortress', 'AirForce'})})})\n"
     ]
    }
   ],
   "source": [
    "out = format_msg_to_python(init_game(debug=True, player='Axis', seed=seed))"
   ]
  },
  {
   "cell_type": "code",
   "execution_count": 2,
   "metadata": {},
   "outputs": [
    {
     "name": "stdout",
     "output_type": "stream",
     "text": [
      "Set seed 10\n",
      "Beginning phase: Setup\n",
      "Game saved\n",
      "adict(Axis:[9]{('Italy', [16]{([15]{'Rome', 'Milan', 'Tripoli'}, [10]{'Fortress', 'Submarine', 'Infantry', 'AirForce', 'Fleet', 'Tank', 'Carrier'})}), ('Germany', [8]{([7]{'Munich'}, [4]{'Fortress', 'Tank', 'Infantry', 'AirForce'}), ([6]{'Konigsberg', 'Berlin', 'Ruhr'}, [1]{'Fortress', 'Submarine', 'Infantry', 'AirForce', 'Fleet', 'Tank', 'Carrier'})})}, USSR:[25]{('USSR', [24]{([22]{'Kiev', 'Stalingrad', 'Moscow', 'Urals'}, [20]{'Fortress', 'Tank', 'Infantry', 'AirForce'}), ([23]{'Odessa', 'Kharkov', 'Baku', 'Leningrad'}, [17]{'Fortress', 'Submarine', 'Infantry', 'AirForce', 'Fleet', 'Tank', 'Carrier'})})}, West:[33]{('Britain', [32]{([31]{'Glasgow', 'Delhi', 'Bombay', 'Suez', 'London'}, [26]{'Fortress', 'Submarine', 'Infantry', 'AirForce', 'Fleet', 'Tank', 'Carrier'})}), ('France', [40]{([39]{'Algiers', 'Paris', 'Marseille'}, [34]{'Fortress', 'Submarine', 'Infantry', 'AirForce', 'Fleet', 'Tank', 'Carrier'})})})\n"
     ]
    }
   ],
   "source": [
    "out = format_msg_to_python(init_game(debug=True, player='Axis', seed=seed))"
   ]
  },
  {
   "cell_type": "code",
   "execution_count": 2,
   "metadata": {
    "scrolled": true
   },
   "outputs": [],
   "source": [
    "G = get_G()\n",
    "# render_dict(G)"
   ]
  },
  {
   "cell_type": "code",
   "execution_count": 3,
   "metadata": {},
   "outputs": [],
   "source": [
    "now = out.actions#list(util.decode_actions(out.actions))"
   ]
  },
  {
   "cell_type": "code",
   "execution_count": 4,
   "metadata": {},
   "outputs": [
    {
     "name": "stdout",
     "output_type": "stream",
     "text": [
      "{('Italy', {({'Milan', 'Rome', 'Tripoli'}, {'Tank', 'AirForce', 'Infantry', 'Fortress', 'Submarine', 'Fleet', 'Carrier'})}), ('Germany', {({'Ruhr', 'Berlin', 'Konigsberg'}, {'Tank', 'AirForce', 'Infantry', 'Fortress', 'Submarine', 'Fleet', 'Carrier'}), ({'Munich'}, {'Infantry', 'Fortress', 'AirForce', 'Tank'})})}\n"
     ]
    }
   ],
   "source": [
    "print(now)"
   ]
  },
  {
   "cell_type": "code",
   "execution_count": 8,
   "metadata": {},
   "outputs": [
    {
     "name": "stdout",
     "output_type": "stream",
     "text": [
      "{('Germany', {({'Berlin', 'Ruhr', 'Konigsberg'}, {'Fortress', 'AirForce', 'Carrier', 'Fleet', 'Tank', 'Submarine', 'Infantry'}), ({'Munich'}, {'Fortress', 'AirForce', 'Tank', 'Infantry'})}), ('Italy', {({'Milan', 'Rome', 'Tripoli'}, {'Fortress', 'AirForce', 'Carrier', 'Fleet', 'Tank', 'Submarine', 'Infantry'})})}\n"
     ]
    }
   ],
   "source": [
    "print(prev)"
   ]
  },
  {
   "cell_type": "code",
   "execution_count": 7,
   "metadata": {},
   "outputs": [],
   "source": [
    "if prev != str(now):\n",
    "    print(now)\n",
    "    print(prev)\n",
    "prev = now"
   ]
  },
  {
   "cell_type": "code",
   "execution_count": 4,
   "metadata": {},
   "outputs": [
    {
     "data": {
      "text/plain": [
       "{('Germany', {({'Konigsberg', 'Ruhr', 'Berlin'}, {'Carrier', 'Fortress', 'Submarine', 'Infantry', 'Fleet', 'AirForce', 'Tank'}), ({'Munich'}, {'Tank', 'AirForce', 'Infantry', 'Fortress'})}), ('Italy', {({'Milan', 'Rome', 'Tripoli'}, {'Carrier', 'Fortress', 'Submarine', 'Infantry', 'Fleet', 'AirForce', 'Tank'})})}"
      ]
     },
     "execution_count": 4,
     "metadata": {},
     "output_type": "execute_result"
    }
   ],
   "source": [
    "now"
   ]
  },
  {
   "cell_type": "code",
   "execution_count": 72,
   "metadata": {},
   "outputs": [
    {
     "name": "stdout",
     "output_type": "stream",
     "text": [
      "failed\n"
     ]
    }
   ],
   "source": [
    "if now != prev:\n",
    "    print('failed')\n",
    "prev = now"
   ]
  },
  {
   "cell_type": "code",
   "execution_count": 59,
   "metadata": {},
   "outputs": [
    {
     "name": "stdout",
     "output_type": "stream",
     "text": [
      "('Italy', 'Tripoli', 'Submarine') ('Germany', 'Munich', 'AirForce')\n",
      "failed\n",
      "('Germany', 'Munich', 'AirForce') ('Italy', 'Tripoli', 'Submarine')\n",
      "failed\n",
      "('Italy', 'Tripoli', 'Fleet') ('Germany', 'Berlin', 'AirForce')\n",
      "failed\n",
      "('Italy', 'Milan', 'Infantry') ('Germany', 'Ruhr', 'Carrier')\n",
      "failed\n",
      "('Germany', 'Ruhr', 'Carrier') ('Germany', 'Konigsberg', 'Fleet')\n",
      "failed\n",
      "('Germany', 'Berlin', 'AirForce') ('Italy', 'Tripoli', 'Fleet')\n",
      "failed\n",
      "('Germany', 'Konigsberg', 'Fleet') ('Italy', 'Milan', 'Infantry')\n",
      "failed\n",
      "('Italy', 'Tripoli', 'AirForce') ('Germany', 'Berlin', 'Fleet')\n",
      "failed\n",
      "('Germany', 'Berlin', 'Fleet') ('Italy', 'Tripoli', 'AirForce')\n",
      "failed\n",
      "('Germany', 'Munich', 'Infantry') ('Germany', 'Ruhr', 'Tank')\n",
      "failed\n",
      "('Germany', 'Ruhr', 'Tank') ('Germany', 'Munich', 'Infantry')\n",
      "failed\n",
      "('Italy', 'Milan', 'Carrier') ('Germany', 'Ruhr', 'Infantry')\n",
      "failed\n",
      "('Germany', 'Ruhr', 'Infantry') ('Italy', 'Milan', 'Carrier')\n",
      "failed\n"
     ]
    }
   ],
   "source": [
    "for x, y in zip(now,prev):\n",
    "    if x != y:\n",
    "        print(x, y)\n",
    "        print('failed')\n",
    "prev = now"
   ]
  },
  {
   "cell_type": "code",
   "execution_count": null,
   "metadata": {},
   "outputs": [],
   "source": []
  },
  {
   "cell_type": "code",
   "execution_count": null,
   "metadata": {},
   "outputs": [],
   "source": []
  }
 ],
 "metadata": {
  "kernelspec": {
   "display_name": "Python 3",
   "language": "python",
   "name": "python3"
  },
  "language_info": {
   "codemirror_mode": {
    "name": "ipython",
    "version": 3
   },
   "file_extension": ".py",
   "mimetype": "text/x-python",
   "name": "python",
   "nbconvert_exporter": "python",
   "pygments_lexer": "ipython3",
   "version": "3.7.2"
  }
 },
 "nbformat": 4,
 "nbformat_minor": 2
}
