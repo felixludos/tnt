{
 "cells": [
  {
   "cell_type": "code",
   "execution_count": 2,
   "metadata": {},
   "outputs": [
    {
     "data": {
      "text/plain": [
       "3×4 BitArray{2}:\n",
       " false  false  false  false\n",
       " false  false  false  false\n",
       " false  false  false  false"
      ]
     },
     "execution_count": 2,
     "metadata": {},
     "output_type": "execute_result"
    }
   ],
   "source": [
    "a = falses(3,4)\n",
    "a"
   ]
  },
  {
   "cell_type": "code",
   "execution_count": 3,
   "metadata": {},
   "outputs": [
    {
     "data": {
      "text/plain": [
       "3×4 BitArray{2}:\n",
       " false  false  false  false\n",
       " false   true  false  false\n",
       " false  false  false  false"
      ]
     },
     "execution_count": 3,
     "metadata": {},
     "output_type": "execute_result"
    }
   ],
   "source": [
    "a[2,2] = 1\n",
    "a"
   ]
  },
  {
   "cell_type": "code",
   "execution_count": 10,
   "metadata": {},
   "outputs": [
    {
     "data": {
      "text/plain": [
       "(3, 3)"
      ]
     },
     "execution_count": 10,
     "metadata": {},
     "output_type": "execute_result"
    }
   ],
   "source": [
    "i = (3,3)"
   ]
  },
  {
   "cell_type": "code",
   "execution_count": 37,
   "metadata": {},
   "outputs": [
    {
     "data": {
      "text/plain": [
       "3×4 Array{Float64,2}:\n",
       " 0.893651  0.0820428  0.276561  0.0905526\n",
       " 0.750206  0.710327   0.367024  0.861807 \n",
       " 0.982996  0.279141   0.727159  0.966787 "
      ]
     },
     "execution_count": 37,
     "metadata": {},
     "output_type": "execute_result"
    }
   ],
   "source": [
    "x = rand(3,4)#*[10,3,4]\n",
    "#convert(Array{Int,2}, ceil.(x))"
   ]
  },
  {
   "cell_type": "code",
   "execution_count": 59,
   "metadata": {},
   "outputs": [
    {
     "data": {
      "text/plain": [
       "(50, 120)"
      ]
     },
     "execution_count": 59,
     "metadata": {},
     "output_type": "execute_result"
    }
   ],
   "source": [
    "N = 50\n",
    "b = [4;3;5]\n",
    "r = [10;3;4]\n",
    "D = length(b)\n",
    "C = prod(r)\n",
    "N, C"
   ]
  },
  {
   "cell_type": "code",
   "execution_count": 67,
   "metadata": {},
   "outputs": [
    {
     "data": {
      "text/plain": [
       "3×50 Array{Int64,2}:\n",
       " 10  9  6  5  7  9  6  3  8  2  2  6  …  7  7  8  3  3  5  5  1  4  8  3  10\n",
       "  2  3  2  2  2  2  2  1  1  1  2  1     1  1  2  2  1  3  2  3  1  3  3   1\n",
       "  4  4  4  2  2  1  3  3  3  2  4  1     1  2  2  2  2  4  3  1  2  2  1   2"
      ]
     },
     "execution_count": 67,
     "metadata": {},
     "output_type": "execute_result"
    }
   ],
   "source": [
    "x = convert(Array{Int,2}, floor.(broadcast(+, broadcast(*, rand(D,N), r), b)))\n",
    "x = convert(Array{Int,2}, ceil.(broadcast(*, rand(D,N), r)))"
   ]
  },
  {
   "cell_type": "code",
   "execution_count": 68,
   "metadata": {},
   "outputs": [
    {
     "data": {
      "text/plain": [
       "(10, 3, 4)"
      ]
     },
     "execution_count": 68,
     "metadata": {},
     "output_type": "execute_result"
    }
   ],
   "source": [
    "M = falses(r...)\n",
    "size(M)"
   ]
  },
  {
   "cell_type": "code",
   "execution_count": 69,
   "metadata": {},
   "outputs": [],
   "source": [
    "for i=1:size(x,2)\n",
    "    M[x[:,i]...] = 1\n",
    "end"
   ]
  },
  {
   "cell_type": "code",
   "execution_count": 70,
   "metadata": {
    "scrolled": true
   },
   "outputs": [
    {
     "data": {
      "text/plain": [
       "10×3×4 BitArray{3}:\n",
       "[:, :, 1] =\n",
       "  true  false   true\n",
       " false  false  false\n",
       " false  false   true\n",
       "  true  false  false\n",
       " false  false   true\n",
       "  true  false  false\n",
       "  true  false  false\n",
       " false  false  false\n",
       " false   true  false\n",
       " false   true  false\n",
       "\n",
       "[:, :, 2] =\n",
       " false  false  false\n",
       "  true  false  false\n",
       "  true   true  false\n",
       "  true  false  false\n",
       " false   true  false\n",
       " false   true  false\n",
       "  true   true  false\n",
       " false   true   true\n",
       " false   true   true\n",
       "  true  false  false\n",
       "\n",
       "[:, :, 3] =\n",
       " false  false  false\n",
       " false  false  false\n",
       "  true  false   true\n",
       " false   true  false\n",
       "  true   true   true\n",
       " false   true  false\n",
       " false   true  false\n",
       "  true  false  false\n",
       " false  false   true\n",
       " false  false   true\n",
       "\n",
       "[:, :, 4] =\n",
       " false  false  false\n",
       "  true   true  false\n",
       " false  false  false\n",
       " false  false  false\n",
       " false   true   true\n",
       " false   true   true\n",
       " false  false   true\n",
       "  true  false  false\n",
       " false  false   true\n",
       " false   true  false"
      ]
     },
     "execution_count": 70,
     "metadata": {},
     "output_type": "execute_result"
    }
   ],
   "source": [
    "M"
   ]
  },
  {
   "cell_type": "code",
   "execution_count": null,
   "metadata": {},
   "outputs": [],
   "source": []
  },
  {
   "cell_type": "code",
   "execution_count": null,
   "metadata": {},
   "outputs": [],
   "source": []
  },
  {
   "cell_type": "code",
   "execution_count": null,
   "metadata": {},
   "outputs": [],
   "source": []
  },
  {
   "cell_type": "code",
   "execution_count": null,
   "metadata": {},
   "outputs": [],
   "source": []
  },
  {
   "cell_type": "code",
   "execution_count": null,
   "metadata": {},
   "outputs": [],
   "source": []
  },
  {
   "cell_type": "code",
   "execution_count": 35,
   "metadata": {},
   "outputs": [
    {
     "data": {
      "text/plain": [
       "2"
      ]
     },
     "execution_count": 35,
     "metadata": {},
     "output_type": "execute_result"
    }
   ],
   "source": [
    "ndims(x)"
   ]
  },
  {
   "cell_type": "code",
   "execution_count": 12,
   "metadata": {},
   "outputs": [
    {
     "data": {
      "text/plain": [
       "3×4 BitArray{2}:\n",
       " false  false  false  false\n",
       " false   true  false  false\n",
       " false   true   true  false"
      ]
     },
     "execution_count": 12,
     "metadata": {},
     "output_type": "execute_result"
    }
   ],
   "source": [
    "a[i...] = 1\n",
    "a"
   ]
  },
  {
   "cell_type": "code",
   "execution_count": null,
   "metadata": {},
   "outputs": [],
   "source": [
    "X = Set{Int64}()\n",
    "for i=1:10\n",
    "    \n",
    "    append(X, )"
   ]
  }
 ],
 "metadata": {
  "kernelspec": {
   "display_name": "Julia 1.0.1",
   "language": "julia",
   "name": "julia-1.0"
  },
  "language_info": {
   "file_extension": ".jl",
   "mimetype": "application/julia",
   "name": "julia",
   "version": "1.0.1"
  }
 },
 "nbformat": 4,
 "nbformat_minor": 2
}
